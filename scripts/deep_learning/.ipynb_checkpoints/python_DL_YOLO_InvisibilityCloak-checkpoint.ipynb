{
 "cells": [
  {
   "cell_type": "markdown",
   "metadata": {},
   "source": [
    "# YOLO: A Quick Deployment for Invisibility Cloack\n",
    "\n",
    "This notebook takes the source code from [here](https://www.data-stats.com/invisibility-cloak-using-opencv/).\n",
    "\n",
    "\"\n",
    "Hey folks!! Do you remember the good old days of Harry Potter? Do you remember Harry Potter’s magic wand and his Invisiblity Cloak? Wasn’t it amazing? Have you ever wanted to wear that cloak? Have you ever wondered how life would be if you had the superpower of being invisible?\n",
    "\n",
    "If your answers to all these questions is a big Yessssss…, then my friend, you are at the right spot!! By the end of this article, you can surely experience being invisible — obviously not in real life!\n",
    "\""
   ]
  },
  {
   "cell_type": "code",
   "execution_count": 10,
   "metadata": {},
   "outputs": [
    {
     "name": "stdout",
     "output_type": "stream",
     "text": [
      "-----------------------------------------------------\n",
      "\n",
      "    Yin's YOLO Package (For Quick Deployment)\n",
      "    Copyright © YINS CAPITAL, 2009 – Present\n",
      "    For more information, go to www.YinsCapital.com\n",
      "    \n",
      "-----------------------------------------------------\n"
     ]
    }
   ],
   "source": [
    "# Load Package\n",
    "%run \"YinsYOLO.py\""
   ]
  },
  {
   "cell_type": "code",
   "execution_count": 11,
   "metadata": {},
   "outputs": [
    {
     "name": "stdout",
     "output_type": "stream",
     "text": [
      "\n",
      "                      Recording Background .....................\n",
      "                \n",
      "\n",
      "                     Background recorded !!\n",
      "                \n",
      "\n",
      "                     Get ready to become invisible .....................\n",
      "                \n"
     ]
    }
   ],
   "source": [
    "YinsYOLO.StealthMode()"
   ]
  },
  {
   "cell_type": "markdown",
   "metadata": {},
   "source": [
    "End."
   ]
  }
 ],
 "metadata": {
  "kernelspec": {
   "display_name": "Python 3",
   "language": "python",
   "name": "python3"
  },
  "language_info": {
   "codemirror_mode": {
    "name": "ipython",
    "version": 3
   },
   "file_extension": ".py",
   "mimetype": "text/x-python",
   "name": "python",
   "nbconvert_exporter": "python",
   "pygments_lexer": "ipython3",
   "version": "3.7.4"
  }
 },
 "nbformat": 4,
 "nbformat_minor": 4
}
