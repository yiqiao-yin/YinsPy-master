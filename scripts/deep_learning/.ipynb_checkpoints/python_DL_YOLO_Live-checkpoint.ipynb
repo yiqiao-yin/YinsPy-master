{
 "cells": [
  {
   "cell_type": "markdown",
   "metadata": {},
   "source": [
    "# Deep Learning: YOLO Live\n",
    "\n",
    "This notebook deploy YOLO algorithm with live cam feed. I will take a pretrained YOLO algorithm and set up live feed from personal laptop. To make things interesting, I will write an alert function specifically making sounds when 'knife' is detected in the image. \n",
    "\n",
    "Source:\n",
    "- Github: [https://github.com/arunponnusamy/cvlib](https://github.com/arunponnusamy/cvlib)\n",
    "- cvLib: [https://www.cvlib.net/](https://www.cvlib.net/)\n",
    "- Classes: 80-class objectection detection, see all classes [here](80 common objects: https://github.com/arunponnusamy/object-detection-opencv/blob/master/yolov3.txt)"
   ]
  },
  {
   "cell_type": "code",
   "execution_count": 2,
   "metadata": {},
   "outputs": [
    {
     "name": "stderr",
     "output_type": "stream",
     "text": [
      "Using TensorFlow backend.\n",
      "C:\\Users\\eagle\\AppData\\Roaming\\Python\\Python37\\site-packages\\tensorflow\\python\\framework\\dtypes.py:526: FutureWarning: Passing (type, 1) or '1type' as a synonym of type is deprecated; in a future version of numpy, it will be understood as (type, (1,)) / '(1,)type'.\n",
      "  _np_qint8 = np.dtype([(\"qint8\", np.int8, 1)])\n",
      "C:\\Users\\eagle\\AppData\\Roaming\\Python\\Python37\\site-packages\\tensorflow\\python\\framework\\dtypes.py:527: FutureWarning: Passing (type, 1) or '1type' as a synonym of type is deprecated; in a future version of numpy, it will be understood as (type, (1,)) / '(1,)type'.\n",
      "  _np_quint8 = np.dtype([(\"quint8\", np.uint8, 1)])\n",
      "C:\\Users\\eagle\\AppData\\Roaming\\Python\\Python37\\site-packages\\tensorflow\\python\\framework\\dtypes.py:528: FutureWarning: Passing (type, 1) or '1type' as a synonym of type is deprecated; in a future version of numpy, it will be understood as (type, (1,)) / '(1,)type'.\n",
      "  _np_qint16 = np.dtype([(\"qint16\", np.int16, 1)])\n",
      "C:\\Users\\eagle\\AppData\\Roaming\\Python\\Python37\\site-packages\\tensorflow\\python\\framework\\dtypes.py:529: FutureWarning: Passing (type, 1) or '1type' as a synonym of type is deprecated; in a future version of numpy, it will be understood as (type, (1,)) / '(1,)type'.\n",
      "  _np_quint16 = np.dtype([(\"quint16\", np.uint16, 1)])\n",
      "C:\\Users\\eagle\\AppData\\Roaming\\Python\\Python37\\site-packages\\tensorflow\\python\\framework\\dtypes.py:530: FutureWarning: Passing (type, 1) or '1type' as a synonym of type is deprecated; in a future version of numpy, it will be understood as (type, (1,)) / '(1,)type'.\n",
      "  _np_qint32 = np.dtype([(\"qint32\", np.int32, 1)])\n",
      "C:\\Users\\eagle\\AppData\\Roaming\\Python\\Python37\\site-packages\\tensorflow\\python\\framework\\dtypes.py:535: FutureWarning: Passing (type, 1) or '1type' as a synonym of type is deprecated; in a future version of numpy, it will be understood as (type, (1,)) / '(1,)type'.\n",
      "  np_resource = np.dtype([(\"resource\", np.ubyte, 1)])\n"
     ]
    },
    {
     "name": "stdout",
     "output_type": "stream",
     "text": [
      "Camera resolution is 640.0 by 480.0.\n"
     ]
    }
   ],
   "source": [
    "# Object detection webcam example using tiny yolo\n",
    "# Usage: python object_detection_webcam_yolov3_tiny.py\n",
    "\n",
    "# Import necessary packages\n",
    "import cvlib as cv\n",
    "from cvlib.object_detection import draw_bbox\n",
    "import cv2\n",
    "\n",
    "# Check out laptop cam:\n",
    "# 0 is the first camera (on laptop) \n",
    "# 1 is the second camera (ex. I have a usb cam connected to the laptop that is higher resolution)\n",
    "# and then you can do 2, 3, ... if you have installed more cameras.\n",
    "webcam = cv2.VideoCapture(1)\n",
    "print(f'Camera resolution is {webcam.get(3)} by {webcam.get(4)}.')"
   ]
  },
  {
   "cell_type": "markdown",
   "metadata": {},
   "source": [
    "Setup *alert()* Function"
   ]
  },
  {
   "cell_type": "code",
   "execution_count": 3,
   "metadata": {},
   "outputs": [],
   "source": [
    "import time\n",
    "from IPython.core.magics.execution import _format_time\n",
    "from IPython.display import display as d\n",
    "from IPython.display import Audio\n",
    "from IPython.core.display import HTML\n",
    "import numpy as np\n",
    "import logging as log\n",
    "\n",
    "def alert():\n",
    "    \"\"\" makes sound on client using javascript (works with remote server) \"\"\"      \n",
    "    framerate = 44100\n",
    "    duration=.1\n",
    "    freq=300\n",
    "    t = np.linspace(0,duration,framerate*duration)\n",
    "    data = np.sin(2*np.pi*freq*t)\n",
    "    d(Audio(data,rate=framerate, autoplay=True))"
   ]
  },
  {
   "cell_type": "markdown",
   "metadata": {},
   "source": [
    "The following code will start a new window with live camera feed from your laptop. The notebook will print out a long list of results, with objects detected or not. To shut it down, make sure current window is in the camera feed and press 'q'. "
   ]
  },
  {
   "cell_type": "code",
   "execution_count": 4,
   "metadata": {},
   "outputs": [],
   "source": [
    "# Open Camera\n",
    "webcam = cv2.VideoCapture(1)\n",
    "if not webcam.isOpened():\n",
    "    print(\"Could not open webcam\")\n",
    "    exit()\n",
    "    \n",
    "# Loop through frames\n",
    "while webcam.isOpened():\n",
    "\n",
    "    # Read frame from webcam \n",
    "    status, frame = webcam.read()\n",
    "    if not status:\n",
    "        break\n",
    "\n",
    "    # Apply object detection\n",
    "    # 80 common objects: https://github.com/arunponnusamy/object-detection-opencv/blob/master/yolov3.txt\n",
    "    # bbox, label, conf = cv.detect_common_objects(frame, confidence=0.1, model='yolov3') # this is very slow\n",
    "    bbox, label, conf = cv.detect_common_objects(frame, confidence=0.1, model='yolov3-tiny')\n",
    "\n",
    "    # Output\n",
    "    # print(bbox, label, conf)\n",
    "    # Set Alert (if see a knife)\n",
    "    tmp = label\n",
    "    #for i in tmp:\n",
    "        #if i == 'knife':\n",
    "            #alert()\n",
    "\n",
    "    # Draw bounding box over detected objects\n",
    "    # We take output from *cv.detect_common_objects* to print them out on videos\n",
    "    # by using *draw_bbox()*\n",
    "    out = draw_bbox(frame, bbox, label, conf, write_conf=True)\n",
    "\n",
    "    # Display output\n",
    "    cv2.imshow(\"Real-time object detection\", out)\n",
    "\n",
    "    # press \"Q\" to stop\n",
    "    if cv2.waitKey(1) & 0xFF == ord('q'):\n",
    "        break\n",
    "    \n",
    "# Release resources"
   ]
  },
  {
   "cell_type": "code",
   "execution_count": null,
   "metadata": {},
   "outputs": [],
   "source": []
  }
 ],
 "metadata": {
  "kernelspec": {
   "display_name": "Python 3",
   "language": "python",
   "name": "python3"
  },
  "language_info": {
   "codemirror_mode": {
    "name": "ipython",
    "version": 3
   },
   "file_extension": ".py",
   "mimetype": "text/x-python",
   "name": "python",
   "nbconvert_exporter": "python",
   "pygments_lexer": "ipython3",
   "version": "3.7.4"
  }
 },
 "nbformat": 4,
 "nbformat_minor": 4
}
