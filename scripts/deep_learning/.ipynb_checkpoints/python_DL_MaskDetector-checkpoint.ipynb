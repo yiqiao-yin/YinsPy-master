{
 "cells": [
  {
   "cell_type": "markdown",
   "metadata": {},
   "source": [
    "# MASK DETECTOR: TRIAL\n",
    "\n",
    "This notebook reads in images and try to seek some basic analysis of what makes a picture (assuming there is a face in it) of a person with mask different than a picture of a person without mask.\n",
    "\n",
    "Hypothesis: any picture can be translated into black and white. Under this assumption, we can look at the brightness of a picture. There should be some different between brightness of a picture if a person's face has a mask on because this fact changes the brightness (greyscale) of the picture."
   ]
  },
  {
   "cell_type": "code",
   "execution_count": 1,
   "metadata": {},
   "outputs": [],
   "source": [
    "# library\n",
    "import cv2"
   ]
  },
  {
   "cell_type": "code",
   "execution_count": 92,
   "metadata": {},
   "outputs": [],
   "source": [
    "# read image\n",
    "image = cv2.imread('C:/Users/eagle/OneDrive/YINS CAPITAL/APPLICATIONS/ApplicationYinsPy-master/YinsPy-master/data/mask-detector/with_mask/0-with-mask.jpg')"
   ]
  },
  {
   "cell_type": "code",
   "execution_count": 93,
   "metadata": {},
   "outputs": [
    {
     "data": {
      "text/plain": [
       "((350, 525, 3), 62.7589768707483)"
      ]
     },
     "execution_count": 93,
     "metadata": {},
     "output_type": "execute_result"
    }
   ],
   "source": [
    "image.shape, image.mean()"
   ]
  },
  {
   "cell_type": "code",
   "execution_count": 94,
   "metadata": {},
   "outputs": [],
   "source": [
    "gray = cv2.cvtColor(image, cv2.COLOR_BGR2GRAY)"
   ]
  },
  {
   "cell_type": "code",
   "execution_count": 95,
   "metadata": {},
   "outputs": [
    {
     "data": {
      "text/plain": [
       "((350, 525), 65.43348027210884)"
      ]
     },
     "execution_count": 95,
     "metadata": {},
     "output_type": "execute_result"
    }
   ],
   "source": [
    "gray.shape, gray.mean()"
   ]
  },
  {
   "cell_type": "code",
   "execution_count": 126,
   "metadata": {},
   "outputs": [],
   "source": [
    "def printMean(i=0):\n",
    "    PATH = 'C:/Users/eagle/OneDrive/YINS CAPITAL/APPLICATIONS/ApplicationYinsPy-master/YinsPy-master/data/mask-detector/with_mask/' + str(i) + '-with-mask.jpg'\n",
    "    image = cv2.imread(PATH)\n",
    "    # print('image mean:', image.shape, image.mean())\n",
    "    gray = cv2.cvtColor(image, cv2.COLOR_BGR2GRAY)\n",
    "    # print('image (greyscale) mean:', gray.shape, gray.mean())\n",
    "    \n",
    "    return image.mean(), gray.mean()"
   ]
  },
  {
   "cell_type": "code",
   "execution_count": 127,
   "metadata": {},
   "outputs": [],
   "source": [
    "imMEAN = []\n",
    "grMEAN = []\n",
    "for i in range(0, 20):\n",
    "    imMean, grMean = printMean(i)\n",
    "    imMEAN.append(imMean)\n",
    "    grMEAN.append(grMean)"
   ]
  },
  {
   "cell_type": "code",
   "execution_count": 128,
   "metadata": {},
   "outputs": [],
   "source": [
    "import numpy as np"
   ]
  },
  {
   "cell_type": "code",
   "execution_count": 129,
   "metadata": {},
   "outputs": [
    {
     "data": {
      "text/plain": [
       "array([-2.6745034 , -2.04037914, -1.79113802,  0.25645905, -1.08774612,\n",
       "        0.19522585, -2.73014033,  0.10076077,  0.15952177,  0.57209524,\n",
       "        1.01966891,  0.10129226, -1.91632828,  2.19838059, -2.05113456,\n",
       "       -0.50843479, -1.74285103, -3.52936587, -0.75832194,  1.11174032])"
      ]
     },
     "execution_count": 129,
     "metadata": {},
     "output_type": "execute_result"
    }
   ],
   "source": [
    "np.array(imMEAN) - np.array(grMEAN)"
   ]
  },
  {
   "cell_type": "code",
   "execution_count": 130,
   "metadata": {},
   "outputs": [
    {
     "data": {
      "text/plain": [
       "(-0.7557599367779921, 1.4753011770468862)"
      ]
     },
     "execution_count": 130,
     "metadata": {},
     "output_type": "execute_result"
    }
   ],
   "source": [
    "np.mean(np.array(imMEAN) - np.array(grMEAN)), np.std(np.array(imMEAN) - np.array(grMEAN))"
   ]
  },
  {
   "cell_type": "code",
   "execution_count": 131,
   "metadata": {},
   "outputs": [
    {
     "data": {
      "text/plain": [
       "(132.47409459264787, 133.2298545294259, 41.95549425306896, 42.26304526011298)"
      ]
     },
     "execution_count": 131,
     "metadata": {},
     "output_type": "execute_result"
    }
   ],
   "source": [
    "np.mean(imMEAN), np.mean(grMEAN), np.std(imMEAN), np.std(grMEAN)"
   ]
  },
  {
   "cell_type": "code",
   "execution_count": 132,
   "metadata": {},
   "outputs": [],
   "source": [
    "def printMean(i=0):\n",
    "    PATH = 'C:/Users/eagle/OneDrive/YINS CAPITAL/APPLICATIONS/ApplicationYinsPy-master/YinsPy-master/data/mask-detector/without_mask/' + str(i) + '.jpg'\n",
    "    image = cv2.imread(PATH)\n",
    "    # print('image mean:', image.shape, image.mean())\n",
    "    gray = cv2.cvtColor(image, cv2.COLOR_BGR2GRAY)\n",
    "    # print('image (greyscale) mean:', gray.shape, gray.mean())\n",
    "    \n",
    "    return image.mean(), gray.mean()"
   ]
  },
  {
   "cell_type": "code",
   "execution_count": 133,
   "metadata": {},
   "outputs": [
    {
     "data": {
      "text/plain": [
       "(63.85231138545954, 64.07901234567902)"
      ]
     },
     "execution_count": 133,
     "metadata": {},
     "output_type": "execute_result"
    }
   ],
   "source": [
    "printMean(0)"
   ]
  },
  {
   "cell_type": "code",
   "execution_count": 134,
   "metadata": {},
   "outputs": [
    {
     "data": {
      "text/plain": [
       "(100.12973544973545, 103.05844155844156)"
      ]
     },
     "execution_count": 134,
     "metadata": {},
     "output_type": "execute_result"
    }
   ],
   "source": [
    "printMean(1)"
   ]
  },
  {
   "cell_type": "code",
   "execution_count": 135,
   "metadata": {},
   "outputs": [],
   "source": [
    "imMEAN = []\n",
    "grMEAN = []\n",
    "for i in [0,1,2,3,4,6,7,9,10,11,12,13,14,15,16,17]:\n",
    "    imMean, grMean = printMean(i)\n",
    "    imMEAN.append(imMean)\n",
    "    grMEAN.append(grMean)"
   ]
  },
  {
   "cell_type": "code",
   "execution_count": 136,
   "metadata": {},
   "outputs": [
    {
     "data": {
      "text/plain": [
       "array([-0.22670096, -2.92870611, -0.52555331, -1.22250289, -0.47687245,\n",
       "        0.41090326, -2.85949378, -3.11229011, -0.71512571,  3.77104497,\n",
       "       -0.53925234, -0.18623686, -2.32748202, -5.27551353, -4.73761158,\n",
       "       -0.6342313 ])"
      ]
     },
     "execution_count": 136,
     "metadata": {},
     "output_type": "execute_result"
    }
   ],
   "source": [
    "np.array(imMEAN) - np.array(grMEAN)"
   ]
  },
  {
   "cell_type": "code",
   "execution_count": 137,
   "metadata": {},
   "outputs": [
    {
     "data": {
      "text/plain": [
       "(-1.3491015436416434, 2.101942949231901)"
      ]
     },
     "execution_count": 137,
     "metadata": {},
     "output_type": "execute_result"
    }
   ],
   "source": [
    "np.mean(np.array(imMEAN) - np.array(grMEAN)), np.std(np.array(imMEAN) - np.array(grMEAN))"
   ]
  },
  {
   "cell_type": "code",
   "execution_count": 138,
   "metadata": {},
   "outputs": [
    {
     "data": {
      "text/plain": [
       "(114.28766889373976, 115.6367704373814, 33.17040727533925, 33.62444917455261)"
      ]
     },
     "execution_count": 138,
     "metadata": {},
     "output_type": "execute_result"
    }
   ],
   "source": [
    "np.mean(imMEAN), np.mean(grMEAN), np.std(imMEAN), np.std(grMEAN)"
   ]
  }
 ],
 "metadata": {
  "kernelspec": {
   "display_name": "Python 3",
   "language": "python",
   "name": "python3"
  },
  "language_info": {
   "codemirror_mode": {
    "name": "ipython",
    "version": 3
   },
   "file_extension": ".py",
   "mimetype": "text/x-python",
   "name": "python",
   "nbconvert_exporter": "python",
   "pygments_lexer": "ipython3",
   "version": "3.7.4"
  }
 },
 "nbformat": 4,
 "nbformat_minor": 4
}
