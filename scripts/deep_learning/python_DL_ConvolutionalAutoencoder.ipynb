{
 "cells": [
  {
   "cell_type": "markdown",
   "metadata": {},
   "source": [
    "# DEEP LEARNING: AUTO-ENCODER\n",
    "\n",
    "I want to express my greatest thanks to this open-source [link](https://blog.keras.io/building-autoencoders-in-keras.html) provided by Keras. This notebook is a direct replica of the content of their blog and it is not-for-profit only. \n",
    "\n",
    "The purpose to create this notebook is the motivation provided by LeCun, Hinton, and Bengio at this [event](https://medium.com/syncedreview/aaai-2020-whats-next-for-deep-learning-hinton-lecun-and-bengio-share-their-visions-e29385dcaed5)."
   ]
  },
  {
   "cell_type": "markdown",
   "metadata": {},
   "source": [
    "### What is Autoencoder?\n",
    "\n",
    "\"Autoencoding\" is a data compression algorithm where the compression and decompression functions are 1) data-specific, 2) lossy, and 3) learned automatically from examples rather than engineered by a human. Additionally, in almost all contexts where the term \"autoencoder\" is used, the compression and decompression functions are implemented with neural networks.\n",
    "\n",
    "1) Autoencoders are data-specific, which means that they will only be able to compress data similar to what they have been trained on. This is different from, say, the MPEG-2 Audio Layer III (MP3) compression algorithm, which only holds assumptions about \"sound\" in general, but not about specific types of sounds. An autoencoder trained on pictures of faces would do a rather poor job of compressing pictures of trees, because the features it would learn would be face-specific.\n",
    "\n",
    "2) Autoencoders are lossy, which means that the decompressed outputs will be degraded compared to the original inputs (similar to MP3 or JPEG compression). This differs from lossless arithmetic compression.\n",
    "\n",
    "3) Autoencoders are learned automatically from data examples, which is a useful property: it means that it is easy to train specialized instances of the algorithm that will perform well on a specific type of input. It doesn't require any new engineering, just appropriate training data.\n",
    "\n",
    "To build an autoencoder, you need three things: an encoding function, a decoding function, and a distance function between the amount of information loss between the compressed representation of your data and the decompressed representation (i.e. a \"loss\" function). The encoder and decoder will be chosen to be parametric functions (typically neural networks), and to be differentiable with respect to the distance function, so the parameters of the encoding/decoding functions can be optimize to minimize the reconstruction loss, using Stochastic Gradient Descent. It's simple! And you don't even need to understand any of these words to start using autoencoders in practice.\n",
    "\n",
    "\n",
    "![image](https://blog.keras.io/img/ae/autoencoder_schema.jpg)"
   ]
  },
  {
   "cell_type": "markdown",
   "metadata": {},
   "source": [
    "### Are they good at data compression?\n",
    "\n",
    "Usually, not really. In picture compression for instance, it is pretty difficult to train an autoencoder that does a better job than a basic algorithm like JPEG, and typically the only way it can be achieved is by restricting yourself to a very specific type of picture (e.g. one for which JPEG does not do a good job). The fact that autoencoders are data-specific makes them generally impractical for real-world data compression problems: you can only use them on data that is similar to what they were trained on, and making them more general thus requires lots of training data. But future advances might change this, who knows."
   ]
  },
  {
   "cell_type": "markdown",
   "metadata": {},
   "source": [
    "### What are autoencoders good for?\n",
    "\n",
    "They are rarely used in practical applications. In 2012 they briefly found an application in greedy layer-wise pretraining for deep convolutional neural networks [1], but this quickly fell out of fashion as we started realizing that better random weight initialization schemes were sufficient for training deep networks from scratch. In 2014, batch normalization [2] started allowing for even deeper networks, and from late 2015 we could train arbitrarily deep networks from scratch using residual learning [3].\n",
    "\n",
    "Today two interesting practical applications of autoencoders are data denoising (which we feature later in this post), and dimensionality reduction for data visualization. With appropriate dimensionality and sparsity constraints, autoencoders can learn data projections that are more interesting than PCA or other basic techniques.\n",
    "\n",
    "For 2D visualization specifically, [t-SNE](https://en.wikipedia.org/wiki/T-distributed_stochastic_neighbor_embedding) (pronounced \"tee-snee\") is probably the best algorithm around, but it typically requires relatively low-dimensional data. So a good strategy for visualizing similarity relationships in high-dimensional data is to start by using an autoencoder to compress your data into a low-dimensional space (e.g. 32 dimensional), then use t-SNE for mapping the compressed data to a 2D plane. Note that a nice parametric implementation of t-SNE in Keras was developed by Kyle McDonald and is available on [Github](https://github.com/kylemcdonald/Parametric-t-SNE/blob/master/Parametric%20t-SNE%20(Keras).ipynb). Otherwise [scikit-learn](http://scikit-learn.org/stable/modules/generated/sklearn.manifold.TSNE.html) also has a simple and practical implementation."
   ]
  },
  {
   "cell_type": "markdown",
   "metadata": {},
   "source": [
    "### So what's the big deal with autoencoders?\n",
    "\n",
    "Their main claim to fame comes from being featured in many introductory machine learning classes available online. As a result, a lot of newcomers to the field absolutely love autoencoders and can't get enough of them. This is the reason why this tutorial exists!\n",
    "\n",
    "Otherwise, one reason why they have attracted so much research and attention is because they have long been thought to be a potential avenue for solving the problem of unsupervised learning, i.e. the learning of useful representations without the need for labels. Then again, autoencoders are not a true unsupervised learning technique (which would imply a different learning process altogether), they are a self-supervised technique, a specific instance of supervised learning where the targets are generated from the input data. In order to get self-supervised models to learn interesting features, you have to come up with an interesting synthetic target and loss function, and that's where problems arise: merely learning to reconstruct your input in minute detail might not be the right choice here. At this point there is significant evidence that focusing on the reconstruction of a picture at the pixel level, for instance, is not conductive to learning interesting, abstract features of the kind that label-supervized learning induces (where targets are fairly abstract concepts \"invented\" by humans such as \"dog\", \"car\"...). In fact, one may argue that the best features in this regard are those that are the worst at exact input reconstruction while achieving high performance on the main task that you are interested in (classification, localization, etc).\n",
    "\n",
    "In self-supervized learning applied to vision, a potentially fruitful alternative to autoencoder-style input reconstruction is the use of toy tasks such as jigsaw puzzle solving, or detail-context matching (being able to match high-resolution but small patches of pictures with low-resolution versions of the pictures they are extracted from). The following paper investigates jigsaw puzzle solving and makes for a very interesting read: Noroozi and Favaro (2016) [Unsupervised Learning of Visual Representations by Solving Jigsaw Puzzles](http://arxiv.org/abs/1603.09246). Such tasks are providing the model with built-in assumptions about the input data which are missing in traditional autoencoders, such as \"visual macro-structure matters more than pixel-level details\".\n",
    "\n",
    "![image](https://blog.keras.io/img/ae/jigsaw-puzzle.png)"
   ]
  },
  {
   "cell_type": "markdown",
   "metadata": {},
   "source": [
    "Since our inputs are images, it makes sense to use convolutional neural networks (convnets) as encoders and decoders. In practical settings, autoencoders applied to images are always convolutional autoencoders --they simply perform much better.\n",
    "\n",
    "Let's implement one. The encoder will consist in a stack of *Conv2D* and *MaxPooling2D* layers (max pooling being used for spatial down-sampling), while the decoder will consist in a stack of *Conv2D* and *UpSampling2D* layers."
   ]
  },
  {
   "cell_type": "code",
   "execution_count": 1,
   "metadata": {},
   "outputs": [
    {
     "name": "stderr",
     "output_type": "stream",
     "text": [
      "Using TensorFlow backend.\n",
      "/usr/local/anaconda/lib/python3.6/importlib/_bootstrap.py:205: RuntimeWarning: compiletime version 3.5 of module 'tensorflow.python.framework.fast_tensor_util' does not match runtime version 3.6\n",
      "  return f(*args, **kwds)\n"
     ]
    }
   ],
   "source": [
    "from keras.layers import Input, Dense, Conv2D, MaxPooling2D, UpSampling2D\n",
    "from keras.models import Model\n",
    "from keras import backend as K"
   ]
  },
  {
   "cell_type": "code",
   "execution_count": 2,
   "metadata": {
    "collapsed": true
   },
   "outputs": [],
   "source": [
    "input_img = Input(shape=(28, 28, 1))  # adapt this if using `channels_first` image data format"
   ]
  },
  {
   "cell_type": "code",
   "execution_count": 3,
   "metadata": {
    "collapsed": true
   },
   "outputs": [],
   "source": [
    "x = Conv2D(16, (3, 3), activation='relu', padding='same')(input_img)\n",
    "x = MaxPooling2D((2, 2), padding='same')(x)\n",
    "x = Conv2D(8, (3, 3), activation='relu', padding='same')(x)\n",
    "x = MaxPooling2D((2, 2), padding='same')(x)\n",
    "x = Conv2D(8, (3, 3), activation='relu', padding='same')(x)\n",
    "encoded = MaxPooling2D((2, 2), padding='same')(x)"
   ]
  },
  {
   "cell_type": "code",
   "execution_count": 4,
   "metadata": {
    "collapsed": true
   },
   "outputs": [],
   "source": [
    "# at this point the representation is (4, 4, 8) i.e. 128-dimensional\n",
    "\n",
    "x = Conv2D(8, (3, 3), activation='relu', padding='same')(encoded)\n",
    "x = UpSampling2D((2, 2))(x)\n",
    "x = Conv2D(8, (3, 3), activation='relu', padding='same')(x)\n",
    "x = UpSampling2D((2, 2))(x)\n",
    "x = Conv2D(16, (3, 3), activation='relu')(x)\n",
    "x = UpSampling2D((2, 2))(x)\n",
    "decoded = Conv2D(1, (3, 3), activation='sigmoid', padding='same')(x)"
   ]
  },
  {
   "cell_type": "code",
   "execution_count": 5,
   "metadata": {
    "collapsed": true
   },
   "outputs": [],
   "source": [
    "autoencoder = Model(input_img, decoded)\n",
    "autoencoder.compile(optimizer='adadelta', loss='binary_crossentropy')"
   ]
  },
  {
   "cell_type": "code",
   "execution_count": 6,
   "metadata": {
    "collapsed": true
   },
   "outputs": [],
   "source": [
    "from keras.datasets import mnist\n",
    "import numpy as np"
   ]
  },
  {
   "cell_type": "markdown",
   "metadata": {},
   "source": [
    "To train it, we will use the original MNIST digits with shape (samples, 3, 28, 28), and we will just normalize pixel values between 0 and 1."
   ]
  },
  {
   "cell_type": "code",
   "execution_count": 7,
   "metadata": {},
   "outputs": [],
   "source": [
    "(x_train, _), (x_test, _) = mnist.load_data()"
   ]
  },
  {
   "cell_type": "code",
   "execution_count": 8,
   "metadata": {
    "collapsed": true
   },
   "outputs": [],
   "source": [
    "x_train = x_train.astype('float32') / 255.\n",
    "x_test = x_test.astype('float32') / 255.\n",
    "x_train = np.reshape(x_train, (len(x_train), 28, 28, 1))  # adapt this if using `channels_first` image data format\n",
    "x_test = np.reshape(x_test, (len(x_test), 28, 28, 1))  # adapt this if using `channels_first` image data format"
   ]
  },
  {
   "cell_type": "code",
   "execution_count": 9,
   "metadata": {},
   "outputs": [],
   "source": [
    "#!tensorboard --logdir=/tmp/autoencoder"
   ]
  },
  {
   "cell_type": "code",
   "execution_count": 10,
   "metadata": {},
   "outputs": [
    {
     "name": "stdout",
     "output_type": "stream",
     "text": [
      "Train on 60000 samples, validate on 10000 samples\n",
      "Epoch 1/50\n",
      "60000/60000 [==============================] - 74s 1ms/step - loss: 0.2147 - val_loss: 0.1587\n",
      "Epoch 2/50\n",
      "60000/60000 [==============================] - 74s 1ms/step - loss: 0.1512 - val_loss: 0.1379\n",
      "Epoch 3/50\n",
      "60000/60000 [==============================] - 74s 1ms/step - loss: 0.1364 - val_loss: 0.1297\n",
      "Epoch 4/50\n",
      "60000/60000 [==============================] - 74s 1ms/step - loss: 0.1294 - val_loss: 0.1260\n",
      "Epoch 5/50\n",
      "60000/60000 [==============================] - 74s 1ms/step - loss: 0.1246 - val_loss: 0.1194\n",
      "Epoch 6/50\n",
      "60000/60000 [==============================] - 74s 1ms/step - loss: 0.1209 - val_loss: 0.1179\n",
      "Epoch 7/50\n",
      "60000/60000 [==============================] - 74s 1ms/step - loss: 0.1185 - val_loss: 0.1171\n",
      "Epoch 8/50\n",
      "60000/60000 [==============================] - 74s 1ms/step - loss: 0.1166 - val_loss: 0.1129\n",
      "Epoch 9/50\n",
      "60000/60000 [==============================] - 74s 1ms/step - loss: 0.1147 - val_loss: 0.1105\n",
      "Epoch 10/50\n",
      "60000/60000 [==============================] - 74s 1ms/step - loss: 0.1132 - val_loss: 0.1120\n",
      "Epoch 11/50\n",
      "60000/60000 [==============================] - 74s 1ms/step - loss: 0.1122 - val_loss: 0.1071\n",
      "Epoch 12/50\n",
      "60000/60000 [==============================] - 75s 1ms/step - loss: 0.1114 - val_loss: 0.1080\n",
      "Epoch 13/50\n",
      "60000/60000 [==============================] - 74s 1ms/step - loss: 0.1104 - val_loss: 0.1080\n",
      "Epoch 14/50\n",
      "60000/60000 [==============================] - 74s 1ms/step - loss: 0.1095 - val_loss: 0.1081\n",
      "Epoch 15/50\n",
      "60000/60000 [==============================] - 74s 1ms/step - loss: 0.1088 - val_loss: 0.1074\n",
      "Epoch 16/50\n",
      "60000/60000 [==============================] - 74s 1ms/step - loss: 0.1082 - val_loss: 0.1085\n",
      "Epoch 17/50\n",
      "60000/60000 [==============================] - 74s 1ms/step - loss: 0.1075 - val_loss: 0.1032\n",
      "Epoch 18/50\n",
      "60000/60000 [==============================] - 74s 1ms/step - loss: 0.1069 - val_loss: 0.1056\n",
      "Epoch 19/50\n",
      "60000/60000 [==============================] - 74s 1ms/step - loss: 0.1063 - val_loss: 0.1033\n",
      "Epoch 20/50\n",
      "60000/60000 [==============================] - 74s 1ms/step - loss: 0.1061 - val_loss: 0.1049\n",
      "Epoch 21/50\n",
      "60000/60000 [==============================] - 74s 1ms/step - loss: 0.1054 - val_loss: 0.1037\n",
      "Epoch 22/50\n",
      "60000/60000 [==============================] - 74s 1ms/step - loss: 0.1047 - val_loss: 0.1018\n",
      "Epoch 23/50\n",
      "60000/60000 [==============================] - 74s 1ms/step - loss: 0.1046 - val_loss: 0.1011\n",
      "Epoch 24/50\n",
      "60000/60000 [==============================] - 74s 1ms/step - loss: 0.1041 - val_loss: 0.1045\n",
      "Epoch 25/50\n",
      "60000/60000 [==============================] - 74s 1ms/step - loss: 0.1038 - val_loss: 0.1006\n",
      "Epoch 26/50\n",
      "60000/60000 [==============================] - 74s 1ms/step - loss: 0.1035 - val_loss: 0.1023\n",
      "Epoch 27/50\n",
      "60000/60000 [==============================] - 74s 1ms/step - loss: 0.1030 - val_loss: 0.1022\n",
      "Epoch 28/50\n",
      "60000/60000 [==============================] - 74s 1ms/step - loss: 0.1030 - val_loss: 0.0991\n",
      "Epoch 29/50\n",
      "60000/60000 [==============================] - 74s 1ms/step - loss: 0.1026 - val_loss: 0.0995\n",
      "Epoch 30/50\n",
      "60000/60000 [==============================] - 74s 1ms/step - loss: 0.1022 - val_loss: 0.1000\n",
      "Epoch 31/50\n",
      "60000/60000 [==============================] - 74s 1ms/step - loss: 0.1022 - val_loss: 0.1013\n",
      "Epoch 32/50\n",
      "60000/60000 [==============================] - 74s 1ms/step - loss: 0.1016 - val_loss: 0.0990\n",
      "Epoch 33/50\n",
      "60000/60000 [==============================] - 74s 1ms/step - loss: 0.1014 - val_loss: 0.1021\n",
      "Epoch 34/50\n",
      "60000/60000 [==============================] - 74s 1ms/step - loss: 0.1011 - val_loss: 0.1001\n",
      "Epoch 35/50\n",
      "60000/60000 [==============================] - 75s 1ms/step - loss: 0.1009 - val_loss: 0.0996\n",
      "Epoch 36/50\n",
      "60000/60000 [==============================] - 74s 1ms/step - loss: 0.1008 - val_loss: 0.1024\n",
      "Epoch 37/50\n",
      "60000/60000 [==============================] - 74s 1ms/step - loss: 0.1006 - val_loss: 0.0997\n",
      "Epoch 38/50\n",
      "60000/60000 [==============================] - 74s 1ms/step - loss: 0.1004 - val_loss: 0.1004\n",
      "Epoch 39/50\n",
      "60000/60000 [==============================] - 74s 1ms/step - loss: 0.1003 - val_loss: 0.0967\n",
      "Epoch 40/50\n",
      "60000/60000 [==============================] - 74s 1ms/step - loss: 0.0999 - val_loss: 0.1006\n",
      "Epoch 41/50\n",
      "60000/60000 [==============================] - 74s 1ms/step - loss: 0.1000 - val_loss: 0.0971\n",
      "Epoch 42/50\n",
      "60000/60000 [==============================] - 74s 1ms/step - loss: 0.0999 - val_loss: 0.1015\n",
      "Epoch 43/50\n",
      "60000/60000 [==============================] - 74s 1ms/step - loss: 0.0998 - val_loss: 0.0997\n",
      "Epoch 44/50\n",
      "60000/60000 [==============================] - 74s 1ms/step - loss: 0.0996 - val_loss: 0.0996\n",
      "Epoch 45/50\n",
      "60000/60000 [==============================] - 74s 1ms/step - loss: 0.0995 - val_loss: 0.0995\n",
      "Epoch 46/50\n",
      "60000/60000 [==============================] - 77s 1ms/step - loss: 0.0990 - val_loss: 0.0991\n",
      "Epoch 47/50\n",
      "60000/60000 [==============================] - 74s 1ms/step - loss: 0.0989 - val_loss: 0.0974\n",
      "Epoch 48/50\n",
      "60000/60000 [==============================] - 74s 1ms/step - loss: 0.0988 - val_loss: 0.0993\n",
      "Epoch 49/50\n",
      "60000/60000 [==============================] - 76s 1ms/step - loss: 0.0988 - val_loss: 0.0997\n",
      "Epoch 50/50\n",
      "60000/60000 [==============================] - 74s 1ms/step - loss: 0.0989 - val_loss: 0.0961\n"
     ]
    },
    {
     "data": {
      "text/plain": [
       "<keras.callbacks.History at 0x7fc95970e400>"
      ]
     },
     "execution_count": 10,
     "metadata": {},
     "output_type": "execute_result"
    }
   ],
   "source": [
    "from keras.callbacks import TensorBoard\n",
    "\n",
    "autoencoder.fit(x_train, x_train,\n",
    "                epochs=50,\n",
    "                batch_size=128,\n",
    "                shuffle=True,\n",
    "                validation_data=(x_test, x_test) )\n",
    "# callbacks=[TensorBoard(log_dir='/tmp/autoencoder')]"
   ]
  },
  {
   "cell_type": "code",
   "execution_count": 12,
   "metadata": {
    "collapsed": true
   },
   "outputs": [],
   "source": [
    "decoded_imgs = autoencoder.predict(x_test)"
   ]
  },
  {
   "cell_type": "code",
   "execution_count": 16,
   "metadata": {},
   "outputs": [
    {
     "data": {
      "text/plain": [
       "((10000, 28, 28, 1), (10000, 28, 28, 1))"
      ]
     },
     "execution_count": 16,
     "metadata": {},
     "output_type": "execute_result"
    }
   ],
   "source": [
    "decoded_imgs.shape, x_test.shape"
   ]
  },
  {
   "cell_type": "code",
   "execution_count": 23,
   "metadata": {},
   "outputs": [
    {
     "data": {
      "text/plain": [
       "<Figure size 1440x288 with 0 Axes>"
      ]
     },
     "metadata": {},
     "output_type": "display_data"
    },
    {
     "data": {
      "text/plain": [
       "<Figure size 1440x288 with 0 Axes>"
      ]
     },
     "metadata": {},
     "output_type": "display_data"
    },
    {
     "data": {
      "text/plain": [
       "<Figure size 1440x288 with 0 Axes>"
      ]
     },
     "metadata": {},
     "output_type": "display_data"
    },
    {
     "data": {
      "text/plain": [
       "<Figure size 1440x288 with 0 Axes>"
      ]
     },
     "metadata": {},
     "output_type": "display_data"
    },
    {
     "data": {
      "text/plain": [
       "<Figure size 1440x288 with 0 Axes>"
      ]
     },
     "metadata": {},
     "output_type": "display_data"
    },
    {
     "data": {
      "text/plain": [
       "<Figure size 1440x288 with 0 Axes>"
      ]
     },
     "metadata": {},
     "output_type": "display_data"
    },
    {
     "data": {
      "text/plain": [
       "<Figure size 1440x288 with 0 Axes>"
      ]
     },
     "metadata": {},
     "output_type": "display_data"
    },
    {
     "data": {
      "image/png": "[encoded data removed]",
      "text/plain": [
       "<Figure size 1440x288 with 20 Axes>"
      ]
     },
     "metadata": {},
     "output_type": "display_data"
    }
   ],
   "source": [
    "import matplotlib.pyplot as plt\n",
    "n = 10\n",
    "plt.figure(figsize=(20, 4))\n",
    "for i in range(1, n + 1):\n",
    "    # display original\n",
    "    ax = plt.subplot(2, n, i)\n",
    "    plt.imshow(x_test[i].reshape(28, 28))\n",
    "    plt.gray()\n",
    "    ax.get_xaxis().set_visible(False)\n",
    "    ax.get_yaxis().set_visible(False)\n",
    "\n",
    "    # display reconstruction\n",
    "    ax = plt.subplot(2, n, i + n)\n",
    "    plt.imshow(decoded_imgs[i].reshape(28, 28))\n",
    "    plt.gray()\n",
    "    ax.get_xaxis().set_visible(False)\n",
    "    ax.get_yaxis().set_visible(False)\n",
    "plt.show()"
   ]
  },
  {
   "cell_type": "markdown",
   "metadata": {},
   "source": [
    "Investigation ends here."
   ]
  }
 ],
 "metadata": {
  "kernelspec": {
   "display_name": "Python 3",
   "language": "python",
   "name": "python3"
  },
  "language_info": {
   "codemirror_mode": {
    "name": "ipython",
    "version": 3
   },
   "file_extension": ".py",
   "mimetype": "text/x-python",
   "name": "python",
   "nbconvert_exporter": "python",
   "pygments_lexer": "ipython3",
   "version": "3.6.2"
  }
 },
 "nbformat": 4,
 "nbformat_minor": 2
}
