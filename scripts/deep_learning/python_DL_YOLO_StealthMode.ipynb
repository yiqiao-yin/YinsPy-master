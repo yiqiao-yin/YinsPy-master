{
 "cells": [
  {
   "cell_type": "markdown",
   "metadata": {},
   "source": [
    "# YOLO: A Quick Deployment for Stealth Mode / Invisibility Cloack\n",
    "\n",
    "This notebook takes the source code from [here](https://www.data-stats.com/invisibility-cloak-using-opencv/).\n",
    "\n",
    "\"\n",
    "Hey folks!! Do you remember the good old days of Harry Potter? Do you remember Harry Potter’s magic wand and his Invisiblity Cloak? Wasn’t it amazing? Have you ever wanted to wear that cloak? Have you ever wondered how life would be if you had the superpower of being invisible?\n",
    "\n",
    "If your answers to all these questions is a big Yessssss…, then my friend, you are at the right spot!! By the end of this article, you can surely experience being invisible — obviously not in real life!\n",
    "\""
   ]
  },
  {
   "cell_type": "markdown",
   "metadata": {},
   "source": [
    "## Motivation\n",
    "\n",
    "We discussed Convolutional Neural Network. It can be run on both *R* and *Python* successfully. Here we propose to use *Python* in case software needs to be wired up with hardware at a live status. \n",
    "\n",
    "Use hardware to demonstrate what we can do in a small simulated envrionment. "
   ]
  },
  {
   "cell_type": "markdown",
   "metadata": {},
   "source": [
    "## Overview\n",
    "\n",
    "Note the following:\n",
    "- There is no machine learning component coded into this script.\n",
    "- Two components that are important: (i) record the background, (ii) mask the current image.\n",
    "\n",
    "(i) recording is easy to understand\n",
    "\n",
    "(ii) now camera is on, there is something (background, person, blanket, objects); we look for a pre-defined *red* color threshold that the picture frame has, if it is detected, we replace this area with the pre-recorded background (this is done in (i))."
   ]
  },
  {
   "cell_type": "code",
   "execution_count": 1,
   "metadata": {},
   "outputs": [
    {
     "name": "stdout",
     "output_type": "stream",
     "text": [
      "-----------------------------------------------------\n",
      "\n",
      "    Yin's YOLO Package (For Quick Deployment)\n",
      "    Copyright © YINS CAPITAL, 2009 – Present\n",
      "    For more information, go to www.YinsCapital.com\n",
      "    \n",
      "-----------------------------------------------------\n"
     ]
    }
   ],
   "source": [
    "# Load Package\n",
    "%run \"../YinsYOLO.py\""
   ]
  },
  {
   "cell_type": "code",
   "execution_count": 2,
   "metadata": {},
   "outputs": [
    {
     "name": "stdout",
     "output_type": "stream",
     "text": [
      "\n",
      "                      Recording Background .....................\n",
      "                \n",
      "\n",
      "                     Background recorded !!\n",
      "                \n",
      "\n",
      "                     Get ready to become invisible .....................\n",
      "                \n"
     ]
    }
   ],
   "source": [
    "YinsYOLO.StealthMode(whichCam=2)"
   ]
  },
  {
   "cell_type": "markdown",
   "metadata": {},
   "source": [
    "End."
   ]
  }
 ],
 "metadata": {
  "kernelspec": {
   "display_name": "Python 3",
   "language": "python",
   "name": "python3"
  },
  "language_info": {
   "codemirror_mode": {
    "name": "ipython",
    "version": 3
   },
   "file_extension": ".py",
   "mimetype": "text/x-python",
   "name": "python",
   "nbconvert_exporter": "python",
   "pygments_lexer": "ipython3",
   "version": "3.8.3"
  }
 },
 "nbformat": 4,
 "nbformat_minor": 4
}
