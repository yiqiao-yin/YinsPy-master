{
 "cells": [
  {
   "cell_type": "markdown",
   "metadata": {},
   "source": [
    "## OPENCV: PAINT BRUSH\n",
    "\n",
    "Now we go for much more better application. In this, we draw either rectangles or circles (depending on the mode we select) by dragging the mouse like we do in Paint application. So our mouse callback function has two parts, one to draw rectangle and other to draw the circles. This specific example will be really helpful in creating and understanding some interactive applications like object tracking, image segmentation etc.\n",
    "\n",
    "Source: see [this page](https://opencv-python-tutroals.readthedocs.io/en/latest/py_tutorials/py_gui/py_mouse_handling/py_mouse_handling.html)."
   ]
  },
  {
   "cell_type": "code",
   "execution_count": 33,
   "metadata": {},
   "outputs": [],
   "source": [
    "import cv2\n",
    "import numpy as np\n",
    "\n",
    "drawing = False # true if mouse is pressed\n",
    "mode = True # if True, draw rectangle. Press 'm' to toggle to curve\n",
    "ix,iy = -1,-1\n",
    "\n",
    "# mouse callback function\n",
    "def draw_circle(event,x,y,flags,param):\n",
    "    global ix,iy,drawing,mode\n",
    "\n",
    "    if event == cv2.EVENT_LBUTTONDOWN:\n",
    "        drawing = True\n",
    "        ix,iy = x,y\n",
    "\n",
    "    elif event == cv2.EVENT_MOUSEMOVE:\n",
    "        if drawing == True:\n",
    "            if mode == True:\n",
    "                cv2.rectangle(img,(ix,iy),(x,y),(0,255,0),-1)\n",
    "            else:\n",
    "                cv2.circle(img,(x,y),5,(0,0,255),-1)\n",
    "\n",
    "    elif event == cv2.EVENT_LBUTTONUP:\n",
    "        drawing = False\n",
    "        if mode == True:\n",
    "            cv2.rectangle(img,(ix,iy),(x,y),(0,255,0),-1)\n",
    "        else:\n",
    "            cv2.circle(img,(x,y),5,(0,0,255),-1)"
   ]
  },
  {
   "cell_type": "markdown",
   "metadata": {},
   "source": [
    "Next we have to bind this mouse callback function to OpenCV window. In the main loop, we should set a keyboard binding for key ‘m’ to toggle between rectangle and circle."
   ]
  },
  {
   "cell_type": "code",
   "execution_count": 35,
   "metadata": {},
   "outputs": [],
   "source": [
    "img = np.zeros((512,512,3), np.uint8)\n",
    "cv2.namedWindow('image')\n",
    "cv2.setMouseCallback('image',draw_circle)\n",
    "\n",
    "while(1):\n",
    "    cv2.imshow('image',img)\n",
    "    if cv2.waitKey(1) & 0xFF == ord('q'):\n",
    "        break\n",
    "\n",
    "cv2.destroyAllWindows()"
   ]
  },
  {
   "cell_type": "code",
   "execution_count": 37,
   "metadata": {},
   "outputs": [
    {
     "data": {
      "text/plain": [
       "\u001b[1;31mDocstring:\u001b[0m\n",
       "imread(filename[, flags]) -> retval\n",
       ".   @brief Loads an image from a file.\n",
       ".   \n",
       ".   @anchor imread\n",
       ".   \n",
       ".   The function imread loads an image from the specified file and returns it. If the image cannot be\n",
       ".   read (because of missing file, improper permissions, unsupported or invalid format), the function\n",
       ".   returns an empty matrix ( Mat::data==NULL ).\n",
       ".   \n",
       ".   Currently, the following file formats are supported:\n",
       ".   \n",
       ".   -   Windows bitmaps - \\*.bmp, \\*.dib (always supported)\n",
       ".   -   JPEG files - \\*.jpeg, \\*.jpg, \\*.jpe (see the *Note* section)\n",
       ".   -   JPEG 2000 files - \\*.jp2 (see the *Note* section)\n",
       ".   -   Portable Network Graphics - \\*.png (see the *Note* section)\n",
       ".   -   WebP - \\*.webp (see the *Note* section)\n",
       ".   -   Portable image format - \\*.pbm, \\*.pgm, \\*.ppm \\*.pxm, \\*.pnm (always supported)\n",
       ".   -   PFM files - \\*.pfm (see the *Note* section)\n",
       ".   -   Sun rasters - \\*.sr, \\*.ras (always supported)\n",
       ".   -   TIFF files - \\*.tiff, \\*.tif (see the *Note* section)\n",
       ".   -   OpenEXR Image files - \\*.exr (see the *Note* section)\n",
       ".   -   Radiance HDR - \\*.hdr, \\*.pic (always supported)\n",
       ".   -   Raster and Vector geospatial data supported by GDAL (see the *Note* section)\n",
       ".   \n",
       ".   @note\n",
       ".   -   The function determines the type of an image by the content, not by the file extension.\n",
       ".   -   In the case of color images, the decoded images will have the channels stored in **B G R** order.\n",
       ".   -   When using IMREAD_GRAYSCALE, the codec's internal grayscale conversion will be used, if available.\n",
       ".       Results may differ to the output of cvtColor()\n",
       ".   -   On Microsoft Windows\\* OS and MacOSX\\*, the codecs shipped with an OpenCV image (libjpeg,\n",
       ".       libpng, libtiff, and libjasper) are used by default. So, OpenCV can always read JPEGs, PNGs,\n",
       ".       and TIFFs. On MacOSX, there is also an option to use native MacOSX image readers. But beware\n",
       ".       that currently these native image loaders give images with different pixel values because of\n",
       ".       the color management embedded into MacOSX.\n",
       ".   -   On Linux\\*, BSD flavors and other Unix-like open-source operating systems, OpenCV looks for\n",
       ".       codecs supplied with an OS image. Install the relevant packages (do not forget the development\n",
       ".       files, for example, \"libjpeg-dev\", in Debian\\* and Ubuntu\\*) to get the codec support or turn\n",
       ".       on the OPENCV_BUILD_3RDPARTY_LIBS flag in CMake.\n",
       ".   -   In the case you set *WITH_GDAL* flag to true in CMake and @ref IMREAD_LOAD_GDAL to load the image,\n",
       ".       then the [GDAL](http://www.gdal.org) driver will be used in order to decode the image, supporting\n",
       ".       the following formats: [Raster](http://www.gdal.org/formats_list.html),\n",
       ".       [Vector](http://www.gdal.org/ogr_formats.html).\n",
       ".   -   If EXIF information is embedded in the image file, the EXIF orientation will be taken into account\n",
       ".       and thus the image will be rotated accordingly except if the flags @ref IMREAD_IGNORE_ORIENTATION\n",
       ".       or @ref IMREAD_UNCHANGED are passed.\n",
       ".   -   Use the IMREAD_UNCHANGED flag to keep the floating point values from PFM image.\n",
       ".   -   By default number of pixels must be less than 2^30. Limit can be set using system\n",
       ".       variable OPENCV_IO_MAX_IMAGE_PIXELS\n",
       ".   \n",
       ".   @param filename Name of file to be loaded.\n",
       ".   @param flags Flag that can take values of cv::ImreadModes\n",
       "\u001b[1;31mType:\u001b[0m      builtin_function_or_method\n"
      ]
     },
     "metadata": {},
     "output_type": "display_data"
    }
   ],
   "source": [
    "?cv2.imread"
   ]
  }
 ],
 "metadata": {
  "kernelspec": {
   "display_name": "Python 3",
   "language": "python",
   "name": "python3"
  },
  "language_info": {
   "codemirror_mode": {
    "name": "ipython",
    "version": 3
   },
   "file_extension": ".py",
   "mimetype": "text/x-python",
   "name": "python",
   "nbconvert_exporter": "python",
   "pygments_lexer": "ipython3",
   "version": "3.8.3"
  }
 },
 "nbformat": 4,
 "nbformat_minor": 4
}
