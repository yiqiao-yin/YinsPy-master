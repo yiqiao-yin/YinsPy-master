{
 "cells": [
  {
   "cell_type": "markdown",
   "metadata": {},
   "source": [
    "# Deep Learning Basic K-Class Classification: Clothing Image Classification\n",
    "\n",
    "This [guide](https://www.tensorflow.org/tutorials/keras/classification) trains a neural network model to classify images of clothing, like sneakers and shirts. It's okay if you don't understand all the details; this is a fast-paced overview of a complete TensorFlow program with the details explained as you go.\n",
    "\n",
    "This guide uses [tf.keras](https://www.tensorflow.org/guide/keras), a high-level API to build and train models in TensorFlow. This notebook I cover\n",
    "- **Environment Initiation** I start every data science project or machine learning practice by initiating environment and importing the required Python modules.\n",
    "- **Data Collection and Cleanup** Then I load the data and process the data in a form that is appropriate for the machine.\n",
    "- **Architecture Design** The major part is to design a deep learning architecture. One can always start from vanilla model and then add in different functions.\n",
    "- **Performance Evaluation** Machine learning has to be properly carried out through training and testing. This is the part where performance evaluation is very important because it tells us whether to re-design the architecture or to move on to developmental phase.\n",
    "- **Software Development / Product Management** Every data science or machine learning practice I land on software development. I almost always soft code and attempt to pack all that is scalable into a product for potential future usage."
   ]
  },
  {
   "cell_type": "markdown",
   "metadata": {},
   "source": [
    "## Environment Initiation\n",
    "\n",
    "Let us import all the required modules."
   ]
  },
  {
   "cell_type": "code",
   "execution_count": 1,
   "metadata": {},
   "outputs": [
    {
     "name": "stdout",
     "output_type": "stream",
     "text": [
      "2.3.1\n"
     ]
    }
   ],
   "source": [
    "from __future__ import absolute_import, division, print_function, unicode_literals\n",
    "\n",
    "# TensorFlow and tf.keras\n",
    "import tensorflow as tf\n",
    "from tensorflow import keras\n",
    "\n",
    "# Helper libraries\n",
    "import numpy as np\n",
    "import matplotlib.pyplot as plt\n",
    "\n",
    "print(tf.__version__)"
   ]
  },
  {
   "cell_type": "markdown",
   "metadata": {},
   "source": [
    "## Data Collection and Cleanup\n",
    "\n",
    "Let us get the data and make sure the data is processed and ready to go.\n",
    "\n",
    "Import the Fashion MNIST dataset:\n",
    "\n",
    "This guide uses the Fashion MNIST dataset which contains 70,000 grayscale images in 10 categories. The images show individual articles of clothing at low resolution (28 by 28 pixels), as seen here:\n",
    "![](../figs/fashion-mnist-sprite.png)"
   ]
  },
  {
   "cell_type": "code",
   "execution_count": 2,
   "metadata": {},
   "outputs": [
    {
     "name": "stdout",
     "output_type": "stream",
     "text": [
      "Downloading data from https://storage.googleapis.com/tensorflow/tf-keras-datasets/train-labels-idx1-ubyte.gz\n",
      "32768/29515 [=================================] - 0s 1us/step\n",
      "Downloading data from https://storage.googleapis.com/tensorflow/tf-keras-datasets/train-images-idx3-ubyte.gz\n",
      "26427392/26421880 [==============================] - 1s 0us/step\n",
      "Downloading data from https://storage.googleapis.com/tensorflow/tf-keras-datasets/t10k-labels-idx1-ubyte.gz\n",
      "8192/5148 [===============================================] - 0s 0us/step\n",
      "Downloading data from https://storage.googleapis.com/tensorflow/tf-keras-datasets/t10k-images-idx3-ubyte.gz\n",
      "4423680/4422102 [==============================] - 0s 0us/step\n"
     ]
    }
   ],
   "source": [
    "fashion_mnist = keras.datasets.fashion_mnist\n",
    "(train_images, train_labels), (test_images, test_labels) = fashion_mnist.load_data()"
   ]
  },
  {
   "cell_type": "markdown",
   "metadata": {},
   "source": [
    "Loading the dataset returns four NumPy arrays:\n",
    "\n",
    "The *train_images* and *train_labels* arrays are the training set—the data the model uses to learn.\n",
    "- The model is tested against the test set, the test_images, and test_labels arrays.\n",
    "- The images are 28x28 NumPy arrays, with pixel values ranging from 0 to 255. The labels are an array of integers, ranging from 0 to 9. These correspond to the class of clothing the image represents:\n",
    "\n",
    "| Label | Class |\n",
    "| ---------- | ---------- |\n",
    "| 0\t| T-shirt/top |\n",
    "| 1\t| Trouser |\n",
    "| 2\t| Pullover |\n",
    "| 3\t| Dress |\n",
    "| 4\t| Coat |\n",
    "| 5\t| Sandal |\n",
    "| 6\t| Shirt |\n",
    "| 7\t| Sneaker |\n",
    "| 8\t| Bag |\n",
    "| 9\t| Ankle boot |"
   ]
  },
  {
   "cell_type": "code",
   "execution_count": 3,
   "metadata": {},
   "outputs": [],
   "source": [
    "class_names = ['T-shirt/top', 'Trouser', 'Pullover', 'Dress', 'Coat',\n",
    "               'Sandal', 'Shirt', 'Sneaker', 'Bag', 'Ankle boot']"
   ]
  },
  {
   "cell_type": "code",
   "execution_count": 4,
   "metadata": {},
   "outputs": [
    {
     "data": {
      "text/plain": [
       "((60000, 28, 28), 60000)"
      ]
     },
     "execution_count": 4,
     "metadata": {},
     "output_type": "execute_result"
    }
   ],
   "source": [
    "train_images.shape, len(train_labels)"
   ]
  },
  {
   "cell_type": "code",
   "execution_count": 5,
   "metadata": {},
   "outputs": [
    {
     "data": {
      "text/plain": [
       "((10000, 28, 28), 10000)"
      ]
     },
     "execution_count": 5,
     "metadata": {},
     "output_type": "execute_result"
    }
   ],
   "source": [
    "test_images.shape, len(test_labels)"
   ]
  },
  {
   "cell_type": "markdown",
   "metadata": {},
   "source": [
    "Preprocess the data\n",
    "\n",
    "The data must be preprocessed before training the network. If you inspect the first image in the training set, you will see that the pixel values fall in the range of 0 to 255:"
   ]
  },
  {
   "cell_type": "code",
   "execution_count": 6,
   "metadata": {},
   "outputs": [
    {
     "data": {
      "image/png": "[encoded data removed]",
      "text/plain": [
       "<Figure size 432x288 with 2 Axes>"
      ]
     },
     "metadata": {
      "needs_background": "light"
     },
     "output_type": "display_data"
    }
   ],
   "source": [
    "plt.figure()\n",
    "plt.imshow(train_images[0])\n",
    "plt.colorbar()\n",
    "plt.grid(False)\n",
    "plt.show()"
   ]
  },
  {
   "cell_type": "code",
   "execution_count": 7,
   "metadata": {},
   "outputs": [],
   "source": [
    "train_images = train_images / 255.0\n",
    "test_images = test_images / 255.0"
   ]
  },
  {
   "cell_type": "code",
   "execution_count": 8,
   "metadata": {},
   "outputs": [
    {
     "data": {
      "image/png": "[encoded data removed]",
      "text/plain": [
       "<Figure size 720x720 with 25 Axes>"
      ]
     },
     "metadata": {},
     "output_type": "display_data"
    }
   ],
   "source": [
    "plt.figure(figsize=(10,10))\n",
    "for i in range(25):\n",
    "    plt.subplot(5,5,i+1)\n",
    "    plt.xticks([])\n",
    "    plt.yticks([])\n",
    "    plt.grid(False)\n",
    "    plt.imshow(train_images[i], cmap=plt.cm.binary)\n",
    "    plt.xlabel(class_names[train_labels[i]])\n",
    "plt.show()"
   ]
  },
  {
   "cell_type": "markdown",
   "metadata": {},
   "source": [
    "## Architecture Design\n",
    "\n",
    "Let us design the architecture! The basic building block of a neural network is the layer. Layers extract representations from the data fed into them. Hopefully, these representations are meaningful for the problem at hand.\n",
    "\n",
    "Most of deep learning consists of chaining together simple layers. Most layers, such as *tf.keras.layers.Dense*, have parameters that are learned during training."
   ]
  },
  {
   "cell_type": "code",
   "execution_count": 9,
   "metadata": {},
   "outputs": [],
   "source": [
    "model = keras.Sequential([\n",
    "    keras.layers.Flatten(input_shape=(28, 28)),\n",
    "    keras.layers.Dense(128, activation='relu'),\n",
    "    keras.layers.Dense(10, activation='softmax')\n",
    "])"
   ]
  },
  {
   "cell_type": "code",
   "execution_count": 10,
   "metadata": {},
   "outputs": [],
   "source": [
    "model.compile(optimizer='adam',\n",
    "              loss='sparse_categorical_crossentropy',\n",
    "              metrics=['accuracy'])"
   ]
  },
  {
   "cell_type": "code",
   "execution_count": 11,
   "metadata": {},
   "outputs": [
    {
     "name": "stdout",
     "output_type": "stream",
     "text": [
      "Epoch 1/10\n",
      "1875/1875 [==============================] - 1s 437us/step - loss: 0.4974 - accuracy: 0.8246\n",
      "Epoch 2/10\n",
      "1875/1875 [==============================] - 1s 460us/step - loss: 0.3730 - accuracy: 0.8650\n",
      "Epoch 3/10\n",
      "1875/1875 [==============================] - 1s 460us/step - loss: 0.3349 - accuracy: 0.8787\n",
      "Epoch 4/10\n",
      "1875/1875 [==============================] - 1s 461us/step - loss: 0.3124 - accuracy: 0.8852\n",
      "Epoch 5/10\n",
      "1875/1875 [==============================] - 1s 465us/step - loss: 0.2944 - accuracy: 0.8919\n",
      "Epoch 6/10\n",
      "1875/1875 [==============================] - 1s 450us/step - loss: 0.2812 - accuracy: 0.8952\n",
      "Epoch 7/10\n",
      "1875/1875 [==============================] - 1s 435us/step - loss: 0.2687 - accuracy: 0.9010\n",
      "Epoch 8/10\n",
      "1875/1875 [==============================] - 1s 439us/step - loss: 0.2581 - accuracy: 0.9043\n",
      "Epoch 9/10\n",
      "1875/1875 [==============================] - 1s 429us/step - loss: 0.2474 - accuracy: 0.9077\n",
      "Epoch 10/10\n",
      "1875/1875 [==============================] - 1s 438us/step - loss: 0.2409 - accuracy: 0.9092\n"
     ]
    },
    {
     "data": {
      "text/plain": [
       "<tensorflow.python.keras.callbacks.History at 0x25ff567b670>"
      ]
     },
     "execution_count": 11,
     "metadata": {},
     "output_type": "execute_result"
    }
   ],
   "source": [
    "model.fit(train_images, train_labels, epochs=10)"
   ]
  },
  {
   "cell_type": "markdown",
   "metadata": {},
   "source": [
    "## Performance Evaluation\n",
    "\n",
    "Let us check out the performance by computing 10-class classification accuracy."
   ]
  },
  {
   "cell_type": "code",
   "execution_count": 12,
   "metadata": {},
   "outputs": [
    {
     "name": "stdout",
     "output_type": "stream",
     "text": [
      "313/313 - 0s - loss: 0.3474 - accuracy: 0.8820\n",
      "\n",
      "Test accuracy: 0.8820000290870667\n"
     ]
    }
   ],
   "source": [
    "test_loss, test_acc = model.evaluate(test_images,  test_labels, verbose=2)\n",
    "\n",
    "print('\\nTest accuracy:', test_acc)"
   ]
  },
  {
   "cell_type": "markdown",
   "metadata": {},
   "source": [
    "## Predictions\n",
    "\n",
    "Let us check out a few images and see what they look like and if they are performed well."
   ]
  },
  {
   "cell_type": "code",
   "execution_count": 13,
   "metadata": {},
   "outputs": [
    {
     "data": {
      "text/plain": [
       "array([2.3804785e-06, 1.9508801e-09, 1.0983020e-07, 6.3293737e-15,\n",
       "       3.8115978e-08, 1.4649049e-02, 3.8981284e-07, 8.3213160e-03,\n",
       "       1.2501288e-09, 9.7702676e-01], dtype=float32)"
      ]
     },
     "execution_count": 13,
     "metadata": {},
     "output_type": "execute_result"
    }
   ],
   "source": [
    "predictions = model.predict(test_images)\n",
    "predictions[0]"
   ]
  },
  {
   "cell_type": "code",
   "execution_count": 14,
   "metadata": {},
   "outputs": [
    {
     "data": {
      "text/html": [
       "<div>\n",
       "<style scoped>\n",
       "    .dataframe tbody tr th:only-of-type {\n",
       "        vertical-align: middle;\n",
       "    }\n",
       "\n",
       "    .dataframe tbody tr th {\n",
       "        vertical-align: top;\n",
       "    }\n",
       "\n",
       "    .dataframe thead th {\n",
       "        text-align: right;\n",
       "    }\n",
       "</style>\n",
       "<table border=\"1\" class=\"dataframe\">\n",
       "  <thead>\n",
       "    <tr style=\"text-align: right;\">\n",
       "      <th></th>\n",
       "      <th>0</th>\n",
       "      <th>1</th>\n",
       "      <th>2</th>\n",
       "      <th>3</th>\n",
       "      <th>4</th>\n",
       "      <th>5</th>\n",
       "      <th>6</th>\n",
       "      <th>7</th>\n",
       "      <th>8</th>\n",
       "      <th>9</th>\n",
       "    </tr>\n",
       "  </thead>\n",
       "  <tbody>\n",
       "    <tr>\n",
       "      <th>0</th>\n",
       "      <td>873</td>\n",
       "      <td>0</td>\n",
       "      <td>12</td>\n",
       "      <td>32</td>\n",
       "      <td>3</td>\n",
       "      <td>4</td>\n",
       "      <td>75</td>\n",
       "      <td>0</td>\n",
       "      <td>1</td>\n",
       "      <td>0</td>\n",
       "    </tr>\n",
       "    <tr>\n",
       "      <th>1</th>\n",
       "      <td>2</td>\n",
       "      <td>971</td>\n",
       "      <td>2</td>\n",
       "      <td>20</td>\n",
       "      <td>1</td>\n",
       "      <td>0</td>\n",
       "      <td>3</td>\n",
       "      <td>0</td>\n",
       "      <td>1</td>\n",
       "      <td>0</td>\n",
       "    </tr>\n",
       "    <tr>\n",
       "      <th>2</th>\n",
       "      <td>16</td>\n",
       "      <td>1</td>\n",
       "      <td>870</td>\n",
       "      <td>18</td>\n",
       "      <td>59</td>\n",
       "      <td>0</td>\n",
       "      <td>36</td>\n",
       "      <td>0</td>\n",
       "      <td>0</td>\n",
       "      <td>0</td>\n",
       "    </tr>\n",
       "    <tr>\n",
       "      <th>3</th>\n",
       "      <td>21</td>\n",
       "      <td>4</td>\n",
       "      <td>10</td>\n",
       "      <td>915</td>\n",
       "      <td>28</td>\n",
       "      <td>1</td>\n",
       "      <td>18</td>\n",
       "      <td>0</td>\n",
       "      <td>3</td>\n",
       "      <td>0</td>\n",
       "    </tr>\n",
       "    <tr>\n",
       "      <th>4</th>\n",
       "      <td>0</td>\n",
       "      <td>1</td>\n",
       "      <td>156</td>\n",
       "      <td>40</td>\n",
       "      <td>770</td>\n",
       "      <td>0</td>\n",
       "      <td>32</td>\n",
       "      <td>0</td>\n",
       "      <td>1</td>\n",
       "      <td>0</td>\n",
       "    </tr>\n",
       "    <tr>\n",
       "      <th>5</th>\n",
       "      <td>0</td>\n",
       "      <td>0</td>\n",
       "      <td>0</td>\n",
       "      <td>0</td>\n",
       "      <td>0</td>\n",
       "      <td>969</td>\n",
       "      <td>0</td>\n",
       "      <td>15</td>\n",
       "      <td>2</td>\n",
       "      <td>14</td>\n",
       "    </tr>\n",
       "    <tr>\n",
       "      <th>6</th>\n",
       "      <td>160</td>\n",
       "      <td>2</td>\n",
       "      <td>127</td>\n",
       "      <td>38</td>\n",
       "      <td>84</td>\n",
       "      <td>1</td>\n",
       "      <td>583</td>\n",
       "      <td>0</td>\n",
       "      <td>5</td>\n",
       "      <td>0</td>\n",
       "    </tr>\n",
       "    <tr>\n",
       "      <th>7</th>\n",
       "      <td>0</td>\n",
       "      <td>0</td>\n",
       "      <td>0</td>\n",
       "      <td>0</td>\n",
       "      <td>0</td>\n",
       "      <td>21</td>\n",
       "      <td>0</td>\n",
       "      <td>966</td>\n",
       "      <td>0</td>\n",
       "      <td>13</td>\n",
       "    </tr>\n",
       "    <tr>\n",
       "      <th>8</th>\n",
       "      <td>7</td>\n",
       "      <td>0</td>\n",
       "      <td>3</td>\n",
       "      <td>6</td>\n",
       "      <td>6</td>\n",
       "      <td>3</td>\n",
       "      <td>13</td>\n",
       "      <td>4</td>\n",
       "      <td>958</td>\n",
       "      <td>0</td>\n",
       "    </tr>\n",
       "    <tr>\n",
       "      <th>9</th>\n",
       "      <td>0</td>\n",
       "      <td>0</td>\n",
       "      <td>0</td>\n",
       "      <td>0</td>\n",
       "      <td>0</td>\n",
       "      <td>12</td>\n",
       "      <td>1</td>\n",
       "      <td>42</td>\n",
       "      <td>0</td>\n",
       "      <td>945</td>\n",
       "    </tr>\n",
       "  </tbody>\n",
       "</table>\n",
       "</div>"
      ],
      "text/plain": [
       "     0    1    2    3    4    5    6    7    8    9\n",
       "0  873    0   12   32    3    4   75    0    1    0\n",
       "1    2  971    2   20    1    0    3    0    1    0\n",
       "2   16    1  870   18   59    0   36    0    0    0\n",
       "3   21    4   10  915   28    1   18    0    3    0\n",
       "4    0    1  156   40  770    0   32    0    1    0\n",
       "5    0    0    0    0    0  969    0   15    2   14\n",
       "6  160    2  127   38   84    1  583    0    5    0\n",
       "7    0    0    0    0    0   21    0  966    0   13\n",
       "8    7    0    3    6    6    3   13    4  958    0\n",
       "9    0    0    0    0    0   12    1   42    0  945"
      ]
     },
     "execution_count": 14,
     "metadata": {},
     "output_type": "execute_result"
    }
   ],
   "source": [
    "from sklearn.metrics import confusion_matrix\n",
    "import numpy as np\n",
    "import pandas as pd\n",
    "\n",
    "confusion = confusion_matrix(test_labels, np.argmax(predictions, axis=1))\n",
    "pd.DataFrame(confusion)"
   ]
  },
  {
   "cell_type": "markdown",
   "metadata": {},
   "source": [
    "Notice that in the architecture the last dense layer has 10 nodes. This means that we need to check the largest value from the nodes to determine which class it is classified in."
   ]
  },
  {
   "cell_type": "code",
   "execution_count": 15,
   "metadata": {},
   "outputs": [
    {
     "data": {
      "text/plain": [
       "9"
      ]
     },
     "execution_count": 15,
     "metadata": {},
     "output_type": "execute_result"
    }
   ],
   "source": [
    "np.argmax(predictions[0])"
   ]
  },
  {
   "cell_type": "code",
   "execution_count": 16,
   "metadata": {},
   "outputs": [
    {
     "data": {
      "text/plain": [
       "9"
      ]
     },
     "execution_count": 16,
     "metadata": {},
     "output_type": "execute_result"
    }
   ],
   "source": [
    "test_labels[0]"
   ]
  },
  {
   "cell_type": "markdown",
   "metadata": {},
   "source": [
    "So we did it correctly! \n",
    "\n",
    "We can code a function to check out the performance for each image."
   ]
  },
  {
   "cell_type": "code",
   "execution_count": 17,
   "metadata": {},
   "outputs": [],
   "source": [
    "def plot_image(i, predictions_array, true_label, img):\n",
    "  predictions_array, true_label, img = predictions_array, true_label[i], img[i]\n",
    "  plt.grid(False)\n",
    "  plt.xticks([])\n",
    "  plt.yticks([])\n",
    "\n",
    "  plt.imshow(img, cmap=plt.cm.binary)\n",
    "\n",
    "  predicted_label = np.argmax(predictions_array)\n",
    "  if predicted_label == true_label:\n",
    "    color = 'blue'\n",
    "  else:\n",
    "    color = 'red'\n",
    "\n",
    "  plt.xlabel(\"{} {:2.0f}% ({})\".format(class_names[predicted_label],\n",
    "                                100*np.max(predictions_array),\n",
    "                                class_names[true_label]),\n",
    "                                color=color)\n",
    "\n",
    "def plot_value_array(i, predictions_array, true_label):\n",
    "  predictions_array, true_label = predictions_array, true_label[i]\n",
    "  plt.grid(False)\n",
    "  plt.xticks(range(10))\n",
    "  plt.yticks([])\n",
    "  thisplot = plt.bar(range(10), predictions_array, color=\"#777777\")\n",
    "  plt.ylim([0, 1])\n",
    "  predicted_label = np.argmax(predictions_array)\n",
    "\n",
    "  thisplot[predicted_label].set_color('red')\n",
    "  thisplot[true_label].set_color('blue')"
   ]
  },
  {
   "cell_type": "code",
   "execution_count": 18,
   "metadata": {},
   "outputs": [
    {
     "data": {
      "image/png": "[encoded data removed]",
      "text/plain": [
       "<Figure size 432x216 with 2 Axes>"
      ]
     },
     "metadata": {
      "needs_background": "light"
     },
     "output_type": "display_data"
    }
   ],
   "source": [
    "i = 0\n",
    "plt.figure(figsize=(6,3))\n",
    "plt.subplot(1,2,1)\n",
    "plot_image(i, predictions[i], test_labels, test_images)\n",
    "plt.subplot(1,2,2)\n",
    "plot_value_array(i, predictions[i],  test_labels)\n",
    "plt.show()"
   ]
  },
  {
   "cell_type": "code",
   "execution_count": 19,
   "metadata": {},
   "outputs": [
    {
     "data": {
      "image/png": "[encoded data removed]",
      "text/plain": [
       "<Figure size 432x216 with 2 Axes>"
      ]
     },
     "metadata": {
      "needs_background": "light"
     },
     "output_type": "display_data"
    }
   ],
   "source": [
    "i = 12\n",
    "plt.figure(figsize=(6,3))\n",
    "plt.subplot(1,2,1)\n",
    "plot_image(i, predictions[i], test_labels, test_images)\n",
    "plt.subplot(1,2,2)\n",
    "plot_value_array(i, predictions[i],  test_labels)\n",
    "plt.show()"
   ]
  },
  {
   "cell_type": "code",
   "execution_count": 20,
   "metadata": {},
   "outputs": [
    {
     "data": {
      "image/png": "[encoded data removed]",
      "text/plain": [
       "<Figure size 864x1440 with 60 Axes>"
      ]
     },
     "metadata": {
      "needs_background": "light"
     },
     "output_type": "display_data"
    }
   ],
   "source": [
    "# Plot the first X test images, their predicted labels, and the true labels.\n",
    "# Color correct predictions in blue and incorrect predictions in red.\n",
    "num_rows = 10\n",
    "num_cols = 3\n",
    "num_images = num_rows*num_cols\n",
    "plt.figure(figsize=(2*2*num_cols, 2*num_rows))\n",
    "for i in range(num_images):\n",
    "  plt.subplot(num_rows, 2*num_cols, 2*i+1)\n",
    "  plot_image(i, predictions[i], test_labels, test_images)\n",
    "  plt.subplot(num_rows, 2*num_cols, 2*i+2)\n",
    "  plot_value_array(i, predictions[i], test_labels)\n",
    "plt.tight_layout()\n",
    "plt.show()"
   ]
  },
  {
   "cell_type": "markdown",
   "metadata": {},
   "source": [
    "## Software Development\n",
    "\n",
    "Every data science project has two phases. Phase I is about end-to-end research and select the most optimal machine learning procedure. Phase II is about delivering a software product to consumer and clients so that the python codes can be called and there is no need to redo everything that has already been done."
   ]
  },
  {
   "cell_type": "code",
   "execution_count": 21,
   "metadata": {},
   "outputs": [],
   "source": [
    "# Define function\n",
    "def DL_NN_Classification(train_images, train_labels, test_images, test_labels, \n",
    "                         shape_width=28, shape_height=28,\n",
    "                         l1_act='relu', l2_act='relu', l3_act='softmax',\n",
    "                         layer1size=128, layer2size=64, layer3size=10,\n",
    "                         num_rows = 10, num_cols = 3):\n",
    "    \"\"\" Code Starts Here\"\"\"\n",
    "    # TensorFlow and tf.keras\n",
    "    import tensorflow as tf\n",
    "    from tensorflow import keras\n",
    "\n",
    "    # Helper libraries\n",
    "    import numpy as np\n",
    "    import matplotlib.pyplot as plt\n",
    "\n",
    "    print(tf.__version__)\n",
    "    \n",
    "    # Normalize\n",
    "    train_images = train_images / float(shape_width * shape_height)\n",
    "    test_images = test_images / float(shape_width * shape_height)\n",
    "\n",
    "    # Model\n",
    "    model = keras.Sequential([\n",
    "    keras.layers.Flatten(input_shape=(shape_width, shape_height)),\n",
    "    keras.layers.Dense(layer1size, activation=l1_act),\n",
    "    keras.layers.Dense(layer2size, activation=l2_act),        \n",
    "    keras.layers.Dense(layer3size, activation=l3_act) ])\n",
    "    \n",
    "    model.compile(optimizer='adam',\n",
    "              loss='sparse_categorical_crossentropy',\n",
    "              metrics=['accuracy'])\n",
    "    \n",
    "    model.fit(train_images, train_labels, epochs=10)\n",
    "    \n",
    "    test_loss, test_acc = model.evaluate(test_images,  test_labels, verbose=2)\n",
    "    \n",
    "    # Prediction\n",
    "    predictions = model.predict(test_images)\n",
    "\n",
    "    # Performance\n",
    "    from sklearn.metrics import confusion_matrix\n",
    "    import numpy as np\n",
    "    import pandas as pd\n",
    "    confusion = confusion_matrix(test_labels, np.argmax(predictions, axis=1))\n",
    "    confusion = pd.DataFrame(confusion)\n",
    "    \n",
    "    # Visualization\n",
    "    def plot_image(i, predictions_array, true_label, img):\n",
    "      predictions_array, true_label, img = predictions_array, true_label[i], img[i]\n",
    "      plt.grid(False)\n",
    "      plt.xticks([])\n",
    "      plt.yticks([])\n",
    "\n",
    "      plt.imshow(img, cmap=plt.cm.binary)\n",
    "\n",
    "      predicted_label = np.argmax(predictions_array)\n",
    "      if predicted_label == true_label:\n",
    "        color = 'blue'\n",
    "      else:\n",
    "        color = 'red'\n",
    "\n",
    "      plt.xlabel(\"{} {:2.0f}% ({})\".format(class_names[predicted_label],\n",
    "                                    100*np.max(predictions_array),\n",
    "                                    class_names[true_label]),\n",
    "                                    color=color)\n",
    "\n",
    "    def plot_value_array(i, predictions_array, true_label):\n",
    "      predictions_array, true_label = predictions_array, true_label[i]\n",
    "      plt.grid(False)\n",
    "      plt.xticks(range(layer3size))\n",
    "      plt.yticks([])\n",
    "      thisplot = plt.bar(range(layer3size), predictions_array, color=\"#777777\")\n",
    "      plt.ylim([0, 1])\n",
    "      predicted_label = np.argmax(predictions_array)\n",
    "\n",
    "      thisplot[predicted_label].set_color('red')\n",
    "      thisplot[true_label].set_color('blue')\n",
    "    \n",
    "    # Plot the first X test images, their predicted labels, and the true labels.\n",
    "    # Color correct predictions in blue and incorrect predictions in red.\n",
    "    num_images = num_rows*num_cols\n",
    "    plt.figure(figsize=(2*2*num_cols, 2*num_rows))\n",
    "    for i in range(num_images):\n",
    "      plt.subplot(num_rows, 2*num_cols, 2*i+1)\n",
    "      plot_image(i, predictions[i], test_labels, test_images)\n",
    "      plt.subplot(num_rows, 2*num_cols, 2*i+2)\n",
    "      plot_value_array(i, predictions[i], test_labels)\n",
    "    plt.tight_layout()\n",
    "    plt.show()\n",
    "    \"\"\" Code Ends Here\"\"\"\n",
    "    \n",
    "    # Output\n",
    "    return {\n",
    "        'Data': [train_images, train_labels, test_images, test_labels],\n",
    "        'Shape': [train_images.shape, len(train_labels), test_images.shape, len(test_labels)],\n",
    "        'Model Fitting': model,\n",
    "        'Performance': {\n",
    "            'test_loss': test_loss, \n",
    "            'test_acc': test_acc, \n",
    "            'confusion': confusion\n",
    "        },\n",
    "    }\n",
    "# End of function"
   ]
  },
  {
   "cell_type": "markdown",
   "metadata": {},
   "source": [
    "We have the product coded! Let us try it out."
   ]
  },
  {
   "cell_type": "code",
   "execution_count": 22,
   "metadata": {},
   "outputs": [
    {
     "name": "stdout",
     "output_type": "stream",
     "text": [
      "2.3.1\n",
      "Epoch 1/10\n",
      "1875/1875 [==============================] - 1s 470us/step - loss: 1.1161 - accuracy: 0.5892\n",
      "Epoch 2/10\n",
      "1875/1875 [==============================] - 1s 471us/step - loss: 0.6966 - accuracy: 0.7439\n",
      "Epoch 3/10\n",
      "1875/1875 [==============================] - 1s 471us/step - loss: 0.6165 - accuracy: 0.7733\n",
      "Epoch 4/10\n",
      "1875/1875 [==============================] - 1s 484us/step - loss: 0.5790 - accuracy: 0.7907\n",
      "Epoch 5/10\n",
      "1875/1875 [==============================] - 1s 509us/step - loss: 0.5523 - accuracy: 0.8015\n",
      "Epoch 6/10\n",
      "1875/1875 [==============================] - 1s 512us/step - loss: 0.5320 - accuracy: 0.8097\n",
      "Epoch 7/10\n",
      "1875/1875 [==============================] - 1s 506us/step - loss: 0.5137 - accuracy: 0.8172\n",
      "Epoch 8/10\n",
      "1875/1875 [==============================] - 1s 475us/step - loss: 0.4975 - accuracy: 0.8228\n",
      "Epoch 9/10\n",
      "1875/1875 [==============================] - 1s 474us/step - loss: 0.4833 - accuracy: 0.8280\n",
      "Epoch 10/10\n",
      "1875/1875 [==============================] - 1s 480us/step - loss: 0.4698 - accuracy: 0.8322\n",
      "313/313 - 0s - loss: 0.5027 - accuracy: 0.8216\n"
     ]
    },
    {
     "data": {
      "image/png": "[encoded data removed]",
      "text/plain": [
       "<Figure size 864x432 with 18 Axes>"
      ]
     },
     "metadata": {
      "needs_background": "light"
     },
     "output_type": "display_data"
    }
   ],
   "source": [
    "testresult = DL_NN_Classification(\n",
    "    train_images, train_labels, test_images, test_labels, \n",
    "    #shape_width=28, shape_height=28,\n",
    "    l1_act='relu', l2_act='relu', l3_act='softmax',\n",
    "    layer1size=128, layer2size=64, layer3size=10,\n",
    "    num_rows = 3, num_cols = 3)"
   ]
  },
  {
   "cell_type": "code",
   "execution_count": 23,
   "metadata": {},
   "outputs": [
    {
     "name": "stdout",
     "output_type": "stream",
     "text": [
      "Model: \"sequential_1\"\n",
      "_________________________________________________________________\n",
      "Layer (type)                 Output Shape              Param #   \n",
      "=================================================================\n",
      "flatten_1 (Flatten)          (None, 784)               0         \n",
      "_________________________________________________________________\n",
      "dense_2 (Dense)              (None, 128)               100480    \n",
      "_________________________________________________________________\n",
      "dense_3 (Dense)              (None, 64)                8256      \n",
      "_________________________________________________________________\n",
      "dense_4 (Dense)              (None, 10)                650       \n",
      "=================================================================\n",
      "Total params: 109,386\n",
      "Trainable params: 109,386\n",
      "Non-trainable params: 0\n",
      "_________________________________________________________________\n"
     ]
    }
   ],
   "source": [
    "fitted_model = testresult['Model Fitting']\n",
    "fitted_model.summary()"
   ]
  },
  {
   "cell_type": "code",
   "execution_count": 24,
   "metadata": {},
   "outputs": [
    {
     "data": {
      "text/html": [
       "<div>\n",
       "<style scoped>\n",
       "    .dataframe tbody tr th:only-of-type {\n",
       "        vertical-align: middle;\n",
       "    }\n",
       "\n",
       "    .dataframe tbody tr th {\n",
       "        vertical-align: top;\n",
       "    }\n",
       "\n",
       "    .dataframe thead th {\n",
       "        text-align: right;\n",
       "    }\n",
       "</style>\n",
       "<table border=\"1\" class=\"dataframe\">\n",
       "  <thead>\n",
       "    <tr style=\"text-align: right;\">\n",
       "      <th></th>\n",
       "      <th>0</th>\n",
       "      <th>1</th>\n",
       "      <th>2</th>\n",
       "      <th>3</th>\n",
       "      <th>4</th>\n",
       "      <th>5</th>\n",
       "      <th>6</th>\n",
       "      <th>7</th>\n",
       "      <th>8</th>\n",
       "      <th>9</th>\n",
       "    </tr>\n",
       "  </thead>\n",
       "  <tbody>\n",
       "    <tr>\n",
       "      <th>0</th>\n",
       "      <td>808</td>\n",
       "      <td>3</td>\n",
       "      <td>5</td>\n",
       "      <td>46</td>\n",
       "      <td>2</td>\n",
       "      <td>4</td>\n",
       "      <td>114</td>\n",
       "      <td>0</td>\n",
       "      <td>18</td>\n",
       "      <td>0</td>\n",
       "    </tr>\n",
       "    <tr>\n",
       "      <th>1</th>\n",
       "      <td>1</td>\n",
       "      <td>950</td>\n",
       "      <td>10</td>\n",
       "      <td>27</td>\n",
       "      <td>4</td>\n",
       "      <td>0</td>\n",
       "      <td>6</td>\n",
       "      <td>0</td>\n",
       "      <td>2</td>\n",
       "      <td>0</td>\n",
       "    </tr>\n",
       "    <tr>\n",
       "      <th>2</th>\n",
       "      <td>24</td>\n",
       "      <td>2</td>\n",
       "      <td>720</td>\n",
       "      <td>7</td>\n",
       "      <td>100</td>\n",
       "      <td>1</td>\n",
       "      <td>141</td>\n",
       "      <td>0</td>\n",
       "      <td>5</td>\n",
       "      <td>0</td>\n",
       "    </tr>\n",
       "    <tr>\n",
       "      <th>3</th>\n",
       "      <td>67</td>\n",
       "      <td>14</td>\n",
       "      <td>7</td>\n",
       "      <td>801</td>\n",
       "      <td>29</td>\n",
       "      <td>0</td>\n",
       "      <td>73</td>\n",
       "      <td>0</td>\n",
       "      <td>9</td>\n",
       "      <td>0</td>\n",
       "    </tr>\n",
       "    <tr>\n",
       "      <th>4</th>\n",
       "      <td>0</td>\n",
       "      <td>2</td>\n",
       "      <td>133</td>\n",
       "      <td>30</td>\n",
       "      <td>655</td>\n",
       "      <td>0</td>\n",
       "      <td>172</td>\n",
       "      <td>0</td>\n",
       "      <td>8</td>\n",
       "      <td>0</td>\n",
       "    </tr>\n",
       "    <tr>\n",
       "      <th>5</th>\n",
       "      <td>0</td>\n",
       "      <td>0</td>\n",
       "      <td>0</td>\n",
       "      <td>1</td>\n",
       "      <td>0</td>\n",
       "      <td>909</td>\n",
       "      <td>0</td>\n",
       "      <td>48</td>\n",
       "      <td>4</td>\n",
       "      <td>38</td>\n",
       "    </tr>\n",
       "    <tr>\n",
       "      <th>6</th>\n",
       "      <td>170</td>\n",
       "      <td>2</td>\n",
       "      <td>100</td>\n",
       "      <td>25</td>\n",
       "      <td>71</td>\n",
       "      <td>1</td>\n",
       "      <td>605</td>\n",
       "      <td>0</td>\n",
       "      <td>26</td>\n",
       "      <td>0</td>\n",
       "    </tr>\n",
       "    <tr>\n",
       "      <th>7</th>\n",
       "      <td>0</td>\n",
       "      <td>0</td>\n",
       "      <td>0</td>\n",
       "      <td>0</td>\n",
       "      <td>0</td>\n",
       "      <td>48</td>\n",
       "      <td>0</td>\n",
       "      <td>893</td>\n",
       "      <td>0</td>\n",
       "      <td>59</td>\n",
       "    </tr>\n",
       "    <tr>\n",
       "      <th>8</th>\n",
       "      <td>3</td>\n",
       "      <td>1</td>\n",
       "      <td>4</td>\n",
       "      <td>9</td>\n",
       "      <td>2</td>\n",
       "      <td>10</td>\n",
       "      <td>32</td>\n",
       "      <td>3</td>\n",
       "      <td>934</td>\n",
       "      <td>2</td>\n",
       "    </tr>\n",
       "    <tr>\n",
       "      <th>9</th>\n",
       "      <td>0</td>\n",
       "      <td>0</td>\n",
       "      <td>0</td>\n",
       "      <td>0</td>\n",
       "      <td>0</td>\n",
       "      <td>22</td>\n",
       "      <td>0</td>\n",
       "      <td>36</td>\n",
       "      <td>1</td>\n",
       "      <td>941</td>\n",
       "    </tr>\n",
       "  </tbody>\n",
       "</table>\n",
       "</div>"
      ],
      "text/plain": [
       "     0    1    2    3    4    5    6    7    8    9\n",
       "0  808    3    5   46    2    4  114    0   18    0\n",
       "1    1  950   10   27    4    0    6    0    2    0\n",
       "2   24    2  720    7  100    1  141    0    5    0\n",
       "3   67   14    7  801   29    0   73    0    9    0\n",
       "4    0    2  133   30  655    0  172    0    8    0\n",
       "5    0    0    0    1    0  909    0   48    4   38\n",
       "6  170    2  100   25   71    1  605    0   26    0\n",
       "7    0    0    0    0    0   48    0  893    0   59\n",
       "8    3    1    4    9    2   10   32    3  934    2\n",
       "9    0    0    0    0    0   22    0   36    1  941"
      ]
     },
     "execution_count": 24,
     "metadata": {},
     "output_type": "execute_result"
    }
   ],
   "source": [
    "testresult['Performance']['confusion']"
   ]
  },
  {
   "cell_type": "code",
   "execution_count": 25,
   "metadata": {},
   "outputs": [
    {
     "data": {
      "text/plain": [
       "0.8216000199317932"
      ]
     },
     "execution_count": 25,
     "metadata": {},
     "output_type": "execute_result"
    }
   ],
   "source": [
    "testresult['Performance']['test_acc']"
   ]
  },
  {
   "cell_type": "markdown",
   "metadata": {},
   "source": [
    "Let us code an even more general function."
   ]
  },
  {
   "cell_type": "code",
   "execution_count": 26,
   "metadata": {},
   "outputs": [],
   "source": [
    "# Define function\n",
    "def DL_NN_Classification(X_train, y_train, X_test, y_test, \n",
    "                         l1_act='relu', l2_act='relu', l3_act='softmax',\n",
    "                         layer1size=128, layer2size=64, layer3size=2,\n",
    "                         num_of_epochs=10):\n",
    "    \n",
    "    \"\"\" Code Starts Here\"\"\"\n",
    "    # TensorFlow and tf.keras\n",
    "    import tensorflow as tf\n",
    "    from tensorflow import keras\n",
    "\n",
    "    # Helper libraries\n",
    "    import numpy as np\n",
    "    import matplotlib.pyplot as plt\n",
    "\n",
    "    print(tf.__version__)\n",
    "    \n",
    "    # Normalize\n",
    "    # Helper Function\n",
    "    def helpNormalize(X):\n",
    "        return (X - X.mean()) / np.std(X)\n",
    "    \n",
    "    X_train = X_train.apply(helpNormalize, axis=1)\n",
    "    X_test = X_test.apply(helpNormalize, axis=1)\n",
    "\n",
    "    # Model\n",
    "    model = tf.keras.Sequential([\n",
    "        keras.layers.Dense(units=layer1size, input_shape=[X_train.shape[1]]),\n",
    "        keras.layers.Dense(units=layer2size, activation=l2_act),\n",
    "        keras.layers.Dense(units=layer3size, activation=l3_act)\n",
    "    ])\n",
    "    \n",
    "    # Compile\n",
    "    model.compile(optimizer='adam',\n",
    "                  loss='sparse_categorical_crossentropy',\n",
    "                  metrics=['accuracy'])\n",
    "    \n",
    "    # Model Fitting\n",
    "    model.fit(X_train, y_train, epochs=num_of_epochs)\n",
    "    \n",
    "    # Prediction\n",
    "    predictions = model.predict(X_test)\n",
    "\n",
    "    # Performance\n",
    "    from sklearn.metrics import confusion_matrix\n",
    "    import numpy as np\n",
    "    import pandas as pd\n",
    "    confusion = confusion_matrix(y_test, np.argmax(predictions, axis=1))\n",
    "    confusion = pd.DataFrame(confusion)\n",
    "    test_acc = sum(np.diag(confusion)) / sum(sum(np.array(confusion)))\n",
    "    \"\"\" Code Ends Here\"\"\"\n",
    "    \n",
    "    # Output\n",
    "    return {\n",
    "        'Data': [train_images, train_labels, test_images, test_labels],\n",
    "        'Shape': [train_images.shape, len(train_labels), test_images.shape, len(test_labels)],\n",
    "        'Model Fitting': model,\n",
    "        'Performance': {\n",
    "            'test_loss': test_loss, \n",
    "            'test_acc': test_acc, \n",
    "            'confusion': confusion\n",
    "        },\n",
    "    }\n",
    "# End of function"
   ]
  },
  {
   "cell_type": "markdown",
   "metadata": {},
   "source": [
    "Let us try a different data set."
   ]
  },
  {
   "cell_type": "code",
   "execution_count": 27,
   "metadata": {},
   "outputs": [
    {
     "data": {
      "text/html": [
       "<div>\n",
       "<style scoped>\n",
       "    .dataframe tbody tr th:only-of-type {\n",
       "        vertical-align: middle;\n",
       "    }\n",
       "\n",
       "    .dataframe tbody tr th {\n",
       "        vertical-align: top;\n",
       "    }\n",
       "\n",
       "    .dataframe thead th {\n",
       "        text-align: right;\n",
       "    }\n",
       "</style>\n",
       "<table border=\"1\" class=\"dataframe\">\n",
       "  <thead>\n",
       "    <tr style=\"text-align: right;\">\n",
       "      <th></th>\n",
       "      <th>id</th>\n",
       "      <th>date</th>\n",
       "      <th>price</th>\n",
       "      <th>bedrooms</th>\n",
       "      <th>bathrooms</th>\n",
       "      <th>sqft_living</th>\n",
       "      <th>sqft_lot</th>\n",
       "      <th>floors</th>\n",
       "      <th>waterfront</th>\n",
       "      <th>view</th>\n",
       "      <th>...</th>\n",
       "      <th>grade</th>\n",
       "      <th>sqft_above</th>\n",
       "      <th>sqft_basement</th>\n",
       "      <th>yr_built</th>\n",
       "      <th>yr_renovated</th>\n",
       "      <th>zipcode</th>\n",
       "      <th>lat</th>\n",
       "      <th>long</th>\n",
       "      <th>sqft_living15</th>\n",
       "      <th>sqft_lot15</th>\n",
       "    </tr>\n",
       "  </thead>\n",
       "  <tbody>\n",
       "    <tr>\n",
       "      <th>0</th>\n",
       "      <td>7129300520</td>\n",
       "      <td>20141013T000000</td>\n",
       "      <td>221900.0</td>\n",
       "      <td>3</td>\n",
       "      <td>1.00</td>\n",
       "      <td>1180</td>\n",
       "      <td>5650</td>\n",
       "      <td>1.0</td>\n",
       "      <td>0</td>\n",
       "      <td>0</td>\n",
       "      <td>...</td>\n",
       "      <td>7</td>\n",
       "      <td>1180</td>\n",
       "      <td>0</td>\n",
       "      <td>1955</td>\n",
       "      <td>0</td>\n",
       "      <td>98178</td>\n",
       "      <td>47.5112</td>\n",
       "      <td>-122.257</td>\n",
       "      <td>1340</td>\n",
       "      <td>5650</td>\n",
       "    </tr>\n",
       "    <tr>\n",
       "      <th>1</th>\n",
       "      <td>6414100192</td>\n",
       "      <td>20141209T000000</td>\n",
       "      <td>538000.0</td>\n",
       "      <td>3</td>\n",
       "      <td>2.25</td>\n",
       "      <td>2570</td>\n",
       "      <td>7242</td>\n",
       "      <td>2.0</td>\n",
       "      <td>0</td>\n",
       "      <td>0</td>\n",
       "      <td>...</td>\n",
       "      <td>7</td>\n",
       "      <td>2170</td>\n",
       "      <td>400</td>\n",
       "      <td>1951</td>\n",
       "      <td>1991</td>\n",
       "      <td>98125</td>\n",
       "      <td>47.7210</td>\n",
       "      <td>-122.319</td>\n",
       "      <td>1690</td>\n",
       "      <td>7639</td>\n",
       "    </tr>\n",
       "    <tr>\n",
       "      <th>2</th>\n",
       "      <td>5631500400</td>\n",
       "      <td>20150225T000000</td>\n",
       "      <td>180000.0</td>\n",
       "      <td>2</td>\n",
       "      <td>1.00</td>\n",
       "      <td>770</td>\n",
       "      <td>10000</td>\n",
       "      <td>1.0</td>\n",
       "      <td>0</td>\n",
       "      <td>0</td>\n",
       "      <td>...</td>\n",
       "      <td>6</td>\n",
       "      <td>770</td>\n",
       "      <td>0</td>\n",
       "      <td>1933</td>\n",
       "      <td>0</td>\n",
       "      <td>98028</td>\n",
       "      <td>47.7379</td>\n",
       "      <td>-122.233</td>\n",
       "      <td>2720</td>\n",
       "      <td>8062</td>\n",
       "    </tr>\n",
       "  </tbody>\n",
       "</table>\n",
       "<p>3 rows × 21 columns</p>\n",
       "</div>"
      ],
      "text/plain": [
       "           id             date     price  bedrooms  bathrooms  sqft_living  \\\n",
       "0  7129300520  20141013T000000  221900.0         3       1.00         1180   \n",
       "1  6414100192  20141209T000000  538000.0         3       2.25         2570   \n",
       "2  5631500400  20150225T000000  180000.0         2       1.00          770   \n",
       "\n",
       "   sqft_lot  floors  waterfront  view  ...  grade  sqft_above  sqft_basement  \\\n",
       "0      5650     1.0           0     0  ...      7        1180              0   \n",
       "1      7242     2.0           0     0  ...      7        2170            400   \n",
       "2     10000     1.0           0     0  ...      6         770              0   \n",
       "\n",
       "   yr_built  yr_renovated  zipcode      lat     long  sqft_living15  \\\n",
       "0      1955             0    98178  47.5112 -122.257           1340   \n",
       "1      1951          1991    98125  47.7210 -122.319           1690   \n",
       "2      1933             0    98028  47.7379 -122.233           2720   \n",
       "\n",
       "   sqft_lot15  \n",
       "0        5650  \n",
       "1        7639  \n",
       "2        8062  \n",
       "\n",
       "[3 rows x 21 columns]"
      ]
     },
     "execution_count": 27,
     "metadata": {},
     "output_type": "execute_result"
    }
   ],
   "source": [
    "house_sales = pd.read_csv('../data/kc_house_data.csv')\n",
    "house_sales.head(3)"
   ]
  },
  {
   "cell_type": "code",
   "execution_count": 28,
   "metadata": {},
   "outputs": [
    {
     "name": "stdout",
     "output_type": "stream",
     "text": [
      "<class 'pandas.core.frame.DataFrame'>\n",
      "RangeIndex: 21613 entries, 0 to 21612\n",
      "Data columns (total 16 columns):\n",
      " #   Column         Non-Null Count  Dtype  \n",
      "---  ------         --------------  -----  \n",
      " 0   price          21613 non-null  float64\n",
      " 1   bedrooms       21613 non-null  int64  \n",
      " 2   bathrooms      21613 non-null  float64\n",
      " 3   sqft_living    21613 non-null  int64  \n",
      " 4   sqft_lot       21613 non-null  int64  \n",
      " 5   floors         21613 non-null  float64\n",
      " 6   waterfront     21613 non-null  int64  \n",
      " 7   view           21613 non-null  int64  \n",
      " 8   condition      21613 non-null  int64  \n",
      " 9   grade          21613 non-null  int64  \n",
      " 10  sqft_above     21613 non-null  int64  \n",
      " 11  sqft_basement  21613 non-null  int64  \n",
      " 12  yr_built       21613 non-null  int64  \n",
      " 13  yr_renovated   21613 non-null  int64  \n",
      " 14  sqft_living15  21613 non-null  int64  \n",
      " 15  sqft_lot15     21613 non-null  int64  \n",
      "dtypes: float64(3), int64(13)\n",
      "memory usage: 2.6 MB\n"
     ]
    }
   ],
   "source": [
    "house_sales = house_sales.drop(['id', 'zipcode', 'lat', 'long', 'date'], axis=1)\n",
    "house_sales.info()"
   ]
  },
  {
   "cell_type": "code",
   "execution_count": 29,
   "metadata": {},
   "outputs": [
    {
     "data": {
      "text/plain": [
       "0        0\n",
       "1        1\n",
       "2        0\n",
       "3        1\n",
       "4        1\n",
       "        ..\n",
       "21608    0\n",
       "21609    0\n",
       "21610    0\n",
       "21611    0\n",
       "21612    0\n",
       "Name: price, Length: 21613, dtype: int32"
      ]
     },
     "execution_count": 29,
     "metadata": {},
     "output_type": "execute_result"
    }
   ],
   "source": [
    "X_all = house_sales.drop('price', axis=1)\n",
    "y = np.log(house_sales.price)\n",
    "y_binary = (y > y.mean()).astype(int)\n",
    "y_binary"
   ]
  },
  {
   "cell_type": "code",
   "execution_count": 30,
   "metadata": {},
   "outputs": [
    {
     "data": {
      "text/plain": [
       "(   bedrooms  bathrooms  sqft_living  sqft_lot  floors  waterfront  view  \\\n",
       " 0         3       1.00         1180      5650     1.0           0     0   \n",
       " 1         3       2.25         2570      7242     2.0           0     0   \n",
       " 2         2       1.00          770     10000     1.0           0     0   \n",
       " \n",
       "    condition  grade  sqft_above  sqft_basement  yr_built  yr_renovated  \\\n",
       " 0          3      7        1180              0      1955             0   \n",
       " 1          3      7        2170            400      1951          1991   \n",
       " 2          3      6         770              0      1933             0   \n",
       " \n",
       "    sqft_living15  sqft_lot15  \n",
       " 0           1340        5650  \n",
       " 1           1690        7639  \n",
       " 2           2720        8062  ,\n",
       " 0    0\n",
       " 1    1\n",
       " 2    0\n",
       " Name: price, dtype: int32)"
      ]
     },
     "execution_count": 30,
     "metadata": {},
     "output_type": "execute_result"
    }
   ],
   "source": [
    "X_all.head(3), y_binary.head(3)"
   ]
  },
  {
   "cell_type": "code",
   "execution_count": 31,
   "metadata": {},
   "outputs": [],
   "source": [
    "from sklearn.model_selection import train_test_split"
   ]
  },
  {
   "cell_type": "code",
   "execution_count": 32,
   "metadata": {},
   "outputs": [
    {
     "name": "stdout",
     "output_type": "stream",
     "text": [
      "(15129, 15) (6484, 15)\n",
      "1468     0\n",
      "15590    0\n",
      "18552    1\n",
      "10535    0\n",
      "1069     1\n",
      "        ..\n",
      "13123    1\n",
      "19648    0\n",
      "9845     0\n",
      "10799    0\n",
      "2732     1\n",
      "Name: price, Length: 15129, dtype: int32\n"
     ]
    }
   ],
   "source": [
    "X_train, X_test, y_train, y_test = train_test_split(X_all, y_binary, test_size=0.3, random_state=0)\n",
    "print(X_train.shape, X_test.shape)\n",
    "print(y_train)"
   ]
  },
  {
   "cell_type": "code",
   "execution_count": 33,
   "metadata": {},
   "outputs": [
    {
     "name": "stdout",
     "output_type": "stream",
     "text": [
      "2.3.1\n",
      "Epoch 1/50\n",
      "473/473 [==============================] - 0s 373us/step - loss: 0.5521 - accuracy: 0.7115\n",
      "Epoch 2/50\n",
      "473/473 [==============================] - 0s 369us/step - loss: 0.4964 - accuracy: 0.7457\n",
      "Epoch 3/50\n",
      "473/473 [==============================] - 0s 371us/step - loss: 0.4890 - accuracy: 0.7527\n",
      "Epoch 4/50\n",
      "473/473 [==============================] - 0s 369us/step - loss: 0.4808 - accuracy: 0.7584\n",
      "Epoch 5/50\n",
      "473/473 [==============================] - 0s 377us/step - loss: 0.4771 - accuracy: 0.7591\n",
      "Epoch 6/50\n",
      "473/473 [==============================] - 0s 369us/step - loss: 0.4766 - accuracy: 0.7613\n",
      "Epoch 7/50\n",
      "473/473 [==============================] - 0s 369us/step - loss: 0.4728 - accuracy: 0.7639\n",
      "Epoch 8/50\n",
      "473/473 [==============================] - 0s 369us/step - loss: 0.4716 - accuracy: 0.7628\n",
      "Epoch 9/50\n",
      "473/473 [==============================] - 0s 367us/step - loss: 0.4710 - accuracy: 0.7642\n",
      "Epoch 10/50\n",
      "473/473 [==============================] - 0s 371us/step - loss: 0.4671 - accuracy: 0.7700\n",
      "Epoch 11/50\n",
      "473/473 [==============================] - 0s 371us/step - loss: 0.4673 - accuracy: 0.7663\n",
      "Epoch 12/50\n",
      "473/473 [==============================] - 0s 367us/step - loss: 0.4687 - accuracy: 0.7674\n",
      "Epoch 13/50\n",
      "473/473 [==============================] - 0s 365us/step - loss: 0.4649 - accuracy: 0.7703\n",
      "Epoch 14/50\n",
      "473/473 [==============================] - 0s 365us/step - loss: 0.4654 - accuracy: 0.7691\n",
      "Epoch 15/50\n",
      "473/473 [==============================] - 0s 367us/step - loss: 0.4664 - accuracy: 0.7698\n",
      "Epoch 16/50\n",
      "473/473 [==============================] - 0s 371us/step - loss: 0.4654 - accuracy: 0.7657\n",
      "Epoch 17/50\n",
      "473/473 [==============================] - 0s 367us/step - loss: 0.4657 - accuracy: 0.7714\n",
      "Epoch 18/50\n",
      "473/473 [==============================] - 0s 373us/step - loss: 0.4629 - accuracy: 0.7689\n",
      "Epoch 19/50\n",
      "473/473 [==============================] - 0s 363us/step - loss: 0.4631 - accuracy: 0.7738\n",
      "Epoch 20/50\n",
      "473/473 [==============================] - 0s 367us/step - loss: 0.4628 - accuracy: 0.7708\n",
      "Epoch 21/50\n",
      "473/473 [==============================] - 0s 369us/step - loss: 0.4606 - accuracy: 0.7739\n",
      "Epoch 22/50\n",
      "473/473 [==============================] - 0s 367us/step - loss: 0.4605 - accuracy: 0.7717\n",
      "Epoch 23/50\n",
      "473/473 [==============================] - 0s 367us/step - loss: 0.4616 - accuracy: 0.7701\n",
      "Epoch 24/50\n",
      "473/473 [==============================] - 0s 375us/step - loss: 0.4603 - accuracy: 0.7719\n",
      "Epoch 25/50\n",
      "473/473 [==============================] - 0s 369us/step - loss: 0.4621 - accuracy: 0.7728\n",
      "Epoch 26/50\n",
      "473/473 [==============================] - 0s 369us/step - loss: 0.4594 - accuracy: 0.7755\n",
      "Epoch 27/50\n",
      "473/473 [==============================] - 0s 367us/step - loss: 0.4594 - accuracy: 0.7718\n",
      "Epoch 28/50\n",
      "473/473 [==============================] - 0s 365us/step - loss: 0.4601 - accuracy: 0.7704\n",
      "Epoch 29/50\n",
      "473/473 [==============================] - 0s 367us/step - loss: 0.4609 - accuracy: 0.7739\n",
      "Epoch 30/50\n",
      "473/473 [==============================] - 0s 375us/step - loss: 0.4585 - accuracy: 0.7764\n",
      "Epoch 31/50\n",
      "473/473 [==============================] - 0s 373us/step - loss: 0.4609 - accuracy: 0.7714\n",
      "Epoch 32/50\n",
      "473/473 [==============================] - 0s 375us/step - loss: 0.4595 - accuracy: 0.7737\n",
      "Epoch 33/50\n",
      "473/473 [==============================] - 0s 371us/step - loss: 0.4568 - accuracy: 0.7737\n",
      "Epoch 34/50\n",
      "473/473 [==============================] - 0s 369us/step - loss: 0.4589 - accuracy: 0.7752\n",
      "Epoch 35/50\n",
      "473/473 [==============================] - 0s 369us/step - loss: 0.4583 - accuracy: 0.7749\n",
      "Epoch 36/50\n",
      "473/473 [==============================] - 0s 365us/step - loss: 0.4592 - accuracy: 0.7722\n",
      "Epoch 37/50\n",
      "473/473 [==============================] - 0s 365us/step - loss: 0.4564 - accuracy: 0.7772\n",
      "Epoch 38/50\n",
      "473/473 [==============================] - 0s 367us/step - loss: 0.4566 - accuracy: 0.7751\n",
      "Epoch 39/50\n",
      "473/473 [==============================] - 0s 371us/step - loss: 0.4562 - accuracy: 0.7745\n",
      "Epoch 40/50\n",
      "473/473 [==============================] - 0s 371us/step - loss: 0.4586 - accuracy: 0.7730\n",
      "Epoch 41/50\n",
      "473/473 [==============================] - 0s 369us/step - loss: 0.4574 - accuracy: 0.7727\n",
      "Epoch 42/50\n",
      "473/473 [==============================] - 0s 369us/step - loss: 0.4557 - accuracy: 0.7752\n",
      "Epoch 43/50\n",
      "473/473 [==============================] - 0s 374us/step - loss: 0.4549 - accuracy: 0.7758\n",
      "Epoch 44/50\n",
      "473/473 [==============================] - 0s 375us/step - loss: 0.4569 - accuracy: 0.7771\n",
      "Epoch 45/50\n",
      "473/473 [==============================] - 0s 377us/step - loss: 0.4584 - accuracy: 0.7716\n",
      "Epoch 46/50\n",
      "473/473 [==============================] - 0s 373us/step - loss: 0.4563 - accuracy: 0.7743\n",
      "Epoch 47/50\n",
      "473/473 [==============================] - 0s 369us/step - loss: 0.4571 - accuracy: 0.7745\n",
      "Epoch 48/50\n",
      "473/473 [==============================] - 0s 375us/step - loss: 0.4569 - accuracy: 0.7757\n",
      "Epoch 49/50\n",
      "473/473 [==============================] - 0s 377us/step - loss: 0.4547 - accuracy: 0.7763\n",
      "Epoch 50/50\n",
      "473/473 [==============================] - 0s 371us/step - loss: 0.4537 - accuracy: 0.7762\n"
     ]
    }
   ],
   "source": [
    "testresult = DL_NN_Classification(X_train, y_train, X_test, y_test, \n",
    "                         l1_act='relu', l2_act='relu', l3_act='softmax',\n",
    "                         layer1size=128, layer2size=64, layer3size=2,\n",
    "                         num_of_epochs=50)"
   ]
  },
  {
   "cell_type": "code",
   "execution_count": 34,
   "metadata": {},
   "outputs": [
    {
     "data": {
      "text/html": [
       "<div>\n",
       "<style scoped>\n",
       "    .dataframe tbody tr th:only-of-type {\n",
       "        vertical-align: middle;\n",
       "    }\n",
       "\n",
       "    .dataframe tbody tr th {\n",
       "        vertical-align: top;\n",
       "    }\n",
       "\n",
       "    .dataframe thead th {\n",
       "        text-align: right;\n",
       "    }\n",
       "</style>\n",
       "<table border=\"1\" class=\"dataframe\">\n",
       "  <thead>\n",
       "    <tr style=\"text-align: right;\">\n",
       "      <th></th>\n",
       "      <th>0</th>\n",
       "      <th>1</th>\n",
       "    </tr>\n",
       "  </thead>\n",
       "  <tbody>\n",
       "    <tr>\n",
       "      <th>0</th>\n",
       "      <td>2834</td>\n",
       "      <td>581</td>\n",
       "    </tr>\n",
       "    <tr>\n",
       "      <th>1</th>\n",
       "      <td>865</td>\n",
       "      <td>2204</td>\n",
       "    </tr>\n",
       "  </tbody>\n",
       "</table>\n",
       "</div>"
      ],
      "text/plain": [
       "      0     1\n",
       "0  2834   581\n",
       "1   865  2204"
      ]
     },
     "execution_count": 34,
     "metadata": {},
     "output_type": "execute_result"
    }
   ],
   "source": [
    "testresult['Performance']['confusion']"
   ]
  },
  {
   "cell_type": "code",
   "execution_count": 35,
   "metadata": {},
   "outputs": [
    {
     "data": {
      "text/plain": [
       "0.7769895126465145"
      ]
     },
     "execution_count": 35,
     "metadata": {},
     "output_type": "execute_result"
    }
   ],
   "source": [
    "testresult['Performance']['test_acc']"
   ]
  }
 ],
 "metadata": {
  "kernelspec": {
   "display_name": "Python 3",
   "language": "python",
   "name": "python3"
  },
  "language_info": {
   "codemirror_mode": {
    "name": "ipython",
    "version": 3
   },
   "file_extension": ".py",
   "mimetype": "text/x-python",
   "name": "python",
   "nbconvert_exporter": "python",
   "pygments_lexer": "ipython3",
   "version": "3.7.4"
  }
 },
 "nbformat": 4,
 "nbformat_minor": 4
}
