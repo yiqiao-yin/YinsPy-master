{
 "cells": [
  {
   "cell_type": "markdown",
   "metadata": {},
   "source": [
    "# STOCK PRICE FORECASTING USING LONG SHORT TERM MEMORY\n",
    "\n",
    "From previous [discussion](https://github.com/yiqiao-yin/YinsPy/blob/master/scripts/python_MM_LSTM_StockPriceForecast.ipynb), I have demonstrated step by step how to split price data taken from a selected stock into training set and testing set and then how to construct a Long Short Term Memory architecture with 4 hidden layers to build a data-driven and predictive machine learning algorithm.\n",
    "\n",
    "In this notebook, I will improve the algorithm by \n",
    "- allowing user to input his or her favorite stock\n",
    "- allowing user to change number of hidden neurons per layer \n",
    "- allowing user to optimize architecture by allowing user to change *optimizer* and *loss* functions\n",
    "\n",
    "Hence, I cover the following steps:\n",
    "- **Data Processing and Cleanup**\n",
    "- **Construct RNN**\n",
    "- **Train RNN**\n",
    "- **Predictions**\n",
    "- **Performance Visualization**\n",
    "- **Software Product / Product Management**"
   ]
  },
  {
   "cell_type": "markdown",
   "metadata": {},
   "source": [
    "### Data Processing and Cleanup"
   ]
  },
  {
   "cell_type": "code",
   "execution_count": 74,
   "metadata": {},
   "outputs": [],
   "source": [
    "from scipy import stats\n",
    "import pandas as pd\n",
    "import numpy as np\n",
    "import yfinance as yf\n",
    "import matplotlib.pyplot as plt"
   ]
  },
  {
   "cell_type": "code",
   "execution_count": 75,
   "metadata": {},
   "outputs": [],
   "source": [
    "# Define function\n",
    "def getDatafromYF(ticker, start_date, end_date):\n",
    "    stockData = yf.download(ticker, start_date, end_date)\n",
    "    return stockData\n",
    "# End function"
   ]
  },
  {
   "cell_type": "code",
   "execution_count": 76,
   "metadata": {},
   "outputs": [
    {
     "name": "stdout",
     "output_type": "stream",
     "text": [
      "[*********************100%***********************]  1 of 1 completed\n",
      "[*********************100%***********************]  1 of 1 completed\n"
     ]
    }
   ],
   "source": [
    "start_date = pd.to_datetime('2013-01-01')\n",
    "end_date = pd.to_datetime('2019-12-6')\n",
    "tickers = ['AAPL', 'SPY']\n",
    "\n",
    "# Start with Dictionary (this is where data is saved)\n",
    "stockData = {}\n",
    "for i in tickers:\n",
    "    stockData[i] = pd.DataFrame(getDatafromYF(str(i), start_date, end_date))\n",
    "    close = stockData[i]['Adj Close']\n",
    "    stockData[i]['Normalize Return'] = close / close.shift() - 1"
   ]
  },
  {
   "cell_type": "code",
   "execution_count": 77,
   "metadata": {},
   "outputs": [
    {
     "name": "stdout",
     "output_type": "stream",
     "text": [
      "                 Open       High        Low      Close  Adj Close     Volume  \\\n",
      "Date                                                                           \n",
      "2013-01-02  79.117142  79.285713  77.375717  78.432854  68.850548  140129500   \n",
      "2013-01-03  78.268570  78.524284  77.285713  77.442856  67.981491   88241300   \n",
      "\n",
      "            Normalize Return  \n",
      "Date                          \n",
      "2013-01-02               NaN  \n",
      "2013-01-03         -0.012622  \n",
      "                  Open        High         Low       Close   Adj Close  \\\n",
      "Date                                                                     \n",
      "2013-01-02  145.110001  146.149994  144.729996  146.059998  127.252228   \n",
      "2013-01-03  145.990005  146.369995  145.339996  145.729996  126.964752   \n",
      "\n",
      "               Volume  Normalize Return  \n",
      "Date                                     \n",
      "2013-01-02  192059000               NaN  \n",
      "2013-01-03  144761800         -0.002259  \n"
     ]
    }
   ],
   "source": [
    "# Take a look\n",
    "print(stockData[tickers[0]].head(2)) # this is desired stock\n",
    "print(stockData[tickers[1]].head(2)) # this is benchmark (in this case, it is S&P 500 SPDR Index Fund: SPY)"
   ]
  },
  {
   "cell_type": "code",
   "execution_count": 78,
   "metadata": {},
   "outputs": [],
   "source": [
    "# Feature Scaling\n",
    "from sklearn.preprocessing import MinMaxScaler"
   ]
  },
  {
   "cell_type": "code",
   "execution_count": 79,
   "metadata": {},
   "outputs": [
    {
     "data": {
      "text/plain": [
       "Date\n",
       "2013-01-02    68.850548\n",
       "2013-01-03    67.981491\n",
       "2013-01-04    66.087891\n",
       "Name: Adj Close, dtype: float64"
      ]
     },
     "execution_count": 79,
     "metadata": {},
     "output_type": "execute_result"
    }
   ],
   "source": [
    "stockData[tickers[0]].iloc[:, 4].head(3)"
   ]
  },
  {
   "cell_type": "code",
   "execution_count": 80,
   "metadata": {},
   "outputs": [],
   "source": [
    "data = stockData[tickers[0]].iloc[:, 4:5].values\n",
    "sc = MinMaxScaler(feature_range = (0, 1))\n",
    "scaled_dta = sc.fit_transform(data)\n",
    "scaled_dta = pd.DataFrame(scaled_dta)"
   ]
  },
  {
   "cell_type": "code",
   "execution_count": 81,
   "metadata": {},
   "outputs": [],
   "source": [
    "cutoff = 0.8"
   ]
  },
  {
   "cell_type": "code",
   "execution_count": 82,
   "metadata": {},
   "outputs": [],
   "source": [
    "training_set = scaled_dta.iloc[0:round(scaled_dta.shape[0] * cutoff), :]\n",
    "testing_set = scaled_dta.iloc[round(cutoff * scaled_dta.shape[0] + 1):scaled_dta.shape[0], :]"
   ]
  },
  {
   "cell_type": "code",
   "execution_count": 84,
   "metadata": {},
   "outputs": [
    {
     "name": "stdout",
     "output_type": "stream",
     "text": [
      "(1397, 1) (348, 1)\n"
     ]
    }
   ],
   "source": [
    "print(training_set.shape, testing_set.shape)"
   ]
  },
  {
   "cell_type": "code",
   "execution_count": 100,
   "metadata": {},
   "outputs": [
    {
     "name": "stdout",
     "output_type": "stream",
     "text": [
      "(1297, 100) (1297,)\n",
      "(1297, 100, 1)\n"
     ]
    }
   ],
   "source": [
    "X_train = []\n",
    "y_train = []\n",
    "\n",
    "for i in range(100, training_set.shape[0]):\n",
    "    X_train.append(np.array(training_set)[i-100:i, 0])\n",
    "    y_train.append(np.array(training_set)[i, 0])\n",
    "\n",
    "X_train, y_train = np.array(X_train), np.array(y_train)\n",
    "\n",
    "print(X_train.shape, y_train.shape)\n",
    "\n",
    "X_train = np.reshape(X_train, (X_train.shape[0], X_train.shape[1], 1))\n",
    "print(X_train.shape)"
   ]
  },
  {
   "cell_type": "code",
   "execution_count": 101,
   "metadata": {},
   "outputs": [
    {
     "name": "stdout",
     "output_type": "stream",
     "text": [
      "(248, 100) (248,)\n",
      "(248, 100, 1)\n"
     ]
    }
   ],
   "source": [
    "X_test = []\n",
    "y_test = []\n",
    "\n",
    "for i in range(100, testing_set.shape[0]):\n",
    "    X_test.append(np.array(testing_set)[i-100:i, 0])\n",
    "    y_test.append(np.array(testing_set)[i, 0])\n",
    "\n",
    "X_test, y_test = np.array(X_test), np.array(y_test)\n",
    "\n",
    "print(X_test.shape, y_test.shape)\n",
    "\n",
    "X_test = np.reshape(X_test, (X_test.shape[0], X_test.shape[1], 1))\n",
    "print(X_test.shape)"
   ]
  },
  {
   "cell_type": "markdown",
   "metadata": {},
   "source": [
    "### Build RNN"
   ]
  },
  {
   "cell_type": "code",
   "execution_count": 102,
   "metadata": {},
   "outputs": [
    {
     "name": "stderr",
     "output_type": "stream",
     "text": [
      "C:\\Users\\eagle\\Anaconda3\\lib\\site-packages\\h5py\\__init__.py:36: FutureWarning: Conversion of the second argument of issubdtype from `float` to `np.floating` is deprecated. In future, it will be treated as `np.float64 == np.dtype(float).type`.\n",
      "  from ._conv import register_converters as _register_converters\n",
      "Using TensorFlow backend.\n"
     ]
    }
   ],
   "source": [
    "# Importing the Keras libraries and packages\n",
    "from keras.models import Sequential\n",
    "from keras.layers import Dense\n",
    "from keras.layers import LSTM\n",
    "from keras.layers import Dropout"
   ]
  },
  {
   "cell_type": "code",
   "execution_count": 103,
   "metadata": {},
   "outputs": [],
   "source": [
    "# Initialize RNN\n",
    "regressor = Sequential()"
   ]
  },
  {
   "cell_type": "code",
   "execution_count": 104,
   "metadata": {},
   "outputs": [],
   "source": [
    "# Adding the first LSTM layer and some Dropout regularisation\n",
    "regressor.add(LSTM(units = 50, return_sequences = True, input_shape = (X_train.shape[1], 1)))\n",
    "regressor.add(Dropout(0.2))"
   ]
  },
  {
   "cell_type": "code",
   "execution_count": 105,
   "metadata": {},
   "outputs": [],
   "source": [
    "# Adding a second LSTM layer and some Dropout regularisation\n",
    "regressor.add(LSTM(units = 50, return_sequences = True))\n",
    "regressor.add(Dropout(0.2))"
   ]
  },
  {
   "cell_type": "code",
   "execution_count": 106,
   "metadata": {},
   "outputs": [],
   "source": [
    "# Adding a third LSTM layer and some Dropout regularisation\n",
    "regressor.add(LSTM(units = 50, return_sequences = True))\n",
    "regressor.add(Dropout(0.2))"
   ]
  },
  {
   "cell_type": "code",
   "execution_count": 107,
   "metadata": {},
   "outputs": [],
   "source": [
    "# Adding a fourth LSTM layer and some Dropout regularisation\n",
    "regressor.add(LSTM(units = 50))\n",
    "regressor.add(Dropout(0.2))"
   ]
  },
  {
   "cell_type": "code",
   "execution_count": 108,
   "metadata": {},
   "outputs": [],
   "source": [
    "# Adding the output layer\n",
    "regressor.add(Dense(units = 1))"
   ]
  },
  {
   "cell_type": "code",
   "execution_count": 109,
   "metadata": {},
   "outputs": [
    {
     "name": "stdout",
     "output_type": "stream",
     "text": [
      "Model: \"sequential_1\"\n",
      "_________________________________________________________________\n",
      "Layer (type)                 Output Shape              Param #   \n",
      "=================================================================\n",
      "lstm_1 (LSTM)                (None, 100, 50)           10400     \n",
      "_________________________________________________________________\n",
      "dropout_1 (Dropout)          (None, 100, 50)           0         \n",
      "_________________________________________________________________\n",
      "lstm_2 (LSTM)                (None, 100, 50)           20200     \n",
      "_________________________________________________________________\n",
      "dropout_2 (Dropout)          (None, 100, 50)           0         \n",
      "_________________________________________________________________\n",
      "lstm_3 (LSTM)                (None, 100, 50)           20200     \n",
      "_________________________________________________________________\n",
      "dropout_3 (Dropout)          (None, 100, 50)           0         \n",
      "_________________________________________________________________\n",
      "lstm_4 (LSTM)                (None, 50)                20200     \n",
      "_________________________________________________________________\n",
      "dropout_4 (Dropout)          (None, 50)                0         \n",
      "_________________________________________________________________\n",
      "dense_1 (Dense)              (None, 1)                 51        \n",
      "=================================================================\n",
      "Total params: 71,051\n",
      "Trainable params: 71,051\n",
      "Non-trainable params: 0\n",
      "_________________________________________________________________\n"
     ]
    }
   ],
   "source": [
    "regressor.summary()"
   ]
  },
  {
   "cell_type": "markdown",
   "metadata": {},
   "source": [
    "### Train RNN"
   ]
  },
  {
   "cell_type": "code",
   "execution_count": 110,
   "metadata": {},
   "outputs": [],
   "source": [
    "# Compiling the RNN\n",
    "regressor.compile(optimizer = 'adam', loss = 'mean_squared_error')"
   ]
  },
  {
   "cell_type": "code",
   "execution_count": 111,
   "metadata": {},
   "outputs": [
    {
     "name": "stdout",
     "output_type": "stream",
     "text": [
      "Epoch 1/50\n",
      "1297/1297 [==============================] - 5s 4ms/step - loss: 0.0203\n",
      "Epoch 2/50\n",
      "1297/1297 [==============================] - 3s 3ms/step - loss: 0.0031\n",
      "Epoch 3/50\n",
      "1297/1297 [==============================] - 3s 3ms/step - loss: 0.0022\n",
      "Epoch 4/50\n",
      "1297/1297 [==============================] - 3s 3ms/step - loss: 0.0019\n",
      "Epoch 5/50\n",
      "1297/1297 [==============================] - 3s 3ms/step - loss: 0.0018\n",
      "Epoch 6/50\n",
      "1297/1297 [==============================] - 3s 3ms/step - loss: 0.0016\n",
      "Epoch 7/50\n",
      "1297/1297 [==============================] - 3s 2ms/step - loss: 0.0016\n",
      "Epoch 8/50\n",
      "1297/1297 [==============================] - 3s 3ms/step - loss: 0.0016\n",
      "Epoch 9/50\n",
      "1297/1297 [==============================] - 3s 3ms/step - loss: 0.0016\n",
      "Epoch 10/50\n",
      "1297/1297 [==============================] - 3s 3ms/step - loss: 0.0017\n",
      "Epoch 11/50\n",
      "1297/1297 [==============================] - 3s 2ms/step - loss: 0.0014\n",
      "Epoch 12/50\n",
      "1297/1297 [==============================] - 3s 3ms/step - loss: 0.0014\n",
      "Epoch 13/50\n",
      "1297/1297 [==============================] - 3s 3ms/step - loss: 0.0013\n",
      "Epoch 14/50\n",
      "1297/1297 [==============================] - 3s 3ms/step - loss: 0.0012\n",
      "Epoch 15/50\n",
      "1297/1297 [==============================] - 4s 3ms/step - loss: 0.0014\n",
      "Epoch 16/50\n",
      "1297/1297 [==============================] - 3s 3ms/step - loss: 0.0012\n",
      "Epoch 17/50\n",
      "1297/1297 [==============================] - 3s 3ms/step - loss: 0.0013\n",
      "Epoch 18/50\n",
      "1297/1297 [==============================] - 3s 3ms/step - loss: 0.0014\n",
      "Epoch 19/50\n",
      "1297/1297 [==============================] - 3s 3ms/step - loss: 0.0013\n",
      "Epoch 20/50\n",
      "1297/1297 [==============================] - 4s 3ms/step - loss: 0.0012\n",
      "Epoch 21/50\n",
      "1297/1297 [==============================] - 4s 3ms/step - loss: 0.0013\n",
      "Epoch 22/50\n",
      "1297/1297 [==============================] - 4s 3ms/step - loss: 0.0012\n",
      "Epoch 23/50\n",
      "1297/1297 [==============================] - 4s 3ms/step - loss: 0.0012\n",
      "Epoch 24/50\n",
      "1297/1297 [==============================] - 4s 3ms/step - loss: 0.0012\n",
      "Epoch 25/50\n",
      "1297/1297 [==============================] - 4s 3ms/step - loss: 0.0013\n",
      "Epoch 26/50\n",
      "1297/1297 [==============================] - 4s 3ms/step - loss: 0.0010\n",
      "Epoch 27/50\n",
      "1297/1297 [==============================] - 3s 3ms/step - loss: 0.0012\n",
      "Epoch 28/50\n",
      "1297/1297 [==============================] - 4s 3ms/step - loss: 0.0012\n",
      "Epoch 29/50\n",
      "1297/1297 [==============================] - 4s 3ms/step - loss: 0.0012\n",
      "Epoch 30/50\n",
      "1297/1297 [==============================] - 4s 3ms/step - loss: 0.0011\n",
      "Epoch 31/50\n",
      "1297/1297 [==============================] - 3s 3ms/step - loss: 0.0010\n",
      "Epoch 32/50\n",
      "1297/1297 [==============================] - 4s 3ms/step - loss: 9.4538e-04\n",
      "Epoch 33/50\n",
      "1297/1297 [==============================] - 4s 3ms/step - loss: 0.0010\n",
      "Epoch 34/50\n",
      "1297/1297 [==============================] - 4s 3ms/step - loss: 8.6393e-04\n",
      "Epoch 35/50\n",
      "1297/1297 [==============================] - 3s 3ms/step - loss: 9.1568e-04\n",
      "Epoch 36/50\n",
      "1297/1297 [==============================] - 3s 3ms/step - loss: 9.3206e-04\n",
      "Epoch 37/50\n",
      "1297/1297 [==============================] - 3s 3ms/step - loss: 8.1823e-04\n",
      "Epoch 38/50\n",
      "1297/1297 [==============================] - 3s 3ms/step - loss: 9.5851e-04\n",
      "Epoch 39/50\n",
      "1297/1297 [==============================] - 3s 2ms/step - loss: 9.4439e-04\n",
      "Epoch 40/50\n",
      "1297/1297 [==============================] - 3s 3ms/step - loss: 9.3248e-04\n",
      "Epoch 41/50\n",
      "1297/1297 [==============================] - 3s 3ms/step - loss: 8.4056e-04\n",
      "Epoch 42/50\n",
      "1297/1297 [==============================] - 3s 3ms/step - loss: 8.2935e-04\n",
      "Epoch 43/50\n",
      "1297/1297 [==============================] - 3s 2ms/step - loss: 8.6927e-04\n",
      "Epoch 44/50\n",
      "1297/1297 [==============================] - 3s 3ms/step - loss: 8.2198e-04\n",
      "Epoch 45/50\n",
      "1297/1297 [==============================] - 3s 3ms/step - loss: 7.4717e-04\n",
      "Epoch 46/50\n",
      "1297/1297 [==============================] - 3s 3ms/step - loss: 8.9243e-04\n",
      "Epoch 47/50\n",
      "1297/1297 [==============================] - 3s 2ms/step - loss: 8.0768e-04\n",
      "Epoch 48/50\n",
      "1297/1297 [==============================] - 3s 3ms/step - loss: 8.4981e-04\n",
      "Epoch 49/50\n",
      "1297/1297 [==============================] - 4s 3ms/step - loss: 7.9366e-04\n",
      "Epoch 50/50\n",
      "1297/1297 [==============================] - 4s 3ms/step - loss: 7.8207e-04\n"
     ]
    },
    {
     "data": {
      "text/plain": [
       "<keras.callbacks.callbacks.History at 0x2619229ed68>"
      ]
     },
     "execution_count": 111,
     "metadata": {},
     "output_type": "execute_result"
    }
   ],
   "source": [
    "# Fitting the RNN to the Training set\n",
    "regressor.fit(X_train, y_train, epochs = 50, batch_size = 64)"
   ]
  },
  {
   "cell_type": "markdown",
   "metadata": {},
   "source": [
    "### Predictions"
   ]
  },
  {
   "cell_type": "code",
   "execution_count": 124,
   "metadata": {},
   "outputs": [],
   "source": [
    "predicted_stock_price = regressor.predict(X_test)\n",
    "predicted_stock_price = sc.inverse_transform(predicted_stock_price)"
   ]
  },
  {
   "cell_type": "code",
   "execution_count": 134,
   "metadata": {},
   "outputs": [],
   "source": [
    "real_stock_price = np.reshape(y_test, (y_test.shape[0], 1))\n",
    "real_stock_price = sc.inverse_transform(real_stock_price)"
   ]
  },
  {
   "cell_type": "markdown",
   "metadata": {},
   "source": [
    "### Performance Visualization"
   ]
  },
  {
   "cell_type": "code",
   "execution_count": 135,
   "metadata": {},
   "outputs": [
    {
     "data": {
      "image/png": "[encoded data removed]",
      "text/plain": [
       "<Figure size 432x288 with 1 Axes>"
      ]
     },
     "metadata": {},
     "output_type": "display_data"
    }
   ],
   "source": [
    "# Visualising the results\n",
    "import matplotlib.pyplot as plt\n",
    "plt.plot(real_stock_price, color = 'red', label = f'Real {tickers[0]} Stock Price')\n",
    "plt.plot(predicted_stock_price, color = 'blue', label = f'Predicted {tickers[0]} Stock Price')\n",
    "plt.title(f'{tickers[0]} Stock Price Prediction')\n",
    "plt.xlabel('Time')\n",
    "plt.ylabel(f'{tickers[0]} Stock Price')\n",
    "plt.legend()\n",
    "plt.show()"
   ]
  },
  {
   "cell_type": "markdown",
   "metadata": {},
   "source": [
    "One can observe that the predicted path (blue line) is very much like the shape of the real stock price (red line)."
   ]
  },
  {
   "cell_type": "code",
   "execution_count": 136,
   "metadata": {},
   "outputs": [],
   "source": [
    "import math\n",
    "from sklearn.metrics import mean_squared_error"
   ]
  },
  {
   "cell_type": "code",
   "execution_count": 140,
   "metadata": {},
   "outputs": [
    {
     "name": "stdout",
     "output_type": "stream",
     "text": [
      "Root Mean Square Error is 10.68 for test set.\n",
      "Interpretation: ---------------\n",
      "On the test set, the performance of this LSTM architecture guesses \n",
      "AAPL stock price on average within the error of $10.68 dollars.\n"
     ]
    }
   ],
   "source": [
    "rmse = np.sqrt(mean_squared_error(real_stock_price, predicted_stock_price))\n",
    "print(f'Root Mean Square Error is {round(rmse,2)} for test set.')\n",
    "print(f'Interpretation: ---------------')\n",
    "print(f'On the test set, the performance of this LSTM architecture guesses ')\n",
    "print(f'{tickers[0]} stock price on average within the error of ${round(rmse,2)} dollars.')"
   ]
  },
  {
   "cell_type": "markdown",
   "metadata": {},
   "source": [
    "### Software Product"
   ]
  },
  {
   "cell_type": "code",
   "execution_count": 149,
   "metadata": {},
   "outputs": [],
   "source": [
    "# Define Function\n",
    "def RNN4_Regressor(\n",
    "    start_date = pd.to_datetime('2013-01-01'),\n",
    "    end_date   = pd.to_datetime('2019-12-6'),\n",
    "    tickers    = ['AAPL', 'SPY'], cutoff = 0.8,\n",
    "    l1_units = 50, l2_units = 50, l3_units = 50, l4_units = 50,\n",
    "    optimizer = 'adam', loss = 'mean_squared_error',\n",
    "    epochs = 50, batch_size = 64,\n",
    "    plotGraph = True,\n",
    "    verbatim = True\n",
    "):\n",
    "    # Initiate Environment\n",
    "    from scipy import stats\n",
    "    import pandas as pd\n",
    "    import numpy as np\n",
    "    import yfinance as yf\n",
    "    import matplotlib.pyplot as plt\n",
    "\n",
    "    # Define function\n",
    "    def getDatafromYF(ticker, start_date, end_date):\n",
    "        stockData = yf.download(ticker, start_date, end_date)\n",
    "        return stockData\n",
    "    # End function\n",
    "\n",
    "    # Start with Dictionary (this is where data is saved)\n",
    "    stockData = {}\n",
    "    for i in tickers:\n",
    "        stockData[i] = pd.DataFrame(getDatafromYF(str(i), start_date, end_date))\n",
    "        close = stockData[i]['Adj Close']\n",
    "        stockData[i]['Normalize Return'] = close / close.shift() - 1\n",
    "\n",
    "    # Take a look\n",
    "    # print(stockData[tickers[0]].head(2)) # this is desired stock\n",
    "    # print(stockData[tickers[1]].head(2)) # this is benchmark (in this case, it is S&P 500 SPDR Index Fund: SPY)\n",
    "\n",
    "    # Feature Scaling\n",
    "    from sklearn.preprocessing import MinMaxScaler\n",
    "\n",
    "    stockData[tickers[0]].iloc[:, 4].head(3)\n",
    "\n",
    "    data = stockData[tickers[0]].iloc[:, 4:5].values\n",
    "    sc = MinMaxScaler(feature_range = (0, 1))\n",
    "    scaled_dta = sc.fit_transform(data)\n",
    "    scaled_dta = pd.DataFrame(scaled_dta)\n",
    "\n",
    "    training_set = scaled_dta.iloc[0:round(scaled_dta.shape[0] * cutoff), :]\n",
    "    testing_set = scaled_dta.iloc[round(cutoff * scaled_dta.shape[0] + 1):scaled_dta.shape[0], :]\n",
    "\n",
    "    # print(training_set.shape, testing_set.shape)\n",
    "\n",
    "    X_train = []\n",
    "    y_train = []\n",
    "\n",
    "    for i in range(100, training_set.shape[0]):\n",
    "        X_train.append(np.array(training_set)[i-100:i, 0])\n",
    "        y_train.append(np.array(training_set)[i, 0])\n",
    "\n",
    "    X_train, y_train = np.array(X_train), np.array(y_train)\n",
    "\n",
    "    print(X_train.shape, y_train.shape)\n",
    "\n",
    "    X_train = np.reshape(X_train, (X_train.shape[0], X_train.shape[1], 1))\n",
    "    print(X_train.shape)\n",
    "\n",
    "    X_test = []\n",
    "    y_test = []\n",
    "\n",
    "    for i in range(100, testing_set.shape[0]):\n",
    "        X_test.append(np.array(testing_set)[i-100:i, 0])\n",
    "        y_test.append(np.array(testing_set)[i, 0])\n",
    "\n",
    "    X_test, y_test = np.array(X_test), np.array(y_test)\n",
    "\n",
    "    print(X_test.shape, y_test.shape)\n",
    "\n",
    "    X_test = np.reshape(X_test, (X_test.shape[0], X_test.shape[1], 1))\n",
    "    print(X_test.shape)\n",
    "\n",
    "    ### Build RNN\n",
    "\n",
    "    # Importing the Keras libraries and packages\n",
    "    from keras.models import Sequential\n",
    "    from keras.layers import Dense\n",
    "    from keras.layers import LSTM\n",
    "    from keras.layers import Dropout\n",
    "\n",
    "    # Initialize RNN\n",
    "    regressor = Sequential()\n",
    "\n",
    "    # Adding the first LSTM layer and some Dropout regularisation\n",
    "    regressor.add(LSTM(units = l1_units, return_sequences = True, input_shape = (X_train.shape[1], 1)))\n",
    "    regressor.add(Dropout(0.2))\n",
    "\n",
    "    # Adding a second LSTM layer and some Dropout regularisation\n",
    "    regressor.add(LSTM(units = l2_units, return_sequences = True))\n",
    "    regressor.add(Dropout(0.2))\n",
    "\n",
    "    # Adding a third LSTM layer and some Dropout regularisation\n",
    "    regressor.add(LSTM(units = l3_units, return_sequences = True))\n",
    "    regressor.add(Dropout(0.2))\n",
    "\n",
    "    # Adding a fourth LSTM layer and some Dropout regularisation\n",
    "    regressor.add(LSTM(units = l4_units))\n",
    "    regressor.add(Dropout(0.2))\n",
    "\n",
    "    # Adding the output layer\n",
    "    regressor.add(Dense(units = 1))\n",
    "\n",
    "    regressor.summary()\n",
    "\n",
    "    ### Train RNN\n",
    "\n",
    "    # Compiling the RNN\n",
    "    regressor.compile(optimizer = optimizer, loss = loss)\n",
    "\n",
    "    # Fitting the RNN to the Training set\n",
    "    regressor.fit(X_train, y_train, epochs = epochs, batch_size = batch_size)\n",
    "\n",
    "    ### Predictions\n",
    "\n",
    "    predicted_stock_price = regressor.predict(X_test)\n",
    "    predicted_stock_price = sc.inverse_transform(predicted_stock_price)\n",
    "\n",
    "    real_stock_price = np.reshape(y_test, (y_test.shape[0], 1))\n",
    "    real_stock_price = sc.inverse_transform(real_stock_price)\n",
    "\n",
    "    ### Performance Visualization\n",
    "\n",
    "    # Visualising the results\n",
    "    import matplotlib.pyplot as plt\n",
    "    if plotGraph:\n",
    "        plt.plot(real_stock_price, color = 'red', label = f'Real {tickers[0]} Stock Price')\n",
    "        plt.plot(predicted_stock_price, color = 'blue', label = f'Predicted {tickers[0]} Stock Price')\n",
    "        plt.title(f'{tickers[0]} Stock Price Prediction')\n",
    "        plt.xlabel('Time')\n",
    "        plt.ylabel(f'{tickers[0]} Stock Price')\n",
    "        plt.legend()\n",
    "        plt.show()\n",
    "\n",
    "    import math\n",
    "    from sklearn.metrics import mean_squared_error\n",
    "    rmse = np.sqrt(mean_squared_error(real_stock_price, predicted_stock_price))\n",
    "    if verbatim:\n",
    "        print(f'Root Mean Square Error is {round(rmse,2)} for test set.')\n",
    "        print(f'Interpretation: ---------------')\n",
    "        print(f'On the test set, the performance of this LSTM architecture guesses ')\n",
    "        print(f'{tickers[0]} stock price on average within the error of ${round(rmse,2)} dollars.')\n",
    "    \n",
    "    # Output\n",
    "    return {\n",
    "        'Information': [training_set.shape, testing_set.shape],\n",
    "        'Data': [X_train, y_train, X_test, y_test],\n",
    "        'Test Response': [predicted_stock_price, real_stock_price],\n",
    "        'Test Error': rmse\n",
    "    }\n",
    "# End function"
   ]
  },
  {
   "cell_type": "code",
   "execution_count": 148,
   "metadata": {},
   "outputs": [
    {
     "name": "stdout",
     "output_type": "stream",
     "text": [
      "[*********************100%***********************]  1 of 1 completed\n",
      "(1297, 100) (1297,)\n",
      "(1297, 100, 1)\n",
      "(248, 100) (248,)\n",
      "(248, 100, 1)\n",
      "Model: \"sequential_2\"\n",
      "_________________________________________________________________\n",
      "Layer (type)                 Output Shape              Param #   \n",
      "=================================================================\n",
      "lstm_5 (LSTM)                (None, 100, 50)           10400     \n",
      "_________________________________________________________________\n",
      "dropout_5 (Dropout)          (None, 100, 50)           0         \n",
      "_________________________________________________________________\n",
      "lstm_6 (LSTM)                (None, 100, 50)           20200     \n",
      "_________________________________________________________________\n",
      "dropout_6 (Dropout)          (None, 100, 50)           0         \n",
      "_________________________________________________________________\n",
      "lstm_7 (LSTM)                (None, 100, 50)           20200     \n",
      "_________________________________________________________________\n",
      "dropout_7 (Dropout)          (None, 100, 50)           0         \n",
      "_________________________________________________________________\n",
      "lstm_8 (LSTM)                (None, 50)                20200     \n",
      "_________________________________________________________________\n",
      "dropout_8 (Dropout)          (None, 50)                0         \n",
      "_________________________________________________________________\n",
      "dense_2 (Dense)              (None, 1)                 51        \n",
      "=================================================================\n",
      "Total params: 71,051\n",
      "Trainable params: 71,051\n",
      "Non-trainable params: 0\n",
      "_________________________________________________________________\n",
      "Epoch 1/50\n",
      "1297/1297 [==============================] - 5s 4ms/step - loss: 0.0166\n",
      "Epoch 2/50\n",
      "1297/1297 [==============================] - 3s 3ms/step - loss: 0.0033\n",
      "Epoch 3/50\n",
      "1297/1297 [==============================] - 3s 3ms/step - loss: 0.0021\n",
      "Epoch 4/50\n",
      "1297/1297 [==============================] - 3s 2ms/step - loss: 0.0016\n",
      "Epoch 5/50\n",
      "1297/1297 [==============================] - 3s 2ms/step - loss: 0.0015\n",
      "Epoch 6/50\n",
      "1297/1297 [==============================] - 3s 2ms/step - loss: 0.0016\n",
      "Epoch 7/50\n",
      "1297/1297 [==============================] - 3s 2ms/step - loss: 0.0015\n",
      "Epoch 8/50\n",
      "1297/1297 [==============================] - 3s 2ms/step - loss: 0.0015\n",
      "Epoch 9/50\n",
      "1297/1297 [==============================] - 3s 2ms/step - loss: 0.0014\n",
      "Epoch 10/50\n",
      "1297/1297 [==============================] - 3s 3ms/step - loss: 0.0015\n",
      "Epoch 11/50\n",
      "1297/1297 [==============================] - 3s 3ms/step - loss: 0.0013\n",
      "Epoch 12/50\n",
      "1297/1297 [==============================] - 3s 3ms/step - loss: 0.0015\n",
      "Epoch 13/50\n",
      "1297/1297 [==============================] - 3s 3ms/step - loss: 0.0013\n",
      "Epoch 14/50\n",
      "1297/1297 [==============================] - 3s 2ms/step - loss: 0.0014\n",
      "Epoch 15/50\n",
      "1297/1297 [==============================] - 3s 3ms/step - loss: 0.0013\n",
      "Epoch 16/50\n",
      "1297/1297 [==============================] - 3s 2ms/step - loss: 0.0011\n",
      "Epoch 17/50\n",
      "1297/1297 [==============================] - 3s 2ms/step - loss: 0.0012\n",
      "Epoch 18/50\n",
      "1297/1297 [==============================] - 3s 2ms/step - loss: 0.0012\n",
      "Epoch 19/50\n",
      "1297/1297 [==============================] - 3s 2ms/step - loss: 0.0014\n",
      "Epoch 20/50\n",
      "1297/1297 [==============================] - 4s 3ms/step - loss: 0.0013\n",
      "Epoch 21/50\n",
      "1297/1297 [==============================] - 3s 3ms/step - loss: 0.0012\n",
      "Epoch 22/50\n",
      "1297/1297 [==============================] - 3s 3ms/step - loss: 0.0013\n",
      "Epoch 23/50\n",
      "1297/1297 [==============================] - 3s 3ms/step - loss: 0.0013\n",
      "Epoch 24/50\n",
      "1297/1297 [==============================] - 3s 3ms/step - loss: 0.0011\n",
      "Epoch 25/50\n",
      "1297/1297 [==============================] - 4s 3ms/step - loss: 0.0011\n",
      "Epoch 26/50\n",
      "1297/1297 [==============================] - 4s 3ms/step - loss: 0.0010\n",
      "Epoch 27/50\n",
      "1297/1297 [==============================] - 4s 3ms/step - loss: 0.0015\n",
      "Epoch 28/50\n",
      "1297/1297 [==============================] - 4s 3ms/step - loss: 0.0012\n",
      "Epoch 29/50\n",
      "1297/1297 [==============================] - 4s 3ms/step - loss: 9.6989e-04\n",
      "Epoch 30/50\n",
      "1297/1297 [==============================] - 4s 3ms/step - loss: 9.5090e-04\n",
      "Epoch 31/50\n",
      "1297/1297 [==============================] - 4s 3ms/step - loss: 0.0010\n",
      "Epoch 32/50\n",
      "1297/1297 [==============================] - 4s 3ms/step - loss: 9.3884e-04\n",
      "Epoch 33/50\n",
      "1297/1297 [==============================] - 4s 3ms/step - loss: 9.5129e-04\n",
      "Epoch 34/50\n",
      "1297/1297 [==============================] - 4s 3ms/step - loss: 9.2778e-04\n",
      "Epoch 35/50\n",
      "1297/1297 [==============================] - 4s 3ms/step - loss: 9.3210e-04\n",
      "Epoch 36/50\n",
      "1297/1297 [==============================] - 3s 3ms/step - loss: 9.1740e-04\n",
      "Epoch 37/50\n",
      "1297/1297 [==============================] - 4s 3ms/step - loss: 0.0011\n",
      "Epoch 38/50\n",
      "1297/1297 [==============================] - 3s 3ms/step - loss: 0.0011\n",
      "Epoch 39/50\n",
      "1297/1297 [==============================] - 3s 3ms/step - loss: 9.2335e-04\n",
      "Epoch 40/50\n",
      "1297/1297 [==============================] - 4s 3ms/step - loss: 9.3589e-04\n",
      "Epoch 41/50\n",
      "1297/1297 [==============================] - 4s 3ms/step - loss: 9.0641e-04\n",
      "Epoch 42/50\n",
      "1297/1297 [==============================] - 4s 3ms/step - loss: 8.0280e-04\n",
      "Epoch 43/50\n",
      "1297/1297 [==============================] - 4s 3ms/step - loss: 8.1335e-04\n",
      "Epoch 44/50\n",
      "1297/1297 [==============================] - 4s 3ms/step - loss: 7.9276e-04\n",
      "Epoch 45/50\n",
      "1297/1297 [==============================] - 4s 3ms/step - loss: 8.9739e-04\n",
      "Epoch 46/50\n",
      "1297/1297 [==============================] - 3s 3ms/step - loss: 8.9030e-04\n",
      "Epoch 47/50\n",
      "1297/1297 [==============================] - 4s 3ms/step - loss: 8.1617e-04\n",
      "Epoch 48/50\n",
      "1297/1297 [==============================] - 4s 3ms/step - loss: 7.9643e-04\n",
      "Epoch 49/50\n",
      "1297/1297 [==============================] - 4s 3ms/step - loss: 9.4377e-04\n",
      "Epoch 50/50\n",
      "1297/1297 [==============================] - 4s 3ms/step - loss: 8.3118e-04\n"
     ]
    },
    {
     "data": {
      "image/png": "[encoded data removed]",
      "text/plain": [
       "<Figure size 432x288 with 1 Axes>"
      ]
     },
     "metadata": {},
     "output_type": "display_data"
    },
    {
     "name": "stdout",
     "output_type": "stream",
     "text": [
      "Root Mean Square Error is 8.36 for test set.\n",
      "Interpretation: ---------------\n",
      "On the test set, the performance of this LSTM architecture guesses \n",
      "AAPL stock price on average within the error of $8.36 dollars.\n"
     ]
    }
   ],
   "source": [
    "# Test Run\n",
    "tmp = RNN3_Regressor(\n",
    "    start_date = pd.to_datetime('2013-01-01'),\n",
    "    end_date   = pd.to_datetime('2019-12-6'),\n",
    "    tickers    = ['AAPL'], cutoff = 0.8,\n",
    "    l1_units = 50, l2_units = 50, l3_units = 50, l4_units = 50,\n",
    "    optimizer = 'adam', loss = 'mean_squared_error',\n",
    "    plotGraph = True,\n",
    "    verbatim = True )"
   ]
  },
  {
   "cell_type": "markdown",
   "metadata": {},
   "source": [
    "### Load Functions from Package\n",
    "\n",
    "The above function can be predefined in a *.py* script. I already did that and we can load the script and call the function."
   ]
  },
  {
   "cell_type": "code",
   "execution_count": 155,
   "metadata": {},
   "outputs": [],
   "source": [
    "%run \"../scripts/YinsDL.py\""
   ]
  },
  {
   "cell_type": "code",
   "execution_count": 157,
   "metadata": {},
   "outputs": [
    {
     "name": "stdout",
     "output_type": "stream",
     "text": [
      "[*********************100%***********************]  1 of 1 completed\n",
      "(1297, 100) (1297,)\n",
      "(1297, 100, 1)\n",
      "(248, 100) (248,)\n",
      "(248, 100, 1)\n",
      "Model: \"sequential_4\"\n",
      "_________________________________________________________________\n",
      "Layer (type)                 Output Shape              Param #   \n",
      "=================================================================\n",
      "lstm_13 (LSTM)               (None, 100, 50)           10400     \n",
      "_________________________________________________________________\n",
      "dropout_13 (Dropout)         (None, 100, 50)           0         \n",
      "_________________________________________________________________\n",
      "lstm_14 (LSTM)               (None, 100, 50)           20200     \n",
      "_________________________________________________________________\n",
      "dropout_14 (Dropout)         (None, 100, 50)           0         \n",
      "_________________________________________________________________\n",
      "lstm_15 (LSTM)               (None, 100, 50)           20200     \n",
      "_________________________________________________________________\n",
      "dropout_15 (Dropout)         (None, 100, 50)           0         \n",
      "_________________________________________________________________\n",
      "lstm_16 (LSTM)               (None, 50)                20200     \n",
      "_________________________________________________________________\n",
      "dropout_16 (Dropout)         (None, 50)                0         \n",
      "_________________________________________________________________\n",
      "dense_4 (Dense)              (None, 1)                 51        \n",
      "=================================================================\n",
      "Total params: 71,051\n",
      "Trainable params: 71,051\n",
      "Non-trainable params: 0\n",
      "_________________________________________________________________\n",
      "Epoch 1/30\n",
      "1297/1297 [==============================] - 6s 5ms/step - loss: 0.0482\n",
      "Epoch 2/30\n",
      "1297/1297 [==============================] - 5s 4ms/step - loss: 0.0064\n",
      "Epoch 3/30\n",
      "1297/1297 [==============================] - 5s 4ms/step - loss: 0.0041\n",
      "Epoch 4/30\n",
      "1297/1297 [==============================] - 5s 4ms/step - loss: 0.0037\n",
      "Epoch 5/30\n",
      "1297/1297 [==============================] - 6s 4ms/step - loss: 0.0036\n",
      "Epoch 6/30\n",
      "1297/1297 [==============================] - 5s 4ms/step - loss: 0.0036\n",
      "Epoch 7/30\n",
      "1297/1297 [==============================] - 6s 5ms/step - loss: 0.0029\n",
      "Epoch 8/30\n",
      "1297/1297 [==============================] - 5s 4ms/step - loss: 0.0027\n",
      "Epoch 9/30\n",
      "1297/1297 [==============================] - 5s 4ms/step - loss: 0.0029\n",
      "Epoch 10/30\n",
      "1297/1297 [==============================] - 5s 4ms/step - loss: 0.0026\n",
      "Epoch 11/30\n",
      "1297/1297 [==============================] - 5s 4ms/step - loss: 0.0026\n",
      "Epoch 12/30\n",
      "1297/1297 [==============================] - 6s 4ms/step - loss: 0.0031\n",
      "Epoch 13/30\n",
      "1297/1297 [==============================] - 6s 4ms/step - loss: 0.0027\n",
      "Epoch 14/30\n",
      "1297/1297 [==============================] - 6s 4ms/step - loss: 0.0026\n",
      "Epoch 15/30\n",
      "1297/1297 [==============================] - 5s 4ms/step - loss: 0.0023\n",
      "Epoch 16/30\n",
      "1297/1297 [==============================] - 5s 4ms/step - loss: 0.0024\n",
      "Epoch 17/30\n",
      "1297/1297 [==============================] - 6s 4ms/step - loss: 0.0025\n",
      "Epoch 18/30\n",
      "1297/1297 [==============================] - 6s 4ms/step - loss: 0.0023\n",
      "Epoch 19/30\n",
      "1297/1297 [==============================] - 5s 4ms/step - loss: 0.0022\n",
      "Epoch 20/30\n",
      "1297/1297 [==============================] - 6s 4ms/step - loss: 0.0025\n",
      "Epoch 21/30\n",
      "1297/1297 [==============================] - 5s 4ms/step - loss: 0.0026\n",
      "Epoch 22/30\n",
      "1297/1297 [==============================] - 5s 4ms/step - loss: 0.0023\n",
      "Epoch 23/30\n",
      "1297/1297 [==============================] - 5s 4ms/step - loss: 0.0022\n",
      "Epoch 24/30\n",
      "1297/1297 [==============================] - 5s 4ms/step - loss: 0.0022\n",
      "Epoch 25/30\n",
      "1297/1297 [==============================] - 5s 4ms/step - loss: 0.0021\n",
      "Epoch 26/30\n",
      "1297/1297 [==============================] - 5s 4ms/step - loss: 0.0020\n",
      "Epoch 27/30\n",
      "1297/1297 [==============================] - 5s 4ms/step - loss: 0.0022\n",
      "Epoch 28/30\n",
      "1297/1297 [==============================] - 5s 4ms/step - loss: 0.0020\n",
      "Epoch 29/30\n",
      "1297/1297 [==============================] - 5s 4ms/step - loss: 0.0020\n",
      "Epoch 30/30\n",
      "1297/1297 [==============================] - 5s 4ms/step - loss: 0.0021\n"
     ]
    },
    {
     "data": {
      "image/png": "[encoded data removed]",
      "text/plain": [
       "<Figure size 432x288 with 1 Axes>"
      ]
     },
     "metadata": {},
     "output_type": "display_data"
    },
    {
     "name": "stdout",
     "output_type": "stream",
     "text": [
      "Root Mean Square Error is 8.55 for test set.\n",
      "Interpretation: ---------------\n",
      "On the test set, the performance of this LSTM architecture guesses \n",
      "FB stock price on average within the error of $8.55 dollars.\n"
     ]
    }
   ],
   "source": [
    "tmp = YinsDL.RNN4_Regressor(\n",
    "        start_date = '2013-01-01',\n",
    "        end_date   = '2019-12-6',\n",
    "        tickers    = 'FB', cutoff = 0.8,\n",
    "        l1_units = 50, l2_units = 50, l3_units = 50, l4_units = 50,\n",
    "        optimizer = 'adam', loss = 'mean_squared_error',\n",
    "        epochs = 30, batch_size = 64,\n",
    "        plotGraph = True,\n",
    "        verbatim = True )"
   ]
  },
  {
   "cell_type": "code",
   "execution_count": null,
   "metadata": {},
   "outputs": [],
   "source": []
  }
 ],
 "metadata": {
  "kernelspec": {
   "display_name": "Python 3",
   "language": "python",
   "name": "python3"
  },
  "language_info": {
   "codemirror_mode": {
    "name": "ipython",
    "version": 3
   },
   "file_extension": ".py",
   "mimetype": "text/x-python",
   "name": "python",
   "nbconvert_exporter": "python",
   "pygments_lexer": "ipython3",
   "version": "3.6.5"
  }
 },
 "nbformat": 4,
 "nbformat_minor": 2
}
