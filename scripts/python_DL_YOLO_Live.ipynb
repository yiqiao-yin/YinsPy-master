{
 "cells": [
  {
   "cell_type": "markdown",
   "metadata": {},
   "source": [
    "# Deep Learning: YOLO Live\n",
    "\n",
    "This notebook deploy YOLO algorithm with live cam feed. I will take a pretrained YOLO algorithm and set up live feed from personal laptop. To make things interesting, I will write an alert function specifically making sounds when 'knife' is detected in the image. \n",
    "\n",
    "Source:\n",
    "- Github: [https://github.com/arunponnusamy/cvlib](https://github.com/arunponnusamy/cvlib)\n",
    "- cvLib: [https://www.cvlib.net/](https://www.cvlib.net/)\n",
    "- Classes: 80-class objectection detection, see all classes [here](80 common objects: https://github.com/arunponnusamy/object-detection-opencv/blob/master/yolov3.txt)"
   ]
  },
  {
   "cell_type": "code",
   "execution_count": null,
   "metadata": {},
   "outputs": [],
   "source": [
    "# Object detection webcam example using tiny yolo\n",
    "# Usage: python object_detection_webcam_yolov3_tiny.py\n",
    "\n",
    "# Import necessary packages\n",
    "import cvlib as cv\n",
    "from cvlib.object_detection import draw_bbox\n",
    "import cv2\n",
    "\n",
    "# Check out laptop cam:\n",
    "# 0 is the first camera (on laptop) \n",
    "# 1 is the second camera (ex. I have a usb cam connected to the laptop that is higher resolution)\n",
    "# and then you can do 2, 3, ... if you have installed more cameras.\n",
    "webcam = cv2.VideoCapture(1)\n",
    "print(f'Camera resolution is {webcam.get(3)} by {webcam.get(4)}.')"
   ]
  },
  {
   "cell_type": "markdown",
   "metadata": {},
   "source": [
    "Setup *alert()* Function"
   ]
  },
  {
   "cell_type": "code",
   "execution_count": null,
   "metadata": {},
   "outputs": [],
   "source": [
    "import time\n",
    "from IPython.core.magics.execution import _format_time\n",
    "from IPython.display import display as d\n",
    "from IPython.display import Audio\n",
    "from IPython.core.display import HTML\n",
    "import numpy as np\n",
    "import logging as log\n",
    "\n",
    "def alert():\n",
    "    \"\"\" makes sound on client using javascript (works with remote server) \"\"\"      \n",
    "    framerate = 44100\n",
    "    duration=.1\n",
    "    freq=300\n",
    "    t = np.linspace(0,duration,framerate*duration)\n",
    "    data = np.sin(2*np.pi*freq*t)\n",
    "    d(Audio(data,rate=framerate, autoplay=True))"
   ]
  },
  {
   "cell_type": "markdown",
   "metadata": {},
   "source": [
    "The following code will start a new window with live camera feed from your laptop. The notebook will print out a long list of results, with objects detected or not. To shut it down, make sure current window is in the camera feed and press 'q'. "
   ]
  },
  {
   "cell_type": "code",
   "execution_count": null,
   "metadata": {},
   "outputs": [],
   "source": [
    "# Open Camera\n",
    "webcam = cv2.VideoCapture(1)\n",
    "if not webcam.isOpened():\n",
    "    print(\"Could not open webcam\")\n",
    "    exit()\n",
    "    \n",
    "# Loop through frames\n",
    "while webcam.isOpened():\n",
    "\n",
    "    # Read frame from webcam \n",
    "    status, frame = webcam.read()\n",
    "    if not status:\n",
    "        break\n",
    "\n",
    "    # Apply object detection\n",
    "    # 80 common objects: https://github.com/arunponnusamy/object-detection-opencv/blob/master/yolov3.txt\n",
    "    # bbox, label, conf = cv.detect_common_objects(frame, confidence=0.1, model='yolov3') # this is very slow\n",
    "    bbox, label, conf = cv.detect_common_objects(frame, confidence=0.1, model='yolov3-tiny')\n",
    "\n",
    "    # Output\n",
    "    # print(bbox, label, conf)\n",
    "    # Set Alert (if see a knife)\n",
    "    tmp = label\n",
    "    for i in tmp:\n",
    "        if i == 'knife':\n",
    "            alert()\n",
    "\n",
    "    # Draw bounding box over detected objects\n",
    "    # We take output from *cv.detect_common_objects* to print them out on videos\n",
    "    # by using *draw_bbox()*\n",
    "    out = draw_bbox(frame, bbox, label, conf, write_conf=True)\n",
    "\n",
    "    # Display output\n",
    "    cv2.imshow(\"Real-time object detection\", out)\n",
    "\n",
    "    # press \"Q\" to stop\n",
    "    if cv2.waitKey(1) & 0xFF == ord('q'):\n",
    "        break\n",
    "    \n",
    "# Release resources"
   ]
  }
 ],
 "metadata": {
  "kernelspec": {
   "display_name": "Python 3",
   "language": "python",
   "name": "python3"
  },
  "language_info": {
   "codemirror_mode": {
    "name": "ipython",
    "version": 3
   },
   "file_extension": ".py",
   "mimetype": "text/x-python",
   "name": "python",
   "nbconvert_exporter": "python",
   "pygments_lexer": "ipython3",
   "version": "3.6.5"
  }
 },
 "nbformat": 4,
 "nbformat_minor": 2
}
