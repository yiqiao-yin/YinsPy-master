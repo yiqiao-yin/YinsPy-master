{
 "cells": [
  {
   "cell_type": "markdown",
   "metadata": {},
   "source": [
    "# DEEP LEARNING: IMDB MOVIE DATA SET CLASSIFICATION USING RCNN\n",
    "\n",
    "The IMDB Movies Dataset contains information about 14,762 movies. Information about these movies was downloaded with wget for the purpose of creating a movie recommendation app. The data was preprocessed and cleaned to be ready for machine learning applications.\n",
    "\n",
    "For more information, please refer to:\n",
    "- https://www.tensorflow.org/datasets/catalog/imdb_reviews\n",
    "- https://github.com/orgesleka/filmempfehlung"
   ]
  },
  {
   "cell_type": "markdown",
   "metadata": {},
   "source": [
    "### Libraries"
   ]
  },
  {
   "cell_type": "code",
   "execution_count": 20,
   "metadata": {},
   "outputs": [],
   "source": [
    "from __future__ import print_function"
   ]
  },
  {
   "cell_type": "code",
   "execution_count": 21,
   "metadata": {},
   "outputs": [],
   "source": [
    "from keras.preprocessing import sequence\n",
    "from keras.models import Sequential\n",
    "from keras.layers import Dense, Embedding\n",
    "from keras.layers import Conv1D, MaxPooling1D\n",
    "from keras.layers import LSTM\n",
    "from keras.datasets import imdb"
   ]
  },
  {
   "cell_type": "code",
   "execution_count": 27,
   "metadata": {},
   "outputs": [],
   "source": [
    "max_features = 20000\n",
    "maxlen = 80\n",
    "filters = 64\n",
    "batch_size = 32\n",
    "kernel_size = 5\n",
    "pool_size = 4"
   ]
  },
  {
   "cell_type": "code",
   "execution_count": 15,
   "metadata": {},
   "outputs": [
    {
     "name": "stdout",
     "output_type": "stream",
     "text": [
      "Loading data...\n",
      "25000 train sequences\n",
      "25000 test sequences\n"
     ]
    }
   ],
   "source": [
    "print('Loading data...')\n",
    "(x_train, y_train), (x_test, y_test) = imdb.load_data(num_words=max_features)\n",
    "print(len(x_train), 'train sequences')\n",
    "print(len(x_test), 'test sequences')"
   ]
  },
  {
   "cell_type": "code",
   "execution_count": 16,
   "metadata": {},
   "outputs": [
    {
     "data": {
      "text/plain": [
       "((25000,), (25000,))"
      ]
     },
     "execution_count": 16,
     "metadata": {},
     "output_type": "execute_result"
    }
   ],
   "source": [
    "x_train.shape, x_test.shape"
   ]
  },
  {
   "cell_type": "markdown",
   "metadata": {},
   "source": [
    "### Sequence Padding"
   ]
  },
  {
   "cell_type": "code",
   "execution_count": 17,
   "metadata": {},
   "outputs": [
    {
     "name": "stdout",
     "output_type": "stream",
     "text": [
      "Pad sequences (samples by time)\n",
      "x_train shape: (25000, 80)\n",
      "x_test shape: (25000, 80)\n"
     ]
    }
   ],
   "source": [
    "print('Pad sequences (samples by time)')\n",
    "x_train = sequence.pad_sequences(x_train, maxlen=maxlen)\n",
    "x_test = sequence.pad_sequences(x_test, maxlen=maxlen)\n",
    "print('x_train shape:', x_train.shape)\n",
    "print('x_test shape:', x_test.shape)"
   ]
  },
  {
   "cell_type": "code",
   "execution_count": 18,
   "metadata": {},
   "outputs": [
    {
     "data": {
      "text/plain": [
       "((25000, 80), (25000, 80))"
      ]
     },
     "execution_count": 18,
     "metadata": {},
     "output_type": "execute_result"
    }
   ],
   "source": [
    "x_train.shape, x_test.shape"
   ]
  },
  {
   "cell_type": "markdown",
   "metadata": {},
   "source": [
    "### Build RCNN Architecture"
   ]
  },
  {
   "cell_type": "markdown",
   "metadata": {},
   "source": [
    "This section we construct a convolutional layer, a MaxPooling layer, and a LSTM layer. For technical details about the architecture and why does the neural network family works the way it works, please check out [my video](https://youtu.be/zhBLiMdqOdQ)."
   ]
  },
  {
   "cell_type": "code",
   "execution_count": 29,
   "metadata": {},
   "outputs": [
    {
     "name": "stdout",
     "output_type": "stream",
     "text": [
      "Build model ...\n"
     ]
    }
   ],
   "source": [
    "print('Build model ...')\n",
    "model = Sequential()\n",
    "model.add(Embedding(max_features, 128))\n",
    "model.add(Conv1D(filters,\n",
    "                 kernel_size,\n",
    "                 padding='valid',\n",
    "                 activation='relu',\n",
    "                 strides=1))\n",
    "model.add(MaxPooling1D(pool_size=pool_size))\n",
    "model.add(LSTM(128, dropout=0.2, recurrent_dropout=0.2))\n",
    "model.add(Dense(1, activation='sigmoid'))"
   ]
  },
  {
   "cell_type": "code",
   "execution_count": 32,
   "metadata": {},
   "outputs": [
    {
     "name": "stdout",
     "output_type": "stream",
     "text": [
      "Summarize ...\n",
      "_________________________________________________________________\n",
      "Layer (type)                 Output Shape              Param #   \n",
      "=================================================================\n",
      "embedding_8 (Embedding)      (None, None, 128)         2560000   \n",
      "_________________________________________________________________\n",
      "conv1d_3 (Conv1D)            (None, None, 64)          41024     \n",
      "_________________________________________________________________\n",
      "max_pooling1d_2 (MaxPooling1 (None, None, 64)          0         \n",
      "_________________________________________________________________\n",
      "lstm_3 (LSTM)                (None, 128)               98816     \n",
      "_________________________________________________________________\n",
      "dense_3 (Dense)              (None, 1)                 129       \n",
      "=================================================================\n",
      "Total params: 2,699,969\n",
      "Trainable params: 2,699,969\n",
      "Non-trainable params: 0\n",
      "_________________________________________________________________\n"
     ]
    }
   ],
   "source": [
    "print('Summarize ...')\n",
    "model.summary()"
   ]
  },
  {
   "cell_type": "code",
   "execution_count": 30,
   "metadata": {},
   "outputs": [
    {
     "name": "stdout",
     "output_type": "stream",
     "text": [
      "Compile ...\n"
     ]
    }
   ],
   "source": [
    "print('Compile ...')\n",
    "model.compile(loss='binary_crossentropy',\n",
    "              optimizer='adam',\n",
    "             metrics=['accuracy'])"
   ]
  },
  {
   "cell_type": "markdown",
   "metadata": {},
   "source": [
    "### Train, Test, and Performance"
   ]
  },
  {
   "cell_type": "code",
   "execution_count": 31,
   "metadata": {},
   "outputs": [
    {
     "name": "stdout",
     "output_type": "stream",
     "text": [
      "Train ...\n",
      "Train on 25000 samples, validate on 25000 samples\n",
      "Epoch 1/15\n",
      "25000/25000 [==============================] - 59s 2ms/step - loss: 0.4191 - acc: 0.8012 - val_loss: 0.3515 - val_acc: 0.8447\n",
      "Epoch 2/15\n",
      "25000/25000 [==============================] - 58s 2ms/step - loss: 0.2221 - acc: 0.9116 - val_loss: 0.3851 - val_acc: 0.8421\n",
      "Epoch 3/15\n",
      "25000/25000 [==============================] - 58s 2ms/step - loss: 0.1101 - acc: 0.9616 - val_loss: 0.5236 - val_acc: 0.8260\n",
      "Epoch 4/15\n",
      "25000/25000 [==============================] - 58s 2ms/step - loss: 0.0551 - acc: 0.9811 - val_loss: 0.6288 - val_acc: 0.8228\n",
      "Epoch 5/15\n",
      "25000/25000 [==============================] - 58s 2ms/step - loss: 0.0264 - acc: 0.9913 - val_loss: 0.8156 - val_acc: 0.8178\n",
      "Epoch 6/15\n",
      "25000/25000 [==============================] - 58s 2ms/step - loss: 0.0183 - acc: 0.9936 - val_loss: 0.9368 - val_acc: 0.8161\n",
      "Epoch 7/15\n",
      "25000/25000 [==============================] - 58s 2ms/step - loss: 0.0165 - acc: 0.9948 - val_loss: 0.9099 - val_acc: 0.8201\n",
      "Epoch 8/15\n",
      "25000/25000 [==============================] - 59s 2ms/step - loss: 0.0123 - acc: 0.9961 - val_loss: 0.9350 - val_acc: 0.8191\n",
      "Epoch 9/15\n",
      "25000/25000 [==============================] - 59s 2ms/step - loss: 0.0066 - acc: 0.9977 - val_loss: 1.0911 - val_acc: 0.8206\n",
      "Epoch 10/15\n",
      "25000/25000 [==============================] - 59s 2ms/step - loss: 0.0121 - acc: 0.9955 - val_loss: 1.0296 - val_acc: 0.8184\n",
      "Epoch 11/15\n",
      "25000/25000 [==============================] - 58s 2ms/step - loss: 0.0096 - acc: 0.9966 - val_loss: 1.0265 - val_acc: 0.8173\n",
      "Epoch 12/15\n",
      "25000/25000 [==============================] - 59s 2ms/step - loss: 0.0072 - acc: 0.9974 - val_loss: 1.1212 - val_acc: 0.8184\n",
      "Epoch 13/15\n",
      "25000/25000 [==============================] - 58s 2ms/step - loss: 0.0050 - acc: 0.9982 - val_loss: 1.0218 - val_acc: 0.8129\n",
      "Epoch 14/15\n",
      "25000/25000 [==============================] - 58s 2ms/step - loss: 0.0042 - acc: 0.9989 - val_loss: 1.0459 - val_acc: 0.8113\n",
      "Epoch 15/15\n",
      "25000/25000 [==============================] - 58s 2ms/step - loss: 0.0067 - acc: 0.9978 - val_loss: 1.0777 - val_acc: 0.8166\n",
      "25000/25000 [==============================] - 6s 252us/step\n",
      "Test score: 1.0776984479618072\n",
      "Test accuracy: 0.81656\n"
     ]
    }
   ],
   "source": [
    "print('Train ...')\n",
    "model.fit(x_train, y_train,\n",
    "          batch_size=batch_size,\n",
    "          epochs=15,\n",
    "          validation_data=(x_test, y_test))\n",
    "score, acc = model.evaluate(x_test, y_test, batch_size=batch_size)\n",
    "print('Test score:', score)\n",
    "print('Test accuracy:', acc)"
   ]
  },
  {
   "cell_type": "markdown",
   "metadata": {},
   "source": [
    "Investigation ends here."
   ]
  }
 ],
 "metadata": {
  "kernelspec": {
   "display_name": "Python 3",
   "language": "python",
   "name": "python3"
  },
  "language_info": {
   "codemirror_mode": {
    "name": "ipython",
    "version": 3
   },
   "file_extension": ".py",
   "mimetype": "text/x-python",
   "name": "python",
   "nbconvert_exporter": "python",
   "pygments_lexer": "ipython3",
   "version": "3.6.2"
  }
 },
 "nbformat": 4,
 "nbformat_minor": 2
}
