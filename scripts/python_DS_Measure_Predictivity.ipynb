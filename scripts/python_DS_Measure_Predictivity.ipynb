{
 "cells": [
  {
   "cell_type": "markdown",
   "metadata": {},
   "source": [
    "# Data Structures: Measure Predictivity of Features\n",
    "\n",
    "This section we adopt influence measure developed by Lo (2002, 2009, 2012) to investigate the importance of features of start-up investment profits data set.\n",
    "\n",
    "The notebook has the following steps:\n",
    "- $\\textbf{Environment Initiation}$. I always start with initiating the environment. I import the correct modules, APIs, and libraries that need to be used for this notebook and I set up my data set.\n",
    "\n",
    "- $\\textbf{Data Cleanup}$. Data set cleanup is very important. In real world, not all data are saved properly and it is our duty as a data scientist and machine learning practitioner to ensure that the data is valid and can be processed by machines.\n",
    "\n",
    "- $\\textbf{Measure Predictivity}$ I adopt the influence score developed by Lo et al (2002, 2009, 2012) and it is a function that indicates how predictive a sets of features are on response variable $y$.\n",
    "\n",
    "- $\\textbf{Software Development / Product Management}$. Every data science project has two phases. Phase I is about end-to-end research and select the most optimal machine learning procedure. Phase II is about delivering a software product to consumer and clients so that the python codes can be called and there is no need to redo everything that has already been done."
   ]
  },
  {
   "cell_type": "markdown",
   "metadata": {},
   "source": [
    "## Envrionment Initiation\n",
    "\n",
    "Let us initiate our environment by importing the required packages."
   ]
  },
  {
   "cell_type": "code",
   "execution_count": 1,
   "metadata": {},
   "outputs": [],
   "source": [
    "import numpy as np\n",
    "import matplotlib.pyplot as plt\n",
    "import pandas as pd"
   ]
  },
  {
   "cell_type": "markdown",
   "metadata": {},
   "source": [
    "## Data Cleanup\n",
    "\n",
    "Let us get the data and clean up the data"
   ]
  },
  {
   "cell_type": "code",
   "execution_count": 2,
   "metadata": {},
   "outputs": [],
   "source": [
    "data = pd.read_csv('~/OneDrive/Documents/YinsPy/data/startups_invest.csv')"
   ]
  },
  {
   "cell_type": "code",
   "execution_count": 3,
   "metadata": {},
   "outputs": [
    {
     "name": "stdout",
     "output_type": "stream",
     "text": [
      "   R&D Spend  Administration  Marketing Spend       State     Profit\n",
      "0  165349.20       136897.80        471784.10    New York  192261.83\n",
      "1  162597.70       151377.59        443898.53  California  191792.06\n",
      "2  153441.51       101145.55        407934.54     Florida  191050.39\n",
      "(50, 5)\n"
     ]
    }
   ],
   "source": [
    "print(data.head(3))\n",
    "print(data.shape)"
   ]
  },
  {
   "cell_type": "code",
   "execution_count": 4,
   "metadata": {},
   "outputs": [
    {
     "name": "stdout",
     "output_type": "stream",
     "text": [
      "   R&D Spend  Administration  Marketing Spend       State\n",
      "0  165349.20       136897.80        471784.10    New York\n",
      "1  162597.70       151377.59        443898.53  California\n",
      "2  153441.51       101145.55        407934.54     Florida\n"
     ]
    }
   ],
   "source": [
    "X = data.iloc[:, :-1]\n",
    "y = data.iloc[:, data.shape[1] - 1]\n",
    "print(X.head(3))"
   ]
  },
  {
   "cell_type": "markdown",
   "metadata": {},
   "source": [
    "## Measure Predictivity\n",
    "\n",
    "Let me measure the predictivity of each variable and the predictivity of joint variables."
   ]
  },
  {
   "cell_type": "code",
   "execution_count": 5,
   "metadata": {},
   "outputs": [],
   "source": [
    "newX = pd.DataFrame()\n",
    "for i in range(X.shape[1]):\n",
    "    newX = pd.concat([newX, pd.get_dummies(X.iloc[:, i], drop_first=True)], axis=1)"
   ]
  },
  {
   "cell_type": "code",
   "execution_count": 6,
   "metadata": {},
   "outputs": [
    {
     "name": "stdout",
     "output_type": "stream",
     "text": [
      "(50, 146)\n",
      "   542.05   1000.23  1315.46\n",
      "0        0        0        0\n",
      "1        0        0        0\n",
      "2        0        0        0\n"
     ]
    }
   ],
   "source": [
    "print(newX.shape)\n",
    "print(newX.iloc[:3, :3])"
   ]
  },
  {
   "cell_type": "code",
   "execution_count": 7,
   "metadata": {},
   "outputs": [],
   "source": [
    "import random\n",
    "num_initial_draw = 1\n",
    "initial_set = newX.iloc[:, random.sample(range(newX.shape[1]), num_initial_draw)]\n",
    "partition = initial_set.iloc[:, 0].astype(str)\n",
    "if initial_set.shape[1] >= 2:\n",
    "    for i in range(initial_set.shape[1]):\n",
    "        partition = partition.astype(str) + '_' + initial_set.iloc[:, i].astype(str)\n",
    "else:\n",
    "    partition = partition"
   ]
  },
  {
   "cell_type": "code",
   "execution_count": 8,
   "metadata": {},
   "outputs": [
    {
     "name": "stdout",
     "output_type": "stream",
     "text": [
      "0    0\n",
      "1    0\n",
      "2    0\n",
      "Name: 122616.84, dtype: object\n",
      "['0' '0' '0' '0' '0' '0' '0' '0' '0' '0' '0' '0' '0' '0' '0' '1' '0' '0'\n",
      " '0' '0' '0' '0' '0' '0' '0' '0' '0' '0' '0' '0' '0' '0' '0' '0' '0' '0'\n",
      " '0' '0' '0' '0' '0' '0' '0' '0' '0' '0' '0' '0' '0' '0']\n",
      "0    49\n",
      "1     1\n",
      "Name: 122616.84, dtype: int64\n"
     ]
    }
   ],
   "source": [
    "print(partition.head(3))\n",
    "print(partition.values)\n",
    "print(partition.value_counts())"
   ]
  },
  {
   "cell_type": "markdown",
   "metadata": {},
   "source": [
    "The above code gives us partition and their counts for each possible combination in the data set. \n",
    "\n",
    "Next, based on partition we can compute the local average of response variable $y$ and compare that with global average of the resposne variable $y$. "
   ]
  },
  {
   "cell_type": "code",
   "execution_count": 9,
   "metadata": {},
   "outputs": [
    {
     "name": "stdout",
     "output_type": "stream",
     "text": [
      "   0\n",
      "0  0\n",
      "1  1\n",
      "   122616.84\n",
      "0         49\n",
      "1          1\n"
     ]
    }
   ],
   "source": [
    "list_of_partitions = pd.DataFrame(partition.value_counts())\n",
    "Pi = pd.DataFrame(list_of_partitions.index)\n",
    "local_n = pd.DataFrame(list_of_partitions.iloc[:, :])\n",
    "print(Pi)\n",
    "print(local_n)"
   ]
  },
  {
   "cell_type": "code",
   "execution_count": 10,
   "metadata": {},
   "outputs": [
    {
     "name": "stderr",
     "output_type": "stream",
     "text": [
      "C:\\Users\\eagle\\Anaconda3\\lib\\site-packages\\pandas\\core\\ops\\__init__.py:1115: FutureWarning: elementwise comparison failed; returning scalar instead, but in the future will perform elementwise comparison\n",
      "  result = method(y)\n",
      "C:\\Users\\eagle\\Anaconda3\\lib\\site-packages\\ipykernel_launcher.py:6: RuntimeWarning: Mean of empty slice.\n",
      "  \n",
      "C:\\Users\\eagle\\Anaconda3\\lib\\site-packages\\numpy\\core\\_methods.py:161: RuntimeWarning: invalid value encountered in double_scalars\n",
      "  ret = ret.dtype.type(ret / rcount)\n"
     ]
    }
   ],
   "source": [
    "list_local_mean = []\n",
    "Y_bar = y.mean()\n",
    "local_mean_vector = []\n",
    "for i in range(len(Pi)):\n",
    "    chk = (Pi.iloc[i] == pd.DataFrame(partition))\n",
    "    local_mean_vector.append([np.array(y)[np.array(chk[0])].mean()])"
   ]
  },
  {
   "cell_type": "markdown",
   "metadata": {},
   "source": [
    "## Software Development / Product Management\n",
    "\n",
    "Let us code this into a software product."
   ]
  },
  {
   "cell_type": "code",
   "execution_count": 11,
   "metadata": {},
   "outputs": [],
   "source": [
    "# Define function\n",
    "def iscore(X, y):\n",
    "    # Environment Initiation\n",
    "    import numpy as np\n",
    "    import matplotlib.pyplot as plt\n",
    "    import pandas as pd\n",
    "    import random\n",
    "    \n",
    "    # Create Partition\n",
    "    partition = X.iloc[:, 0].astype(str)\n",
    "    if X.shape[1] >= 2:\n",
    "        for i in range(X.shape[1]):\n",
    "            partition = partition.astype(str) + '_' + X.iloc[:, i].astype(str)\n",
    "    else:\n",
    "        partition = partition\n",
    "    list_of_partitions = pd.DataFrame(partition.value_counts())\n",
    "    Pi = pd.DataFrame(list_of_partitions.index)\n",
    "    local_n = pd.DataFrame(list_of_partitions.iloc[:, :])\n",
    "    chk = (Pi.iloc[0] == pd.DataFrame(partition))\n",
    "\n",
    "    # Compute Influence Score:\n",
    "    list_local_mean = []\n",
    "    Y_bar = y.mean()\n",
    "    local_mean_vector = []\n",
    "    for i in range(len(Pi)):\n",
    "        chk = (Pi.iloc[i] == pd.DataFrame(partition))\n",
    "        local_mean_vector.append([np.array(y)[np.array(chk[0])].mean()])\n",
    "    iscore = np.mean((np.array(local_mean_vector) - Y_bar)**2) / np.std(y)\n",
    "    \n",
    "    # Output\n",
    "    return {\n",
    "        'X': X,\n",
    "        'y': y,\n",
    "        'Local Mean Vector': local_mean_vector,\n",
    "        'Global Mean': Y_bar,\n",
    "        'Partition': Pi,\n",
    "        'Number of Samples in Partition': local_n,\n",
    "        'Influence Score': iscore}\n",
    "# End of function"
   ]
  },
  {
   "cell_type": "markdown",
   "metadata": {},
   "source": [
    "The function is done. Let us try it out!"
   ]
  },
  {
   "cell_type": "code",
   "execution_count": 12,
   "metadata": {},
   "outputs": [
    {
     "name": "stdout",
     "output_type": "stream",
     "text": [
      "   R&D Spend  Administration  Marketing Spend  Florida  New York\n",
      "0   165349.2       136897.80        471784.10        0         1\n",
      "1   162597.7       151377.59        443898.53        0         0\n"
     ]
    }
   ],
   "source": [
    "# Data\n",
    "data = pd.read_csv('~/OneDrive/Documents/YinsPy/data/startups_invest.csv')\n",
    "X = data.iloc[:, :-1]\n",
    "y = data.iloc[:, data.shape[1] - 1]\n",
    "State = pd.get_dummies(X.iloc[:, 3], drop_first=True)\n",
    "X = pd.concat([X.iloc[:, :3], State], axis=1)\n",
    "print(X.head(2))"
   ]
  },
  {
   "cell_type": "code",
   "execution_count": 13,
   "metadata": {},
   "outputs": [
    {
     "name": "stdout",
     "output_type": "stream",
     "text": [
      "   R&D Spend  Administration  Marketing Spend  Florida  New York\n",
      "0       True            True             True    False      True\n",
      "1       True            True             True    False     False\n"
     ]
    }
   ],
   "source": [
    "newX = pd.DataFrame([])\n",
    "for j in range(X.shape[1]):\n",
    "    feature = X.iloc[:, j]\n",
    "    feature = feature > feature.mean()\n",
    "    newX = pd.concat([newX, feature], axis=1)\n",
    "print(newX.head(2))"
   ]
  },
  {
   "cell_type": "code",
   "execution_count": 14,
   "metadata": {},
   "outputs": [
    {
     "name": "stdout",
     "output_type": "stream",
     "text": [
      "   R&D Spend  Administration  Marketing Spend\n",
      "0       True            True             True\n",
      "1       True            True             True\n",
      "18589.914362732427\n"
     ]
    }
   ],
   "source": [
    "# Try\n",
    "testresult = iscore(newX.iloc[:,:3], y)\n",
    "print(testresult['X'].head(2))\n",
    "print(testresult['Influence Score'])"
   ]
  },
  {
   "cell_type": "code",
   "execution_count": null,
   "metadata": {},
   "outputs": [],
   "source": []
  }
 ],
 "metadata": {
  "kernelspec": {
   "display_name": "Python 3",
   "language": "python",
   "name": "python3"
  },
  "language_info": {
   "codemirror_mode": {
    "name": "ipython",
    "version": 3
   },
   "file_extension": ".py",
   "mimetype": "text/x-python",
   "name": "python",
   "nbconvert_exporter": "python",
   "pygments_lexer": "ipython3",
   "version": "3.6.5"
  }
 },
 "nbformat": 4,
 "nbformat_minor": 2
}
