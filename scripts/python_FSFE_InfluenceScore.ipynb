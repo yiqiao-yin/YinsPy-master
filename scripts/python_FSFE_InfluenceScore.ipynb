{
 "cells": [
  {
   "cell_type": "markdown",
   "metadata": {},
   "source": [
    "# Feature Selection & Feature Engineering: Predictivity by Influence Score\n",
    "\n",
    "Modern feature selection methodologies such as step-wise backward or forward selection according to AIC/BIC presume a certain underlying model before large dimensions are penalized with an error term. This school of though is problematic because the method left data scientist, statisticians, and machine learning practitioners ensure of the source of impurity of the data set (is error coming from data or the underlying model). \n",
    "\n",
    "Based on this motivation, Professor Shaw-hwa Lo introduced a non-parametric feature selection technique called Influence Score (i.e. I-score). The technique is a function that takes in certain covariates $X$ and dependent variable $y$ and output a measure of how much selected $X$ influences $y$. The formula is derived from the lower bound of Bayes' accuracy. \n",
    "\n",
    "From previous [notebook](https://github.com/yiqiao-yin/YinsPy/blob/master/scripts/python_DS_Measure_Predictivity.ipynb), we have some working knowledge of how Influence Score is computed given selected $X$ and target $y$. This notebook I will build up on what we have done and introduce a generalized feature method. In this book, I cover\n",
    "\n",
    "- **Review: Influence Score**\n",
    "\n",
    "- **Backward Dropping Algorithm**\n",
    "\n",
    "- **Software Development / Product Management**"
   ]
  },
  {
   "cell_type": "markdown",
   "metadata": {},
   "source": [
    "## Influence Score\n",
    "\n",
    "Let us recall the function we coded from previous notebook in the following"
   ]
  },
  {
   "cell_type": "code",
   "execution_count": 233,
   "metadata": {},
   "outputs": [],
   "source": [
    "# Define function\n",
    "def iscore(X, y):\n",
    "    # Environment Initiation\n",
    "    import numpy as np\n",
    "    import matplotlib.pyplot as plt\n",
    "    import pandas as pd\n",
    "    import random\n",
    "    \n",
    "    # Create Partition\n",
    "    partition = X.iloc[:, 0].astype(str)\n",
    "    if X.shape[1] >= 2:\n",
    "        for i in range(X.shape[1]-1):\n",
    "            partition = partition.astype(str) + '_' + X.iloc[:, i].astype(str)\n",
    "    else:\n",
    "        partition = partition\n",
    "\n",
    "    # Local Information\n",
    "    list_of_partitions = pd.DataFrame(partition.value_counts())\n",
    "    Pi = pd.DataFrame(list_of_partitions.index)\n",
    "    local_n = pd.DataFrame(list_of_partitions.iloc[:, :])\n",
    "\n",
    "    # Compute Influence Score:\n",
    "    import collections\n",
    "    list_local_mean = []\n",
    "    Y_bar = y.mean()\n",
    "    local_mean_vector = []\n",
    "    grouped = pd.DataFrame({'y': y, 'X': partition})\n",
    "    local_mean_vector = pd.DataFrame(grouped.groupby('X').mean())\n",
    "    iscore = np.mean(np.array(local_n).reshape(1, local_n.shape[0]) * np.array((local_mean_vector['y'] - Y_bar)**2))/np.std(y)\n",
    "    \n",
    "    # Output\n",
    "    return {\n",
    "        'X': X,\n",
    "        'y': y,\n",
    "        'Local Mean Vector': local_mean_vector,\n",
    "        'Global Mean': Y_bar,\n",
    "        'Partition': Pi,\n",
    "        'Number of Samples in Partition': local_n,\n",
    "        'Influence Score': iscore}\n",
    "# End of function"
   ]
  },
  {
   "cell_type": "markdown",
   "metadata": {},
   "source": [
    "Let us try it on a real data set."
   ]
  },
  {
   "cell_type": "code",
   "execution_count": 234,
   "metadata": {},
   "outputs": [],
   "source": [
    "import numpy as np\n",
    "import matplotlib.pyplot as plt\n",
    "import pandas as pd\n",
    "import random"
   ]
  },
  {
   "cell_type": "code",
   "execution_count": 235,
   "metadata": {},
   "outputs": [
    {
     "name": "stdout",
     "output_type": "stream",
     "text": [
      "   R&D Spend  Administration  Marketing Spend  Florida  New York\n",
      "0   165349.2       136897.80        471784.10        0         1\n",
      "1   162597.7       151377.59        443898.53        0         0\n"
     ]
    }
   ],
   "source": [
    "# Data\n",
    "data = pd.read_csv('~/OneDrive/Documents/YinsPy/data/startups_invest.csv')\n",
    "X = data.iloc[:, :-1]\n",
    "y = data.iloc[:, data.shape[1] - 1]\n",
    "y = (y > np.mean(y)).astype(int)\n",
    "State = pd.get_dummies(X.iloc[:, 3], drop_first=True)\n",
    "X = pd.concat([X.iloc[:, :3], State], axis=1)\n",
    "print(X.head(2))"
   ]
  },
  {
   "cell_type": "code",
   "execution_count": 236,
   "metadata": {},
   "outputs": [
    {
     "name": "stdout",
     "output_type": "stream",
     "text": [
      "   R&D Spend  Administration  Marketing Spend  Florida  New York\n",
      "0          1               1                1        0         1\n",
      "1          1               1                1        0         0\n",
      "(50, 5)\n"
     ]
    }
   ],
   "source": [
    "newX = pd.DataFrame([])\n",
    "for j in range(X.shape[1]):\n",
    "    feature = X.iloc[:, j]\n",
    "    feature = (feature > feature.mean()).astype(int)\n",
    "    newX = pd.concat([newX, feature], axis=1)\n",
    "print(newX.head(2))\n",
    "print(newX.shape)"
   ]
  },
  {
   "cell_type": "code",
   "execution_count": 237,
   "metadata": {},
   "outputs": [
    {
     "name": "stdout",
     "output_type": "stream",
     "text": [
      "   Marketing Spend  New York  R&D Spend\n",
      "0                1         1          1\n",
      "1                1         0          1\n",
      "2                1         0          1\n"
     ]
    }
   ],
   "source": [
    "# Random Sampling\n",
    "# Note: Python executes each code box independently. Once this box is executed\n",
    "#       you have to start from previous code box to recover the original \n",
    "#       covariate matrix first. If this is not done, the covariate matrix \n",
    "#       *newX* will get smaller and smaller.\n",
    "num_initial_draw = 3\n",
    "newX = newX.iloc[:, random.sample(range(newX.shape[1]), num_initial_draw)]\n",
    "print(newX.head(3))"
   ]
  },
  {
   "cell_type": "code",
   "execution_count": 239,
   "metadata": {},
   "outputs": [
    {
     "name": "stdout",
     "output_type": "stream",
     "text": [
      "       0\n",
      "0  1_1_0\n",
      "1  0_0_0\n",
      "2  0_0_1\n",
      "3  1_1_1\n",
      "   Marketing Spend  New York  R&D Spend\n",
      "0                1         1          1\n",
      "1                1         0          1\n",
      "2                1         0          1\n",
      "2.8567550791291914\n"
     ]
    }
   ],
   "source": [
    "# Try\n",
    "testresult = iscore(X=newX, y=y)\n",
    "print(testresult['Partition'])\n",
    "print(testresult['X'].head(3))\n",
    "print(testresult['Influence Score'])"
   ]
  },
  {
   "cell_type": "markdown",
   "metadata": {},
   "source": [
    "## The Backward Dropping Algorithm\n",
    "\n",
    "Let us introduce a greedy backward selection algorithm based on the unique property of Influence Score (i.e. I-score). If selected covariate $X$ carries crucial information about dependent variable $y$, we expect to observe a high value for Influence Score (i.e. I-score). If somehow selected covariate $X$ carries noisy variables that damage the purity of $X$ to predict $y$, we expect this measure to decrease. In addition, the more noisy variable selected covariate matrix carries, the lower the Influence Score (e.g. I-score). Hence, due to this property, we develop the Backward Dropping Algorithm."
   ]
  },
  {
   "cell_type": "code",
   "execution_count": 303,
   "metadata": {},
   "outputs": [
    {
     "name": "stdout",
     "output_type": "stream",
     "text": [
      "   R&D Spend  Administration  Marketing Spend  Florida  New York\n",
      "0          1               1                1        0         1\n",
      "1          1               1                1        0         0\n",
      "(50, 5)\n",
      "   Florida  Marketing Spend  R&D Spend  New York\n",
      "0        0                1          1         1\n",
      "1        0                1          1         0\n",
      "2        1                1          1         0\n"
     ]
    }
   ],
   "source": [
    "newX = pd.DataFrame([])\n",
    "for j in range(X.shape[1]):\n",
    "    feature = X.iloc[:, j]\n",
    "    feature = (feature > feature.mean()).astype(int)\n",
    "    newX = pd.concat([newX, feature], axis=1)\n",
    "print(newX.head(2))\n",
    "print(newX.shape)\n",
    "\n",
    "# Random Sampling\n",
    "# Note: Python executes each code box independently. Once this box is executed\n",
    "#       you have to start from previous code box to recover the original \n",
    "#       covariate matrix first. If this is not done, the covariate matrix \n",
    "#       *newX* will get smaller and smaller.\n",
    "num_initial_draw = 4\n",
    "newX = newX.iloc[:, random.sample(range(newX.shape[1]), num_initial_draw)]\n",
    "print(newX.head(3))"
   ]
  },
  {
   "cell_type": "code",
   "execution_count": 304,
   "metadata": {},
   "outputs": [
    {
     "name": "stdout",
     "output_type": "stream",
     "text": [
      "1.9387641557937267\n"
     ]
    }
   ],
   "source": [
    "# Compute Influence Score, e.g. I-score\n",
    "testresult = iscore(X=newX, y=y)\n",
    "print(testresult['Influence Score'])"
   ]
  },
  {
   "cell_type": "code",
   "execution_count": 305,
   "metadata": {},
   "outputs": [],
   "source": [
    "newX_copy = newX\n",
    "iscorePath = []\n",
    "selectedX = {}\n",
    "for j in range(newX_copy.shape[1]-1):\n",
    "    unit_scores = []\n",
    "    for i in range(newX.shape[1]):\n",
    "        unit_scores.append(iscore(X=newX.iloc[:, :].drop([str(newX.columns[i])], axis=1), y=y)['Influence Score'])\n",
    "        #print(i, unit_scores, np.max(unit_scores), unit_scores.index(max(unit_scores)))\n",
    "    iscorePath.append(np.max(unit_scores))\n",
    "    to_drop = unit_scores.index(max(unit_scores))\n",
    "    newX = newX.iloc[:, :].drop([str(newX.columns[to_drop])], axis=1).head(3)\n",
    "    selectedX[str(j)] = newX"
   ]
  },
  {
   "cell_type": "code",
   "execution_count": 306,
   "metadata": {},
   "outputs": [
    {
     "name": "stdout",
     "output_type": "stream",
     "text": [
      "[4.544159627264301, 2.0447423868476524, 2.0447423868476524]\n",
      "   Florida  R&D Spend  New York\n",
      "0        0          1         1\n",
      "1        0          1         0\n",
      "2        1          1         0\n"
     ]
    }
   ],
   "source": [
    "print(iscorePath)\n",
    "print(selectedX[str(iscorePath.index(max(iscorePath)))])"
   ]
  },
  {
   "cell_type": "markdown",
   "metadata": {},
   "source": [
    "## Software Development / Product Managmeent\n",
    "\n",
    "Let us soft code the procedure of Backward Dropping Algorithm."
   ]
  },
  {
   "cell_type": "code",
   "execution_count": 314,
   "metadata": {},
   "outputs": [],
   "source": [
    "# Define function\n",
    "def FSFE_BDA(newX, y, num_initial_draw = 4):\n",
    "    # Random Sampling\n",
    "    newX = newX.iloc[:, random.sample(range(newX.shape[1]), num_initial_draw)]\n",
    "    \n",
    "    # BDA\n",
    "    newX_copy = newX\n",
    "    iscorePath = []\n",
    "    selectedX = {}\n",
    "    for j in range(newX_copy.shape[1]-1):\n",
    "        unit_scores = []\n",
    "        for i in range(newX.shape[1]):\n",
    "            unit_scores.append(iscore(X=newX.iloc[:, :].drop([str(newX.columns[i])], axis=1), y=y)['Influence Score'])\n",
    "            #print(i, unit_scores, np.max(unit_scores), unit_scores.index(max(unit_scores)))\n",
    "        iscorePath.append(np.max(unit_scores))\n",
    "        to_drop = unit_scores.index(max(unit_scores))\n",
    "        newX = newX.iloc[:, :].drop([str(newX.columns[to_drop])], axis=1).head(3)\n",
    "        selectedX[str(j)] = newX\n",
    "        \n",
    "    # Final Output\n",
    "    finalX = pd.DataFrame(selectedX[str(iscorePath.index(max(iscorePath)))])\n",
    "\n",
    "    # Output\n",
    "    return {\n",
    "        'Path': iscorePath,\n",
    "        'MaxIscore': np.max(iscorePath),\n",
    "        'newX': finalX\n",
    "    }\n",
    "# End of function"
   ]
  },
  {
   "cell_type": "markdown",
   "metadata": {},
   "source": [
    "Let us try it!"
   ]
  },
  {
   "cell_type": "code",
   "execution_count": 315,
   "metadata": {},
   "outputs": [
    {
     "name": "stdout",
     "output_type": "stream",
     "text": [
      "   R&D Spend  Administration  Marketing Spend  Florida  New York\n",
      "0   165349.2       136897.80        471784.10        0         1\n",
      "1   162597.7       151377.59        443898.53        0         0\n",
      "   R&D Spend  Administration  Marketing Spend  Florida  New York\n",
      "0          1               1                1        0         1\n",
      "1          1               1                1        0         0\n",
      "(50, 5)\n"
     ]
    }
   ],
   "source": [
    "# Data\n",
    "data = pd.read_csv('~/OneDrive/Documents/YinsPy/data/startups_invest.csv')\n",
    "X = data.iloc[:, :-1]\n",
    "y = data.iloc[:, data.shape[1] - 1]\n",
    "y = (y > np.mean(y)).astype(int)\n",
    "State = pd.get_dummies(X.iloc[:, 3], drop_first=True)\n",
    "X = pd.concat([X.iloc[:, :3], State], axis=1)\n",
    "print(X.head(2))\n",
    "\n",
    "newX = pd.DataFrame([])\n",
    "for j in range(X.shape[1]):\n",
    "    feature = X.iloc[:, j]\n",
    "    feature = (feature > feature.mean()).astype(int)\n",
    "    newX = pd.concat([newX, feature], axis=1)\n",
    "print(newX.head(2))\n",
    "print(newX.shape)"
   ]
  },
  {
   "cell_type": "code",
   "execution_count": 316,
   "metadata": {},
   "outputs": [],
   "source": [
    "testBDA = FSFE_BDA(newX, y, num_initial_draw = 4)"
   ]
  },
  {
   "cell_type": "code",
   "execution_count": 317,
   "metadata": {},
   "outputs": [
    {
     "data": {
      "text/plain": [
       "[3.4715736175130565, 2.0447423868476524, 2.0447423868476524]"
      ]
     },
     "execution_count": 317,
     "metadata": {},
     "output_type": "execute_result"
    }
   ],
   "source": [
    "testBDA['Path']"
   ]
  },
  {
   "cell_type": "code",
   "execution_count": 319,
   "metadata": {},
   "outputs": [
    {
     "data": {
      "text/plain": [
       "3.4715736175130565"
      ]
     },
     "execution_count": 319,
     "metadata": {},
     "output_type": "execute_result"
    }
   ],
   "source": [
    "testBDA['MaxIscore']"
   ]
  },
  {
   "cell_type": "code",
   "execution_count": 318,
   "metadata": {},
   "outputs": [
    {
     "data": {
      "text/html": [
       "<div>\n",
       "<style scoped>\n",
       "    .dataframe tbody tr th:only-of-type {\n",
       "        vertical-align: middle;\n",
       "    }\n",
       "\n",
       "    .dataframe tbody tr th {\n",
       "        vertical-align: top;\n",
       "    }\n",
       "\n",
       "    .dataframe thead th {\n",
       "        text-align: right;\n",
       "    }\n",
       "</style>\n",
       "<table border=\"1\" class=\"dataframe\">\n",
       "  <thead>\n",
       "    <tr style=\"text-align: right;\">\n",
       "      <th></th>\n",
       "      <th>Marketing Spend</th>\n",
       "      <th>Florida</th>\n",
       "      <th>R&amp;D Spend</th>\n",
       "    </tr>\n",
       "  </thead>\n",
       "  <tbody>\n",
       "    <tr>\n",
       "      <th>0</th>\n",
       "      <td>1</td>\n",
       "      <td>0</td>\n",
       "      <td>1</td>\n",
       "    </tr>\n",
       "    <tr>\n",
       "      <th>1</th>\n",
       "      <td>1</td>\n",
       "      <td>0</td>\n",
       "      <td>1</td>\n",
       "    </tr>\n",
       "    <tr>\n",
       "      <th>2</th>\n",
       "      <td>1</td>\n",
       "      <td>1</td>\n",
       "      <td>1</td>\n",
       "    </tr>\n",
       "  </tbody>\n",
       "</table>\n",
       "</div>"
      ],
      "text/plain": [
       "   Marketing Spend  Florida  R&D Spend\n",
       "0                1        0          1\n",
       "1                1        0          1\n",
       "2                1        1          1"
      ]
     },
     "execution_count": 318,
     "metadata": {},
     "output_type": "execute_result"
    }
   ],
   "source": [
    "testBDA['newX'].head(3)"
   ]
  }
 ],
 "metadata": {
  "kernelspec": {
   "display_name": "Python 3",
   "language": "python",
   "name": "python3"
  },
  "language_info": {
   "codemirror_mode": {
    "name": "ipython",
    "version": 3
   },
   "file_extension": ".py",
   "mimetype": "text/x-python",
   "name": "python",
   "nbconvert_exporter": "python",
   "pygments_lexer": "ipython3",
   "version": "3.6.5"
  }
 },
 "nbformat": 4,
 "nbformat_minor": 2
}
