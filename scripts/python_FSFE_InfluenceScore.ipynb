{
 "cells": [
  {
   "cell_type": "markdown",
   "metadata": {},
   "source": [
    "# Feature Selection & Feature Engineering: Predictivity by Influence Score\n",
    "\n",
    "Modern feature selection methodologies such as step-wise backward or forward selection according to AIC/BIC presume a certain underlying model before large dimensions are penalized with an error term. This school of though is problematic because the method left data scientist, statisticians, and machine learning practitioners ensure of the source of impurity of the data set (is error coming from data or the underlying model). \n",
    "\n",
    "Based on this motivation, Professor Shaw-hwa Lo introduced a non-parametric feature selection technique called Influence Score (i.e. I-score). The technique is a function that takes in certain covariates $X$ and dependent variable $y$ and output a measure of how much selected $X$ influences $y$. The formula is derived from the lower bound of Bayes' accuracy. \n",
    "\n",
    "From previous [notebook](https://github.com/yiqiao-yin/YinsPy/blob/master/scripts/python_DS_Measure_Predictivity.ipynb), we have some working knowledge of how Influence Score is computed given selected $X$ and target $y$. This notebook I will build up on what we have done and introduce a generalized feature method. In this book, I cover\n",
    "\n",
    "- **Review: Influence Score** I start by discussing what I covered from influence measure notebook in Data Scructures. We can produce a fixed set of partitions given a covariate matrix $X$. According to these partitions, we can compute the local average of target variable $y$ and calculate how that differs from global average of $y$, i.e. $\\hat{y}$. The discrepancies between local average based on partitions and global average can be raised by the number of observations that fall in each partition. This method, Influence Score, allows us to compute how powerful given (or selected) covariate matrix $X$ is at predicting target variable $y$.\n",
    "\n",
    "- **Backward Dropping Algorithm** Based on upon understanding, we need lots of random sampling to come up with a list of variable modules that are powerful at predicting $y$. This is the place where we design Backward Dropping Algorithm (BDA). The Backward Dropping Algorithm is a greedy searching algorithm that iteratively searching for noisy variables to drop. This system works due to a unique property of Influence Score, e.g. I-score, which is the following. Influence Score of a given collection of covariates increase if there are noisy variables in this collection and they are deleted. Influence Score of a given collection of covariates decrease if there newly added variables that do not contribute to the prediction of target variable.\n",
    "\n",
    "- **Software Development / Product Management** Last, I land on softly coded software products. Then I pack the soft codes in functions using *def* and push all functions into a *class* object in a *.py* script. To reuse this function in the future, I simply need to run the code **%run \"../data/NAME.py\"** in the code box of *ipynb*.\n",
    "\n",
    "- **Application** To test out the product, I reproduce the central idea on a brand new data set: housing price data set. Decision Tree algorithm produced about 89% on out-of-sample test set using original 18 variables. The performance seemed ok, but do we need all 18 variables? I use Influence Score and Backward Dropping Algorithm to screen for potential important variable combinations and I identified two important variables ['sqft_living', 'bedrooms']. By using only 8 variables, I am able to reproduce the 89% out-of-sample test set accuracy!\n",
    "\n",
    "- **Bonus: Why Does It Work?** This final section I introduce an artificial model and test the proposed package on this data to illustrate why does the algorithm work."
   ]
  },
  {
   "cell_type": "markdown",
   "metadata": {},
   "source": [
    "## Influence Score\n",
    "\n",
    "Let us recall the function we coded from previous notebook in the following"
   ]
  },
  {
   "cell_type": "code",
   "execution_count": 6,
   "metadata": {},
   "outputs": [],
   "source": [
    "# Define function\n",
    "def iscore(X, y):\n",
    "    # Environment Initiation\n",
    "    import numpy as np\n",
    "    import matplotlib.pyplot as plt\n",
    "    import pandas as pd\n",
    "    import random\n",
    "\n",
    "    # Create Partition\n",
    "    partition = X.iloc[:, 0].astype(str)\n",
    "    if X.shape[1] >= 2:\n",
    "        for i in range(1, X.shape[1]):\n",
    "            partition = partition.astype(str).str.cat(X.iloc[:, i].astype(str), sep =\"_\")\n",
    "    else:\n",
    "        partition = partition\n",
    "\n",
    "    # Local Information\n",
    "    list_of_partitions = pd.DataFrame(partition.value_counts())\n",
    "    Pi = pd.DataFrame(list_of_partitions.index)\n",
    "    local_n = pd.DataFrame(list_of_partitions.iloc[:, :])\n",
    "\n",
    "    # Compute Influence Score:\n",
    "    import collections\n",
    "    n = X.shape[0]\n",
    "    Y_bar = y.mean()\n",
    "    grouped = pd.DataFrame({'y': y, 'X': partition})\n",
    "    local_mean_vector = pd.DataFrame(grouped.groupby('X').mean())\n",
    "    local_n = grouped.groupby('X').count()['y']\n",
    "    iscore = np.sum(np.array(local_n**2).reshape(1, local_n.shape[0]) * np.array([(local_mean_vector['y'] - Y_bar)**2])) / np.std(y) / n\n",
    "\n",
    "    # Output\n",
    "    return {\n",
    "        'X': X,\n",
    "        'y': y,\n",
    "        'Local Mean Vector': local_mean_vector,\n",
    "        'Global Mean': Y_bar,\n",
    "        'Partition': Pi,\n",
    "        'Number of Samples in Partition': local_n,\n",
    "        'Influence Score': iscore}\n",
    "# End of function"
   ]
  },
  {
   "cell_type": "markdown",
   "metadata": {},
   "source": [
    "Let us try it on a real data set."
   ]
  },
  {
   "cell_type": "code",
   "execution_count": 7,
   "metadata": {},
   "outputs": [],
   "source": [
    "import numpy as np\n",
    "import matplotlib.pyplot as plt\n",
    "import pandas as pd\n",
    "import random"
   ]
  },
  {
   "cell_type": "code",
   "execution_count": 8,
   "metadata": {},
   "outputs": [
    {
     "name": "stdout",
     "output_type": "stream",
     "text": [
      "   R&D Spend  Administration  Marketing Spend  Florida  New York\n",
      "0   165349.2       136897.80        471784.10        0         1\n",
      "1   162597.7       151377.59        443898.53        0         0\n"
     ]
    }
   ],
   "source": [
    "# Data\n",
    "data = pd.read_csv('~/OneDrive/Documents/YinsPy/data/startups_invest.csv')\n",
    "X = data.iloc[:, :-1]\n",
    "y = data.iloc[:, data.shape[1] - 1]\n",
    "y = (y > np.mean(y)).astype(int)\n",
    "State = pd.get_dummies(X.iloc[:, 3], drop_first=True)\n",
    "X = pd.concat([X.iloc[:, :3], State], axis=1)\n",
    "print(X.head(2))"
   ]
  },
  {
   "cell_type": "code",
   "execution_count": 9,
   "metadata": {},
   "outputs": [
    {
     "name": "stdout",
     "output_type": "stream",
     "text": [
      "   R&D Spend  Administration  Marketing Spend  Florida  New York\n",
      "0          1               1                1        0         1\n",
      "1          1               1                1        0         0\n",
      "(50, 5)\n"
     ]
    }
   ],
   "source": [
    "newX = pd.DataFrame([])\n",
    "for j in range(X.shape[1]):\n",
    "    feature = X.iloc[:, j]\n",
    "    feature = (feature > feature.mean()).astype(int)\n",
    "    newX = pd.concat([newX, feature], axis=1)\n",
    "print(newX.head(2))\n",
    "print(newX.shape)"
   ]
  },
  {
   "cell_type": "code",
   "execution_count": 10,
   "metadata": {},
   "outputs": [
    {
     "name": "stdout",
     "output_type": "stream",
     "text": [
      "   Administration  Florida  Marketing Spend\n",
      "0               1        0                1\n",
      "1               1        0                1\n",
      "2               0        1                1\n"
     ]
    }
   ],
   "source": [
    "# Random Sampling\n",
    "# Note: Python executes each code box independently. Once this box is executed\n",
    "#       you have to start from previous code box to recover the original \n",
    "#       covariate matrix first. If this is not done, the covariate matrix \n",
    "#       *newX* will get smaller and smaller.\n",
    "num_initial_draw = 3\n",
    "newX = newX.iloc[:, random.sample(range(newX.shape[1]), num_initial_draw)]\n",
    "print(newX.head(3))"
   ]
  },
  {
   "cell_type": "code",
   "execution_count": 11,
   "metadata": {},
   "outputs": [
    {
     "name": "stdout",
     "output_type": "stream",
     "text": [
      "       0\n",
      "0  1_0_0\n",
      "1  0_0_0\n",
      "2  1_0_1\n",
      "3  0_1_1\n",
      "4  0_0_1\n",
      "5  1_1_1\n",
      "6  1_1_0\n",
      "7  0_1_0\n",
      "   Administration  Florida  Marketing Spend\n",
      "0               1        0                1\n",
      "1               1        0                1\n",
      "2               0        1                1\n",
      "1.827155214425592\n"
     ]
    }
   ],
   "source": [
    "# Try\n",
    "testresult = iscore(X=newX, y=y)\n",
    "print(testresult['Partition'])\n",
    "print(testresult['X'].head(3))\n",
    "print(testresult['Influence Score'])"
   ]
  },
  {
   "cell_type": "markdown",
   "metadata": {},
   "source": [
    "## The Backward Dropping Algorithm\n",
    "\n",
    "Let us introduce a greedy backward selection algorithm based on the unique property of Influence Score (i.e. I-score). If selected covariate $X$ carries crucial information about dependent variable $y$, we expect to observe a high value for Influence Score (i.e. I-score). If somehow selected covariate $X$ carries noisy variables that damage the purity of $X$ to predict $y$, we expect this measure to decrease. In addition, the more noisy variable selected covariate matrix carries, the lower the Influence Score (e.g. I-score). Hence, due to this property, we develop the Backward Dropping Algorithm."
   ]
  },
  {
   "cell_type": "code",
   "execution_count": 12,
   "metadata": {},
   "outputs": [
    {
     "name": "stdout",
     "output_type": "stream",
     "text": [
      "   R&D Spend  Administration  Marketing Spend  Florida  New York\n",
      "0          1               1                1        0         1\n",
      "1          1               1                1        0         0\n",
      "(50, 5)\n",
      "   Marketing Spend  New York  Florida  Administration\n",
      "0                1         1        0               1\n",
      "1                1         0        0               1\n",
      "2                1         0        1               0\n"
     ]
    }
   ],
   "source": [
    "newX = pd.DataFrame([])\n",
    "for j in range(X.shape[1]):\n",
    "    feature = X.iloc[:, j]\n",
    "    feature = (feature > feature.mean()).astype(int)\n",
    "    newX = pd.concat([newX, feature], axis=1)\n",
    "print(newX.head(2))\n",
    "print(newX.shape)\n",
    "\n",
    "# Random Sampling\n",
    "# Note: Python executes each code box independently. Once this box is executed\n",
    "#       you have to start from previous code box to recover the original \n",
    "#       covariate matrix first. If this is not done, the covariate matrix \n",
    "#       *newX* will get smaller and smaller.\n",
    "num_initial_draw = 4\n",
    "newX = newX.iloc[:, random.sample(range(newX.shape[1]), num_initial_draw)]\n",
    "print(newX.head(3))"
   ]
  },
  {
   "cell_type": "code",
   "execution_count": 13,
   "metadata": {},
   "outputs": [
    {
     "name": "stdout",
     "output_type": "stream",
     "text": [
      "1.0334418160969685\n"
     ]
    }
   ],
   "source": [
    "# Compute Influence Score, e.g. I-score\n",
    "testresult = iscore(X=newX, y=y)\n",
    "print(testresult['Influence Score'])"
   ]
  },
  {
   "cell_type": "code",
   "execution_count": 14,
   "metadata": {},
   "outputs": [],
   "source": [
    "newX_copy = newX\n",
    "iscorePath = []\n",
    "selectedX = {}\n",
    "for j in range(newX_copy.shape[1]-1):\n",
    "    unit_scores = []\n",
    "    for i in range(newX.shape[1]):\n",
    "        unit_scores.append(iscore(X=newX.iloc[:, :].drop([str(newX.columns[i])], axis=1), y=y)['Influence Score'])\n",
    "        #print(i, unit_scores, np.max(unit_scores), unit_scores.index(max(unit_scores)))\n",
    "    iscorePath.append(np.max(unit_scores))\n",
    "    to_drop = unit_scores.index(max(unit_scores))\n",
    "    newX = newX.iloc[:, :].drop([str(newX.columns[to_drop])], axis=1).head(3)\n",
    "    selectedX[str(j)] = newX"
   ]
  },
  {
   "cell_type": "code",
   "execution_count": 15,
   "metadata": {},
   "outputs": [
    {
     "name": "stdout",
     "output_type": "stream",
     "text": [
      "[2.025583564007748, 1.1359679926931403, 2.0447423868476524]\n",
      "   Marketing Spend\n",
      "0                1\n",
      "1                1\n",
      "2                1\n"
     ]
    }
   ],
   "source": [
    "print(iscorePath)\n",
    "print(selectedX[str(iscorePath.index(max(iscorePath)))])"
   ]
  },
  {
   "cell_type": "markdown",
   "metadata": {},
   "source": [
    "## Software Development / Product Managmeent\n",
    "\n",
    "### Soft Code\n",
    "\n",
    "Let us soft code the procedure of Backward Dropping Algorithm."
   ]
  },
  {
   "cell_type": "code",
   "execution_count": 16,
   "metadata": {},
   "outputs": [],
   "source": [
    "# Define function\n",
    "def BDA(X, y, num_initial_draw = 4):\n",
    "    # Environment Initiation\n",
    "    import numpy as np\n",
    "    import matplotlib.pyplot as plt\n",
    "    import pandas as pd\n",
    "    import random\n",
    "\n",
    "    # Random Sampling\n",
    "    newX = X.iloc[:, sorted(random.sample(range(X.shape[1]), num_initial_draw))]\n",
    "\n",
    "    # BDA\n",
    "    newX_copy = newX\n",
    "    iscorePath = []\n",
    "    selectedX = {}\n",
    "    for j in range(newX_copy.shape[1]-1):\n",
    "        unit_scores = []\n",
    "        for i in range(newX.shape[1]):\n",
    "            unit_scores.append(InteractionBasedLearning.iscore(\n",
    "                X=newX.iloc[:, :].drop([str(newX.columns[i])], axis=1), y=y)['Influence Score'])\n",
    "            #print(i, unit_scores, np.max(unit_scores), unit_scores.index(max(unit_scores)))\n",
    "        iscorePath.append(np.max(unit_scores))\n",
    "        to_drop = unit_scores.index(max(unit_scores))\n",
    "        newX = newX.iloc[:, :].drop([str(newX.columns[to_drop])], axis=1)\n",
    "        selectedX[str(j)] = newX\n",
    "\n",
    "    # Final Output\n",
    "    finalX = pd.DataFrame(selectedX[str(iscorePath.index(max(iscorePath)))])\n",
    "\n",
    "    # Output\n",
    "    return {\n",
    "        'Path': iscorePath,\n",
    "        'MaxIscore': np.max(iscorePath),\n",
    "        'newX': finalX,\n",
    "        'Summary': {\n",
    "            'Variable Module': np.array(finalX.columns), \n",
    "            'Influence Score': np.max(iscorePath) },\n",
    "        'Brief': [np.array(finalX.columns), [np.max(iscorePath)]]\n",
    "        }\n",
    "# End of function"
   ]
  },
  {
   "cell_type": "markdown",
   "metadata": {},
   "source": [
    "Let us try it!"
   ]
  },
  {
   "cell_type": "code",
   "execution_count": 17,
   "metadata": {},
   "outputs": [
    {
     "name": "stdout",
     "output_type": "stream",
     "text": [
      "   R&D Spend  Administration  Marketing Spend  Florida  New York\n",
      "0   165349.2       136897.80        471784.10        0         1\n",
      "1   162597.7       151377.59        443898.53        0         0\n",
      "   R&D Spend  Administration  Marketing Spend  Florida  New York\n",
      "0          1               1                1        0         1\n",
      "1          1               1                1        0         0\n",
      "(50, 5)\n"
     ]
    }
   ],
   "source": [
    "# Data\n",
    "data = pd.read_csv('~/OneDrive/Documents/YinsPy/data/startups_invest.csv')\n",
    "X = data.iloc[:, :-1]\n",
    "y = data.iloc[:, data.shape[1] - 1]\n",
    "y = (y > np.mean(y)).astype(int)\n",
    "State = pd.get_dummies(X.iloc[:, 3], drop_first=True)\n",
    "X = pd.concat([X.iloc[:, :3], State], axis=1)\n",
    "print(X.head(2))\n",
    "\n",
    "newX = pd.DataFrame([])\n",
    "for j in range(X.shape[1]):\n",
    "    feature = X.iloc[:, j]\n",
    "    feature = (feature > feature.mean()).astype(int)\n",
    "    newX = pd.concat([newX, feature], axis=1)\n",
    "print(newX.head(2))\n",
    "print(newX.shape)"
   ]
  },
  {
   "cell_type": "code",
   "execution_count": 18,
   "metadata": {},
   "outputs": [],
   "source": [
    "testBDA = BDA(newX, y, num_initial_draw = 4)"
   ]
  },
  {
   "cell_type": "code",
   "execution_count": 19,
   "metadata": {},
   "outputs": [
    {
     "data": {
      "text/plain": [
       "[4.258510327480856, 7.470222772857905, 8.935110905666017]"
      ]
     },
     "execution_count": 19,
     "metadata": {},
     "output_type": "execute_result"
    }
   ],
   "source": [
    "testBDA['Path']"
   ]
  },
  {
   "cell_type": "code",
   "execution_count": 20,
   "metadata": {},
   "outputs": [
    {
     "data": {
      "text/plain": [
       "8.935110905666017"
      ]
     },
     "execution_count": 20,
     "metadata": {},
     "output_type": "execute_result"
    }
   ],
   "source": [
    "testBDA['MaxIscore']"
   ]
  },
  {
   "cell_type": "code",
   "execution_count": 21,
   "metadata": {},
   "outputs": [
    {
     "data": {
      "text/html": [
       "<div>\n",
       "<style scoped>\n",
       "    .dataframe tbody tr th:only-of-type {\n",
       "        vertical-align: middle;\n",
       "    }\n",
       "\n",
       "    .dataframe tbody tr th {\n",
       "        vertical-align: top;\n",
       "    }\n",
       "\n",
       "    .dataframe thead th {\n",
       "        text-align: right;\n",
       "    }\n",
       "</style>\n",
       "<table border=\"1\" class=\"dataframe\">\n",
       "  <thead>\n",
       "    <tr style=\"text-align: right;\">\n",
       "      <th></th>\n",
       "      <th>R&amp;D Spend</th>\n",
       "    </tr>\n",
       "  </thead>\n",
       "  <tbody>\n",
       "    <tr>\n",
       "      <th>0</th>\n",
       "      <td>1</td>\n",
       "    </tr>\n",
       "    <tr>\n",
       "      <th>1</th>\n",
       "      <td>1</td>\n",
       "    </tr>\n",
       "    <tr>\n",
       "      <th>2</th>\n",
       "      <td>1</td>\n",
       "    </tr>\n",
       "  </tbody>\n",
       "</table>\n",
       "</div>"
      ],
      "text/plain": [
       "   R&D Spend\n",
       "0          1\n",
       "1          1\n",
       "2          1"
      ]
     },
     "execution_count": 21,
     "metadata": {},
     "output_type": "execute_result"
    }
   ],
   "source": [
    "testBDA['newX'].head(3)"
   ]
  },
  {
   "cell_type": "code",
   "execution_count": 22,
   "metadata": {},
   "outputs": [],
   "source": [
    "class InteractionBasedLearning:\n",
    "    \"\"\"\n",
    "    README:\n",
    "    This script has the following functions:\n",
    "    (1) iscore(): this function computes the I-score of selected X at predicting Y\n",
    "    (2) BDA(): this function runs through Backward Dropping Algorithm once\n",
    "    (3) InteractionLearning(): this function runs many rounds of BDA and finalize the variables selcted according to I-score\n",
    "    \"\"\"\n",
    "    # Define function\n",
    "    def iscore(X, y):\n",
    "        # Environment Initiation\n",
    "        import numpy as np\n",
    "        import matplotlib.pyplot as plt\n",
    "        import pandas as pd\n",
    "        import random\n",
    "\n",
    "        # Create Partition\n",
    "        partition = X.iloc[:, 0].astype(str)\n",
    "        if X.shape[1] >= 2:\n",
    "            for i in range(1, X.shape[1]):\n",
    "                partition = partition.astype(str).str.cat(X.iloc[:, i].astype(str), sep =\"_\")\n",
    "        else:\n",
    "            partition = partition\n",
    "\n",
    "        # Local Information\n",
    "        list_of_partitions = pd.DataFrame(partition.value_counts())\n",
    "        Pi = pd.DataFrame(list_of_partitions.index)\n",
    "        local_n = pd.DataFrame(list_of_partitions.iloc[:, :])\n",
    "\n",
    "        # Compute Influence Score:\n",
    "        import collections\n",
    "        n = X.shape[0]\n",
    "        Y_bar = y.mean()\n",
    "        grouped = pd.DataFrame({'y': y, 'X': partition})\n",
    "        local_mean_vector = pd.DataFrame(grouped.groupby('X').mean())\n",
    "        local_n = grouped.groupby('X').count()['y']\n",
    "        iscore = np.sum(np.array(local_n**2).reshape(1, local_n.shape[0]) * np.array([(local_mean_vector['y'] - Y_bar)**2])) / np.std(y) / n\n",
    "\n",
    "        # Output\n",
    "        return {\n",
    "            'X': X,\n",
    "            'y': y,\n",
    "            'Local Mean Vector': local_mean_vector,\n",
    "            'Global Mean': Y_bar,\n",
    "            'Partition': Pi,\n",
    "            'Number of Samples in Partition': local_n,\n",
    "            'Influence Score': iscore}\n",
    "    # End of function\n",
    "    \n",
    "    # Define function\n",
    "    def BDA(X, y, num_initial_draw = 4):\n",
    "        # Environment Initiation\n",
    "        import numpy as np\n",
    "        import matplotlib.pyplot as plt\n",
    "        import pandas as pd\n",
    "        import random\n",
    "        \n",
    "        # Random Sampling\n",
    "        newX = X.iloc[:, sorted(random.sample(range(X.shape[1]), num_initial_draw))]\n",
    "\n",
    "        # BDA\n",
    "        newX_copy = newX\n",
    "        iscorePath = []\n",
    "        selectedX = {}\n",
    "        for j in range(newX_copy.shape[1]-1):\n",
    "            unit_scores = []\n",
    "            for i in range(newX.shape[1]):\n",
    "                unit_scores.append(InteractionBasedLearning.iscore(\n",
    "                    X=newX.iloc[:, :].drop([str(newX.columns[i])], axis=1), y=y)['Influence Score'])\n",
    "                #print(i, unit_scores, np.max(unit_scores), unit_scores.index(max(unit_scores)))\n",
    "            iscorePath.append(np.max(unit_scores))\n",
    "            to_drop = unit_scores.index(max(unit_scores))\n",
    "            newX = newX.iloc[:, :].drop([str(newX.columns[to_drop])], axis=1)\n",
    "            selectedX[str(j)] = newX\n",
    "\n",
    "        # Final Output\n",
    "        finalX = pd.DataFrame(selectedX[str(iscorePath.index(max(iscorePath)))])\n",
    "\n",
    "        # Output\n",
    "        return {\n",
    "            'Path': iscorePath,\n",
    "            'MaxIscore': np.max(iscorePath),\n",
    "            'newX': finalX,\n",
    "            'Summary': {\n",
    "                'Variable Module': np.array(finalX.columns), \n",
    "                'Influence Score': np.max(iscorePath) },\n",
    "            'Brief': [np.array(finalX.columns), [np.max(iscorePath)]]\n",
    "            }\n",
    "    # End of function\n",
    "    \n",
    "    # Define function\n",
    "    def InteractionLearning(newX, y, \n",
    "                            testSize=0.3, \n",
    "                            num_initial_draw=7, total_rounds=10, top_how_many=3, \n",
    "                            verbatim=True):\n",
    "        # Environment Initiation\n",
    "        import numpy as np\n",
    "        import matplotlib.pyplot as plt\n",
    "        import pandas as pd\n",
    "        import random\n",
    "        import time\n",
    "        \n",
    "        # Split Train and Validate\n",
    "        from sklearn.model_selection import train_test_split\n",
    "        X_train, X_test, y_train, y_test = train_test_split(newX, y, test_size=testSize, random_state = 0)\n",
    "        \n",
    "        # Start Learning\n",
    "        start = time.time()\n",
    "        listVariableModule = []\n",
    "        listInfluenceScore = []\n",
    "        from tqdm import tqdm\n",
    "        for i in tqdm(range(total_rounds)):\n",
    "            oneDraw = InteractionBasedLearning.BDA(X=X_train, y=y_train, num_initial_draw=num_initial_draw)\n",
    "            listVariableModule.append([np.array(oneDraw['newX'].columns)])\n",
    "            listInfluenceScore.append(oneDraw['MaxIscore'])\n",
    "        end = time.time()\n",
    "        \n",
    "        # Time Check\n",
    "        if verbatim == True: print('Time Consumption', end - start)\n",
    "        \n",
    "        # Update Features\n",
    "        listVariableModule_copy = listVariableModule\n",
    "        listInfluenceScore_copy = listInfluenceScore\n",
    "        selectedNom = listVariableModule[listInfluenceScore.index(np.max(listInfluenceScore))]\n",
    "        informativeX = pd.DataFrame(newX[selectedNom[0]])\n",
    "        listVariableModule_copy = np.delete(listVariableModule_copy, listInfluenceScore_copy.index(np.max(listInfluenceScore)))\n",
    "        listInfluenceScore_copy = np.delete(listInfluenceScore_copy, listInfluenceScore_copy.index(np.max(listInfluenceScore)))\n",
    "\n",
    "        for j in range(2, top_how_many):\n",
    "            selectedNom = listVariableModule_copy[listInfluenceScore_copy.tolist().index(np.max(listInfluenceScore_copy))]\n",
    "            informativeX = pd.concat([informativeX, pd.DataFrame(newX[selectedNom])], axis=1)\n",
    "            listVariableModule_copy = np.delete(\n",
    "                listVariableModule_copy, \n",
    "                listInfluenceScore_copy.tolist().index(np.max(listInfluenceScore_copy)))\n",
    "            listInfluenceScore_copy = np.delete(\n",
    "                listInfluenceScore_copy, \n",
    "                listInfluenceScore_copy.tolist().index(np.max(listInfluenceScore_copy)))\n",
    "        \n",
    "        briefResult = pd.DataFrame({'Modules': listVariableModule, 'Score': listInfluenceScore})\n",
    "        briefResult = briefResult.sort_values(by=['Score'], ascending=False)\n",
    "        briefResult = briefResult.loc[~briefResult['Score'].duplicated()]\n",
    "\n",
    "        # Output\n",
    "        return {\n",
    "            'List of Variable Modules': listVariableModule,\n",
    "            'List of Influence Measures': listInfluenceScore,\n",
    "            'Brief': briefResult,\n",
    "            'New Features': informativeX\n",
    "        }\n",
    "    # End of function"
   ]
  },
  {
   "cell_type": "code",
   "execution_count": 23,
   "metadata": {},
   "outputs": [
    {
     "name": "stdout",
     "output_type": "stream",
     "text": [
      "   R&D Spend  Administration  Marketing Spend  Florida  New York\n",
      "0   165349.2       136897.80        471784.10        0         1\n",
      "1   162597.7       151377.59        443898.53        0         0\n",
      "   R&D Spend  Administration  Marketing Spend  Florida  New York\n",
      "0          1               1                1        0         1\n",
      "1          1               1                1        0         0\n",
      "(50, 5)\n"
     ]
    }
   ],
   "source": [
    "# Data\n",
    "data = pd.read_csv('~/OneDrive/Documents/YinsPy/data/startups_invest.csv')\n",
    "X = data.iloc[:, :-1]\n",
    "y = data.iloc[:, data.shape[1] - 1]\n",
    "y = (y > np.mean(y)).astype(int)\n",
    "State = pd.get_dummies(X.iloc[:, 3], drop_first=True)\n",
    "X = pd.concat([X.iloc[:, :3], State], axis=1)\n",
    "print(X.head(2))\n",
    "\n",
    "newX = pd.DataFrame([])\n",
    "for j in range(X.shape[1]):\n",
    "    feature = X.iloc[:, j]\n",
    "    feature = (feature > feature.mean()).astype(int)\n",
    "    newX = pd.concat([newX, feature], axis=1)\n",
    "print(newX.head(2))\n",
    "print(newX.shape)"
   ]
  },
  {
   "cell_type": "code",
   "execution_count": 24,
   "metadata": {},
   "outputs": [
    {
     "data": {
      "text/plain": [
       "<function __main__.InteractionBasedLearning.BDA>"
      ]
     },
     "execution_count": 24,
     "metadata": {},
     "output_type": "execute_result"
    }
   ],
   "source": [
    "InteractionBasedLearning.BDA"
   ]
  },
  {
   "cell_type": "code",
   "execution_count": 25,
   "metadata": {},
   "outputs": [],
   "source": [
    "testResult = InteractionBasedLearning.BDA(X=newX, y=y, num_initial_draw=5)"
   ]
  },
  {
   "cell_type": "code",
   "execution_count": 26,
   "metadata": {},
   "outputs": [
    {
     "data": {
      "text/plain": [
       "8.935110905666017"
      ]
     },
     "execution_count": 26,
     "metadata": {},
     "output_type": "execute_result"
    }
   ],
   "source": [
    "testResult['MaxIscore']"
   ]
  },
  {
   "cell_type": "code",
   "execution_count": 27,
   "metadata": {},
   "outputs": [
    {
     "data": {
      "text/html": [
       "<div>\n",
       "<style scoped>\n",
       "    .dataframe tbody tr th:only-of-type {\n",
       "        vertical-align: middle;\n",
       "    }\n",
       "\n",
       "    .dataframe tbody tr th {\n",
       "        vertical-align: top;\n",
       "    }\n",
       "\n",
       "    .dataframe thead th {\n",
       "        text-align: right;\n",
       "    }\n",
       "</style>\n",
       "<table border=\"1\" class=\"dataframe\">\n",
       "  <thead>\n",
       "    <tr style=\"text-align: right;\">\n",
       "      <th></th>\n",
       "      <th>R&amp;D Spend</th>\n",
       "    </tr>\n",
       "  </thead>\n",
       "  <tbody>\n",
       "    <tr>\n",
       "      <th>0</th>\n",
       "      <td>1</td>\n",
       "    </tr>\n",
       "    <tr>\n",
       "      <th>1</th>\n",
       "      <td>1</td>\n",
       "    </tr>\n",
       "    <tr>\n",
       "      <th>2</th>\n",
       "      <td>1</td>\n",
       "    </tr>\n",
       "    <tr>\n",
       "      <th>3</th>\n",
       "      <td>1</td>\n",
       "    </tr>\n",
       "    <tr>\n",
       "      <th>4</th>\n",
       "      <td>1</td>\n",
       "    </tr>\n",
       "  </tbody>\n",
       "</table>\n",
       "</div>"
      ],
      "text/plain": [
       "   R&D Spend\n",
       "0          1\n",
       "1          1\n",
       "2          1\n",
       "3          1\n",
       "4          1"
      ]
     },
     "execution_count": 27,
     "metadata": {},
     "output_type": "execute_result"
    }
   ],
   "source": [
    "testResult['newX'].head()"
   ]
  },
  {
   "cell_type": "markdown",
   "metadata": {},
   "source": [
    "## Application\n",
    "\n",
    "We can also save the above *class* object in a *.py* script so that in the future we can load this script."
   ]
  },
  {
   "cell_type": "code",
   "execution_count": 372,
   "metadata": {},
   "outputs": [],
   "source": [
    "# Import Modules\n",
    "import numpy as np\n",
    "import matplotlib.pyplot as plt\n",
    "import pandas as pd\n",
    "import random"
   ]
  },
  {
   "cell_type": "code",
   "execution_count": 373,
   "metadata": {},
   "outputs": [
    {
     "data": {
      "text/html": [
       "<div>\n",
       "<style scoped>\n",
       "    .dataframe tbody tr th:only-of-type {\n",
       "        vertical-align: middle;\n",
       "    }\n",
       "\n",
       "    .dataframe tbody tr th {\n",
       "        vertical-align: top;\n",
       "    }\n",
       "\n",
       "    .dataframe thead th {\n",
       "        text-align: right;\n",
       "    }\n",
       "</style>\n",
       "<table border=\"1\" class=\"dataframe\">\n",
       "  <thead>\n",
       "    <tr style=\"text-align: right;\">\n",
       "      <th></th>\n",
       "      <th>id</th>\n",
       "      <th>date</th>\n",
       "      <th>price</th>\n",
       "      <th>bedrooms</th>\n",
       "      <th>bathrooms</th>\n",
       "      <th>sqft_living</th>\n",
       "      <th>sqft_lot</th>\n",
       "      <th>floors</th>\n",
       "      <th>waterfront</th>\n",
       "      <th>view</th>\n",
       "      <th>...</th>\n",
       "      <th>grade</th>\n",
       "      <th>sqft_above</th>\n",
       "      <th>sqft_basement</th>\n",
       "      <th>yr_built</th>\n",
       "      <th>yr_renovated</th>\n",
       "      <th>zipcode</th>\n",
       "      <th>lat</th>\n",
       "      <th>long</th>\n",
       "      <th>sqft_living15</th>\n",
       "      <th>sqft_lot15</th>\n",
       "    </tr>\n",
       "  </thead>\n",
       "  <tbody>\n",
       "    <tr>\n",
       "      <th>0</th>\n",
       "      <td>7129300520</td>\n",
       "      <td>20141013T000000</td>\n",
       "      <td>221900.0</td>\n",
       "      <td>3</td>\n",
       "      <td>1.00</td>\n",
       "      <td>1180</td>\n",
       "      <td>5650</td>\n",
       "      <td>1.0</td>\n",
       "      <td>0</td>\n",
       "      <td>0</td>\n",
       "      <td>...</td>\n",
       "      <td>7</td>\n",
       "      <td>1180</td>\n",
       "      <td>0</td>\n",
       "      <td>1955</td>\n",
       "      <td>0</td>\n",
       "      <td>98178</td>\n",
       "      <td>47.5112</td>\n",
       "      <td>-122.257</td>\n",
       "      <td>1340</td>\n",
       "      <td>5650</td>\n",
       "    </tr>\n",
       "    <tr>\n",
       "      <th>1</th>\n",
       "      <td>6414100192</td>\n",
       "      <td>20141209T000000</td>\n",
       "      <td>538000.0</td>\n",
       "      <td>3</td>\n",
       "      <td>2.25</td>\n",
       "      <td>2570</td>\n",
       "      <td>7242</td>\n",
       "      <td>2.0</td>\n",
       "      <td>0</td>\n",
       "      <td>0</td>\n",
       "      <td>...</td>\n",
       "      <td>7</td>\n",
       "      <td>2170</td>\n",
       "      <td>400</td>\n",
       "      <td>1951</td>\n",
       "      <td>1991</td>\n",
       "      <td>98125</td>\n",
       "      <td>47.7210</td>\n",
       "      <td>-122.319</td>\n",
       "      <td>1690</td>\n",
       "      <td>7639</td>\n",
       "    </tr>\n",
       "    <tr>\n",
       "      <th>2</th>\n",
       "      <td>5631500400</td>\n",
       "      <td>20150225T000000</td>\n",
       "      <td>180000.0</td>\n",
       "      <td>2</td>\n",
       "      <td>1.00</td>\n",
       "      <td>770</td>\n",
       "      <td>10000</td>\n",
       "      <td>1.0</td>\n",
       "      <td>0</td>\n",
       "      <td>0</td>\n",
       "      <td>...</td>\n",
       "      <td>6</td>\n",
       "      <td>770</td>\n",
       "      <td>0</td>\n",
       "      <td>1933</td>\n",
       "      <td>0</td>\n",
       "      <td>98028</td>\n",
       "      <td>47.7379</td>\n",
       "      <td>-122.233</td>\n",
       "      <td>2720</td>\n",
       "      <td>8062</td>\n",
       "    </tr>\n",
       "  </tbody>\n",
       "</table>\n",
       "<p>3 rows × 21 columns</p>\n",
       "</div>"
      ],
      "text/plain": [
       "           id             date     price  bedrooms  bathrooms  sqft_living  \\\n",
       "0  7129300520  20141013T000000  221900.0         3       1.00         1180   \n",
       "1  6414100192  20141209T000000  538000.0         3       2.25         2570   \n",
       "2  5631500400  20150225T000000  180000.0         2       1.00          770   \n",
       "\n",
       "   sqft_lot  floors  waterfront  view  ...  grade  sqft_above  sqft_basement  \\\n",
       "0      5650     1.0           0     0  ...      7        1180              0   \n",
       "1      7242     2.0           0     0  ...      7        2170            400   \n",
       "2     10000     1.0           0     0  ...      6         770              0   \n",
       "\n",
       "   yr_built  yr_renovated  zipcode      lat     long  sqft_living15  \\\n",
       "0      1955             0    98178  47.5112 -122.257           1340   \n",
       "1      1951          1991    98125  47.7210 -122.319           1690   \n",
       "2      1933             0    98028  47.7379 -122.233           2720   \n",
       "\n",
       "   sqft_lot15  \n",
       "0        5650  \n",
       "1        7639  \n",
       "2        8062  \n",
       "\n",
       "[3 rows x 21 columns]"
      ]
     },
     "execution_count": 373,
     "metadata": {},
     "output_type": "execute_result"
    }
   ],
   "source": [
    "# Get Data\n",
    "house_sales = pd.read_csv('../data/kc_house_data.csv')\n",
    "house_sales.head(3)"
   ]
  },
  {
   "cell_type": "code",
   "execution_count": 374,
   "metadata": {},
   "outputs": [
    {
     "name": "stdout",
     "output_type": "stream",
     "text": [
      "(21613, 21)\n"
     ]
    }
   ],
   "source": [
    "print(house_sales.shape)"
   ]
  },
  {
   "cell_type": "code",
   "execution_count": 654,
   "metadata": {},
   "outputs": [
    {
     "name": "stdout",
     "output_type": "stream",
     "text": [
      "   bedrooms  bathrooms  sqft_living  sqft_lot  floors  waterfront  view  \\\n",
      "0         3       1.00         1180      5650     1.0           0     0   \n",
      "1         3       2.25         2570      7242     2.0           0     0   \n",
      "\n",
      "   condition  grade  sqft_above  sqft_basement  yr_built  yr_renovated  \\\n",
      "0          3      7        1180              0      1955             0   \n",
      "1          3      7        2170            400      1951          1991   \n",
      "\n",
      "   zipcode      lat     long  sqft_living15  sqft_lot15  \n",
      "0    98178  47.5112 -122.257           1340        5650  \n",
      "1    98125  47.7210 -122.319           1690        7639  \n",
      "0    0\n",
      "1    0\n",
      "2    0\n",
      "3    1\n",
      "4    0\n",
      "Name: price, dtype: int32\n"
     ]
    }
   ],
   "source": [
    "# Clean Data\n",
    "data = house_sales\n",
    "X = data.iloc[:, :].drop(['id', 'date', 'price'], axis=1)\n",
    "y = (data['price'] > np.mean(data['price'])).astype(int)\n",
    "print(X.head(2))\n",
    "print(y.head())"
   ]
  },
  {
   "cell_type": "code",
   "execution_count": 655,
   "metadata": {},
   "outputs": [
    {
     "name": "stdout",
     "output_type": "stream",
     "text": [
      "   bedrooms  bathrooms  sqft_living  sqft_lot  floors  waterfront  view  \\\n",
      "0         0          0            0         0       0           0     0   \n",
      "1         0          1            1         0       1           0     0   \n",
      "\n",
      "   condition  grade  sqft_above  sqft_basement  yr_built  yr_renovated  \\\n",
      "0          0      0           0              0         0             0   \n",
      "1          0      0           1              1         0             1   \n",
      "\n",
      "   zipcode  lat  long  sqft_living15  sqft_lot15  \n",
      "0        1    0     0              0           0  \n",
      "1        1    1     0              0           0  \n",
      "(21613, 18)\n"
     ]
    }
   ],
   "source": [
    "newX = pd.DataFrame([])\n",
    "for j in range(X.shape[1]):\n",
    "    feature = X.iloc[:, j]\n",
    "    feature = (feature > feature.mean()).astype(int)\n",
    "    newX = pd.concat([newX, feature], axis=1)\n",
    "print(newX.head(2))\n",
    "print(newX.shape)"
   ]
  },
  {
   "cell_type": "code",
   "execution_count": 688,
   "metadata": {},
   "outputs": [
    {
     "data": {
      "text/plain": [
       "<function __main__.InteractionBasedLearning.InteractionLearning>"
      ]
     },
     "execution_count": 688,
     "metadata": {},
     "output_type": "execute_result"
    }
   ],
   "source": [
    "%run \"../scripts/InteractionBasedLearning.py\"\n",
    "InteractionBasedLearning.InteractionLearning"
   ]
  },
  {
   "cell_type": "code",
   "execution_count": 678,
   "metadata": {},
   "outputs": [
    {
     "name": "stdout",
     "output_type": "stream",
     "text": [
      "range(0, 18)\n",
      "RangeIndex(start=0, stop=18, step=1)\n"
     ]
    }
   ],
   "source": [
    "print(range(0, newX.shape[1]))\n",
    "NAMES = newX.columns\n",
    "print(NAMES)"
   ]
  },
  {
   "cell_type": "code",
   "execution_count": 679,
   "metadata": {},
   "outputs": [],
   "source": [
    "newX.columns = range(0, newX.shape[1])"
   ]
  },
  {
   "cell_type": "code",
   "execution_count": 680,
   "metadata": {},
   "outputs": [
    {
     "data": {
      "text/html": [
       "<div>\n",
       "<style scoped>\n",
       "    .dataframe tbody tr th:only-of-type {\n",
       "        vertical-align: middle;\n",
       "    }\n",
       "\n",
       "    .dataframe tbody tr th {\n",
       "        vertical-align: top;\n",
       "    }\n",
       "\n",
       "    .dataframe thead th {\n",
       "        text-align: right;\n",
       "    }\n",
       "</style>\n",
       "<table border=\"1\" class=\"dataframe\">\n",
       "  <thead>\n",
       "    <tr style=\"text-align: right;\">\n",
       "      <th></th>\n",
       "      <th>0</th>\n",
       "      <th>1</th>\n",
       "      <th>2</th>\n",
       "      <th>3</th>\n",
       "      <th>4</th>\n",
       "      <th>5</th>\n",
       "      <th>6</th>\n",
       "      <th>7</th>\n",
       "      <th>8</th>\n",
       "      <th>9</th>\n",
       "      <th>10</th>\n",
       "      <th>11</th>\n",
       "      <th>12</th>\n",
       "      <th>13</th>\n",
       "      <th>14</th>\n",
       "      <th>15</th>\n",
       "      <th>16</th>\n",
       "      <th>17</th>\n",
       "    </tr>\n",
       "  </thead>\n",
       "  <tbody>\n",
       "    <tr>\n",
       "      <th>0</th>\n",
       "      <td>0</td>\n",
       "      <td>0</td>\n",
       "      <td>0</td>\n",
       "      <td>0</td>\n",
       "      <td>0</td>\n",
       "      <td>0</td>\n",
       "      <td>0</td>\n",
       "      <td>0</td>\n",
       "      <td>0</td>\n",
       "      <td>0</td>\n",
       "      <td>0</td>\n",
       "      <td>0</td>\n",
       "      <td>0</td>\n",
       "      <td>1</td>\n",
       "      <td>0</td>\n",
       "      <td>0</td>\n",
       "      <td>0</td>\n",
       "      <td>0</td>\n",
       "    </tr>\n",
       "    <tr>\n",
       "      <th>1</th>\n",
       "      <td>0</td>\n",
       "      <td>1</td>\n",
       "      <td>1</td>\n",
       "      <td>0</td>\n",
       "      <td>1</td>\n",
       "      <td>0</td>\n",
       "      <td>0</td>\n",
       "      <td>0</td>\n",
       "      <td>0</td>\n",
       "      <td>1</td>\n",
       "      <td>1</td>\n",
       "      <td>0</td>\n",
       "      <td>1</td>\n",
       "      <td>1</td>\n",
       "      <td>1</td>\n",
       "      <td>0</td>\n",
       "      <td>0</td>\n",
       "      <td>0</td>\n",
       "    </tr>\n",
       "    <tr>\n",
       "      <th>2</th>\n",
       "      <td>0</td>\n",
       "      <td>0</td>\n",
       "      <td>0</td>\n",
       "      <td>0</td>\n",
       "      <td>0</td>\n",
       "      <td>0</td>\n",
       "      <td>0</td>\n",
       "      <td>0</td>\n",
       "      <td>0</td>\n",
       "      <td>0</td>\n",
       "      <td>0</td>\n",
       "      <td>0</td>\n",
       "      <td>0</td>\n",
       "      <td>0</td>\n",
       "      <td>1</td>\n",
       "      <td>0</td>\n",
       "      <td>1</td>\n",
       "      <td>0</td>\n",
       "    </tr>\n",
       "    <tr>\n",
       "      <th>3</th>\n",
       "      <td>1</td>\n",
       "      <td>1</td>\n",
       "      <td>0</td>\n",
       "      <td>0</td>\n",
       "      <td>0</td>\n",
       "      <td>0</td>\n",
       "      <td>0</td>\n",
       "      <td>1</td>\n",
       "      <td>0</td>\n",
       "      <td>0</td>\n",
       "      <td>1</td>\n",
       "      <td>0</td>\n",
       "      <td>0</td>\n",
       "      <td>1</td>\n",
       "      <td>0</td>\n",
       "      <td>0</td>\n",
       "      <td>0</td>\n",
       "      <td>0</td>\n",
       "    </tr>\n",
       "    <tr>\n",
       "      <th>4</th>\n",
       "      <td>0</td>\n",
       "      <td>0</td>\n",
       "      <td>0</td>\n",
       "      <td>0</td>\n",
       "      <td>0</td>\n",
       "      <td>0</td>\n",
       "      <td>0</td>\n",
       "      <td>0</td>\n",
       "      <td>1</td>\n",
       "      <td>0</td>\n",
       "      <td>0</td>\n",
       "      <td>1</td>\n",
       "      <td>0</td>\n",
       "      <td>0</td>\n",
       "      <td>1</td>\n",
       "      <td>1</td>\n",
       "      <td>0</td>\n",
       "      <td>0</td>\n",
       "    </tr>\n",
       "  </tbody>\n",
       "</table>\n",
       "</div>"
      ],
      "text/plain": [
       "   0   1   2   3   4   5   6   7   8   9   10  11  12  13  14  15  16  17\n",
       "0   0   0   0   0   0   0   0   0   0   0   0   0   0   1   0   0   0   0\n",
       "1   0   1   1   0   1   0   0   0   0   1   1   0   1   1   1   0   0   0\n",
       "2   0   0   0   0   0   0   0   0   0   0   0   0   0   0   1   0   1   0\n",
       "3   1   1   0   0   0   0   0   1   0   0   1   0   0   1   0   0   0   0\n",
       "4   0   0   0   0   0   0   0   0   1   0   0   1   0   0   1   1   0   0"
      ]
     },
     "execution_count": 680,
     "metadata": {},
     "output_type": "execute_result"
    }
   ],
   "source": [
    "newX.head()"
   ]
  },
  {
   "cell_type": "code",
   "execution_count": 681,
   "metadata": {},
   "outputs": [
    {
     "data": {
      "text/plain": [
       "numpy.int32"
      ]
     },
     "execution_count": 681,
     "metadata": {},
     "output_type": "execute_result"
    }
   ],
   "source": [
    "type(newX.iloc[0,0])"
   ]
  },
  {
   "cell_type": "code",
   "execution_count": 682,
   "metadata": {},
   "outputs": [
    {
     "name": "stdout",
     "output_type": "stream",
     "text": [
      "<class 'pandas.core.frame.DataFrame'>\n",
      "(21613, 18)\n",
      "21613\n"
     ]
    }
   ],
   "source": [
    "print(type(newX))\n",
    "print(newX.shape)\n",
    "print(len(y))"
   ]
  },
  {
   "cell_type": "code",
   "execution_count": 683,
   "metadata": {},
   "outputs": [],
   "source": [
    "newX=newX.astype(int)"
   ]
  },
  {
   "cell_type": "code",
   "execution_count": 689,
   "metadata": {},
   "outputs": [
    {
     "name": "stderr",
     "output_type": "stream",
     "text": [
      "100%|██████████████████████████████████████████████████████████████████████████████████| 10/10 [00:28<00:00,  2.84s/it]\n"
     ]
    },
    {
     "name": "stdout",
     "output_type": "stream",
     "text": [
      "Time Consumption: 28.358969688415527\n"
     ]
    }
   ],
   "source": [
    "oneDraw = InteractionBasedLearning.InteractionLearning(\n",
    "    newX=newX,\n",
    "    y=y,\n",
    "    testSize=0.1,\n",
    "    num_initial_draw=9,\n",
    "    total_rounds=10,\n",
    "    top_how_many=3,\n",
    "    nameExists=False,\n",
    "    TYPE=int,\n",
    "    verbatim=True)"
   ]
  },
  {
   "cell_type": "code",
   "execution_count": 690,
   "metadata": {},
   "outputs": [
    {
     "data": {
      "text/html": [
       "<div>\n",
       "<style scoped>\n",
       "    .dataframe tbody tr th:only-of-type {\n",
       "        vertical-align: middle;\n",
       "    }\n",
       "\n",
       "    .dataframe tbody tr th {\n",
       "        vertical-align: top;\n",
       "    }\n",
       "\n",
       "    .dataframe thead th {\n",
       "        text-align: right;\n",
       "    }\n",
       "</style>\n",
       "<table border=\"1\" class=\"dataframe\">\n",
       "  <thead>\n",
       "    <tr style=\"text-align: right;\">\n",
       "      <th></th>\n",
       "      <th>Modules</th>\n",
       "      <th>Score</th>\n",
       "    </tr>\n",
       "  </thead>\n",
       "  <tbody>\n",
       "    <tr>\n",
       "      <th>1</th>\n",
       "      <td>[[8]]</td>\n",
       "      <td>1103.120383</td>\n",
       "    </tr>\n",
       "    <tr>\n",
       "      <th>2</th>\n",
       "      <td>[[2]]</td>\n",
       "      <td>1086.767510</td>\n",
       "    </tr>\n",
       "    <tr>\n",
       "      <th>3</th>\n",
       "      <td>[[16]]</td>\n",
       "      <td>787.852581</td>\n",
       "    </tr>\n",
       "    <tr>\n",
       "      <th>0</th>\n",
       "      <td>[[9]]</td>\n",
       "      <td>711.282880</td>\n",
       "    </tr>\n",
       "  </tbody>\n",
       "</table>\n",
       "</div>"
      ],
      "text/plain": [
       "  Modules        Score\n",
       "1   [[8]]  1103.120383\n",
       "2   [[2]]  1086.767510\n",
       "3  [[16]]   787.852581\n",
       "0   [[9]]   711.282880"
      ]
     },
     "execution_count": 690,
     "metadata": {},
     "output_type": "execute_result"
    }
   ],
   "source": [
    "oneDraw['Brief'].head()"
   ]
  },
  {
   "cell_type": "markdown",
   "metadata": {},
   "source": [
    "Now let us random sample many times."
   ]
  },
  {
   "cell_type": "markdown",
   "metadata": {},
   "source": [
    "The above script did the following work and this is how we interpret the results:\n",
    "\n",
    "- The script is loaded from *.py* script and we sample $B=200$ repeating times to run Backward Dropping Algorithm.\n",
    "\n",
    "- The first module, for example, is $[\\text{grade}]$ and the second variable module is $[\\text{sqft_living}]$."
   ]
  },
  {
   "cell_type": "code",
   "execution_count": 39,
   "metadata": {},
   "outputs": [],
   "source": [
    "from sklearn.model_selection import train_test_split\n",
    "X_train, X_test, y_train, y_test = train_test_split(X, y, test_size = 0.3, random_state = 0)"
   ]
  },
  {
   "cell_type": "code",
   "execution_count": 40,
   "metadata": {},
   "outputs": [],
   "source": [
    "%run \"../scripts/YinsML.py\""
   ]
  },
  {
   "cell_type": "code",
   "execution_count": 41,
   "metadata": {},
   "outputs": [
    {
     "name": "stdout",
     "output_type": "stream",
     "text": [
      "       bedrooms  bathrooms  sqft_living  sqft_lot  floors  waterfront  view  \\\n",
      "1468          4       1.50         1390      7200     1.0           0     0   \n",
      "15590         3       1.50         1450      7316     1.0           0     0   \n",
      "18552         5       2.75         2860      5379     2.0           0     0   \n",
      "\n",
      "       condition  grade  sqft_above  sqft_basement  yr_built  yr_renovated  \\\n",
      "1468           3      7        1140            250      1965             0   \n",
      "15590          3      7        1450              0      1961             0   \n",
      "18552          3      9        2860              0      2005             0   \n",
      "\n",
      "       zipcode      lat     long  sqft_living15  sqft_lot15  \n",
      "1468     98133  47.7224 -122.332           1630        7702  \n",
      "15590    98133  47.7725 -122.349           1440        7316  \n",
      "18552    98052  47.7082 -122.104           2980        6018  \n",
      "      0     1\n",
      "0  3767   348\n",
      "1   367  2002\n",
      "0.8897285626156693\n"
     ]
    }
   ],
   "source": [
    "testResult = YinsML.DecisionTree_Classifier(X_train, X_test, y_train, y_test, maxdepth=10)\n",
    "print(testResult['Data']['X_train'].head(3))\n",
    "print(testResult['Test Result']['confusion_test'])\n",
    "print(testResult['Test Result']['test_acc'])"
   ]
  },
  {
   "cell_type": "markdown",
   "metadata": {},
   "source": [
    "Let us select import variables and then repeat Decision Tree algorithm."
   ]
  },
  {
   "cell_type": "code",
   "execution_count": 50,
   "metadata": {},
   "outputs": [
    {
     "data": {
      "text/plain": [
       "[[array(['grade'], dtype=object)],\n",
       " [array(['grade'], dtype=object)],\n",
       " [array(['grade'], dtype=object)],\n",
       " [array(['bathrooms'], dtype=object)],\n",
       " [array(['sqft_living'], dtype=object)],\n",
       " [array(['sqft_living15'], dtype=object)],\n",
       " [array(['sqft_living15'], dtype=object)],\n",
       " [array(['sqft_living'], dtype=object)],\n",
       " [array(['grade'], dtype=object)],\n",
       " [array(['sqft_above'], dtype=object)]]"
      ]
     },
     "execution_count": 50,
     "metadata": {},
     "output_type": "execute_result"
    }
   ],
   "source": [
    "oneDraw['List of Variable Modules'][:10]"
   ]
  },
  {
   "cell_type": "code",
   "execution_count": 56,
   "metadata": {},
   "outputs": [],
   "source": [
    "X = pd.concat([X['grade'], X['bathrooms'], X['sqft_living'], X['sqft_living15']])"
   ]
  },
  {
   "cell_type": "code",
   "execution_count": 70,
   "metadata": {},
   "outputs": [
    {
     "name": "stdout",
     "output_type": "stream",
     "text": [
      "(21613, 18)\n",
      "21613\n"
     ]
    }
   ],
   "source": [
    "print(X.shape)\n",
    "print(len(y))"
   ]
  },
  {
   "cell_type": "code",
   "execution_count": 71,
   "metadata": {},
   "outputs": [
    {
     "name": "stdout",
     "output_type": "stream",
     "text": [
      "       bedrooms  bathrooms  sqft_living  sqft_lot  floors  waterfront  view  \\\n",
      "1468          4       1.50         1390      7200     1.0           0     0   \n",
      "15590         3       1.50         1450      7316     1.0           0     0   \n",
      "18552         5       2.75         2860      5379     2.0           0     0   \n",
      "\n",
      "       condition  grade  sqft_above  sqft_basement  yr_built  yr_renovated  \\\n",
      "1468           3      7        1140            250      1965             0   \n",
      "15590          3      7        1450              0      1961             0   \n",
      "18552          3      9        2860              0      2005             0   \n",
      "\n",
      "       zipcode      lat     long  sqft_living15  sqft_lot15  \n",
      "1468     98133  47.7224 -122.332           1630        7702  \n",
      "15590    98133  47.7725 -122.349           1440        7316  \n",
      "18552    98052  47.7082 -122.104           2980        6018  \n",
      "      0     1\n",
      "0  3738   322\n",
      "1   396  2028\n",
      "0.8892658852560148\n"
     ]
    }
   ],
   "source": [
    "informativeX = X\n",
    "X_train, X_test, y_train, y_test = train_test_split(informativeX, y, test_size = 0.3, random_state = 0)\n",
    "testResult = YinsML.DecisionTree_Classifier(X_train, X_test, y_train, y_test, maxdepth=8)\n",
    "print(testResult['Data']['X_train'].head(3))\n",
    "print(testResult['Test Result']['confusion_test'])\n",
    "print(testResult['Test Result']['test_acc'])"
   ]
  },
  {
   "cell_type": "markdown",
   "metadata": {},
   "source": [
    "Now let us check out the continuous version of the same data set. What if instead of trying to predict whether a housing price is greater than average house price we directly predict the price of the house."
   ]
  },
  {
   "cell_type": "code",
   "execution_count": 83,
   "metadata": {},
   "outputs": [
    {
     "name": "stdout",
     "output_type": "stream",
     "text": [
      "   bedrooms  bathrooms  sqft_living  sqft_lot  floors  waterfront  view  \\\n",
      "0         3       1.00         1180      5650     1.0           0     0   \n",
      "1         3       2.25         2570      7242     2.0           0     0   \n",
      "\n",
      "   condition  grade  sqft_above  sqft_basement  yr_built  yr_renovated  \\\n",
      "0          3      7        1180              0      1955             0   \n",
      "1          3      7        2170            400      1951          1991   \n",
      "\n",
      "   zipcode      lat     long  sqft_living15  sqft_lot15  \n",
      "0    98178  47.5112 -122.257           1340        5650  \n",
      "1    98125  47.7210 -122.319           1690        7639  \n",
      "0    221900.0\n",
      "1    538000.0\n",
      "2    180000.0\n",
      "3    604000.0\n",
      "4    510000.0\n",
      "Name: price, dtype: float64\n"
     ]
    }
   ],
   "source": [
    "# Clean Data\n",
    "data = house_sales\n",
    "X = data.iloc[:, :].drop(['id', 'date', 'price'], axis=1)\n",
    "y = data['price']\n",
    "print(X.head(2))\n",
    "print(y.head())"
   ]
  },
  {
   "cell_type": "code",
   "execution_count": 84,
   "metadata": {},
   "outputs": [
    {
     "name": "stdout",
     "output_type": "stream",
     "text": [
      "241305.20011885505\n",
      "236787.34293765223\n"
     ]
    }
   ],
   "source": [
    "%run \"../scripts/YinsML.py\"\n",
    "X_train, X_test, y_train, y_test = train_test_split(X, y, test_size = 0.3, random_state = 0)\n",
    "testRegression = YinsML.DecisionTree_Regressor(X_train, X_test, y_train, y_test, maxdepth = 5)\n",
    "print(testRegression['Test Result']['RMSE_test'])\n",
    "print(testRegression['Train Result']['RMSE_train'])"
   ]
  },
  {
   "cell_type": "code",
   "execution_count": 95,
   "metadata": {},
   "outputs": [
    {
     "name": "stdout",
     "output_type": "stream",
     "text": [
      "   grade  bathrooms  bedrooms  sqft_living\n",
      "0      7       1.00         3         1180\n",
      "1      7       2.25         3         2570\n",
      "2      6       1.00         2          770\n",
      "282092.9366937713\n",
      "275978.15523456864\n"
     ]
    }
   ],
   "source": [
    "informativeX = X = pd.concat([X['grade'], X['bathrooms'], X['bedrooms'], X['sqft_living']], axis=1)\n",
    "X_train, X_test, y_train, y_test = train_test_split(informativeX, y, test_size = 0.3, random_state = 0)\n",
    "print(informativeX.head(3))\n",
    "testRegression = YinsML.DecisionTree_Regressor(X_train, X_test, y_train, y_test, maxdepth = 5)\n",
    "print(testRegression['Test Result']['RMSE_test'])\n",
    "print(testRegression['Train Result']['RMSE_train'])"
   ]
  },
  {
   "cell_type": "markdown",
   "metadata": {},
   "source": [
    "This wraps of performance."
   ]
  },
  {
   "cell_type": "markdown",
   "metadata": {},
   "source": [
    "## Bonus: Why Does It Work\n",
    "\n",
    "Let us draw random variables from Bernoulli distribution and create data $X_1, ..., X_p$ and define underyling model to be\n",
    "$$y = \\left\\{\n",
    "\\begin{matrix}\n",
    "X_1 + X_2 & (\\text{mod } 2) \\\\\n",
    "X_3 + X_4 + X_5 & (\\text{mod } 2) \\\\\n",
    "\\end{matrix}\n",
    "\\right.\n",
    "$$\n",
    "\n",
    "In addition, let us also construct engineered features based on interaction-based variable sets. In other words, given $X$, we can construct\n",
    "$$\n",
    "X^{\\dagger} := \\bar{y}_j, \\forall j \\in \\Pi\n",
    "$$\n",
    "while $\\Pi$ is the total possible partitions generated by selected variable sets $X$ and $j$ indicates the $j^{\\text{th}}$ partition in $\\Pi$. The values of $X^{\\dagger}$ is replaced with $\\bar{y}_j$ which is the local average of resposne variable from each partition $j$."
   ]
  },
  {
   "cell_type": "code",
   "execution_count": 1,
   "metadata": {},
   "outputs": [],
   "source": [
    "from scipy.stats import bernoulli\n",
    "import pandas as pd\n",
    "import numpy as np"
   ]
  },
  {
   "cell_type": "code",
   "execution_count": 19,
   "metadata": {},
   "outputs": [
    {
     "name": "stdout",
     "output_type": "stream",
     "text": [
      "(2000, 50)\n",
      "   0  1  2  3  4  5  6  7  8  9  ...  40  41  42  43  44  45  46  47  48  49\n",
      "0  1  0  0  0  0  0  0  1  0  1  ...   0   1   0   1   1   1   1   1   0   1\n",
      "1  1  1  1  0  0  1  1  1  1  0  ...   0   1   0   1   1   0   0   0   0   1\n",
      "\n",
      "[2 rows x 50 columns]\n",
      "0.4975\n",
      "0.492\n"
     ]
    }
   ],
   "source": [
    "n = 2000\n",
    "p = 50\n",
    "data_bern = bernoulli.rvs(size=n * p,p=0.5)\n",
    "\n",
    "X = pd.DataFrame(data_bern.reshape([n, p]), columns=np.arange(p).astype(str))\n",
    "print(X.shape)\n",
    "print(X.head(2))\n",
    "\n",
    "I = bernoulli.rvs(size=n, p=0.5)\n",
    "print(np.mean(I))\n",
    "y1 = np.mod(X.iloc[:, 1] + X.iloc[:, 2], 2)\n",
    "y2 = np.mod(X.iloc[:, 2] + X.iloc[:, 3] + X.iloc[:, 4], 2)\n",
    "y = np.where(I == 1, y1, y2)\n",
    "print(np.mean(y))"
   ]
  },
  {
   "cell_type": "code",
   "execution_count": 20,
   "metadata": {},
   "outputs": [
    {
     "data": {
      "text/html": [
       "<div>\n",
       "<style scoped>\n",
       "    .dataframe tbody tr th:only-of-type {\n",
       "        vertical-align: middle;\n",
       "    }\n",
       "\n",
       "    .dataframe tbody tr th {\n",
       "        vertical-align: top;\n",
       "    }\n",
       "\n",
       "    .dataframe thead th {\n",
       "        text-align: right;\n",
       "    }\n",
       "</style>\n",
       "<table border=\"1\" class=\"dataframe\">\n",
       "  <thead>\n",
       "    <tr style=\"text-align: right;\">\n",
       "      <th></th>\n",
       "      <th>0</th>\n",
       "      <th>1</th>\n",
       "      <th>2</th>\n",
       "      <th>3</th>\n",
       "      <th>4</th>\n",
       "      <th>5</th>\n",
       "      <th>6</th>\n",
       "      <th>7</th>\n",
       "      <th>8</th>\n",
       "      <th>9</th>\n",
       "      <th>...</th>\n",
       "      <th>40</th>\n",
       "      <th>41</th>\n",
       "      <th>42</th>\n",
       "      <th>43</th>\n",
       "      <th>44</th>\n",
       "      <th>45</th>\n",
       "      <th>46</th>\n",
       "      <th>47</th>\n",
       "      <th>48</th>\n",
       "      <th>49</th>\n",
       "    </tr>\n",
       "  </thead>\n",
       "  <tbody>\n",
       "    <tr>\n",
       "      <th>0</th>\n",
       "      <td>1</td>\n",
       "      <td>0</td>\n",
       "      <td>0</td>\n",
       "      <td>0</td>\n",
       "      <td>0</td>\n",
       "      <td>0</td>\n",
       "      <td>0</td>\n",
       "      <td>1</td>\n",
       "      <td>0</td>\n",
       "      <td>1</td>\n",
       "      <td>...</td>\n",
       "      <td>0</td>\n",
       "      <td>1</td>\n",
       "      <td>0</td>\n",
       "      <td>1</td>\n",
       "      <td>1</td>\n",
       "      <td>1</td>\n",
       "      <td>1</td>\n",
       "      <td>1</td>\n",
       "      <td>0</td>\n",
       "      <td>1</td>\n",
       "    </tr>\n",
       "    <tr>\n",
       "      <th>1</th>\n",
       "      <td>1</td>\n",
       "      <td>1</td>\n",
       "      <td>1</td>\n",
       "      <td>0</td>\n",
       "      <td>0</td>\n",
       "      <td>1</td>\n",
       "      <td>1</td>\n",
       "      <td>1</td>\n",
       "      <td>1</td>\n",
       "      <td>0</td>\n",
       "      <td>...</td>\n",
       "      <td>0</td>\n",
       "      <td>1</td>\n",
       "      <td>0</td>\n",
       "      <td>1</td>\n",
       "      <td>1</td>\n",
       "      <td>0</td>\n",
       "      <td>0</td>\n",
       "      <td>0</td>\n",
       "      <td>0</td>\n",
       "      <td>1</td>\n",
       "    </tr>\n",
       "    <tr>\n",
       "      <th>2</th>\n",
       "      <td>0</td>\n",
       "      <td>1</td>\n",
       "      <td>0</td>\n",
       "      <td>1</td>\n",
       "      <td>1</td>\n",
       "      <td>1</td>\n",
       "      <td>1</td>\n",
       "      <td>0</td>\n",
       "      <td>1</td>\n",
       "      <td>0</td>\n",
       "      <td>...</td>\n",
       "      <td>0</td>\n",
       "      <td>0</td>\n",
       "      <td>1</td>\n",
       "      <td>0</td>\n",
       "      <td>0</td>\n",
       "      <td>1</td>\n",
       "      <td>0</td>\n",
       "      <td>1</td>\n",
       "      <td>0</td>\n",
       "      <td>0</td>\n",
       "    </tr>\n",
       "    <tr>\n",
       "      <th>3</th>\n",
       "      <td>1</td>\n",
       "      <td>1</td>\n",
       "      <td>0</td>\n",
       "      <td>1</td>\n",
       "      <td>0</td>\n",
       "      <td>0</td>\n",
       "      <td>1</td>\n",
       "      <td>1</td>\n",
       "      <td>0</td>\n",
       "      <td>0</td>\n",
       "      <td>...</td>\n",
       "      <td>1</td>\n",
       "      <td>0</td>\n",
       "      <td>0</td>\n",
       "      <td>1</td>\n",
       "      <td>0</td>\n",
       "      <td>1</td>\n",
       "      <td>1</td>\n",
       "      <td>0</td>\n",
       "      <td>0</td>\n",
       "      <td>0</td>\n",
       "    </tr>\n",
       "    <tr>\n",
       "      <th>4</th>\n",
       "      <td>1</td>\n",
       "      <td>1</td>\n",
       "      <td>0</td>\n",
       "      <td>1</td>\n",
       "      <td>1</td>\n",
       "      <td>0</td>\n",
       "      <td>1</td>\n",
       "      <td>0</td>\n",
       "      <td>1</td>\n",
       "      <td>1</td>\n",
       "      <td>...</td>\n",
       "      <td>0</td>\n",
       "      <td>1</td>\n",
       "      <td>1</td>\n",
       "      <td>1</td>\n",
       "      <td>1</td>\n",
       "      <td>0</td>\n",
       "      <td>1</td>\n",
       "      <td>0</td>\n",
       "      <td>1</td>\n",
       "      <td>0</td>\n",
       "    </tr>\n",
       "  </tbody>\n",
       "</table>\n",
       "<p>5 rows × 50 columns</p>\n",
       "</div>"
      ],
      "text/plain": [
       "   0  1  2  3  4  5  6  7  8  9  ...  40  41  42  43  44  45  46  47  48  49\n",
       "0  1  0  0  0  0  0  0  1  0  1  ...   0   1   0   1   1   1   1   1   0   1\n",
       "1  1  1  1  0  0  1  1  1  1  0  ...   0   1   0   1   1   0   0   0   0   1\n",
       "2  0  1  0  1  1  1  1  0  1  0  ...   0   0   1   0   0   1   0   1   0   0\n",
       "3  1  1  0  1  0  0  1  1  0  0  ...   1   0   0   1   0   1   1   0   0   0\n",
       "4  1  1  0  1  1  0  1  0  1  1  ...   0   1   1   1   1   0   1   0   1   0\n",
       "\n",
       "[5 rows x 50 columns]"
      ]
     },
     "execution_count": 20,
     "metadata": {},
     "output_type": "execute_result"
    }
   ],
   "source": [
    "X.head()"
   ]
  },
  {
   "cell_type": "code",
   "execution_count": 21,
   "metadata": {},
   "outputs": [
    {
     "name": "stdout",
     "output_type": "stream",
     "text": [
      "-----------------------------------------------------\n",
      "\n",
      "        Yin's Money Managmeent Package \n",
      "        Copyright © YINS CAPITAL, 2009 – Present\n",
      "        For more information, please go to www.YinsCapital.com\n",
      "        \n",
      "README:\n",
      "This script has the following functions:\n",
      "\n",
      "    (1) iscore(): this function computes the I-score of selected X at predicting Y\n",
      "    (2) BDA(): this function runs through Backward Dropping Algorithm once\n",
      "    (3) InteractionLearning(): this function runs many rounds of BDA and finalize the variables selcted according to I-score\n",
      "    \n",
      "-----------------------------------------------------\n"
     ]
    },
    {
     "data": {
      "text/plain": [
       "<function __main__.InteractionBasedLearning.InteractionLearning(newX, y, testSize=0.3, num_initial_draw=7, total_rounds=10, top_how_many=3, nameExists=True, TYPE=<class 'int'>, verbatim=True)>"
      ]
     },
     "execution_count": 21,
     "metadata": {},
     "output_type": "execute_result"
    }
   ],
   "source": [
    "%run \"../scripts/InteractionBasedLearning.py\"\n",
    "InteractionBasedLearning.InteractionLearning"
   ]
  },
  {
   "cell_type": "code",
   "execution_count": 22,
   "metadata": {},
   "outputs": [
    {
     "name": "stderr",
     "output_type": "stream",
     "text": [
      "100%|██████████████████████████████████████████████████████████████████████████████| 2000/2000 [36:38<00:00,  1.10s/it]\n"
     ]
    },
    {
     "name": "stdout",
     "output_type": "stream",
     "text": [
      "Time Consumption: 2198.378620147705\n"
     ]
    }
   ],
   "source": [
    "tmpResult = InteractionBasedLearning.InteractionLearning(\n",
    "    newX=X,\n",
    "    y=y,\n",
    "    testSize=0.1,\n",
    "    num_initial_draw=9,\n",
    "    total_rounds=2000,\n",
    "    top_how_many=2,\n",
    "    nameExists=False,\n",
    "    TYPE=str,\n",
    "    verbatim=True)"
   ]
  },
  {
   "cell_type": "code",
   "execution_count": 17,
   "metadata": {},
   "outputs": [
    {
     "name": "stdout",
     "output_type": "stream",
     "text": [
      "Time Consumption (in min): 13.333\n"
     ]
    }
   ],
   "source": [
    "print(f\"Time Consumption (in min): {round(800/60, 3)}\")"
   ]
  },
  {
   "cell_type": "code",
   "execution_count": 18,
   "metadata": {},
   "outputs": [
    {
     "data": {
      "text/html": [
       "<div>\n",
       "<style scoped>\n",
       "    .dataframe tbody tr th:only-of-type {\n",
       "        vertical-align: middle;\n",
       "    }\n",
       "\n",
       "    .dataframe tbody tr th {\n",
       "        vertical-align: top;\n",
       "    }\n",
       "\n",
       "    .dataframe thead th {\n",
       "        text-align: right;\n",
       "    }\n",
       "</style>\n",
       "<table border=\"1\" class=\"dataframe\">\n",
       "  <thead>\n",
       "    <tr style=\"text-align: right;\">\n",
       "      <th></th>\n",
       "      <th>Modules</th>\n",
       "      <th>Score</th>\n",
       "    </tr>\n",
       "  </thead>\n",
       "  <tbody>\n",
       "    <tr>\n",
       "      <th>246</th>\n",
       "      <td>[[1, 2]]</td>\n",
       "      <td>27.029320</td>\n",
       "    </tr>\n",
       "    <tr>\n",
       "      <th>940</th>\n",
       "      <td>[[2, 3, 4]]</td>\n",
       "      <td>14.063055</td>\n",
       "    </tr>\n",
       "    <tr>\n",
       "      <th>211</th>\n",
       "      <td>[[1]]</td>\n",
       "      <td>2.621220</td>\n",
       "    </tr>\n",
       "    <tr>\n",
       "      <th>561</th>\n",
       "      <td>[[3]]</td>\n",
       "      <td>1.978809</td>\n",
       "    </tr>\n",
       "    <tr>\n",
       "      <th>547</th>\n",
       "      <td>[[8, 12, 15]]</td>\n",
       "      <td>1.803012</td>\n",
       "    </tr>\n",
       "  </tbody>\n",
       "</table>\n",
       "</div>"
      ],
      "text/plain": [
       "           Modules      Score\n",
       "246       [[1, 2]]  27.029320\n",
       "940    [[2, 3, 4]]  14.063055\n",
       "211          [[1]]   2.621220\n",
       "561          [[3]]   1.978809\n",
       "547  [[8, 12, 15]]   1.803012"
      ]
     },
     "execution_count": 18,
     "metadata": {},
     "output_type": "execute_result"
    }
   ],
   "source": [
    "tmpResult['Brief'].head()"
   ]
  },
  {
   "cell_type": "code",
   "execution_count": 9,
   "metadata": {},
   "outputs": [
    {
     "data": {
      "text/html": [
       "<div>\n",
       "<style scoped>\n",
       "    .dataframe tbody tr th:only-of-type {\n",
       "        vertical-align: middle;\n",
       "    }\n",
       "\n",
       "    .dataframe tbody tr th {\n",
       "        vertical-align: top;\n",
       "    }\n",
       "\n",
       "    .dataframe thead th {\n",
       "        text-align: right;\n",
       "    }\n",
       "</style>\n",
       "<table border=\"1\" class=\"dataframe\">\n",
       "  <thead>\n",
       "    <tr style=\"text-align: right;\">\n",
       "      <th></th>\n",
       "      <th>1</th>\n",
       "      <th>2</th>\n",
       "      <th>0</th>\n",
       "      <th>2</th>\n",
       "      <th>3</th>\n",
       "      <th>4</th>\n",
       "      <th>0</th>\n",
       "    </tr>\n",
       "  </thead>\n",
       "  <tbody>\n",
       "    <tr>\n",
       "      <th>0</th>\n",
       "      <td>0</td>\n",
       "      <td>0</td>\n",
       "      <td>0.285714</td>\n",
       "      <td>0</td>\n",
       "      <td>1</td>\n",
       "      <td>1</td>\n",
       "      <td>0.222222</td>\n",
       "    </tr>\n",
       "    <tr>\n",
       "      <th>1</th>\n",
       "      <td>1</td>\n",
       "      <td>0</td>\n",
       "      <td>0.705882</td>\n",
       "      <td>0</td>\n",
       "      <td>0</td>\n",
       "      <td>0</td>\n",
       "      <td>0.266667</td>\n",
       "    </tr>\n",
       "    <tr>\n",
       "      <th>2</th>\n",
       "      <td>1</td>\n",
       "      <td>0</td>\n",
       "      <td>0.705882</td>\n",
       "      <td>0</td>\n",
       "      <td>0</td>\n",
       "      <td>1</td>\n",
       "      <td>0.782609</td>\n",
       "    </tr>\n",
       "    <tr>\n",
       "      <th>3</th>\n",
       "      <td>1</td>\n",
       "      <td>0</td>\n",
       "      <td>0.705882</td>\n",
       "      <td>0</td>\n",
       "      <td>0</td>\n",
       "      <td>1</td>\n",
       "      <td>0.782609</td>\n",
       "    </tr>\n",
       "    <tr>\n",
       "      <th>4</th>\n",
       "      <td>1</td>\n",
       "      <td>0</td>\n",
       "      <td>0.705882</td>\n",
       "      <td>0</td>\n",
       "      <td>0</td>\n",
       "      <td>0</td>\n",
       "      <td>0.266667</td>\n",
       "    </tr>\n",
       "  </tbody>\n",
       "</table>\n",
       "</div>"
      ],
      "text/plain": [
       "   1  2         0  2  3  4         0\n",
       "0  0  0  0.285714  0  1  1  0.222222\n",
       "1  1  0  0.705882  0  0  0  0.266667\n",
       "2  1  0  0.705882  0  0  1  0.782609\n",
       "3  1  0  0.705882  0  0  1  0.782609\n",
       "4  1  0  0.705882  0  0  0  0.266667"
      ]
     },
     "execution_count": 9,
     "metadata": {},
     "output_type": "execute_result"
    }
   ],
   "source": [
    "tmpResult['New Data'].head()"
   ]
  },
  {
   "cell_type": "markdown",
   "metadata": {},
   "source": [
    "As we can see, selected modules are ranked according to descending order of I-score. The top two modules are $[X_1, X_2]$ and $[X_2, X_3, X_4]$. Correct model is specified. "
   ]
  }
 ],
 "metadata": {
  "kernelspec": {
   "display_name": "Python 3",
   "language": "python",
   "name": "python3"
  },
  "language_info": {
   "codemirror_mode": {
    "name": "ipython",
    "version": 3
   },
   "file_extension": ".py",
   "mimetype": "text/x-python",
   "name": "python",
   "nbconvert_exporter": "python",
   "pygments_lexer": "ipython3",
   "version": "3.7.4"
  }
 },
 "nbformat": 4,
 "nbformat_minor": 4
}
