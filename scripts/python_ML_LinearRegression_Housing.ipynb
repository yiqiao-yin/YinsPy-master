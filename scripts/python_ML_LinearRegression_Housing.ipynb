{
 "cells": [
  {
   "cell_type": "markdown",
   "metadata": {},
   "source": [
    "# Machine Learning Simple Regression Analysis: Housing Price Data Set\n",
    "\n",
    "The most basic building block in machine learning is regression analysis. This notebook I discuss, with python demonstration, the procedure to carry out a machine learning project using regression analysis. I use Housing Price as an example and data set can be downloaded from [here](https://github.com/PacktPublishing/Hands-on-Python-for-Finance/tree/master/Chapter%207).\n",
    "\n",
    "There are the following steps\n",
    "- Environment Initiation. We first start by importing the packages we need for this project. Then we get data that is already saved in the data folder. Next we set up a model we want to study and we pull the variables from the data we uploaded.\n",
    "- Machine Learning: Linear Regression. Regression analysis plays important role in finance and machine learning. Regression models (both linear and non-linear) are used to predict real values, ex. housing prices, salaries, or stock returns. I am going to discuss the fundamentals of simple regression analysis and we are going to use *sklearn* package to train a regression model in python notebook. Then I discuss the interpretations behind the coefficient and intercept term obtained from regression analysis and how these concepts apply in real life. \n",
    "- Machine Learning: Training and Testing. It is essential to understand the difference of the performance of machine on existing data and the performance of machine on potential future data. To carry out an unbiased and impartial learning process, it is important to separate training data and testing data so that the observations do not repeat and the performance is robust, consistent, and honest.\n",
    "- Software Development / Product Management. Every data science project has two phases. Phase I is about end-to-end research and select the most optimal machine learning procedure. Phase II is about delivering a software product to consumer and clients so that the python codes can be called and there is no need to redo everything that has already been done."
   ]
  },
  {
   "cell_type": "markdown",
   "metadata": {},
   "source": [
    "## Environment Initiation\n",
    "\n",
    "Let us set up coding environment by initiating packages."
   ]
  },
  {
   "cell_type": "code",
   "execution_count": 1,
   "metadata": {},
   "outputs": [],
   "source": [
    "import numpy as np\n",
    "import pandas as pd\n",
    "from scipy import stats\n",
    "import statsmodels.api as sm\n",
    "import matplotlib.pyplot as plt"
   ]
  },
  {
   "cell_type": "markdown",
   "metadata": {},
   "source": [
    "Let us get data by pulling *Housing.xlsx* file that is already uploaded to location \"~/data/Housing.xlsx/'"
   ]
  },
  {
   "cell_type": "code",
   "execution_count": 2,
   "metadata": {},
   "outputs": [],
   "source": [
    "data = pd.read_excel('~/OneDrive/Documents/YinsPy/data/Housing.xlsx')"
   ]
  },
  {
   "cell_type": "code",
   "execution_count": 3,
   "metadata": {},
   "outputs": [
    {
     "data": {
      "text/html": [
       "<div>\n",
       "<style scoped>\n",
       "    .dataframe tbody tr th:only-of-type {\n",
       "        vertical-align: middle;\n",
       "    }\n",
       "\n",
       "    .dataframe tbody tr th {\n",
       "        vertical-align: top;\n",
       "    }\n",
       "\n",
       "    .dataframe thead th {\n",
       "        text-align: right;\n",
       "    }\n",
       "</style>\n",
       "<table border=\"1\" class=\"dataframe\">\n",
       "  <thead>\n",
       "    <tr style=\"text-align: right;\">\n",
       "      <th></th>\n",
       "      <th>House Price</th>\n",
       "      <th>House Size (sq.ft.)</th>\n",
       "      <th>State</th>\n",
       "      <th>Number of Rooms</th>\n",
       "      <th>Year of Construction</th>\n",
       "    </tr>\n",
       "  </thead>\n",
       "  <tbody>\n",
       "    <tr>\n",
       "      <th>0</th>\n",
       "      <td>1116000</td>\n",
       "      <td>1940</td>\n",
       "      <td>IN</td>\n",
       "      <td>8</td>\n",
       "      <td>2002</td>\n",
       "    </tr>\n",
       "    <tr>\n",
       "      <th>1</th>\n",
       "      <td>860000</td>\n",
       "      <td>1300</td>\n",
       "      <td>IN</td>\n",
       "      <td>5</td>\n",
       "      <td>1992</td>\n",
       "    </tr>\n",
       "    <tr>\n",
       "      <th>2</th>\n",
       "      <td>818400</td>\n",
       "      <td>1420</td>\n",
       "      <td>IN</td>\n",
       "      <td>6</td>\n",
       "      <td>1987</td>\n",
       "    </tr>\n",
       "  </tbody>\n",
       "</table>\n",
       "</div>"
      ],
      "text/plain": [
       "   House Price  House Size (sq.ft.) State  Number of Rooms  \\\n",
       "0      1116000                 1940    IN                8   \n",
       "1       860000                 1300    IN                5   \n",
       "2       818400                 1420    IN                6   \n",
       "\n",
       "   Year of Construction  \n",
       "0                  2002  \n",
       "1                  1992  \n",
       "2                  1987  "
      ]
     },
     "execution_count": 3,
     "metadata": {},
     "output_type": "execute_result"
    }
   ],
   "source": [
    "data.head(3) # print the first three rows for inspection"
   ]
  },
  {
   "cell_type": "markdown",
   "metadata": {},
   "source": [
    "As the fundamentals of all machine learning algorithms, regression analysis is the most frequently used tools in finance and also in other related fields. In this case, let us start by constructing a simple regression model, a model with only one variable. We have the following mathematical form\n",
    "$$y = \\beta_0 + \\beta_1 x + \\epsilon$$\n",
    "and in this case $y$ is dependent variable (Housing Price) and $x$ is the explanatory variable (also known as feature or independent variable, here it is House Size). Here we assume that the existence of a linear relationship between explanatory variable and dependent variable.\n",
    "\n",
    "To construct this data, we need to pull these variables out of the original data set."
   ]
  },
  {
   "cell_type": "code",
   "execution_count": 4,
   "metadata": {},
   "outputs": [
    {
     "name": "stdout",
     "output_type": "stream",
     "text": [
      "    House Price  House Size (sq.ft.)\n",
      "0       1116000                 1940\n",
      "1        860000                 1300\n",
      "2        818400                 1420\n",
      "3       1000000                 1680\n",
      "4        640000                 1270\n",
      "5       1010000                 1850\n",
      "6        600000                 1000\n",
      "7        700000                 1100\n",
      "8       1100000                 1600\n",
      "9        570000                 1000\n",
      "10       860000                 2150\n",
      "11      1085000                 1900\n",
      "12      1250000                 2200\n",
      "13       850000                 1100\n",
      "14       640000                  860\n",
      "15       900000                 1325\n",
      "16       730000                 1350\n",
      "17       750000                 1600\n",
      "18       650000                  950\n",
      "19       680000                 1250\n"
     ]
    }
   ],
   "source": [
    "print(data[['House Price', 'House Size (sq.ft.)']])\n",
    "X = data['House Size (sq.ft.)']\n",
    "Y = data['House Price']"
   ]
  },
  {
   "cell_type": "markdown",
   "metadata": {},
   "source": [
    "What do this new data look like? Let us use scatter plot."
   ]
  },
  {
   "cell_type": "code",
   "execution_count": 5,
   "metadata": {},
   "outputs": [
    {
     "data": {
      "image/png": "[encoded data removed]",
      "text/plain": [
       "<Figure size 432x288 with 1 Axes>"
      ]
     },
     "metadata": {
      "needs_background": "light"
     },
     "output_type": "display_data"
    }
   ],
   "source": [
    "plt.scatter(X, Y)\n",
    "plt.xlabel('House Size (sq.ft.)')\n",
    "plt.ylabel('House Price')\n",
    "plt.axis([0, 2500, 0, 1400000])\n",
    "plt.show()"
   ]
  },
  {
   "cell_type": "markdown",
   "metadata": {},
   "source": [
    "## Machine Learning: Linear Regression\n",
    "\n",
    "Now we have dependent variable $Y$ and independent variable $X$. We want to start machine learning. This means we want to train a machine to learn from $X$ and to predict $Y$. In this case, the machine will form some rules $f()$ that we can use. It is written in $f()$ form because it is essentially a map that let us draw inference about $Y$ from $X$. Hence, in mathematical form\n",
    "$$\\hat{Y} := f(X)$$\n",
    "and this $\\hat{Y}$ is estimated value of $Y$.\n",
    "\n",
    "Notice that in our case the machine is chosen to be linear regression and we can carry out standard linear regression analysis based on the machine we train. \n",
    "\n",
    "Also note that this is a machine learning project. We need to separate training set and testing set. This purpose is we want to be impartial and honest about the performance of the linear model on this data set. We separate data into training and testing randomly so that we can construct an environment as if there is new data set arriving for future reference."
   ]
  },
  {
   "cell_type": "code",
   "execution_count": 6,
   "metadata": {},
   "outputs": [],
   "source": [
    "from sklearn.model_selection import train_test_split"
   ]
  },
  {
   "cell_type": "code",
   "execution_count": 7,
   "metadata": {},
   "outputs": [
    {
     "name": "stdout",
     "output_type": "stream",
     "text": [
      "(14, 1) (6, 1)\n"
     ]
    }
   ],
   "source": [
    "X_train, X_test, y_train, y_test = train_test_split(X, Y, test_size=0.3, random_state=0)\n",
    "X_train = np.array(X_train).reshape(-1, 1)\n",
    "y_train = np.array(y_train).reshape(-1, 1)\n",
    "X_test = np.array(X_test).reshape(-1, 1)\n",
    "y_test = np.array(y_test).reshape(-1, 1)\n",
    "print(X_train.shape, X_test.shape)"
   ]
  },
  {
   "cell_type": "markdown",
   "metadata": {},
   "source": [
    "From above code, we separate data into training and testing. We can see that there are 16 samples for training and 4 samples for testing."
   ]
  },
  {
   "cell_type": "code",
   "execution_count": 8,
   "metadata": {},
   "outputs": [
    {
     "data": {
      "text/plain": [
       "LinearRegression(copy_X=True, fit_intercept=True, n_jobs=None, normalize=False)"
      ]
     },
     "execution_count": 8,
     "metadata": {},
     "output_type": "execute_result"
    }
   ],
   "source": [
    "from sklearn.linear_model import LinearRegression\n",
    "lm = LinearRegression()\n",
    "lm.fit(X_train, y_train)"
   ]
  },
  {
   "cell_type": "markdown",
   "metadata": {},
   "source": [
    "We use *lm()* function (note this is defined from *LinearRegression()* from *sklearn* package to train our machine. Let us check out what we have."
   ]
  },
  {
   "cell_type": "code",
   "execution_count": 9,
   "metadata": {},
   "outputs": [
    {
     "name": "stdout",
     "output_type": "stream",
     "text": [
      "[[482.36742232]] [161747.38505211]\n"
     ]
    }
   ],
   "source": [
    "print(lm.coef_, lm.intercept_)"
   ]
  },
  {
   "cell_type": "markdown",
   "metadata": {},
   "source": [
    "We can make the following statement:\n",
    "- The coefficient, $\\beta_1$ of the model, is 393 from results above. This means that a unit change of House Size in sq. ft. will increase House Price by 393 dollars.\n",
    "- The intercept, $\\beta_0$ of the model, is not going to give us any constructive interpretation because it is at a point where House Size is 0."
   ]
  },
  {
   "cell_type": "markdown",
   "metadata": {},
   "source": [
    "## Machine Learning: Training Evaluation\n",
    "\n",
    "We have our model trained. How well does it do on existing data? Let us introduce a metric called Root Mean Square Error (RMSE). It is a metric that measure on average how far away it is from real House Price and predicted House Price. The mathematical form is\n",
    "$$RMSE := \\frac{1}{n} \\sum (\\hat{Y} - Y)^2$$\n",
    "and $\\hat{Y}$ is the estimated House Price while $Y$ is the real House Price and $n$ is the sample size used for this particular experiment (in this case it is training sample size and later on we are going to use testing sample size)."
   ]
  },
  {
   "cell_type": "code",
   "execution_count": 10,
   "metadata": {},
   "outputs": [
    {
     "name": "stdout",
     "output_type": "stream",
     "text": [
      "Training Set RMSE is 73567.41078099258\n"
     ]
    }
   ],
   "source": [
    "y_train_pred = lm.predict(X_train)\n",
    "RMSE_train = (((y_train_pred - y_train)**2).mean())**(0.5)\n",
    "print('Training Set RMSE is', RMSE_train)"
   ]
  },
  {
   "cell_type": "code",
   "execution_count": 11,
   "metadata": {},
   "outputs": [
    {
     "data": {
      "image/png": "[encoded data removed]",
      "text/plain": [
       "<Figure size 432x288 with 1 Axes>"
      ]
     },
     "metadata": {
      "needs_background": "light"
     },
     "output_type": "display_data"
    }
   ],
   "source": [
    "plt.scatter(X_train, y_train)\n",
    "plt.plot(X_train, lm.predict(X_train), 'r')\n",
    "plt.xlabel('House Size')\n",
    "plt.ylabel('House Price')\n",
    "plt.title('Training Set Performance:' + str(RMSE_train))\n",
    "plt.show()"
   ]
  },
  {
   "cell_type": "markdown",
   "metadata": {},
   "source": [
    "This means that on average our machine (a linear model) predicts the House Price in training set with error +/- \\$73k away from real prices. Considering that some houses are millions of dollars this error is actually not that bad."
   ]
  },
  {
   "cell_type": "markdown",
   "metadata": {},
   "source": [
    "## Machine Learning: Prediction\n",
    "\n",
    "Once we have a trained model from above codes we can move forward to the next step which is prediction. If we have future observations that we like to look at, we can simply pull out the House Size in sq. ft. and use our model to predict what these houses ought to be priced at."
   ]
  },
  {
   "cell_type": "code",
   "execution_count": 12,
   "metadata": {},
   "outputs": [
    {
     "name": "stdout",
     "output_type": "stream",
     "text": [
      "Testing Set RMSE is 177645.59979117432\n"
     ]
    }
   ],
   "source": [
    "y_pred = lm.predict(X_test)\n",
    "RMSE_test = (((y_pred - y_test)**2).mean())**(0.5)\n",
    "print('Testing Set RMSE is', RMSE_test)"
   ]
  },
  {
   "cell_type": "markdown",
   "metadata": {},
   "source": [
    "We have testing set error to be over \\$177k and this quite large. This means that much large error might be observed if we have more incoming data."
   ]
  },
  {
   "cell_type": "code",
   "execution_count": 13,
   "metadata": {},
   "outputs": [
    {
     "data": {
      "image/png": "[encoded data removed]",
      "text/plain": [
       "<Figure size 432x288 with 1 Axes>"
      ]
     },
     "metadata": {
      "needs_background": "light"
     },
     "output_type": "display_data"
    }
   ],
   "source": [
    "plt.scatter(X_test, y_test)\n",
    "plt.plot(X_test, lm.predict(X_test), 'r')\n",
    "plt.xlabel('House Size')\n",
    "plt.ylabel('House Price')\n",
    "plt.title('Testing Set Performance:' + str(RMSE_test))\n",
    "plt.show()"
   ]
  },
  {
   "cell_type": "markdown",
   "metadata": {},
   "source": [
    "## Software Development / Product Management\n",
    "\n",
    "From about analysis, we have established a list of steps we execute to carry out a simple linear regression analysis. Each step is clear written and can be examined for reference. \n",
    "\n",
    "Now it is time to pack everything together into a function so that the above analysis can be summarized into a word and can be pulled for future usage without having to code everything again. Once this software is developed we can get the product shipped to employers or clients and we will be starting negotiation as well as software maintainance (which is crucial for product management)"
   ]
  },
  {
   "cell_type": "code",
   "execution_count": 21,
   "metadata": {},
   "outputs": [],
   "source": [
    "# Define function\n",
    "def ML_SimpleLinearRegression(X, Y, test_set_size):\n",
    "    # Environment Initiation\n",
    "    import numpy as np\n",
    "    import pandas as pd\n",
    "    from scipy import stats\n",
    "    import statsmodels.api as sm\n",
    "    import matplotlib.pyplot as plt\n",
    "    \n",
    "    # Exploratory Data Analysis (EDA)\n",
    "    plt.scatter(X, Y, alpha=0.3)\n",
    "    plt.xlabel('House Size (sq.ft.)')\n",
    "    plt.ylabel('House Price')\n",
    "    plt.axis([0, 2500, 0, 1400000])\n",
    "    plt.show()\n",
    "    \n",
    "    # ML: Setup\n",
    "    from sklearn.model_selection import train_test_split\n",
    "    X_train, X_test, y_train, y_test = train_test_split(X, Y, test_size=test_set_size, random_state=0)\n",
    "    X_train = np.array(X_train).reshape(-1, 1)\n",
    "    y_train = np.array(y_train).reshape(-1, 1)\n",
    "    X_test = np.array(X_test).reshape(-1, 1)\n",
    "    y_test = np.array(y_test).reshape(-1, 1)\n",
    "    \n",
    "    # ML: Train\n",
    "    from sklearn.linear_model import LinearRegression\n",
    "    lm = LinearRegression()\n",
    "    lm.fit(X_train, y_train)\n",
    "    \n",
    "    # ML: Training Evaluation\n",
    "    y_train_pred = lm.predict(X_train)\n",
    "    RMSE_train = (((y_train_pred - y_train)**2).mean())**(0.5)\n",
    "    plt.scatter(X_train, y_train, alpha=0.3)\n",
    "    plt.plot(X_train, lm.predict(X_train), 'r')\n",
    "    plt.xlabel('House Size')\n",
    "    plt.ylabel('House Price')\n",
    "    plt.title('Training Set Performance:' + str(RMSE_train))\n",
    "    plt.show()\n",
    "    \n",
    "    # ML: Testing Evaluation\n",
    "    y_pred = lm.predict(X_test)\n",
    "    RMSE_test = (((y_pred - y_test)**2).mean())**(0.5)    \n",
    "    plt.scatter(X_test, y_test, alpha=0.3)\n",
    "    plt.plot(X_test, lm.predict(X_test), 'r')\n",
    "    plt.xlabel('House Size')\n",
    "    plt.ylabel('House Price')\n",
    "    plt.title('Testing Set Performance:' + str(RMSE_test))\n",
    "    plt.show()\n",
    "\n",
    "    # Generate Output\n",
    "    return {\n",
    "        'Data': [X, Y],\n",
    "        'New Data': {\n",
    "            'X_train': X_train,\n",
    "            'X_test': X_test,\n",
    "            'y_train': y_train,\n",
    "            'y_test': y_test\n",
    "        },\n",
    "        'Shapes': [X_train.shape, X_test.shape],\n",
    "        'Linear Regression Results': [lm.coef_, lm.intercept_],\n",
    "        'Training RMSE': RMSE_train,\n",
    "        'Testing RMSE': RMSE_test\n",
    "    }\n",
    "# End of function"
   ]
  },
  {
   "cell_type": "markdown",
   "metadata": {},
   "source": [
    "We are done! Let us run it!"
   ]
  },
  {
   "cell_type": "code",
   "execution_count": 19,
   "metadata": {},
   "outputs": [
    {
     "data": {
      "image/png": "[encoded data removed]",
      "text/plain": [
       "<Figure size 432x288 with 1 Axes>"
      ]
     },
     "metadata": {
      "needs_background": "light"
     },
     "output_type": "display_data"
    },
    {
     "data": {
      "image/png": "[encoded data removed]",
      "text/plain": [
       "<Figure size 432x288 with 1 Axes>"
      ]
     },
     "metadata": {
      "needs_background": "light"
     },
     "output_type": "display_data"
    },
    {
     "data": {
      "image/png": "[encoded data removed]",
      "text/plain": [
       "<Figure size 432x288 with 1 Axes>"
      ]
     },
     "metadata": {
      "needs_background": "light"
     },
     "output_type": "display_data"
    }
   ],
   "source": [
    "# Get Data\n",
    "data = pd.read_excel('~/OneDrive/Documents/YinsPy/data/Housing.xlsx')\n",
    "X = data['House Size (sq.ft.)']\n",
    "Y = data['House Price']\n",
    "\n",
    "# Run\n",
    "testresult = ML_SimpleLinearRegression(X, Y, 0.2)"
   ]
  },
  {
   "cell_type": "code",
   "execution_count": 20,
   "metadata": {},
   "outputs": [
    {
     "name": "stdout",
     "output_type": "stream",
     "text": [
      "Linear Model Coefficients are: [array([[393.19205365]]), array([261440.9178759])]\n",
      "Training Set Error is: 107584.90871426437\n",
      "Testing Set Errro is: 119431.1397260143\n"
     ]
    }
   ],
   "source": [
    "print('Linear Model Coefficients are:', testresult['Linear Regression Results'])\n",
    "print('Training Set Error is:', testresult['Training RMSE'])\n",
    "print('Testing Set Errro is:', testresult['Testing RMSE'])"
   ]
  },
  {
   "cell_type": "code",
   "execution_count": null,
   "metadata": {},
   "outputs": [],
   "source": []
  }
 ],
 "metadata": {
  "kernelspec": {
   "display_name": "Python 3",
   "language": "python",
   "name": "python3"
  },
  "language_info": {
   "codemirror_mode": {
    "name": "ipython",
    "version": 3
   },
   "file_extension": ".py",
   "mimetype": "text/x-python",
   "name": "python",
   "nbconvert_exporter": "python",
   "pygments_lexer": "ipython3",
   "version": "3.7.4"
  }
 },
 "nbformat": 4,
 "nbformat_minor": 2
}
