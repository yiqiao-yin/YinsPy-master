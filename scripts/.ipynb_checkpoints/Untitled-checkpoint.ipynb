{
 "cells": [
  {
   "cell_type": "code",
   "execution_count": 188,
   "metadata": {},
   "outputs": [],
   "source": [
    "from scipy.stats import bernoulli\n",
    "import pandas as pd\n",
    "import numpy as np"
   ]
  },
  {
   "cell_type": "code",
   "execution_count": 189,
   "metadata": {},
   "outputs": [
    {
     "name": "stdout",
     "output_type": "stream",
     "text": [
      "(2000, 30)\n",
      "   0  1  2  3  4  5  6  7  8  9  ...  20  21  22  23  24  25  26  27  28  29\n",
      "0  0  0  1  0  0  0  1  1  1  1  ...   0   1   1   0   1   0   0   0   1   1\n",
      "1  1  1  0  0  0  0  0  0  0  0  ...   0   0   0   0   0   1   1   1   0   0\n",
      "\n",
      "[2 rows x 30 columns]\n",
      "0.5215\n",
      "0.5055\n"
     ]
    }
   ],
   "source": [
    "n = 1000\n",
    "N = n + 1000\n",
    "cutoff = round(n/N, 1)\n",
    "p = 30\n",
    "data_bern = bernoulli.rvs(size=N*p, p=0.5)\n",
    "\n",
    "X = pd.DataFrame(data_bern.reshape([N, p]), columns=np.arange(p).astype(str))\n",
    "print(X.shape)\n",
    "print(X.head(2))\n",
    "\n",
    "I = bernoulli.rvs(size=N, p=0.5)\n",
    "print(np.mean(I))\n",
    "y1 = np.mod(X.iloc[:, 1] + X.iloc[:, 2], 2)\n",
    "y2 = np.mod(X.iloc[:, 2] + X.iloc[:, 3] + X.iloc[:, 4], 2)\n",
    "y = np.where(I == 1, y1, y2)\n",
    "print(np.mean(y))"
   ]
  },
  {
   "cell_type": "code",
   "execution_count": 190,
   "metadata": {},
   "outputs": [],
   "source": [
    "import tensorflow as tf\n",
    "from tensorflow import keras\n",
    "from tensorflow.keras import datasets, layers, models\n",
    "\n",
    "# Helper libraries\n",
    "import numpy as np\n",
    "import matplotlib.pyplot as plt"
   ]
  },
  {
   "cell_type": "code",
   "execution_count": 191,
   "metadata": {},
   "outputs": [
    {
     "name": "stdout",
     "output_type": "stream",
     "text": [
      "Shape of X training set: (1000, 30) Shape of X in test set: (1000, 30)\n",
      "First few obs of y: [1 0 0 1 0]\n"
     ]
    }
   ],
   "source": [
    "from sklearn.model_selection import train_test_split\n",
    "X_train, X_test, y_train, y_test = train_test_split(X, y, test_size=cutoff, random_state=0)\n",
    "print('Shape of X training set:', X_train.shape, 'Shape of X in test set:', X_test.shape)\n",
    "print('First few obs of y:', y_train[:5])"
   ]
  },
  {
   "cell_type": "code",
   "execution_count": 192,
   "metadata": {},
   "outputs": [],
   "source": [
    "# Normalize\n",
    "# Helper Function\n",
    "def helpNormalize(X):\n",
    "    return (X - X.mean()) / np.std(X)\n",
    "\n",
    "X_train = X_train.apply(helpNormalize, axis=1)\n",
    "X_test = X_test.apply(helpNormalize, axis=1)"
   ]
  },
  {
   "cell_type": "code",
   "execution_count": 193,
   "metadata": {},
   "outputs": [],
   "source": [
    "inputSHAPEwidth = 10\n",
    "inputSHAPElenth = 3"
   ]
  },
  {
   "cell_type": "code",
   "execution_count": 195,
   "metadata": {},
   "outputs": [],
   "source": [
    "X_train = np.reshape(np.array(X_train), (X_train.shape[0], inputSHAPEwidth, inputSHAPElenth))\n",
    "X_test = np.reshape(np.array(X_test), (X_test.shape[0], inputSHAPEwidth, inputSHAPElenth))"
   ]
  },
  {
   "cell_type": "code",
   "execution_count": 284,
   "metadata": {},
   "outputs": [
    {
     "data": {
      "text/plain": [
       "((1000, 10, 3), (1000, 10, 3))"
      ]
     },
     "execution_count": 284,
     "metadata": {},
     "output_type": "execute_result"
    }
   ],
   "source": [
    "X_train.shape, X_test.shape"
   ]
  },
  {
   "cell_type": "code",
   "execution_count": 198,
   "metadata": {},
   "outputs": [
    {
     "name": "stdout",
     "output_type": "stream",
     "text": [
      "   0  1\n",
      "0  1  0\n",
      "1  0  1\n"
     ]
    }
   ],
   "source": [
    "filter1 = pd.DataFrame([[1,0], [0,1]])\n",
    "print(filter1)"
   ]
  },
  {
   "cell_type": "code",
   "execution_count": 265,
   "metadata": {},
   "outputs": [],
   "source": [
    "# Convolutional Operation (called Yins to make it different from default function)\n",
    "def YinsConvOp(incidence=0, X=X_train, unitFilter=filter1):\n",
    "    unitSample = []\n",
    "    for i in range(pd.DataFrame(X[incidence]).shape[0] - 1):\n",
    "        for j in range(pd.DataFrame(X[incidence]).shape[1] - 1):\n",
    "            unitSample.append(\n",
    "                np.multiply(pd.DataFrame(X[incidence]).iloc[i:(i+2), j:(j+2)], unitFilter).sum(axis=1).sum())\n",
    "    return unitSample"
   ]
  },
  {
   "cell_type": "code",
   "execution_count": 285,
   "metadata": {},
   "outputs": [],
   "source": [
    "X_train_new = pd.DataFrame([YinsConvOp(incidence=0, X=X_train, filter1=filter1)])\n",
    "for i in range(1, X_train.shape[0]):\n",
    "    X_train_new = pd.concat([\n",
    "        X_train_new,\n",
    "        pd.DataFrame([YinsConvOp(incidence=i, X=X_train, filter1=filter1)]) ])"
   ]
  }
 ],
 "metadata": {
  "kernelspec": {
   "display_name": "Python 3",
   "language": "python",
   "name": "python3"
  },
  "language_info": {
   "codemirror_mode": {
    "name": "ipython",
    "version": 3
   },
   "file_extension": ".py",
   "mimetype": "text/x-python",
   "name": "python",
   "nbconvert_exporter": "python",
   "pygments_lexer": "ipython3",
   "version": "3.6.5"
  }
 },
 "nbformat": 4,
 "nbformat_minor": 2
}
