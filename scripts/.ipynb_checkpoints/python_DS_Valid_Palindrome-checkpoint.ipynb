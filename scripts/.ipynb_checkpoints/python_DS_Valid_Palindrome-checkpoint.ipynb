{
 "cells": [
  {
   "cell_type": "markdown",
   "metadata": {},
   "source": [
    "# Data Structures: Evaluate Palindrome\n",
    "\n",
    "Let us discuss a software engineer interview question in the topic of array and string. The task accepts a string and the string can be a combination of letters, period, and comma. The letters can be either large cap or small cap. Assume that we are only looking at letters. We want to check if an input string is a Palindrome. \n",
    "\n",
    "Palindrome is defined as the type of string such that the original order and the reversed order of the characters are exactly the same. \n",
    "\n",
    "```py\n",
    "A = 'rac, a car'\n",
    "Solution.isPalindrome(A)\n",
    "# The solution should print 'True' because 'racacar' has the exact same letters original order and the reversed order.\n",
    "```\n",
    "\n",
    "Source: the problem comes from Leetcode [Valid Palindrome](https://leetcode.com/problems/valid-palindrome/)\n",
    "\n",
    "```py\n",
    "class Solution: # ignore class object for now\n",
    "    def isPalindrome(str):\n",
    "        ### Your Code Starts Here: ###\n",
    "```\n",
    "\n",
    "Before you move on to the following, please take a moment and think about the problem yourself. In the following, I dissect the problem first and land on a small software for client use.\n",
    "- Problem Reading and Assessment\n",
    "- Software Product / Product Management"
   ]
  },
  {
   "cell_type": "markdown",
   "metadata": {},
   "source": [
    "## Problem Reading and Assessment\n",
    "\n",
    "Before we start to code a software product, let us evaluate the problem. We want to establish a data structure so that we can process each individual character (letters or umbers) in an order we want.  \n",
    "\n",
    "Please notice the following helpful syntax in Python.\n",
    "- *.lower()*\n",
    "- *.isalpha()*\n",
    "- *.isnumeric()*\n",
    "- *.join()*\n",
    "- *i += 1*"
   ]
  },
  {
   "cell_type": "code",
   "execution_count": 26,
   "metadata": {},
   "outputs": [
    {
     "name": "stdout",
     "output_type": "stream",
     "text": [
      "rac, a car\n"
     ]
    }
   ],
   "source": [
    "# Step 1: Look at only lower case\n",
    "string = 'rac, a car'\n",
    "string = string.lower()\n",
    "print(string)"
   ]
  },
  {
   "cell_type": "code",
   "execution_count": 27,
   "metadata": {},
   "outputs": [
    {
     "name": "stdout",
     "output_type": "stream",
     "text": [
      "r r\n",
      "a ra\n",
      "c rac\n",
      "a raca\n",
      "c racac\n",
      "a racaca\n",
      "r racacar\n"
     ]
    }
   ],
   "source": [
    "# Step 2: Loop the original order and check\n",
    "q = \"\"\n",
    "for i in string:\n",
    "    if i.isalpha() or i.isnumeric():\n",
    "        q = \"\".join([q, i])\n",
    "        print(i, q)"
   ]
  },
  {
   "cell_type": "code",
   "execution_count": 28,
   "metadata": {},
   "outputs": [
    {
     "name": "stdout",
     "output_type": "stream",
     "text": [
      "6 r\n",
      "5 ra\n",
      "4 rac\n",
      "3 raca\n",
      "2 racac\n",
      "1 racaca\n",
      "0 racacar\n"
     ]
    }
   ],
   "source": [
    "# Step 3: Loop the reversed order and check\n",
    "reversedString = \"\"\n",
    "for i in reversed(range(len(q))):\n",
    "    reversedString += q[i]\n",
    "    print(i, reversedString)"
   ]
  },
  {
   "cell_type": "code",
   "execution_count": 29,
   "metadata": {},
   "outputs": [
    {
     "name": "stdout",
     "output_type": "stream",
     "text": [
      "True\n"
     ]
    }
   ],
   "source": [
    "# Step 4: Final check\n",
    "print(q == reversedString)"
   ]
  },
  {
   "cell_type": "markdown",
   "metadata": {},
   "source": [
    "## Software Product / Product Management\n",
    "\n",
    "Let me code everything above into a class object. This section we discuss software product. This is extremely important because we want to pack everything we investigate above into a function that is in a class object. This usage makes our work efficient for clients."
   ]
  },
  {
   "cell_type": "code",
   "execution_count": 30,
   "metadata": {},
   "outputs": [],
   "source": [
    "class Solution:\n",
    "    def isPalindrome(string: str):\n",
    "        string = string.lower()\n",
    "        q = \"\"\n",
    "        for i in string:\n",
    "            if i.isalpha() or i.isnumeric():\n",
    "                q = \"\".join([q,i])\n",
    "        reversedString = \"\"\n",
    "        for i in reversed(range(len(q))):\n",
    "            reversedString += q[i]\n",
    "        return q == reversedString"
   ]
  },
  {
   "cell_type": "code",
   "execution_count": 31,
   "metadata": {},
   "outputs": [
    {
     "data": {
      "text/plain": [
       "True"
      ]
     },
     "execution_count": 31,
     "metadata": {},
     "output_type": "execute_result"
    }
   ],
   "source": [
    "A = 'rac, a car'\n",
    "Solution.isPalindrome(A)"
   ]
  },
  {
   "cell_type": "code",
   "execution_count": 9,
   "metadata": {},
   "outputs": [
    {
     "data": {
      "text/plain": [
       "True"
      ]
     },
     "execution_count": 9,
     "metadata": {},
     "output_type": "execute_result"
    }
   ],
   "source": [
    "B = 'abcdcba'\n",
    "Solution.isPalindrome(B)"
   ]
  },
  {
   "cell_type": "code",
   "execution_count": 10,
   "metadata": {},
   "outputs": [
    {
     "data": {
      "text/plain": [
       "True"
      ]
     },
     "execution_count": 10,
     "metadata": {},
     "output_type": "execute_result"
    }
   ],
   "source": [
    "C = 'a man, a plan, a canal: panama'\n",
    "Solution.isPalindrome(C)"
   ]
  }
 ],
 "metadata": {
  "kernelspec": {
   "display_name": "Python 3",
   "language": "python",
   "name": "python3"
  },
  "language_info": {
   "codemirror_mode": {
    "name": "ipython",
    "version": 3
   },
   "file_extension": ".py",
   "mimetype": "text/x-python",
   "name": "python",
   "nbconvert_exporter": "python",
   "pygments_lexer": "ipython3",
   "version": "3.6.5"
  }
 },
 "nbformat": 4,
 "nbformat_minor": 2
}
