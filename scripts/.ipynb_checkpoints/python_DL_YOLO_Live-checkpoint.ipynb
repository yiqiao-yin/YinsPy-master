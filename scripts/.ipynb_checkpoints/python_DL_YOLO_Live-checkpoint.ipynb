{
 "cells": [
  {
   "cell_type": "markdown",
   "metadata": {},
   "source": [
    "# Deep Learning: YOLO Live\n",
    "\n",
    "This notebook deploy YOLO algorithm with live cam feed."
   ]
  },
  {
   "cell_type": "code",
   "execution_count": 7,
   "metadata": {},
   "outputs": [],
   "source": [
    "# author: Arun Ponnusamy\n",
    "# website: https://www.arunponnusamy.com\n",
    "# github: https://github.com/arunponnusamy/cvlib\n",
    "# cvlib: https://www.cvlib.net/\n",
    "\n",
    "# object detection webcam example using tiny yolo\n",
    "# usage: python object_detection_webcam_yolov3_tiny.py\n",
    "\n",
    "# import necessary packages\n",
    "import cvlib as cv\n",
    "from cvlib.object_detection import draw_bbox\n",
    "import cv2"
   ]
  },
  {
   "cell_type": "markdown",
   "metadata": {},
   "source": [
    "The following code will start a new window with live camera feed from your laptop. The notebook will print out a long list of results, with objects detected or not. To shut it down, make sure current window is in the camera feed and press 'q'. "
   ]
  },
  {
   "cell_type": "code",
   "execution_count": 11,
   "metadata": {},
   "outputs": [
    {
     "name": "stdout",
     "output_type": "stream",
     "text": [
      "[[2, 249, 120, 377]] ['person'] [0.5235815048217773]\n",
      "[[4, 245, 136, 447]] ['person'] [0.5314232110977173]\n",
      "[[1, 254, 119, 374]] ['person'] [0.4998975694179535]\n",
      "[[6, 245, 136, 447]] ['person'] [0.46959808468818665]\n",
      "[[2, 252, 120, 376]] ['person'] [0.45629674196243286]\n",
      "[[2, 253, 116, 377]] ['person'] [0.41835668683052063]\n",
      "[[4, 244, 138, 448]] ['person'] [0.45985743403434753]\n",
      "[[2, 250, 118, 376]] ['person'] [0.5007694363594055]\n",
      "[[6, 244, 136, 448]] ['person'] [0.48870906233787537]\n",
      "[[6, 246, 136, 450]] ['person'] [0.480882465839386]\n",
      "[[6, 246, 138, 448]] ['person'] [0.3824309706687927]\n",
      "[[3, 246, 139, 450]] ['person'] [0.29097673296928406]\n",
      "[[4, 252, 120, 372]] ['person'] [0.4606475830078125]\n",
      "[[4, 246, 144, 448]] ['person'] [0.27158257365226746]\n",
      "[[5, 249, 143, 447]] ['person'] [0.2898997664451599]\n",
      "[[6, 248, 134, 450]] ['person'] [0.4514146149158478]\n",
      "[[2, 248, 138, 446]] ['person'] [0.29457640647888184]\n",
      "[[4, 248, 140, 448]] ['person'] [0.3241038918495178]\n",
      "[[4, 250, 140, 446]] ['person'] [0.4324321150779724]\n",
      "[[1, 245, 141, 447]] ['person'] [0.4442065954208374]\n",
      "[[2, 246, 136, 446]] ['person'] [0.2889918386936188]\n",
      "[[4, 248, 142, 448]] ['person'] [0.28705891966819763]\n",
      "[[4, 246, 140, 450]] ['person'] [0.2860487997531891]\n",
      "[[3, 244, 139, 448]] ['person'] [0.3574528098106384]\n",
      "[[3, 242, 139, 450]] ['person'] [0.351637601852417]\n",
      "[[2, 244, 142, 448]] ['person'] [0.32097259163856506]\n",
      "[[2, 244, 136, 448]] ['person'] [0.31268948316574097]\n",
      "[[3, 245, 137, 449]] ['person'] [0.2678249478340149]\n",
      "[[5, 244, 137, 450]] ['person'] [0.36321118474006653]\n",
      "[[2, 242, 140, 450]] ['person'] [0.3430894911289215]\n",
      "[[6, 246, 138, 450]] ['person'] [0.45880237221717834]\n",
      "[[3, 248, 139, 448]] ['person'] [0.3980363607406616]\n",
      "[[4, 244, 140, 450]] ['person'] [0.35306763648986816]\n",
      "[[4, 244, 134, 450]] ['person'] [0.4331775903701782]\n",
      "[[4, 244, 136, 450]] ['person'] [0.26339924335479736]\n",
      "[[4, 244, 136, 450]] ['person'] [0.4463956356048584]\n"
     ]
    }
   ],
   "source": [
    "# open webcam\n",
    "webcam = cv2.VideoCapture(0)\n",
    "\n",
    "if not webcam.isOpened():\n",
    "    print(\"Could not open webcam\")\n",
    "    exit()\n",
    "    \n",
    "\n",
    "# loop through frames\n",
    "while webcam.isOpened():\n",
    "\n",
    "    # read frame from webcam \n",
    "    status, frame = webcam.read()\n",
    "\n",
    "    if not status:\n",
    "        break\n",
    "\n",
    "    # apply object detection\n",
    "    bbox, label, conf = cv.detect_common_objects(frame, confidence=0.25, model='yolov3-tiny')\n",
    "\n",
    "    print(bbox, label, conf)\n",
    "\n",
    "    # draw bounding box over detected objects\n",
    "    out = draw_bbox(frame, bbox, label, conf, write_conf=True)\n",
    "\n",
    "    # display output\n",
    "    cv2.imshow(\"Real-time object detection\", out)\n",
    "\n",
    "    # press \"Q\" to stop\n",
    "    if cv2.waitKey(1) & 0xFF == ord('q'):\n",
    "        break\n",
    "    \n",
    "# release resources\n",
    "webcam.release()\n",
    "cv2.destroyAllWindows()       "
   ]
  },
  {
   "cell_type": "code",
   "execution_count": null,
   "metadata": {},
   "outputs": [],
   "source": []
  }
 ],
 "metadata": {
  "kernelspec": {
   "display_name": "Python 3",
   "language": "python",
   "name": "python3"
  },
  "language_info": {
   "codemirror_mode": {
    "name": "ipython",
    "version": 3
   },
   "file_extension": ".py",
   "mimetype": "text/x-python",
   "name": "python",
   "nbconvert_exporter": "python",
   "pygments_lexer": "ipython3",
   "version": "3.6.5"
  }
 },
 "nbformat": 4,
 "nbformat_minor": 2
}
