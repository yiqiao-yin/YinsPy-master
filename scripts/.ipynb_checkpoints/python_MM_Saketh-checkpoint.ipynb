{
 "cells": [
  {
   "cell_type": "code",
   "execution_count": 3,
   "metadata": {},
   "outputs": [],
   "source": [
    "from numpy.random import random\n",
    "from tensorflow.python.framework.meta_graph import read_meta_graph_file\n",
    "import yfinance as yf\n",
    "import numpy as np\n",
    "import pandas as pd\n",
    "import matplotlib.pyplot as plt\n",
    "from datetime import date\n",
    "import tensorflow as tf \n",
    "from tensorflow import keras\n",
    "from tensorflow.keras import layers, Input\n",
    "from tensorflow.keras.models import Sequential\n",
    "import random"
   ]
  },
  {
   "cell_type": "code",
   "execution_count": 4,
   "metadata": {},
   "outputs": [],
   "source": [
    "stockData = {}\n",
    "tickers = [\"MSFT\"]\n",
    "colors = ['red', 'blue', 'orange', 'yellow', 'olive', 'teal']"
   ]
  },
  {
   "cell_type": "code",
   "execution_count": 5,
   "metadata": {},
   "outputs": [
    {
     "name": "stdout",
     "output_type": "stream",
     "text": [
      "[*********************100%***********************]  1 of 1 completed\n"
     ]
    },
    {
     "data": {
      "text/plain": [
       "(315,)"
      ]
     },
     "execution_count": 5,
     "metadata": {},
     "output_type": "execute_result"
    }
   ],
   "source": [
    "for ticker in tickers:\n",
    "    stockData[ticker] = yf.download(ticker, start = '2020-01-01', end = '2021-04-04') \n",
    "msft_mean = np.mean(stockData['MSFT']['Adj Close'])\n",
    "msft_returns = (stockData[\"MSFT\"][\"Close\"] - stockData['MSFT'][\"Open\"])/stockData['MSFT'][\"Open\"] + 1\n",
    "msft_returns.shape"
   ]
  },
  {
   "cell_type": "code",
   "execution_count": 10,
   "metadata": {},
   "outputs": [],
   "source": [
    "def calc_returns(mu, so, ticker, lent):\n",
    "    returns  = np.random.normal(mu, so, lent)\n",
    "    return returns"
   ]
  },
  {
   "cell_type": "code",
   "execution_count": 10,
   "metadata": {},
   "outputs": [],
   "source": [
    "def create_branch(runs, s_mu, s_so, ticker, scale, xlo, lent):\n",
    "    mu = s_mu\n",
    "    so = s_so\n",
    "    diff_list = []\n",
    "\n",
    "    for i in range(int(runs)):\n",
    "        diff = 0\n",
    "        if i != 0:\n",
    "            mu += scale\n",
    "        d_returns = calc_returns(mu, so, ticker, lent)\n",
    "        branch = []\n",
    "        if xlo != 0:\n",
    "            for i in range(xlo):\n",
    "                branch.append(stockData['MSFT']['Adj Close'][i])\n",
    "        branch.append(stockData['MSFT']['Adj Close'][xlo])\n",
    "        \n",
    "        for j in range(len(d_returns)-1):\n",
    "            branch.append((branch[-1] * (1 + d_returns[j])))\n",
    "            diff += abs(stockData['MSFT']['Adj Close'][xlo + j] - branch[j])\n",
    "    \n",
    "        diff_list.append(diff)\n",
    "        plt.plot(branch, label = \"branch: {}, mean: {}\".format(i + 1, mu))\n",
    "    \n",
    "    print(diff_list.index(min(diff_list)) + 1, mu, min(diff_list))\n",
    "    \n",
    "    return mu "
   ]
  },
  {
   "cell_type": "code",
   "execution_count": 10,
   "metadata": {},
   "outputs": [],
   "source": [
    "def MCTS(runs, s_mu, s_so, splits, ticker, intra_scale, inter_scale):\n",
    "\n",
    "    sectlen = len(stockData[ticker]['Adj Close']) // splits\n",
    "    slo = 0\n",
    "    mu = s_mu\n",
    "    for i in range(splits):\n",
    "        mu = create_branch(runs, mu, s_so, ticker, intra_scale, slo, sectlen)\n",
    "        slo += sectlen\n",
    "        intra_scale = intra_scale * inter_scale"
   ]
  },
  {
   "cell_type": "code",
   "execution_count": 7,
   "metadata": {},
   "outputs": [
    {
     "name": "stdin",
     "output_type": "stream",
     "text": [
      "Number of runs:  3\n"
     ]
    }
   ],
   "source": [
    "num_runs = int(input('Number of runs: '))"
   ]
  },
  {
   "cell_type": "code",
   "execution_count": 8,
   "metadata": {},
   "outputs": [
    {
     "name": "stdin",
     "output_type": "stream",
     "text": [
      "Number of generations:  3\n"
     ]
    }
   ],
   "source": [
    "num_splits = int(input('Number of generations: '))"
   ]
  },
  {
   "cell_type": "code",
   "execution_count": 12,
   "metadata": {},
   "outputs": [],
   "source": [
    "stock = ['MSFT']"
   ]
  },
  {
   "cell_type": "code",
   "execution_count": 13,
   "metadata": {},
   "outputs": [],
   "source": [
    "for ticker in tickers:\n",
    "    for price in stockData[ticker]['Adj Close']:\n",
    "        stock.append(price)"
   ]
  },
  {
   "cell_type": "code",
   "execution_count": 14,
   "metadata": {},
   "outputs": [
    {
     "ename": "TypeError",
     "evalue": "create_branch() missing 2 required positional arguments: 'xlo' and 'lent'",
     "output_type": "error",
     "traceback": [
      "\u001b[1;31m---------------------------------------------------------------------------\u001b[0m",
      "\u001b[1;31mTypeError\u001b[0m                                 Traceback (most recent call last)",
      "\u001b[1;32m<ipython-input-14-b162afc8bb27>\u001b[0m in \u001b[0;36m<module>\u001b[1;34m\u001b[0m\n\u001b[1;32m----> 1\u001b[1;33m \u001b[0mcreate_branch\u001b[0m\u001b[1;33m(\u001b[0m\u001b[0mnum_runs\u001b[0m\u001b[1;33m,\u001b[0m \u001b[1;36m0\u001b[0m\u001b[1;33m,\u001b[0m \u001b[1;36m0.01\u001b[0m\u001b[1;33m,\u001b[0m \u001b[1;34m'MSFT'\u001b[0m\u001b[1;33m,\u001b[0m \u001b[1;36m0.001\u001b[0m\u001b[1;33m)\u001b[0m\u001b[1;33m\u001b[0m\u001b[1;33m\u001b[0m\u001b[0m\n\u001b[0m\u001b[0;32m      2\u001b[0m \u001b[0mMCTS\u001b[0m\u001b[1;33m(\u001b[0m\u001b[0mnum_runs\u001b[0m\u001b[1;33m,\u001b[0m \u001b[1;36m0.0007\u001b[0m\u001b[1;33m,\u001b[0m \u001b[1;36m0.01\u001b[0m\u001b[1;33m,\u001b[0m \u001b[0mnum_splits\u001b[0m\u001b[1;33m,\u001b[0m \u001b[1;34m'MSFT'\u001b[0m\u001b[1;33m,\u001b[0m \u001b[1;36m0.0001\u001b[0m\u001b[1;33m,\u001b[0m \u001b[1;36m0.1\u001b[0m\u001b[1;33m)\u001b[0m\u001b[1;33m\u001b[0m\u001b[1;33m\u001b[0m\u001b[0m\n\u001b[0;32m      3\u001b[0m \u001b[0mplt\u001b[0m\u001b[1;33m.\u001b[0m\u001b[0mplot\u001b[0m\u001b[1;33m(\u001b[0m\u001b[0mstock\u001b[0m\u001b[1;33m,\u001b[0m \u001b[0mlabel\u001b[0m \u001b[1;33m=\u001b[0m \u001b[1;34m\"MSFT\"\u001b[0m\u001b[1;33m,\u001b[0m \u001b[0mcolor\u001b[0m \u001b[1;33m=\u001b[0m \u001b[1;34m\"green\"\u001b[0m\u001b[1;33m)\u001b[0m\u001b[1;33m\u001b[0m\u001b[1;33m\u001b[0m\u001b[0m\n\u001b[0;32m      4\u001b[0m \u001b[0mplt\u001b[0m\u001b[1;33m.\u001b[0m\u001b[0mylabel\u001b[0m\u001b[1;33m(\u001b[0m\u001b[1;34m'Price'\u001b[0m\u001b[1;33m)\u001b[0m\u001b[1;33m\u001b[0m\u001b[1;33m\u001b[0m\u001b[0m\n\u001b[0;32m      5\u001b[0m \u001b[0mplt\u001b[0m\u001b[1;33m.\u001b[0m\u001b[0mlegend\u001b[0m\u001b[1;33m(\u001b[0m\u001b[1;33m)\u001b[0m\u001b[1;33m\u001b[0m\u001b[1;33m\u001b[0m\u001b[0m\n",
      "\u001b[1;31mTypeError\u001b[0m: create_branch() missing 2 required positional arguments: 'xlo' and 'lent'"
     ]
    }
   ],
   "source": [
    "create_branch(num_runs, 0, 0.01, 'MSFT', 0.001)\n",
    "MCTS(num_runs, 0.0007, 0.01, num_splits, 'MSFT', 0.0001, 0.1)\n",
    "plt.plot(stock, label = \"MSFT\", color = \"green\")\n",
    "plt.ylabel('Price')\n",
    "plt.legend()\n",
    "plt.show()"
   ]
  },
  {
   "cell_type": "code",
   "execution_count": null,
   "metadata": {},
   "outputs": [],
   "source": []
  }
 ],
 "metadata": {
  "kernelspec": {
   "display_name": "Python 3",
   "language": "python",
   "name": "python3"
  },
  "language_info": {
   "codemirror_mode": {
    "name": "ipython",
    "version": 3
   },
   "file_extension": ".py",
   "mimetype": "text/x-python",
   "name": "python",
   "nbconvert_exporter": "python",
   "pygments_lexer": "ipython3",
   "version": "3.8.3"
  }
 },
 "nbformat": 4,
 "nbformat_minor": 4
}
