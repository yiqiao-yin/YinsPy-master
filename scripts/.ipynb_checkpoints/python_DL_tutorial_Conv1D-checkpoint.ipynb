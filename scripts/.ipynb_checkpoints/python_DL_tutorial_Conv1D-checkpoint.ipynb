{
 "cells": [
  {
   "cell_type": "markdown",
   "metadata": {},
   "source": [
    "## Convolutional 1-Dim\n",
    "\n",
    "This is a tutorial focusing on one single function *Conv1D* function from *tensorflow* library."
   ]
  },
  {
   "cell_type": "code",
   "execution_count": 1,
   "metadata": {},
   "outputs": [],
   "source": [
    "import tensorflow as tf"
   ]
  },
  {
   "cell_type": "code",
   "execution_count": 9,
   "metadata": {},
   "outputs": [],
   "source": [
    "input_shape = (2,10,2)"
   ]
  },
  {
   "cell_type": "code",
   "execution_count": 10,
   "metadata": {},
   "outputs": [],
   "source": [
    "x = tf.random.normal(input_shape)"
   ]
  },
  {
   "cell_type": "code",
   "execution_count": 11,
   "metadata": {},
   "outputs": [
    {
     "data": {
      "text/plain": [
       "TensorShape([2, 10, 2])"
      ]
     },
     "execution_count": 11,
     "metadata": {},
     "output_type": "execute_result"
    }
   ],
   "source": [
    "x.shape"
   ]
  },
  {
   "cell_type": "code",
   "execution_count": 12,
   "metadata": {},
   "outputs": [
    {
     "data": {
      "text/plain": [
       "<tf.Tensor: shape=(2, 10, 2), dtype=float32, numpy=\n",
       "array([[[ 0.44321603, -0.8155655 ],\n",
       "        [ 1.9522476 , -1.2845579 ],\n",
       "        [-1.0337242 , -1.1547064 ],\n",
       "        [-0.233404  , -0.15527269],\n",
       "        [ 0.84556746, -0.23450328],\n",
       "        [-0.85113657, -0.4523362 ],\n",
       "        [-0.09221443,  0.12940037],\n",
       "        [ 1.7347059 , -0.60228187],\n",
       "        [ 0.8476888 ,  1.6970091 ],\n",
       "        [ 0.78833777,  0.6827152 ]],\n",
       "\n",
       "       [[-0.9048889 , -0.65631986],\n",
       "        [ 1.7661815 ,  0.41865963],\n",
       "        [ 3.0976613 ,  0.4515184 ],\n",
       "        [ 0.67271906,  0.8146139 ],\n",
       "        [-0.9284802 , -0.10714412],\n",
       "        [-1.0257484 ,  0.74266243],\n",
       "        [-0.5471226 ,  0.21737035],\n",
       "        [ 0.5117721 , -1.1382924 ],\n",
       "        [-0.36066863,  1.9841639 ],\n",
       "        [ 0.49102724,  0.98558354]]], dtype=float32)>"
      ]
     },
     "execution_count": 12,
     "metadata": {},
     "output_type": "execute_result"
    }
   ],
   "source": [
    "x"
   ]
  },
  {
   "cell_type": "code",
   "execution_count": 13,
   "metadata": {},
   "outputs": [],
   "source": [
    "y = tf.keras.layers.Conv1D(\n",
    "    1, 2,\n",
    "    activation='relu',\n",
    "    input_shape=input_shape[1:])"
   ]
  },
  {
   "cell_type": "code",
   "execution_count": 14,
   "metadata": {},
   "outputs": [
    {
     "data": {
      "text/plain": [
       "TensorShape([2, 9, 1])"
      ]
     },
     "execution_count": 14,
     "metadata": {},
     "output_type": "execute_result"
    }
   ],
   "source": [
    "y(x).shape"
   ]
  },
  {
   "cell_type": "code",
   "execution_count": 15,
   "metadata": {},
   "outputs": [
    {
     "data": {
      "text/plain": [
       "<tf.Tensor: shape=(2, 9, 1), dtype=float32, numpy=\n",
       "array([[[2.714528  ],\n",
       "        [0.        ],\n",
       "        [0.63855404],\n",
       "        [1.1192907 ],\n",
       "        [0.        ],\n",
       "        [0.33378226],\n",
       "        [2.0633354 ],\n",
       "        [0.        ],\n",
       "        [0.        ]],\n",
       "\n",
       "       [[2.1180353 ],\n",
       "        [1.9767926 ],\n",
       "        [0.        ],\n",
       "        [0.        ],\n",
       "        [0.        ],\n",
       "        [0.        ],\n",
       "        [1.299381  ],\n",
       "        [0.        ],\n",
       "        [0.        ]]], dtype=float32)>"
      ]
     },
     "execution_count": 15,
     "metadata": {},
     "output_type": "execute_result"
    }
   ],
   "source": [
    "y(x)"
   ]
  }
 ],
 "metadata": {
  "kernelspec": {
   "display_name": "Python 3",
   "language": "python",
   "name": "python3"
  },
  "language_info": {
   "codemirror_mode": {
    "name": "ipython",
    "version": 3
   },
   "file_extension": ".py",
   "mimetype": "text/x-python",
   "name": "python",
   "nbconvert_exporter": "python",
   "pygments_lexer": "ipython3",
   "version": "3.8.3"
  }
 },
 "nbformat": 4,
 "nbformat_minor": 4
}
