{
 "cells": [
  {
   "cell_type": "markdown",
   "metadata": {},
   "source": [
    "# DATA STRUCTURES: SEARCH FOR NUMBERS\n",
    "\n",
    "This exercise let us imagine a four digit integer such as 1978. The goal is to search for all possible four-digit integers such that the the first two integer and the last two integer sum up to the two integers in the middle. For example, the four-digit integer 1978 satisfies this condition. We have 19 and 78 sum up to 97 which is the middle part of this four digit integer."
   ]
  },
  {
   "cell_type": "code",
   "execution_count": 14,
   "metadata": {},
   "outputs": [
    {
     "data": {
      "text/plain": [
       "[2, 0, 2, 0]"
      ]
     },
     "execution_count": 14,
     "metadata": {},
     "output_type": "execute_result"
    }
   ],
   "source": [
    "# trick 1: split\n",
    "a = 2020\n",
    "[int(d) for d in str(a)]"
   ]
  },
  {
   "cell_type": "code",
   "execution_count": 15,
   "metadata": {},
   "outputs": [
    {
     "data": {
      "text/plain": [
       "1021"
      ]
     },
     "execution_count": 15,
     "metadata": {},
     "output_type": "execute_result"
    }
   ],
   "source": [
    "# trick 2: concatenate\n",
    "a = 10\n",
    "b = 21\n",
    "int(str(a) + str(b))"
   ]
  },
  {
   "cell_type": "code",
   "execution_count": 27,
   "metadata": {},
   "outputs": [],
   "source": [
    "# for numbers greater than or equal to 1010\n",
    "newList = []\n",
    "for i in range(10, 100):\n",
    "    for j in range(10, 100):\n",
    "        newSum = i + j\n",
    "        newNum = int(str(i) + str(j))\n",
    "        newNumSplit = [int(d) for d in str(newNum)]\n",
    "        middleNum = int(str(newNumSplit[1]) + str(newNumSplit[2]))\n",
    "        if newSum == middleNum:\n",
    "            newList.append(newNum)\n",
    "        # print(i, j, newNum, middleNum, 'check:', newSum, newSum == middleNum)"
   ]
  },
  {
   "cell_type": "code",
   "execution_count": 28,
   "metadata": {},
   "outputs": [
    {
     "data": {
      "text/plain": [
       "[1318,\n",
       " 1428,\n",
       " 1538,\n",
       " 1648,\n",
       " 1758,\n",
       " 1868,\n",
       " 1978,\n",
       " 2417,\n",
       " 2527,\n",
       " 2637,\n",
       " 2747,\n",
       " 2857,\n",
       " 2967,\n",
       " 3516,\n",
       " 3626,\n",
       " 3736,\n",
       " 3846,\n",
       " 3956,\n",
       " 4615,\n",
       " 4725,\n",
       " 4835,\n",
       " 4945,\n",
       " 5714,\n",
       " 5824,\n",
       " 5934,\n",
       " 6813,\n",
       " 6923,\n",
       " 7912]"
      ]
     },
     "execution_count": 28,
     "metadata": {},
     "output_type": "execute_result"
    }
   ],
   "source": [
    "newList"
   ]
  },
  {
   "cell_type": "code",
   "execution_count": 34,
   "metadata": {},
   "outputs": [
    {
     "name": "stdout",
     "output_type": "stream",
     "text": [
      "1000 0\n",
      "1001 0\n",
      "1002 0\n",
      "1003 0\n",
      "1004 0\n",
      "1005 0\n",
      "1006 0\n",
      "1007 0\n",
      "1008 0\n",
      "1009 0\n"
     ]
    }
   ],
   "source": [
    "# for numbers less than 1010\n",
    "for i in range(10):\n",
    "    newNum = int(str(10) + str(0) + str(i))\n",
    "    newNumList = [int(d) for d in str(newNum)]\n",
    "    middleNum = int(str(newNumList[1]) + str(newNumList[2]))\n",
    "    print(newNum, middleNum)"
   ]
  },
  {
   "cell_type": "markdown",
   "metadata": {},
   "source": [
    "For numbers less than 100, none will satisfy requirement.\n",
    "\n",
    "Let us turn what we have into a program."
   ]
  },
  {
   "cell_type": "code",
   "execution_count": 35,
   "metadata": {},
   "outputs": [],
   "source": [
    "def searchNum():\n",
    "    # for numbers greater than or equal to 1010\n",
    "    newList = []\n",
    "    for i in range(10, 100):\n",
    "        for j in range(10, 100):\n",
    "            newSum = i + j\n",
    "            newNum = int(str(i) + str(j))\n",
    "            newNumSplit = [int(d) for d in str(newNum)]\n",
    "            middleNum = int(str(newNumSplit[1]) + str(newNumSplit[2]))\n",
    "            if newSum == middleNum:\n",
    "                newList.append(newNum)\n",
    "            # print(i, j, newNum, middleNum, 'check:', newSum, newSum == middleNum)\n",
    "    return newList"
   ]
  },
  {
   "cell_type": "code",
   "execution_count": 36,
   "metadata": {},
   "outputs": [],
   "source": [
    "tmpResult = searchNum()"
   ]
  },
  {
   "cell_type": "code",
   "execution_count": 37,
   "metadata": {},
   "outputs": [
    {
     "name": "stdout",
     "output_type": "stream",
     "text": [
      "[1318, 1428, 1538, 1648, 1758, 1868, 1978, 2417, 2527, 2637, 2747, 2857, 2967, 3516, 3626, 3736, 3846, 3956, 4615, 4725, 4835, 4945, 5714, 5824, 5934, 6813, 6923, 7912]\n"
     ]
    }
   ],
   "source": [
    "print(tmpResult)"
   ]
  }
 ],
 "metadata": {
  "kernelspec": {
   "display_name": "Python 3",
   "language": "python",
   "name": "python3"
  },
  "language_info": {
   "codemirror_mode": {
    "name": "ipython",
    "version": 3
   },
   "file_extension": ".py",
   "mimetype": "text/x-python",
   "name": "python",
   "nbconvert_exporter": "python",
   "pygments_lexer": "ipython3",
   "version": "3.6.2"
  }
 },
 "nbformat": 4,
 "nbformat_minor": 2
}
