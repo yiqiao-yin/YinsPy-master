{
 "cells": [
  {
   "cell_type": "markdown",
   "metadata": {},
   "source": [
    "# MONEY MANAGEMENT: APPLICATION OF  ARMA Model\n",
    "\n",
    "In the statistical analysis of time series, autoregressive–moving-average (ARMA) models provide a parsimonious description of a (weakly) stationary stochastic process in terms of two polynomials, one for the autoregression (AR) and the second for the moving average (MA). The general ARMA model was described in the 1951 thesis of Peter Whittle, Hypothesis testing in time series analysis, and it was popularized in the 1970 book by George E. P. Box and Gwilym Jenkins.\n",
    "\n",
    "In this notebook, the investigation takes the following steps:\n",
    "\n",
    "- **Initiate Library**: Let us start by initiating all the required libraries.\n",
    "\n",
    "- **Get Data**: Next, let us get the data from **yfinance**. In this case, user can define any stock he or she likes. \n",
    "\n",
    "- **ARMA: Model Fitting**: Then we need to call the HP Filter function from stats model library.\n",
    "\n",
    "- **ARMA: Prediction and Forecast**: With the model trained, we are able to forecast our time-series data $n$ days into the future.\n",
    "\n",
    "- **Visualization**: I always land on visualization after some technical analysis. We observe what the performance look like for future forecast. Moreover, we plot the upper bound and lower bound. \n",
    "\n",
    "- **Software Management**: Last but not least, I land on software management. In this section, I provide a softly coded program for user to call for future reference.\n"
   ]
  },
  {
   "cell_type": "markdown",
   "metadata": {},
   "source": [
    "## Initiate Library"
   ]
  },
  {
   "cell_type": "code",
   "execution_count": 5,
   "metadata": {},
   "outputs": [],
   "source": [
    "import pandas as pd\n",
    "import numpy as np\n",
    "import datetime\n",
    "from pathlib import Path\n",
    "import yfinance as yf\n",
    "%matplotlib inline"
   ]
  },
  {
   "cell_type": "markdown",
   "metadata": {},
   "source": [
    "## Get Data"
   ]
  },
  {
   "cell_type": "code",
   "execution_count": 6,
   "metadata": {},
   "outputs": [],
   "source": [
    "# Define function\n",
    "def getDatafromYF(ticker, start_date, end_date):\n",
    "    stockData = yf.download(ticker, start_date, end_date)\n",
    "    return stockData\n",
    "# End function"
   ]
  },
  {
   "cell_type": "code",
   "execution_count": 7,
   "metadata": {},
   "outputs": [
    {
     "name": "stdout",
     "output_type": "stream",
     "text": [
      "[*********************100%***********************]  1 of 1 completed\n"
     ]
    },
    {
     "data": {
      "text/html": [
       "<div>\n",
       "<style scoped>\n",
       "    .dataframe tbody tr th:only-of-type {\n",
       "        vertical-align: middle;\n",
       "    }\n",
       "\n",
       "    .dataframe tbody tr th {\n",
       "        vertical-align: top;\n",
       "    }\n",
       "\n",
       "    .dataframe thead th {\n",
       "        text-align: right;\n",
       "    }\n",
       "</style>\n",
       "<table border=\"1\" class=\"dataframe\">\n",
       "  <thead>\n",
       "    <tr style=\"text-align: right;\">\n",
       "      <th></th>\n",
       "      <th>Open</th>\n",
       "      <th>High</th>\n",
       "      <th>Low</th>\n",
       "      <th>Close</th>\n",
       "      <th>Adj Close</th>\n",
       "      <th>Volume</th>\n",
       "    </tr>\n",
       "    <tr>\n",
       "      <th>Date</th>\n",
       "      <th></th>\n",
       "      <th></th>\n",
       "      <th></th>\n",
       "      <th></th>\n",
       "      <th></th>\n",
       "      <th></th>\n",
       "    </tr>\n",
       "  </thead>\n",
       "  <tbody>\n",
       "    <tr>\n",
       "      <td>2017-01-03</td>\n",
       "      <td>115.800003</td>\n",
       "      <td>116.330002</td>\n",
       "      <td>114.760002</td>\n",
       "      <td>116.150002</td>\n",
       "      <td>110.691154</td>\n",
       "      <td>28781900</td>\n",
       "    </tr>\n",
       "    <tr>\n",
       "      <td>2017-01-04</td>\n",
       "      <td>115.849998</td>\n",
       "      <td>116.510002</td>\n",
       "      <td>115.750000</td>\n",
       "      <td>116.019997</td>\n",
       "      <td>110.567276</td>\n",
       "      <td>21118100</td>\n",
       "    </tr>\n",
       "    <tr>\n",
       "      <td>2017-01-05</td>\n",
       "      <td>115.919998</td>\n",
       "      <td>116.860001</td>\n",
       "      <td>115.809998</td>\n",
       "      <td>116.610001</td>\n",
       "      <td>111.129562</td>\n",
       "      <td>22193600</td>\n",
       "    </tr>\n",
       "    <tr>\n",
       "      <td>2017-01-06</td>\n",
       "      <td>116.779999</td>\n",
       "      <td>118.160004</td>\n",
       "      <td>116.470001</td>\n",
       "      <td>117.910004</td>\n",
       "      <td>112.368469</td>\n",
       "      <td>31751900</td>\n",
       "    </tr>\n",
       "    <tr>\n",
       "      <td>2017-01-09</td>\n",
       "      <td>117.949997</td>\n",
       "      <td>119.430000</td>\n",
       "      <td>117.940002</td>\n",
       "      <td>118.989998</td>\n",
       "      <td>113.397697</td>\n",
       "      <td>33561900</td>\n",
       "    </tr>\n",
       "  </tbody>\n",
       "</table>\n",
       "</div>"
      ],
      "text/plain": [
       "                  Open        High         Low       Close   Adj Close  \\\n",
       "Date                                                                     \n",
       "2017-01-03  115.800003  116.330002  114.760002  116.150002  110.691154   \n",
       "2017-01-04  115.849998  116.510002  115.750000  116.019997  110.567276   \n",
       "2017-01-05  115.919998  116.860001  115.809998  116.610001  111.129562   \n",
       "2017-01-06  116.779999  118.160004  116.470001  117.910004  112.368469   \n",
       "2017-01-09  117.949997  119.430000  117.940002  118.989998  113.397697   \n",
       "\n",
       "              Volume  \n",
       "Date                  \n",
       "2017-01-03  28781900  \n",
       "2017-01-04  21118100  \n",
       "2017-01-05  22193600  \n",
       "2017-01-06  31751900  \n",
       "2017-01-09  33561900  "
      ]
     },
     "execution_count": 7,
     "metadata": {},
     "output_type": "execute_result"
    }
   ],
   "source": [
    "tickers = 'AAPL'\n",
    "stockData = getDatafromYF(tickers, '2017-01-01', '2020-01-01')\n",
    "stockData.head()"
   ]
  },
  {
   "cell_type": "code",
   "execution_count": 26,
   "metadata": {},
   "outputs": [],
   "source": [
    "returns = stockData['Close'].pct_change()\n",
    "returns = returns.dropna()"
   ]
  },
  {
   "cell_type": "markdown",
   "metadata": {},
   "source": [
    "## ARMA: Model Fitting"
   ]
  },
  {
   "cell_type": "code",
   "execution_count": 27,
   "metadata": {},
   "outputs": [],
   "source": [
    "# Import the ARMA model\n",
    "from statsmodels.tsa.arima_model import ARMA"
   ]
  },
  {
   "cell_type": "code",
   "execution_count": 32,
   "metadata": {},
   "outputs": [
    {
     "name": "stderr",
     "output_type": "stream",
     "text": [
      "C:\\ProgramData\\Anaconda3\\lib\\site-packages\\statsmodels\\tsa\\base\\tsa_model.py:219: ValueWarning: A date index has been provided, but it has no associated frequency information and so will be ignored when e.g. forecasting.\n",
      "  ' ignored when e.g. forecasting.', ValueWarning)\n"
     ]
    }
   ],
   "source": [
    "# Create the ARMA model using the return values and the order\n",
    "# For the order parameter, the first 1 indicates the number of AR lags\n",
    "# For the order parameter, the second 1 indicates the number of MA lags\n",
    "model = ARMA(returns, order=(2, 1))"
   ]
  },
  {
   "cell_type": "code",
   "execution_count": 33,
   "metadata": {},
   "outputs": [],
   "source": [
    "# Fit the model to the data\n",
    "results = model.fit()"
   ]
  },
  {
   "cell_type": "markdown",
   "metadata": {},
   "source": [
    "## ARMA: Prediction and Forecast"
   ]
  },
  {
   "cell_type": "code",
   "execution_count": 83,
   "metadata": {},
   "outputs": [
    {
     "data": {
      "text/plain": [
       "<matplotlib.axes._subplots.AxesSubplot at 0x242238fcb88>"
      ]
     },
     "execution_count": 83,
     "metadata": {},
     "output_type": "execute_result"
    },
    {
     "data": {
      "image/png": "[encoded data removed]",
      "text/plain": [
       "<Figure size 432x288 with 1 Axes>"
      ]
     },
     "metadata": {
      "needs_background": "light"
     },
     "output_type": "display_data"
    }
   ],
   "source": [
    "HowManyUnits = 20\n",
    "forecastData = results.forecast(steps=HowManyUnits)\n",
    "pd.DataFrame(forecastData[0]).plot()"
   ]
  },
  {
   "cell_type": "markdown",
   "metadata": {},
   "source": [
    "## ARMA: Training and Testing Error"
   ]
  },
  {
   "cell_type": "code",
   "execution_count": 87,
   "metadata": {},
   "outputs": [
    {
     "data": {
      "text/html": [
       "<table class=\"simpletable\">\n",
       "<caption>ARMA Model Results</caption>\n",
       "<tr>\n",
       "  <th>Dep. Variable:</th>       <td>Close</td>      <th>  No. Observations:  </th>    <td>753</td>   \n",
       "</tr>\n",
       "<tr>\n",
       "  <th>Model:</th>            <td>ARMA(2, 1)</td>    <th>  Log Likelihood     </th> <td>2067.775</td> \n",
       "</tr>\n",
       "<tr>\n",
       "  <th>Method:</th>             <td>css-mle</td>     <th>  S.D. of innovations</th>   <td>0.016</td>  \n",
       "</tr>\n",
       "<tr>\n",
       "  <th>Date:</th>          <td>Wed, 26 Feb 2020</td> <th>  AIC                </th> <td>-4125.551</td>\n",
       "</tr>\n",
       "<tr>\n",
       "  <th>Time:</th>              <td>21:17:09</td>     <th>  BIC                </th> <td>-4102.431</td>\n",
       "</tr>\n",
       "<tr>\n",
       "  <th>Sample:</th>                <td>0</td>        <th>  HQIC               </th> <td>-4116.644</td>\n",
       "</tr>\n",
       "<tr>\n",
       "  <th></th>                       <td> </td>        <th>                     </th>     <td> </td>    \n",
       "</tr>\n",
       "</table>\n",
       "<table class=\"simpletable\">\n",
       "<tr>\n",
       "       <td></td>          <th>coef</th>     <th>std err</th>      <th>z</th>      <th>P>|z|</th>  <th>[0.025</th>    <th>0.975]</th>  \n",
       "</tr>\n",
       "<tr>\n",
       "  <th>const</th>       <td>    0.0014</td> <td>    0.001</td> <td>    2.547</td> <td> 0.011</td> <td>    0.000</td> <td>    0.002</td>\n",
       "</tr>\n",
       "<tr>\n",
       "  <th>ar.L1.Close</th> <td>    0.0801</td> <td>    0.397</td> <td>    0.202</td> <td> 0.840</td> <td>   -0.699</td> <td>    0.859</td>\n",
       "</tr>\n",
       "<tr>\n",
       "  <th>ar.L2.Close</th> <td>   -0.0561</td> <td>    0.036</td> <td>   -1.538</td> <td> 0.124</td> <td>   -0.128</td> <td>    0.015</td>\n",
       "</tr>\n",
       "<tr>\n",
       "  <th>ma.L1.Close</th> <td>   -0.0843</td> <td>    0.397</td> <td>   -0.212</td> <td> 0.832</td> <td>   -0.862</td> <td>    0.694</td>\n",
       "</tr>\n",
       "</table>\n",
       "<table class=\"simpletable\">\n",
       "<caption>Roots</caption>\n",
       "<tr>\n",
       "    <td></td>   <th>            Real</th>  <th>         Imaginary</th> <th>         Modulus</th>  <th>        Frequency</th>\n",
       "</tr>\n",
       "<tr>\n",
       "  <th>AR.1</th> <td>           0.7139</td> <td>          -4.1601j</td> <td>           4.2209</td> <td>          -0.2230</td>\n",
       "</tr>\n",
       "<tr>\n",
       "  <th>AR.2</th> <td>           0.7139</td> <td>          +4.1601j</td> <td>           4.2209</td> <td>           0.2230</td>\n",
       "</tr>\n",
       "<tr>\n",
       "  <th>MA.1</th> <td>          11.8636</td> <td>          +0.0000j</td> <td>          11.8636</td> <td>           0.0000</td>\n",
       "</tr>\n",
       "</table>"
      ],
      "text/plain": [
       "<class 'statsmodels.iolib.summary.Summary'>\n",
       "\"\"\"\n",
       "                              ARMA Model Results                              \n",
       "==============================================================================\n",
       "Dep. Variable:                  Close   No. Observations:                  753\n",
       "Model:                     ARMA(2, 1)   Log Likelihood                2067.775\n",
       "Method:                       css-mle   S.D. of innovations              0.016\n",
       "Date:                Wed, 26 Feb 2020   AIC                          -4125.551\n",
       "Time:                        21:17:09   BIC                          -4102.431\n",
       "Sample:                             0   HQIC                         -4116.644\n",
       "                                                                              \n",
       "===============================================================================\n",
       "                  coef    std err          z      P>|z|      [0.025      0.975]\n",
       "-------------------------------------------------------------------------------\n",
       "const           0.0014      0.001      2.547      0.011       0.000       0.002\n",
       "ar.L1.Close     0.0801      0.397      0.202      0.840      -0.699       0.859\n",
       "ar.L2.Close    -0.0561      0.036     -1.538      0.124      -0.128       0.015\n",
       "ma.L1.Close    -0.0843      0.397     -0.212      0.832      -0.862       0.694\n",
       "                                    Roots                                    \n",
       "=============================================================================\n",
       "                  Real          Imaginary           Modulus         Frequency\n",
       "-----------------------------------------------------------------------------\n",
       "AR.1            0.7139           -4.1601j            4.2209           -0.2230\n",
       "AR.2            0.7139           +4.1601j            4.2209            0.2230\n",
       "MA.1           11.8636           +0.0000j           11.8636            0.0000\n",
       "-----------------------------------------------------------------------------\n",
       "\"\"\""
      ]
     },
     "execution_count": 87,
     "metadata": {},
     "output_type": "execute_result"
    }
   ],
   "source": [
    "results.summary()"
   ]
  },
  {
   "cell_type": "markdown",
   "metadata": {},
   "source": [
    "## Visualization"
   ]
  },
  {
   "cell_type": "code",
   "execution_count": 84,
   "metadata": {},
   "outputs": [
    {
     "data": {
      "image/png": "[encoded data removed]",
      "text/plain": [
       "<Figure size 432x288 with 1 Axes>"
      ]
     },
     "metadata": {
      "needs_background": "light"
     },
     "output_type": "display_data"
    }
   ],
   "source": [
    "import matplotlib.pyplot as plt\n",
    "plt.plot(forecastData[0], color = 'purple', label = f'Average Forecast')\n",
    "plt.plot(pd.DataFrame(forecastData[2]).iloc[:, 0], color = 'green', label = f'LB: 90%')\n",
    "plt.plot(pd.DataFrame(forecastData[2]).iloc[:, 1], color = 'red', label = f'UB: 90%')\n",
    "plt.title(f'AutoRegressive Moving Average Plot')\n",
    "plt.xlabel('Time Stamp')\n",
    "plt.ylabel(f'Values')\n",
    "plt.legend(loc='upper right')\n",
    "plt.show()"
   ]
  },
  {
   "cell_type": "markdown",
   "metadata": {},
   "source": [
    "## Software Management"
   ]
  },
  {
   "cell_type": "code",
   "execution_count": 89,
   "metadata": {},
   "outputs": [],
   "source": [
    "# Define function\n",
    "def MM_ARMA(ticker='AAPL', start_date='2017-01-01', end_date='2020-01-01',\n",
    "           p=2, q=1, HowManyUnits = 20, verbose=True):\n",
    "    \n",
    "    ## Initiate Library\n",
    "    import pandas as pd\n",
    "    import numpy as np\n",
    "    import datetime\n",
    "    from pathlib import Path\n",
    "    import yfinance as yf\n",
    "    %matplotlib inline\n",
    "\n",
    "    ## Get Data\n",
    "\n",
    "    # Define function\n",
    "    def getDatafromYF(ticker, start_date, end_date):\n",
    "        stockData = yf.download(ticker, start_date, end_date)\n",
    "        return stockData\n",
    "    # End function\n",
    "\n",
    "    stockData = getDatafromYF(tickers, '2017-01-01', '2020-01-01')\n",
    "    stockData.head()\n",
    "\n",
    "    returns = stockData['Close'].pct_change()\n",
    "    returns = returns.dropna()\n",
    "    stockData['Return'] = returns\n",
    "\n",
    "    ## ARMA: Model Fitting\n",
    "\n",
    "    # Import the ARMA model\n",
    "    from statsmodels.tsa.arima_model import ARMA\n",
    "\n",
    "    # Create the ARMA model using the return values and the order\n",
    "    # For the order parameter, the first 1 indicates the number of AR lags\n",
    "    # For the order parameter, the second 1 indicates the number of MA lags\n",
    "    model = ARMA(returns, order=(p, q))\n",
    "\n",
    "    # Fit the model to the data\n",
    "    results = model.fit()\n",
    "\n",
    "    ## ARMA: Prediction and Forecast\n",
    "    forecastData = results.forecast(steps=HowManyUnits)\n",
    "    #pd.DataFrame(forecastData[0]).plot()\n",
    "\n",
    "    ## ARMA: Training and Testing Error\n",
    "    if verbose:\n",
    "        results.summary()\n",
    "\n",
    "    ## Visualization\n",
    "    import matplotlib.pyplot as plt\n",
    "    if verbose:\n",
    "        plt.plot(forecastData[0], color = 'purple', label = f'Average Forecast')\n",
    "        plt.plot(pd.DataFrame(forecastData[2]).iloc[:, 0], color = 'green', label = f'LB: 90%')\n",
    "        plt.plot(pd.DataFrame(forecastData[2]).iloc[:, 1], color = 'red', label = f'UB: 90%')\n",
    "        plt.title(f'AutoRegressive Moving Average Plot')\n",
    "        plt.xlabel('Time Stamp')\n",
    "        plt.ylabel(f'Values')\n",
    "        plt.legend(loc='upper right')\n",
    "        plt.show()\n",
    "    \n",
    "    # Output\n",
    "    return {\n",
    "        'Model Result': {'All': results, 'Summary': results.summary()},\n",
    "        'Forecast Data': forecastData,\n",
    "        'Stock Data': stockData}\n",
    "# End function"
   ]
  },
  {
   "cell_type": "code",
   "execution_count": 90,
   "metadata": {},
   "outputs": [
    {
     "name": "stdout",
     "output_type": "stream",
     "text": [
      "[*********************100%***********************]  1 of 1 completed\n"
     ]
    },
    {
     "name": "stderr",
     "output_type": "stream",
     "text": [
      "C:\\ProgramData\\Anaconda3\\lib\\site-packages\\statsmodels\\tsa\\base\\tsa_model.py:219: ValueWarning: A date index has been provided, but it has no associated frequency information and so will be ignored when e.g. forecasting.\n",
      "  ' ignored when e.g. forecasting.', ValueWarning)\n"
     ]
    },
    {
     "data": {
      "image/png": "[encoded data removed]",
      "text/plain": [
       "<Figure size 432x288 with 1 Axes>"
      ]
     },
     "metadata": {
      "needs_background": "light"
     },
     "output_type": "display_data"
    }
   ],
   "source": [
    "temp = MM_ARMA(ticker='AAPL', start_date='2017-01-01', end_date='2020-01-01',\n",
    "           p=2, q=1, HowManyUnits = 20, verbose=True)"
   ]
  },
  {
   "cell_type": "code",
   "execution_count": 91,
   "metadata": {},
   "outputs": [
    {
     "data": {
      "text/html": [
       "<table class=\"simpletable\">\n",
       "<caption>ARMA Model Results</caption>\n",
       "<tr>\n",
       "  <th>Dep. Variable:</th>       <td>Close</td>      <th>  No. Observations:  </th>    <td>753</td>   \n",
       "</tr>\n",
       "<tr>\n",
       "  <th>Model:</th>            <td>ARMA(2, 1)</td>    <th>  Log Likelihood     </th> <td>2067.775</td> \n",
       "</tr>\n",
       "<tr>\n",
       "  <th>Method:</th>             <td>css-mle</td>     <th>  S.D. of innovations</th>   <td>0.016</td>  \n",
       "</tr>\n",
       "<tr>\n",
       "  <th>Date:</th>          <td>Wed, 26 Feb 2020</td> <th>  AIC                </th> <td>-4125.551</td>\n",
       "</tr>\n",
       "<tr>\n",
       "  <th>Time:</th>              <td>21:21:47</td>     <th>  BIC                </th> <td>-4102.431</td>\n",
       "</tr>\n",
       "<tr>\n",
       "  <th>Sample:</th>                <td>0</td>        <th>  HQIC               </th> <td>-4116.644</td>\n",
       "</tr>\n",
       "<tr>\n",
       "  <th></th>                       <td> </td>        <th>                     </th>     <td> </td>    \n",
       "</tr>\n",
       "</table>\n",
       "<table class=\"simpletable\">\n",
       "<tr>\n",
       "       <td></td>          <th>coef</th>     <th>std err</th>      <th>z</th>      <th>P>|z|</th>  <th>[0.025</th>    <th>0.975]</th>  \n",
       "</tr>\n",
       "<tr>\n",
       "  <th>const</th>       <td>    0.0014</td> <td>    0.001</td> <td>    2.547</td> <td> 0.011</td> <td>    0.000</td> <td>    0.002</td>\n",
       "</tr>\n",
       "<tr>\n",
       "  <th>ar.L1.Close</th> <td>    0.0801</td> <td>    0.397</td> <td>    0.202</td> <td> 0.840</td> <td>   -0.699</td> <td>    0.859</td>\n",
       "</tr>\n",
       "<tr>\n",
       "  <th>ar.L2.Close</th> <td>   -0.0561</td> <td>    0.036</td> <td>   -1.538</td> <td> 0.124</td> <td>   -0.128</td> <td>    0.015</td>\n",
       "</tr>\n",
       "<tr>\n",
       "  <th>ma.L1.Close</th> <td>   -0.0843</td> <td>    0.397</td> <td>   -0.212</td> <td> 0.832</td> <td>   -0.862</td> <td>    0.694</td>\n",
       "</tr>\n",
       "</table>\n",
       "<table class=\"simpletable\">\n",
       "<caption>Roots</caption>\n",
       "<tr>\n",
       "    <td></td>   <th>            Real</th>  <th>         Imaginary</th> <th>         Modulus</th>  <th>        Frequency</th>\n",
       "</tr>\n",
       "<tr>\n",
       "  <th>AR.1</th> <td>           0.7139</td> <td>          -4.1601j</td> <td>           4.2209</td> <td>          -0.2230</td>\n",
       "</tr>\n",
       "<tr>\n",
       "  <th>AR.2</th> <td>           0.7139</td> <td>          +4.1601j</td> <td>           4.2209</td> <td>           0.2230</td>\n",
       "</tr>\n",
       "<tr>\n",
       "  <th>MA.1</th> <td>          11.8636</td> <td>          +0.0000j</td> <td>          11.8636</td> <td>           0.0000</td>\n",
       "</tr>\n",
       "</table>"
      ],
      "text/plain": [
       "<class 'statsmodels.iolib.summary.Summary'>\n",
       "\"\"\"\n",
       "                              ARMA Model Results                              \n",
       "==============================================================================\n",
       "Dep. Variable:                  Close   No. Observations:                  753\n",
       "Model:                     ARMA(2, 1)   Log Likelihood                2067.775\n",
       "Method:                       css-mle   S.D. of innovations              0.016\n",
       "Date:                Wed, 26 Feb 2020   AIC                          -4125.551\n",
       "Time:                        21:21:47   BIC                          -4102.431\n",
       "Sample:                             0   HQIC                         -4116.644\n",
       "                                                                              \n",
       "===============================================================================\n",
       "                  coef    std err          z      P>|z|      [0.025      0.975]\n",
       "-------------------------------------------------------------------------------\n",
       "const           0.0014      0.001      2.547      0.011       0.000       0.002\n",
       "ar.L1.Close     0.0801      0.397      0.202      0.840      -0.699       0.859\n",
       "ar.L2.Close    -0.0561      0.036     -1.538      0.124      -0.128       0.015\n",
       "ma.L1.Close    -0.0843      0.397     -0.212      0.832      -0.862       0.694\n",
       "                                    Roots                                    \n",
       "=============================================================================\n",
       "                  Real          Imaginary           Modulus         Frequency\n",
       "-----------------------------------------------------------------------------\n",
       "AR.1            0.7139           -4.1601j            4.2209           -0.2230\n",
       "AR.2            0.7139           +4.1601j            4.2209            0.2230\n",
       "MA.1           11.8636           +0.0000j           11.8636            0.0000\n",
       "-----------------------------------------------------------------------------\n",
       "\"\"\""
      ]
     },
     "execution_count": 91,
     "metadata": {},
     "output_type": "execute_result"
    }
   ],
   "source": [
    "temp['Model Result']['Summary']"
   ]
  },
  {
   "cell_type": "markdown",
   "metadata": {},
   "source": [
    "Investigation ends here."
   ]
  }
 ],
 "metadata": {
  "kernelspec": {
   "display_name": "Python 3",
   "language": "python",
   "name": "python3"
  },
  "language_info": {
   "codemirror_mode": {
    "name": "ipython",
    "version": 3
   },
   "file_extension": ".py",
   "mimetype": "text/x-python",
   "name": "python",
   "nbconvert_exporter": "python",
   "pygments_lexer": "ipython3",
   "version": "3.7.4"
  }
 },
 "nbformat": 4,
 "nbformat_minor": 4
}
