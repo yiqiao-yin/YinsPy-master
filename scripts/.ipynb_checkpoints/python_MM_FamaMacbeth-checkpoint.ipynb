{
 "cells": [
  {
   "cell_type": "markdown",
   "metadata": {},
   "source": [
    "# Money Management Fama-Macbeth Regression Model\n",
    "\n",
    "This notebook I discuss the famous Fama-Macbeth Regression Model. This analysis assesses the parameters of capital asset pricing model (CAPM), FF-3, and FF-5, to determine the underlying risk premia of the regression parameters. Source is [here](https://github.com/PacktPublishing/Hands-On-Machine-Learning-for-Algorithmic-Trading/blob/master/Chapter07/02_fama_macbeth.ipynb).\n",
    "\n",
    "This notebook I discuss the following:\n",
    "- **Environment Initiation**\n",
    "- **Two-Step Procedure**\n",
    "- **Fama-Macbeth Cross-Sectional Regression**"
   ]
  },
  {
   "cell_type": "markdown",
   "metadata": {},
   "source": [
    "## Environment Initiation\n",
    "\n",
    "Let me import all the required modules."
   ]
  },
  {
   "cell_type": "code",
   "execution_count": null,
   "metadata": {},
   "outputs": [],
   "source": [
    "from pprint import pprint\n",
    "from pandas_datareader.famafrench import get_available_datasets\n",
    "import pandas as pd\n",
    "import numpy as np\n",
    "import matplotlib.pyplot as plt\n",
    "import seaborn as sns\n",
    "import statsmodels.api as sm\n",
    "from statsmodels.api import OLS, add_constant\n",
    "from pathlib import Path\n",
    "import warnings\n",
    "from linearmodels.asset_pricing import TradedFactorModel, LinearFactorModel, LinearFactorModelGMM\n",
    "\n",
    "# due to https://stackoverflow.com/questions/50394873/import-pandas-datareader-gives-importerror-cannot-import-name-is-list-like\n",
    "# may become obsolete when fixed\n",
    "pd.core.common.is_list_like = pd.api.types.is_list_like\n",
    "import pandas_datareader.data as web"
   ]
  },
  {
   "cell_type": "markdown",
   "metadata": {},
   "source": [
    "We use Fama-French factor model. There was a FF 3-Factor model and a FF 5-Factor model. We introduce the notations below. Each of the concepts is a portfolio, e.g. **PF**. \n",
    "\n",
    "| Concept  | Explanation   |\n",
    "| ------   | ------        |\n",
    "| Size (SMB)          | Nine small stock PF minus mine large stock PF |\n",
    "| Value (HML)         | Two value PF minus two growth (with low BE/ME value) PF |\n",
    "| Profitability (RMW) | Two robust OP PF minus two weak OP PF |\n",
    "| Investment (CMA)    | Two conservative investment portfolios minus two aggressive investment portfolios |\n",
    "| Market              | Value-weight return of all firms incorporated in and listed on major US exchanges with good data minus the one-month Treasury bill rate |"
   ]
  },
  {
   "cell_type": "code",
   "execution_count": 26,
   "metadata": {},
   "outputs": [
    {
     "name": "stdout",
     "output_type": "stream",
     "text": [
      "<class 'pandas.core.frame.DataFrame'>\n",
      "PeriodIndex: 96 entries, 2010-01 to 2017-12\n",
      "Freq: M\n",
      "Data columns (total 6 columns):\n",
      "Mkt-RF    96 non-null float64\n",
      "SMB       96 non-null float64\n",
      "HML       96 non-null float64\n",
      "RMW       96 non-null float64\n",
      "CMA       96 non-null float64\n",
      "RF        96 non-null float64\n",
      "dtypes: float64(6)\n",
      "memory usage: 5.2 KB\n"
     ]
    }
   ],
   "source": [
    "ff_factor = 'F-F_Research_Data_5_Factors_2x3'\n",
    "ff_factor_data = web.DataReader(ff_factor, 'famafrench', start='2010', end='2017-12')[0]\n",
    "ff_factor_data.info()"
   ]
  },
  {
   "cell_type": "code",
   "execution_count": 27,
   "metadata": {},
   "outputs": [
    {
     "data": {
      "text/html": [
       "<div>\n",
       "<style scoped>\n",
       "    .dataframe tbody tr th:only-of-type {\n",
       "        vertical-align: middle;\n",
       "    }\n",
       "\n",
       "    .dataframe tbody tr th {\n",
       "        vertical-align: top;\n",
       "    }\n",
       "\n",
       "    .dataframe thead th {\n",
       "        text-align: right;\n",
       "    }\n",
       "</style>\n",
       "<table border=\"1\" class=\"dataframe\">\n",
       "  <thead>\n",
       "    <tr style=\"text-align: right;\">\n",
       "      <th></th>\n",
       "      <th>Mkt-RF</th>\n",
       "      <th>SMB</th>\n",
       "      <th>HML</th>\n",
       "      <th>RMW</th>\n",
       "      <th>CMA</th>\n",
       "      <th>RF</th>\n",
       "    </tr>\n",
       "  </thead>\n",
       "  <tbody>\n",
       "    <tr>\n",
       "      <th>count</th>\n",
       "      <td>96.000000</td>\n",
       "      <td>96.000000</td>\n",
       "      <td>96.000000</td>\n",
       "      <td>96.000000</td>\n",
       "      <td>96.000000</td>\n",
       "      <td>96.000000</td>\n",
       "    </tr>\n",
       "    <tr>\n",
       "      <th>mean</th>\n",
       "      <td>1.158437</td>\n",
       "      <td>0.053854</td>\n",
       "      <td>-0.064896</td>\n",
       "      <td>0.147500</td>\n",
       "      <td>0.049271</td>\n",
       "      <td>0.012604</td>\n",
       "    </tr>\n",
       "    <tr>\n",
       "      <th>std</th>\n",
       "      <td>3.579997</td>\n",
       "      <td>2.296482</td>\n",
       "      <td>2.199398</td>\n",
       "      <td>1.550507</td>\n",
       "      <td>1.408406</td>\n",
       "      <td>0.022583</td>\n",
       "    </tr>\n",
       "    <tr>\n",
       "      <th>min</th>\n",
       "      <td>-7.890000</td>\n",
       "      <td>-4.550000</td>\n",
       "      <td>-4.500000</td>\n",
       "      <td>-3.990000</td>\n",
       "      <td>-3.330000</td>\n",
       "      <td>0.000000</td>\n",
       "    </tr>\n",
       "    <tr>\n",
       "      <th>25%</th>\n",
       "      <td>-0.917500</td>\n",
       "      <td>-1.600000</td>\n",
       "      <td>-1.512500</td>\n",
       "      <td>-1.025000</td>\n",
       "      <td>-0.962500</td>\n",
       "      <td>0.000000</td>\n",
       "    </tr>\n",
       "    <tr>\n",
       "      <th>50%</th>\n",
       "      <td>1.235000</td>\n",
       "      <td>0.180000</td>\n",
       "      <td>-0.295000</td>\n",
       "      <td>0.155000</td>\n",
       "      <td>-0.015000</td>\n",
       "      <td>0.000000</td>\n",
       "    </tr>\n",
       "    <tr>\n",
       "      <th>75%</th>\n",
       "      <td>3.190000</td>\n",
       "      <td>1.505000</td>\n",
       "      <td>1.140000</td>\n",
       "      <td>1.145000</td>\n",
       "      <td>0.920000</td>\n",
       "      <td>0.010000</td>\n",
       "    </tr>\n",
       "    <tr>\n",
       "      <th>max</th>\n",
       "      <td>11.350000</td>\n",
       "      <td>6.810000</td>\n",
       "      <td>8.290000</td>\n",
       "      <td>3.480000</td>\n",
       "      <td>3.700000</td>\n",
       "      <td>0.090000</td>\n",
       "    </tr>\n",
       "  </tbody>\n",
       "</table>\n",
       "</div>"
      ],
      "text/plain": [
       "          Mkt-RF        SMB        HML        RMW        CMA         RF\n",
       "count  96.000000  96.000000  96.000000  96.000000  96.000000  96.000000\n",
       "mean    1.158437   0.053854  -0.064896   0.147500   0.049271   0.012604\n",
       "std     3.579997   2.296482   2.199398   1.550507   1.408406   0.022583\n",
       "min    -7.890000  -4.550000  -4.500000  -3.990000  -3.330000   0.000000\n",
       "25%    -0.917500  -1.600000  -1.512500  -1.025000  -0.962500   0.000000\n",
       "50%     1.235000   0.180000  -0.295000   0.155000  -0.015000   0.000000\n",
       "75%     3.190000   1.505000   1.140000   1.145000   0.920000   0.010000\n",
       "max    11.350000   6.810000   8.290000   3.480000   3.700000   0.090000"
      ]
     },
     "execution_count": 27,
     "metadata": {},
     "output_type": "execute_result"
    }
   ],
   "source": [
    "ff_factor_data.describe()"
   ]
  },
  {
   "cell_type": "markdown",
   "metadata": {},
   "source": [
    "Fama and French made numerous portfolios that we can illustrate the estimation of the factors exposure. Here there are 17 industry portfolios using monthly data. Let us get these portfolios."
   ]
  },
  {
   "cell_type": "code",
   "execution_count": 28,
   "metadata": {},
   "outputs": [
    {
     "name": "stdout",
     "output_type": "stream",
     "text": [
      "<class 'pandas.core.frame.DataFrame'>\n",
      "PeriodIndex: 96 entries, 2010-01 to 2017-12\n",
      "Freq: M\n",
      "Data columns (total 17 columns):\n",
      "Food     96 non-null float64\n",
      "Mines    96 non-null float64\n",
      "Oil      96 non-null float64\n",
      "Clths    96 non-null float64\n",
      "Durbl    96 non-null float64\n",
      "Chems    96 non-null float64\n",
      "Cnsum    96 non-null float64\n",
      "Cnstr    96 non-null float64\n",
      "Steel    96 non-null float64\n",
      "FabPr    96 non-null float64\n",
      "Machn    96 non-null float64\n",
      "Cars     96 non-null float64\n",
      "Trans    96 non-null float64\n",
      "Utils    96 non-null float64\n",
      "Rtail    96 non-null float64\n",
      "Finan    96 non-null float64\n",
      "Other    96 non-null float64\n",
      "dtypes: float64(17)\n",
      "memory usage: 13.5 KB\n"
     ]
    }
   ],
   "source": [
    "ff_portfolio = '17_Industry_Portfolios'\n",
    "ff_portfolio_data = web.DataReader(ff_portfolio, 'famafrench', start='2010', end='2017-12')[0]\n",
    "ff_portfolio_data = ff_portfolio_data.sub(ff_factor_data.RF, axis=0)\n",
    "ff_factor_data = ff_factor_data.drop('RF', axis=1)\n",
    "ff_portfolio_data.info()"
   ]
  },
  {
   "cell_type": "code",
   "execution_count": 29,
   "metadata": {},
   "outputs": [
    {
     "data": {
      "text/html": [
       "<div>\n",
       "<style scoped>\n",
       "    .dataframe tbody tr th:only-of-type {\n",
       "        vertical-align: middle;\n",
       "    }\n",
       "\n",
       "    .dataframe tbody tr th {\n",
       "        vertical-align: top;\n",
       "    }\n",
       "\n",
       "    .dataframe thead th {\n",
       "        text-align: right;\n",
       "    }\n",
       "</style>\n",
       "<table border=\"1\" class=\"dataframe\">\n",
       "  <thead>\n",
       "    <tr style=\"text-align: right;\">\n",
       "      <th></th>\n",
       "      <th>Food</th>\n",
       "      <th>Mines</th>\n",
       "      <th>Oil</th>\n",
       "      <th>Clths</th>\n",
       "      <th>Durbl</th>\n",
       "      <th>Chems</th>\n",
       "      <th>Cnsum</th>\n",
       "      <th>Cnstr</th>\n",
       "      <th>Steel</th>\n",
       "      <th>FabPr</th>\n",
       "      <th>Machn</th>\n",
       "      <th>Cars</th>\n",
       "      <th>Trans</th>\n",
       "      <th>Utils</th>\n",
       "      <th>Rtail</th>\n",
       "      <th>Finan</th>\n",
       "      <th>Other</th>\n",
       "    </tr>\n",
       "  </thead>\n",
       "  <tbody>\n",
       "    <tr>\n",
       "      <th>count</th>\n",
       "      <td>96.000000</td>\n",
       "      <td>96.000000</td>\n",
       "      <td>96.000000</td>\n",
       "      <td>96.000000</td>\n",
       "      <td>96.000000</td>\n",
       "      <td>96.000000</td>\n",
       "      <td>96.000000</td>\n",
       "      <td>96.000000</td>\n",
       "      <td>96.000000</td>\n",
       "      <td>96.000000</td>\n",
       "      <td>96.000000</td>\n",
       "      <td>96.000000</td>\n",
       "      <td>96.000000</td>\n",
       "      <td>96.000000</td>\n",
       "      <td>96.000000</td>\n",
       "      <td>96.000000</td>\n",
       "      <td>96.000000</td>\n",
       "    </tr>\n",
       "    <tr>\n",
       "      <th>mean</th>\n",
       "      <td>1.045625</td>\n",
       "      <td>0.203229</td>\n",
       "      <td>0.547917</td>\n",
       "      <td>1.396979</td>\n",
       "      <td>1.154896</td>\n",
       "      <td>1.303438</td>\n",
       "      <td>1.136250</td>\n",
       "      <td>1.731250</td>\n",
       "      <td>0.555625</td>\n",
       "      <td>1.351042</td>\n",
       "      <td>1.227604</td>\n",
       "      <td>1.278854</td>\n",
       "      <td>1.465521</td>\n",
       "      <td>0.891250</td>\n",
       "      <td>1.234375</td>\n",
       "      <td>1.243646</td>\n",
       "      <td>1.281979</td>\n",
       "    </tr>\n",
       "    <tr>\n",
       "      <th>std</th>\n",
       "      <td>2.795857</td>\n",
       "      <td>7.902683</td>\n",
       "      <td>5.577552</td>\n",
       "      <td>5.025167</td>\n",
       "      <td>5.137095</td>\n",
       "      <td>5.594722</td>\n",
       "      <td>3.174283</td>\n",
       "      <td>5.246562</td>\n",
       "      <td>7.389824</td>\n",
       "      <td>4.694688</td>\n",
       "      <td>4.811242</td>\n",
       "      <td>5.718887</td>\n",
       "      <td>4.151203</td>\n",
       "      <td>3.237306</td>\n",
       "      <td>3.508655</td>\n",
       "      <td>4.808350</td>\n",
       "      <td>3.710443</td>\n",
       "    </tr>\n",
       "    <tr>\n",
       "      <th>min</th>\n",
       "      <td>-5.170000</td>\n",
       "      <td>-24.380000</td>\n",
       "      <td>-12.010000</td>\n",
       "      <td>-10.000000</td>\n",
       "      <td>-13.210000</td>\n",
       "      <td>-17.390000</td>\n",
       "      <td>-7.300000</td>\n",
       "      <td>-13.960000</td>\n",
       "      <td>-20.490000</td>\n",
       "      <td>-11.960000</td>\n",
       "      <td>-9.080000</td>\n",
       "      <td>-11.650000</td>\n",
       "      <td>-8.560000</td>\n",
       "      <td>-6.990000</td>\n",
       "      <td>-9.180000</td>\n",
       "      <td>-11.020000</td>\n",
       "      <td>-7.920000</td>\n",
       "    </tr>\n",
       "    <tr>\n",
       "      <th>25%</th>\n",
       "      <td>-0.785000</td>\n",
       "      <td>-5.832500</td>\n",
       "      <td>-3.167500</td>\n",
       "      <td>-1.865000</td>\n",
       "      <td>-2.017500</td>\n",
       "      <td>-1.445000</td>\n",
       "      <td>-0.920000</td>\n",
       "      <td>-2.462500</td>\n",
       "      <td>-4.410000</td>\n",
       "      <td>-1.447500</td>\n",
       "      <td>-2.047500</td>\n",
       "      <td>-1.245000</td>\n",
       "      <td>-0.880000</td>\n",
       "      <td>-0.745000</td>\n",
       "      <td>-0.962500</td>\n",
       "      <td>-1.447500</td>\n",
       "      <td>-1.067500</td>\n",
       "    </tr>\n",
       "    <tr>\n",
       "      <th>50%</th>\n",
       "      <td>0.930000</td>\n",
       "      <td>-0.415000</td>\n",
       "      <td>1.040000</td>\n",
       "      <td>1.160000</td>\n",
       "      <td>1.205000</td>\n",
       "      <td>1.435000</td>\n",
       "      <td>1.470000</td>\n",
       "      <td>2.190000</td>\n",
       "      <td>0.660000</td>\n",
       "      <td>1.485000</td>\n",
       "      <td>1.545000</td>\n",
       "      <td>0.645000</td>\n",
       "      <td>1.505000</td>\n",
       "      <td>1.215000</td>\n",
       "      <td>0.880000</td>\n",
       "      <td>1.940000</td>\n",
       "      <td>1.575000</td>\n",
       "    </tr>\n",
       "    <tr>\n",
       "      <th>75%</th>\n",
       "      <td>3.187500</td>\n",
       "      <td>5.707500</td>\n",
       "      <td>3.915000</td>\n",
       "      <td>3.857500</td>\n",
       "      <td>4.315000</td>\n",
       "      <td>4.442500</td>\n",
       "      <td>3.317500</td>\n",
       "      <td>5.390000</td>\n",
       "      <td>4.220000</td>\n",
       "      <td>3.875000</td>\n",
       "      <td>4.657500</td>\n",
       "      <td>4.802500</td>\n",
       "      <td>4.227500</td>\n",
       "      <td>2.965000</td>\n",
       "      <td>3.355000</td>\n",
       "      <td>4.052500</td>\n",
       "      <td>3.517500</td>\n",
       "    </tr>\n",
       "    <tr>\n",
       "      <th>max</th>\n",
       "      <td>6.670000</td>\n",
       "      <td>21.920000</td>\n",
       "      <td>16.300000</td>\n",
       "      <td>17.200000</td>\n",
       "      <td>16.580000</td>\n",
       "      <td>18.370000</td>\n",
       "      <td>8.290000</td>\n",
       "      <td>15.550000</td>\n",
       "      <td>21.350000</td>\n",
       "      <td>17.660000</td>\n",
       "      <td>14.650000</td>\n",
       "      <td>20.860000</td>\n",
       "      <td>13.160000</td>\n",
       "      <td>7.900000</td>\n",
       "      <td>12.360000</td>\n",
       "      <td>13.430000</td>\n",
       "      <td>10.790000</td>\n",
       "    </tr>\n",
       "  </tbody>\n",
       "</table>\n",
       "</div>"
      ],
      "text/plain": [
       "           Food       Mines      Oil        Clths      Durbl      Chems  \\\n",
       "count  96.000000  96.000000  96.000000  96.000000  96.000000  96.000000   \n",
       "mean    1.045625   0.203229   0.547917   1.396979   1.154896   1.303438   \n",
       "std     2.795857   7.902683   5.577552   5.025167   5.137095   5.594722   \n",
       "min    -5.170000 -24.380000 -12.010000 -10.000000 -13.210000 -17.390000   \n",
       "25%    -0.785000  -5.832500  -3.167500  -1.865000  -2.017500  -1.445000   \n",
       "50%     0.930000  -0.415000   1.040000   1.160000   1.205000   1.435000   \n",
       "75%     3.187500   5.707500   3.915000   3.857500   4.315000   4.442500   \n",
       "max     6.670000  21.920000  16.300000  17.200000  16.580000  18.370000   \n",
       "\n",
       "           Cnsum      Cnstr      Steel      FabPr      Machn      Cars   \\\n",
       "count  96.000000  96.000000  96.000000  96.000000  96.000000  96.000000   \n",
       "mean    1.136250   1.731250   0.555625   1.351042   1.227604   1.278854   \n",
       "std     3.174283   5.246562   7.389824   4.694688   4.811242   5.718887   \n",
       "min    -7.300000 -13.960000 -20.490000 -11.960000  -9.080000 -11.650000   \n",
       "25%    -0.920000  -2.462500  -4.410000  -1.447500  -2.047500  -1.245000   \n",
       "50%     1.470000   2.190000   0.660000   1.485000   1.545000   0.645000   \n",
       "75%     3.317500   5.390000   4.220000   3.875000   4.657500   4.802500   \n",
       "max     8.290000  15.550000  21.350000  17.660000  14.650000  20.860000   \n",
       "\n",
       "           Trans      Utils      Rtail      Finan      Other  \n",
       "count  96.000000  96.000000  96.000000  96.000000  96.000000  \n",
       "mean    1.465521   0.891250   1.234375   1.243646   1.281979  \n",
       "std     4.151203   3.237306   3.508655   4.808350   3.710443  \n",
       "min    -8.560000  -6.990000  -9.180000 -11.020000  -7.920000  \n",
       "25%    -0.880000  -0.745000  -0.962500  -1.447500  -1.067500  \n",
       "50%     1.505000   1.215000   0.880000   1.940000   1.575000  \n",
       "75%     4.227500   2.965000   3.355000   4.052500   3.517500  \n",
       "max    13.160000   7.900000  12.360000  13.430000  10.790000  "
      ]
     },
     "execution_count": 29,
     "metadata": {},
     "output_type": "execute_result"
    }
   ],
   "source": [
    "ff_portfolio_data.describe()"
   ]
  },
  {
   "cell_type": "markdown",
   "metadata": {},
   "source": [
    "## Two-Step Procedure\n",
    "\n",
    "Fama-Macbeth regression has a two-step procedure. \n",
    "\n",
    "To address the inference problem caused by the correlation of the residuals, Fama and MacBeth proposed a two-step methodology for a cross-sectional regression of returns on factors. The two-stage Fama—Macbeth regression is designed to estimate the premium rewarded for the exposure to a particular risk factor by the market. The two stages consist of:\n",
    "\n",
    "- **First stage**: N time-series regression, one for each asset or portfolio, of its excess returns on the factors to estimate the factor loadings.\n",
    "\n",
    "- **Second stage**: T cross-sectional regression, one for each time period, to estimate the risk premium."
   ]
  },
  {
   "cell_type": "code",
   "execution_count": 30,
   "metadata": {},
   "outputs": [
    {
     "name": "stderr",
     "output_type": "stream",
     "text": [
      "C:\\Users\\eagle\\Anaconda3\\lib\\site-packages\\numpy\\core\\fromnumeric.py:2495: FutureWarning: Method .ptp is deprecated and will be removed in a future version. Use numpy.ptp instead.\n",
      "  return ptp(axis=axis, out=out, **kwargs)\n"
     ]
    }
   ],
   "source": [
    "betas = []\n",
    "for industry in ff_portfolio_data:\n",
    "    step1 = OLS(endog=ff_portfolio_data[industry],\n",
    "                exog=sm.add_constant(ff_factor_data)).fit()\n",
    "    betas.append(step1.params.drop('const'))\n",
    "\n",
    "betas = pd.DataFrame(betas,\n",
    "                         columns=ff_factor_data.columns,\n",
    "                         index=ff_portfolio_data.columns)"
   ]
  },
  {
   "cell_type": "code",
   "execution_count": 31,
   "metadata": {},
   "outputs": [
    {
     "name": "stdout",
     "output_type": "stream",
     "text": [
      "<class 'pandas.core.frame.DataFrame'>\n",
      "Index: 17 entries, Food  to Other\n",
      "Data columns (total 5 columns):\n",
      "Mkt-RF    17 non-null float64\n",
      "SMB       17 non-null float64\n",
      "HML       17 non-null float64\n",
      "RMW       17 non-null float64\n",
      "CMA       17 non-null float64\n",
      "dtypes: float64(5)\n",
      "memory usage: 1.4+ KB\n"
     ]
    }
   ],
   "source": [
    "betas.info()"
   ]
  },
  {
   "cell_type": "code",
   "execution_count": 32,
   "metadata": {},
   "outputs": [],
   "source": [
    "lambdas = []\n",
    "for period in ff_portfolio_data.index:\n",
    "    step2 = OLS(endog=ff_portfolio_data.loc[period, betas.index],\n",
    "                exog=betas).fit()\n",
    "    lambdas.append(step2.params)\n",
    "\n",
    "lambdas = pd.DataFrame(lambdas,\n",
    "                       index=ff_portfolio_data.index,\n",
    "                       columns=betas.columns.tolist())"
   ]
  },
  {
   "cell_type": "code",
   "execution_count": 33,
   "metadata": {},
   "outputs": [
    {
     "name": "stdout",
     "output_type": "stream",
     "text": [
      "<class 'pandas.core.frame.DataFrame'>\n",
      "PeriodIndex: 96 entries, 2010-01 to 2017-12\n",
      "Freq: M\n",
      "Data columns (total 5 columns):\n",
      "Mkt-RF    96 non-null float64\n",
      "SMB       96 non-null float64\n",
      "HML       96 non-null float64\n",
      "RMW       96 non-null float64\n",
      "CMA       96 non-null float64\n",
      "dtypes: float64(5)\n",
      "memory usage: 10.2 KB\n"
     ]
    }
   ],
   "source": [
    "lambdas.info()"
   ]
  },
  {
   "cell_type": "code",
   "execution_count": 34,
   "metadata": {},
   "outputs": [
    {
     "data": {
      "text/plain": [
       "Mkt-RF    1.181043\n",
       "SMB       0.112553\n",
       "HML      -1.234931\n",
       "RMW      -0.341728\n",
       "CMA      -0.627899\n",
       "dtype: float64"
      ]
     },
     "execution_count": 34,
     "metadata": {},
     "output_type": "execute_result"
    }
   ],
   "source": [
    "lambdas.mean()"
   ]
  },
  {
   "cell_type": "code",
   "execution_count": 35,
   "metadata": {},
   "outputs": [
    {
     "data": {
      "text/plain": [
       "Mkt-RF    0.328238\n",
       "SMB       0.029175\n",
       "HML      -0.285483\n",
       "RMW      -0.113031\n",
       "CMA      -0.181547\n",
       "dtype: float64"
      ]
     },
     "execution_count": 35,
     "metadata": {},
     "output_type": "execute_result"
    }
   ],
   "source": [
    "t = lambdas.mean().div(lambdas.std())\n",
    "t"
   ]
  },
  {
   "cell_type": "markdown",
   "metadata": {},
   "source": [
    "## Fama-Macbeth Model\n",
    "\n",
    "Let us build Fama-Macbeth Model."
   ]
  },
  {
   "cell_type": "code",
   "execution_count": 36,
   "metadata": {},
   "outputs": [
    {
     "name": "stdout",
     "output_type": "stream",
     "text": [
      "                      LinearFactorModel Estimation Summary                      \n",
      "================================================================================\n",
      "No. Test Portfolios:                 17   R-squared:                      0.6905\n",
      "No. Factors:                          5   J-statistic:                    17.359\n",
      "No. Observations:                    96   P-value                         0.1366\n",
      "Date:                  Wed, Dec 25 2019   Distribution:                 chi2(12)\n",
      "Time:                          11:34:09                                         \n",
      "Cov. Estimator:                  robust                                         \n",
      "                                                                                \n",
      "                            Risk Premia Estimates                             \n",
      "==============================================================================\n",
      "            Parameter  Std. Err.     T-stat    P-value    Lower CI    Upper CI\n",
      "------------------------------------------------------------------------------\n",
      "Mkt-RF         1.1810     0.4105     2.8772     0.0040      0.3765      1.9856\n",
      "SMB            0.1126     0.8869     0.1269     0.8990     -1.6258      1.8509\n",
      "HML           -1.2349     0.6568    -1.8802     0.0601     -2.5223      0.0524\n",
      "RMW           -0.3417     0.8919    -0.3831     0.7016     -2.0898      1.4064\n",
      "CMA           -0.6279     0.5611    -1.1190     0.2631     -1.7277      0.4719\n",
      "==============================================================================\n",
      "\n",
      "Covariance estimator:\n",
      "HeteroskedasticCovariance\n",
      "See full_summary for complete results\n"
     ]
    }
   ],
   "source": [
    "mod = LinearFactorModel(portfolios=ff_portfolio_data, factors=ff_factor_data)\n",
    "res = mod.fit()\n",
    "print(res)"
   ]
  }
 ],
 "metadata": {
  "kernelspec": {
   "display_name": "Python 3",
   "language": "python",
   "name": "python3"
  },
  "language_info": {
   "codemirror_mode": {
    "name": "ipython",
    "version": 3
   },
   "file_extension": ".py",
   "mimetype": "text/x-python",
   "name": "python",
   "nbconvert_exporter": "python",
   "pygments_lexer": "ipython3",
   "version": "3.6.5"
  }
 },
 "nbformat": 4,
 "nbformat_minor": 2
}
