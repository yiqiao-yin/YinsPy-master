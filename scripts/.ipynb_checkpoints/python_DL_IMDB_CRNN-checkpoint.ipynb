{
 "cells": [
  {
   "cell_type": "markdown",
   "metadata": {},
   "source": [
    "# DEEP LEARNING: IMDB MOVIE DATA SET CLASSIFICATION USING RCNN\n",
    "\n",
    "The IMDB Movies Dataset contains information about 14,762 movies. Information about these movies was downloaded with wget for the purpose of creating a movie recommendation app. The data was preprocessed and cleaned to be ready for machine learning applications.\n",
    "\n",
    "For more information, please refer to:\n",
    "- https://www.tensorflow.org/datasets/catalog/imdb_reviews\n",
    "- https://github.com/orgesleka/filmempfehlung"
   ]
  },
  {
   "cell_type": "markdown",
   "metadata": {},
   "source": [
    "### Libraries"
   ]
  },
  {
   "cell_type": "code",
   "execution_count": 1,
   "metadata": {},
   "outputs": [],
   "source": [
    "from __future__ import print_function"
   ]
  },
  {
   "cell_type": "code",
   "execution_count": 2,
   "metadata": {},
   "outputs": [
    {
     "name": "stderr",
     "output_type": "stream",
     "text": [
      "Using TensorFlow backend.\n",
      "/usr/local/anaconda/lib/python3.6/importlib/_bootstrap.py:205: RuntimeWarning: compiletime version 3.5 of module 'tensorflow.python.framework.fast_tensor_util' does not match runtime version 3.6\n",
      "  return f(*args, **kwds)\n"
     ]
    }
   ],
   "source": [
    "from keras.preprocessing import sequence\n",
    "from keras.models import Sequential\n",
    "from keras.layers import Dense, Embedding\n",
    "from keras.layers import Conv1D, MaxPooling1D\n",
    "from keras.layers import LSTM\n",
    "from keras.datasets import imdb"
   ]
  },
  {
   "cell_type": "code",
   "execution_count": 3,
   "metadata": {},
   "outputs": [],
   "source": [
    "max_features = 20000\n",
    "maxlen = 80\n",
    "filters = 64\n",
    "batch_size = 32\n",
    "kernel_size = 5\n",
    "pool_size = 4"
   ]
  },
  {
   "cell_type": "code",
   "execution_count": 4,
   "metadata": {},
   "outputs": [
    {
     "name": "stdout",
     "output_type": "stream",
     "text": [
      "Loading data...\n",
      "Downloading data from https://s3.amazonaws.com/text-datasets/imdb.npz\n",
      "17465344/17464789 [==============================] - 0s 0us/step\n",
      "25000 train sequences\n",
      "25000 test sequences\n"
     ]
    }
   ],
   "source": [
    "print('Loading data...')\n",
    "(x_train, y_train), (x_test, y_test) = imdb.load_data(num_words=max_features)\n",
    "print(len(x_train), 'train sequences')\n",
    "print(len(x_test), 'test sequences')"
   ]
  },
  {
   "cell_type": "code",
   "execution_count": 5,
   "metadata": {},
   "outputs": [
    {
     "data": {
      "text/plain": [
       "((25000,), (25000,))"
      ]
     },
     "execution_count": 5,
     "metadata": {},
     "output_type": "execute_result"
    }
   ],
   "source": [
    "x_train.shape, x_test.shape"
   ]
  },
  {
   "cell_type": "markdown",
   "metadata": {},
   "source": [
    "### Sequence Padding"
   ]
  },
  {
   "cell_type": "code",
   "execution_count": 6,
   "metadata": {},
   "outputs": [
    {
     "name": "stdout",
     "output_type": "stream",
     "text": [
      "Pad sequences (samples by time)\n",
      "x_train shape: (25000, 80)\n",
      "x_test shape: (25000, 80)\n"
     ]
    }
   ],
   "source": [
    "print('Pad sequences (samples by time)')\n",
    "x_train = sequence.pad_sequences(x_train, maxlen=maxlen)\n",
    "x_test = sequence.pad_sequences(x_test, maxlen=maxlen)\n",
    "print('x_train shape:', x_train.shape)\n",
    "print('x_test shape:', x_test.shape)"
   ]
  },
  {
   "cell_type": "code",
   "execution_count": 7,
   "metadata": {},
   "outputs": [
    {
     "data": {
      "text/plain": [
       "((25000, 80), (25000, 80))"
      ]
     },
     "execution_count": 7,
     "metadata": {},
     "output_type": "execute_result"
    }
   ],
   "source": [
    "x_train.shape, x_test.shape"
   ]
  },
  {
   "cell_type": "markdown",
   "metadata": {},
   "source": [
    "### Build RCNN Architecture"
   ]
  },
  {
   "cell_type": "markdown",
   "metadata": {},
   "source": [
    "This section we construct a convolutional layer, a MaxPooling layer, and a LSTM layer. For technical details about the architecture and why does the neural network family works the way it works, please check out [my video](https://youtu.be/zhBLiMdqOdQ)."
   ]
  },
  {
   "cell_type": "code",
   "execution_count": 24,
   "metadata": {},
   "outputs": [
    {
     "name": "stdout",
     "output_type": "stream",
     "text": [
      "Build model ...\n"
     ]
    }
   ],
   "source": [
    "print('Build model ...')\n",
    "model = Sequential()\n",
    "model.add(Embedding(max_features, 128*2))\n",
    "model.add(Conv1D(filters, kernel_size, padding='valid', activation='relu', strides=1))\n",
    "model.add(MaxPooling1D(pool_size=pool_size))\n",
    "model.add(Conv1D(filters, kernel_size, padding='valid', activation='relu'))\n",
    "model.add(MaxPooling1D(pool_size=pool_size))\n",
    "model.add(Conv1D(filters, 2, padding='valid', activation='relu'))\n",
    "model.add(MaxPooling1D(pool_size=2))\n",
    "model.add(LSTM(128, dropout=0.2, recurrent_dropout=0.2))\n",
    "model.add(Dense(1, activation='sigmoid'))"
   ]
  },
  {
   "cell_type": "code",
   "execution_count": 25,
   "metadata": {},
   "outputs": [
    {
     "name": "stdout",
     "output_type": "stream",
     "text": [
      "Summarize ...\n",
      "_________________________________________________________________\n",
      "Layer (type)                 Output Shape              Param #   \n",
      "=================================================================\n",
      "embedding_5 (Embedding)      (None, None, 256)         5120000   \n",
      "_________________________________________________________________\n",
      "conv1d_12 (Conv1D)           (None, None, 64)          81984     \n",
      "_________________________________________________________________\n",
      "max_pooling1d_12 (MaxPooling (None, None, 64)          0         \n",
      "_________________________________________________________________\n",
      "conv1d_13 (Conv1D)           (None, None, 64)          20544     \n",
      "_________________________________________________________________\n",
      "max_pooling1d_13 (MaxPooling (None, None, 64)          0         \n",
      "_________________________________________________________________\n",
      "conv1d_14 (Conv1D)           (None, None, 64)          8256      \n",
      "_________________________________________________________________\n",
      "max_pooling1d_14 (MaxPooling (None, None, 64)          0         \n",
      "_________________________________________________________________\n",
      "lstm_5 (LSTM)                (None, 128)               98816     \n",
      "_________________________________________________________________\n",
      "dense_5 (Dense)              (None, 1)                 129       \n",
      "=================================================================\n",
      "Total params: 5,329,729\n",
      "Trainable params: 5,329,729\n",
      "Non-trainable params: 0\n",
      "_________________________________________________________________\n"
     ]
    }
   ],
   "source": [
    "print('Summarize ...')\n",
    "model.summary()"
   ]
  },
  {
   "cell_type": "code",
   "execution_count": 26,
   "metadata": {},
   "outputs": [
    {
     "name": "stdout",
     "output_type": "stream",
     "text": [
      "Compile ...\n"
     ]
    }
   ],
   "source": [
    "print('Compile ...')\n",
    "model.compile(loss='binary_crossentropy', optimizer='adam', metrics=['accuracy'])"
   ]
  },
  {
   "cell_type": "markdown",
   "metadata": {},
   "source": [
    "### Train, Test, and Performance"
   ]
  },
  {
   "cell_type": "code",
   "execution_count": 27,
   "metadata": {},
   "outputs": [
    {
     "name": "stdout",
     "output_type": "stream",
     "text": [
      "Train ...\n",
      "Train on 25000 samples, validate on 25000 samples\n",
      "Epoch 1/30\n",
      "25000/25000 [==============================] - 130s 5ms/step - loss: 0.5018 - acc: 0.7384 - val_loss: 0.4195 - val_acc: 0.8082\n",
      "Epoch 2/30\n",
      "25000/25000 [==============================] - 147s 6ms/step - loss: 0.2812 - acc: 0.8886 - val_loss: 0.4627 - val_acc: 0.8006\n",
      "Epoch 3/30\n",
      "25000/25000 [==============================] - 149s 6ms/step - loss: 0.1180 - acc: 0.9596 - val_loss: 0.6081 - val_acc: 0.7861\n",
      "Epoch 4/30\n",
      "25000/25000 [==============================] - 151s 6ms/step - loss: 0.0397 - acc: 0.9874 - val_loss: 0.8291 - val_acc: 0.7769\n",
      "Epoch 5/30\n",
      "25000/25000 [==============================] - 152s 6ms/step - loss: 0.0205 - acc: 0.9934 - val_loss: 1.0019 - val_acc: 0.7805\n",
      "Epoch 6/30\n",
      "25000/25000 [==============================] - 154s 6ms/step - loss: 0.0166 - acc: 0.9938 - val_loss: 1.3129 - val_acc: 0.7621\n",
      "Epoch 7/30\n",
      "25000/25000 [==============================] - 156s 6ms/step - loss: 0.0152 - acc: 0.9952 - val_loss: 1.0434 - val_acc: 0.7748\n",
      "Epoch 8/30\n",
      "25000/25000 [==============================] - 154s 6ms/step - loss: 0.0152 - acc: 0.9947 - val_loss: 1.1643 - val_acc: 0.7770\n",
      "Epoch 9/30\n",
      "25000/25000 [==============================] - 133s 5ms/step - loss: 0.0114 - acc: 0.9961 - val_loss: 1.2513 - val_acc: 0.7595\n",
      "Epoch 10/30\n",
      "25000/25000 [==============================] - 132s 5ms/step - loss: 0.0088 - acc: 0.9971 - val_loss: 1.1894 - val_acc: 0.7691\n",
      "Epoch 11/30\n",
      "25000/25000 [==============================] - 133s 5ms/step - loss: 0.0100 - acc: 0.9966 - val_loss: 1.2744 - val_acc: 0.7675\n",
      "Epoch 12/30\n",
      "25000/25000 [==============================] - 133s 5ms/step - loss: 0.0105 - acc: 0.9966 - val_loss: 1.3692 - val_acc: 0.7712\n",
      "Epoch 13/30\n",
      "25000/25000 [==============================] - 133s 5ms/step - loss: 0.0043 - acc: 0.9985 - val_loss: 1.3624 - val_acc: 0.7715\n",
      "Epoch 14/30\n",
      "25000/25000 [==============================] - 133s 5ms/step - loss: 0.0067 - acc: 0.9978 - val_loss: 1.4253 - val_acc: 0.7597\n",
      "Epoch 15/30\n",
      "25000/25000 [==============================] - 133s 5ms/step - loss: 0.0084 - acc: 0.9974 - val_loss: 1.2706 - val_acc: 0.7641\n",
      "Epoch 16/30\n",
      "25000/25000 [==============================] - 132s 5ms/step - loss: 0.0053 - acc: 0.9982 - val_loss: 1.4470 - val_acc: 0.7604\n",
      "Epoch 17/30\n",
      "25000/25000 [==============================] - 127s 5ms/step - loss: 0.0044 - acc: 0.9984 - val_loss: 1.3851 - val_acc: 0.7676\n",
      "Epoch 18/30\n",
      "25000/25000 [==============================] - 126s 5ms/step - loss: 0.0039 - acc: 0.9989 - val_loss: 1.5283 - val_acc: 0.7724\n",
      "Epoch 19/30\n",
      "25000/25000 [==============================] - 126s 5ms/step - loss: 0.0086 - acc: 0.9972 - val_loss: 1.2724 - val_acc: 0.7697\n",
      "Epoch 20/30\n",
      "25000/25000 [==============================] - 125s 5ms/step - loss: 0.0037 - acc: 0.9990 - val_loss: 1.7103 - val_acc: 0.7604\n",
      "Epoch 21/30\n",
      "25000/25000 [==============================] - 125s 5ms/step - loss: 0.0036 - acc: 0.9989 - val_loss: 1.4457 - val_acc: 0.7696\n",
      "Epoch 22/30\n",
      "25000/25000 [==============================] - 125s 5ms/step - loss: 0.0039 - acc: 0.9990 - val_loss: 1.3848 - val_acc: 0.7667\n",
      "Epoch 23/30\n",
      "25000/25000 [==============================] - 124s 5ms/step - loss: 0.0062 - acc: 0.9980 - val_loss: 1.3068 - val_acc: 0.7671\n",
      "Epoch 24/30\n",
      "25000/25000 [==============================] - 126s 5ms/step - loss: 0.0044 - acc: 0.9984 - val_loss: 1.5239 - val_acc: 0.7561\n",
      "Epoch 25/30\n",
      "25000/25000 [==============================] - 125s 5ms/step - loss: 0.0023 - acc: 0.9991 - val_loss: 1.6767 - val_acc: 0.7638\n",
      "Epoch 26/30\n",
      "25000/25000 [==============================] - 124s 5ms/step - loss: 0.0028 - acc: 0.9991 - val_loss: 1.5266 - val_acc: 0.7696\n",
      "Epoch 27/30\n",
      "25000/25000 [==============================] - 124s 5ms/step - loss: 0.0029 - acc: 0.9990 - val_loss: 1.5882 - val_acc: 0.7654\n",
      "Epoch 28/30\n",
      "25000/25000 [==============================] - 126s 5ms/step - loss: 4.9492e-04 - acc: 0.9999 - val_loss: 1.9413 - val_acc: 0.7702\n",
      "Epoch 29/30\n",
      "25000/25000 [==============================] - 125s 5ms/step - loss: 1.5973e-04 - acc: 1.0000 - val_loss: 2.1132 - val_acc: 0.7717\n",
      "Epoch 30/30\n",
      "25000/25000 [==============================] - 125s 5ms/step - loss: 0.0067 - acc: 0.9983 - val_loss: 1.7848 - val_acc: 0.7434\n",
      "25000/25000 [==============================] - 18s 733us/step\n",
      "Test score: 1.78482596172\n",
      "Test accuracy: 0.74336\n"
     ]
    }
   ],
   "source": [
    "print('Train ...')\n",
    "model.fit(x_train, y_train, batch_size=batch_size, epochs=30, validation_data=(x_test, y_test))\n",
    "score, acc = model.evaluate(x_test, y_test, batch_size=batch_size)\n",
    "print('Test score:', score)\n",
    "print('Test accuracy:', acc)"
   ]
  },
  {
   "cell_type": "markdown",
   "metadata": {},
   "source": [
    "Investigation ends here."
   ]
  }
 ],
 "metadata": {
  "kernelspec": {
   "display_name": "Python 3",
   "language": "python",
   "name": "python3"
  },
  "language_info": {
   "codemirror_mode": {
    "name": "ipython",
    "version": 3
   },
   "file_extension": ".py",
   "mimetype": "text/x-python",
   "name": "python",
   "nbconvert_exporter": "python",
   "pygments_lexer": "ipython3",
   "version": "3.6.2"
  }
 },
 "nbformat": 4,
 "nbformat_minor": 2
}
