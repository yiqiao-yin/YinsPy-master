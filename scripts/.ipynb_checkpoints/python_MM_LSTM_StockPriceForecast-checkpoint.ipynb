{
 "cells": [
  {
   "cell_type": "markdown",
   "metadata": {},
   "source": [
    "# Money Management: Stock Price Forecasting Using Long Short Term Memory (LSTM)\n",
    "\n",
    "LSTM is an tweak version of Recurrent Neural Network which forgets or remembers certain information over a long period of time. In this notebook, I will use LSTM to forecast Google stock price.\n",
    "\n",
    "Stock price today is probably dependent on:\n",
    "- The trend it has been folloing from the previous day.\n",
    "- The price it was traded at from previous day.\n",
    "- Some other factors that may affect stock price today.\n",
    "\n",
    "Generalize intuition from above to the following:\n",
    "- The previous cell state (i.e. the information that was present in the memory after the previous time step).\n",
    "- The previous hidden state (i.e. this is the same as the output of the previous cell).\n",
    "- The input at the current time step (i.e. the new information that is being fed in at that moment).\n",
    "\n",
    "Source: see [Chapter 11](https://github.com/PacktPublishing/Hands-on-Python-for-Finance/tree/master/Chapter%2011) of **Hands on Python for Finance**"
   ]
  },
  {
   "cell_type": "code",
   "execution_count": 1,
   "metadata": {},
   "outputs": [],
   "source": [
    "# Part 1 - Data Preprocessing\n",
    "\n",
    "# Importing the libraries\n",
    "import numpy as np\n",
    "import matplotlib.pyplot as plt\n",
    "import pandas as pd"
   ]
  },
  {
   "cell_type": "code",
   "execution_count": 5,
   "metadata": {},
   "outputs": [],
   "source": [
    "# Import Data\n",
    "dataset_train = pd.read_csv('~/OneDrive/Documents/YinsPy/data/Google_Stock_Price_Train.csv')"
   ]
  },
  {
   "cell_type": "code",
   "execution_count": 7,
   "metadata": {},
   "outputs": [
    {
     "name": "stdout",
     "output_type": "stream",
     "text": [
      "       Date    Open    High     Low   Close      Volume\n",
      "0  1/3/2012  325.25  332.83  324.97  663.59   7,380,500\n",
      "1  1/4/2012  331.27  333.87  329.08  666.45   5,749,400\n",
      "2  1/5/2012  329.83  330.75  326.89  657.21   6,590,300\n",
      "3  1/6/2012  328.34  328.77  323.68  648.24   5,405,900\n",
      "4  1/9/2012  322.04  322.29  309.46  620.76  11,688,800\n",
      "            Date    Open    High     Low   Close     Volume\n",
      "1253  12/23/2016  790.90  792.74  787.28  789.91    623,400\n",
      "1254  12/27/2016  790.68  797.86  787.66  791.55    789,100\n",
      "1255  12/28/2016  793.70  794.23  783.20  785.05  1,153,800\n",
      "1256  12/29/2016  783.33  785.93  778.92  782.79    744,300\n",
      "1257  12/30/2016  782.75  782.78  770.41  771.82  1,770,000\n"
     ]
    }
   ],
   "source": [
    "# Preview\n",
    "print(dataset_train.head())\n",
    "print(dataset_train.tail())"
   ]
  },
  {
   "cell_type": "code",
   "execution_count": 60,
   "metadata": {},
   "outputs": [
    {
     "name": "stdout",
     "output_type": "stream",
     "text": [
      "[[325.25]\n",
      " [331.27]\n",
      " [329.83]\n",
      " ...\n",
      " [793.7 ]\n",
      " [783.33]\n",
      " [782.75]]\n"
     ]
    }
   ],
   "source": [
    "# Select Open Column\n",
    "training_set = dataset_train.iloc[:, 1:2].values\n",
    "print(training_set)"
   ]
  },
  {
   "cell_type": "code",
   "execution_count": 61,
   "metadata": {},
   "outputs": [],
   "source": [
    "# Feature Scaling\n",
    "from sklearn.preprocessing import MinMaxScaler"
   ]
  },
  {
   "cell_type": "code",
   "execution_count": 62,
   "metadata": {},
   "outputs": [],
   "source": [
    "sc = MinMaxScaler(feature_range = (0, 1))\n",
    "training_set_scaled = sc.fit_transform(training_set)"
   ]
  },
  {
   "cell_type": "code",
   "execution_count": 63,
   "metadata": {},
   "outputs": [
    {
     "data": {
      "text/plain": [
       "array([[0.08581368],\n",
       "       [0.09701243],\n",
       "       [0.09433366],\n",
       "       ...,\n",
       "       [0.95725128],\n",
       "       [0.93796041],\n",
       "       [0.93688146]])"
      ]
     },
     "execution_count": 63,
     "metadata": {},
     "output_type": "execute_result"
    }
   ],
   "source": [
    "training_set_scaled"
   ]
  },
  {
   "cell_type": "code",
   "execution_count": 64,
   "metadata": {},
   "outputs": [],
   "source": [
    "X_train = []\n",
    "y_train = []"
   ]
  },
  {
   "cell_type": "code",
   "execution_count": 65,
   "metadata": {},
   "outputs": [],
   "source": [
    "# Creating a data structure with 100 timesteps and 1 output. 1258 is the total number of records in the Open column\n",
    "for i in range(100, 1258):\n",
    "    X_train.append(training_set_scaled[i-100:i, 0])\n",
    "    y_train.append(training_set_scaled[i, 0])\n",
    "X_train, y_train = np.array(X_train), np.array(y_train)"
   ]
  },
  {
   "cell_type": "code",
   "execution_count": 66,
   "metadata": {},
   "outputs": [
    {
     "data": {
      "text/plain": [
       "(1158, 100)"
      ]
     },
     "execution_count": 66,
     "metadata": {},
     "output_type": "execute_result"
    }
   ],
   "source": [
    "X_train.shape"
   ]
  },
  {
   "cell_type": "code",
   "execution_count": 67,
   "metadata": {},
   "outputs": [
    {
     "data": {
      "text/plain": [
       "(1158,)"
      ]
     },
     "execution_count": 67,
     "metadata": {},
     "output_type": "execute_result"
    }
   ],
   "source": [
    "y_train.shape"
   ]
  },
  {
   "cell_type": "code",
   "execution_count": 69,
   "metadata": {},
   "outputs": [
    {
     "data": {
      "text/plain": [
       "(1158, 100, 1)"
      ]
     },
     "execution_count": 69,
     "metadata": {},
     "output_type": "execute_result"
    }
   ],
   "source": [
    "X_train = np.reshape(X_train, (X_train.shape[0], X_train.shape[1], 1))\n",
    "X_train.shape"
   ]
  },
  {
   "cell_type": "markdown",
   "metadata": {},
   "source": [
    "## Building RNN"
   ]
  },
  {
   "cell_type": "code",
   "execution_count": 70,
   "metadata": {},
   "outputs": [
    {
     "name": "stderr",
     "output_type": "stream",
     "text": [
      "C:\\Users\\eagle\\Anaconda3\\lib\\site-packages\\h5py\\__init__.py:36: FutureWarning: Conversion of the second argument of issubdtype from `float` to `np.floating` is deprecated. In future, it will be treated as `np.float64 == np.dtype(float).type`.\n",
      "  from ._conv import register_converters as _register_converters\n",
      "Using TensorFlow backend.\n"
     ]
    }
   ],
   "source": [
    "# Importing the Keras libraries and packages\n",
    "from keras.models import Sequential\n",
    "from keras.layers import Dense\n",
    "from keras.layers import LSTM\n",
    "from keras.layers import Dropout"
   ]
  },
  {
   "cell_type": "code",
   "execution_count": 71,
   "metadata": {},
   "outputs": [],
   "source": [
    "# Initialize RNN\n",
    "regressor = Sequential()"
   ]
  },
  {
   "cell_type": "code",
   "execution_count": 73,
   "metadata": {},
   "outputs": [],
   "source": [
    "# Adding the first LSTM layer and some Dropout regularisation\n",
    "regressor.add(LSTM(units = 50, return_sequences = True, input_shape = (X_train.shape[1], 1)))\n",
    "regressor.add(Dropout(0.2))"
   ]
  },
  {
   "cell_type": "code",
   "execution_count": 74,
   "metadata": {},
   "outputs": [],
   "source": [
    "# Adding a second LSTM layer and some Dropout regularisation\n",
    "regressor.add(LSTM(units = 50, return_sequences = True))\n",
    "regressor.add(Dropout(0.2))"
   ]
  },
  {
   "cell_type": "code",
   "execution_count": 75,
   "metadata": {},
   "outputs": [],
   "source": [
    "# Adding a third LSTM layer and some Dropout regularisation\n",
    "regressor.add(LSTM(units = 50, return_sequences = True))\n",
    "regressor.add(Dropout(0.2))"
   ]
  },
  {
   "cell_type": "code",
   "execution_count": 76,
   "metadata": {},
   "outputs": [],
   "source": [
    "# Adding a fourth LSTM layer and some Dropout regularisation\n",
    "regressor.add(LSTM(units = 50))\n",
    "regressor.add(Dropout(0.2))"
   ]
  },
  {
   "cell_type": "code",
   "execution_count": 77,
   "metadata": {},
   "outputs": [],
   "source": [
    "# Adding the output layer\n",
    "regressor.add(Dense(units = 1))"
   ]
  },
  {
   "cell_type": "code",
   "execution_count": 78,
   "metadata": {},
   "outputs": [
    {
     "name": "stdout",
     "output_type": "stream",
     "text": [
      "Model: \"sequential_1\"\n",
      "_________________________________________________________________\n",
      "Layer (type)                 Output Shape              Param #   \n",
      "=================================================================\n",
      "lstm_1 (LSTM)                (None, 100, 50)           10400     \n",
      "_________________________________________________________________\n",
      "dropout_1 (Dropout)          (None, 100, 50)           0         \n",
      "_________________________________________________________________\n",
      "lstm_2 (LSTM)                (None, 100, 50)           20200     \n",
      "_________________________________________________________________\n",
      "dropout_2 (Dropout)          (None, 100, 50)           0         \n",
      "_________________________________________________________________\n",
      "lstm_3 (LSTM)                (None, 100, 50)           20200     \n",
      "_________________________________________________________________\n",
      "dropout_3 (Dropout)          (None, 100, 50)           0         \n",
      "_________________________________________________________________\n",
      "lstm_4 (LSTM)                (None, 50)                20200     \n",
      "_________________________________________________________________\n",
      "dropout_4 (Dropout)          (None, 50)                0         \n",
      "_________________________________________________________________\n",
      "dense_1 (Dense)              (None, 1)                 51        \n",
      "=================================================================\n",
      "Total params: 71,051\n",
      "Trainable params: 71,051\n",
      "Non-trainable params: 0\n",
      "_________________________________________________________________\n"
     ]
    }
   ],
   "source": [
    "regressor.summary()"
   ]
  },
  {
   "cell_type": "code",
   "execution_count": 79,
   "metadata": {},
   "outputs": [],
   "source": [
    "# Compiling the RNN\n",
    "regressor.compile(optimizer = 'adam', loss = 'mean_squared_error')"
   ]
  },
  {
   "cell_type": "code",
   "execution_count": 80,
   "metadata": {},
   "outputs": [
    {
     "name": "stdout",
     "output_type": "stream",
     "text": [
      "Epoch 1/100\n",
      "1158/1158 [==============================] - 8s 7ms/step - loss: 0.0389\n",
      "Epoch 2/100\n",
      "1158/1158 [==============================] - 5s 4ms/step - loss: 0.0068\n",
      "Epoch 3/100\n",
      "1158/1158 [==============================] - 5s 4ms/step - loss: 0.0056\n",
      "Epoch 4/100\n",
      "1158/1158 [==============================] - 5s 4ms/step - loss: 0.0057\n",
      "Epoch 5/100\n",
      "1158/1158 [==============================] - 5s 4ms/step - loss: 0.0047\n",
      "Epoch 6/100\n",
      "1158/1158 [==============================] - 5s 4ms/step - loss: 0.0051\n",
      "Epoch 7/100\n",
      "1158/1158 [==============================] - 5s 4ms/step - loss: 0.0045\n",
      "Epoch 8/100\n",
      "1158/1158 [==============================] - 5s 5ms/step - loss: 0.0045\n",
      "Epoch 9/100\n",
      "1158/1158 [==============================] - 5s 4ms/step - loss: 0.0049\n",
      "Epoch 10/100\n",
      "1158/1158 [==============================] - 5s 4ms/step - loss: 0.0043\n",
      "Epoch 11/100\n",
      "1158/1158 [==============================] - 6s 5ms/step - loss: 0.0043\n",
      "Epoch 12/100\n",
      "1158/1158 [==============================] - 5s 5ms/step - loss: 0.0042\n",
      "Epoch 13/100\n",
      "1158/1158 [==============================] - 5s 5ms/step - loss: 0.0043\n",
      "Epoch 14/100\n",
      "1158/1158 [==============================] - 5s 5ms/step - loss: 0.0042\n",
      "Epoch 15/100\n",
      "1158/1158 [==============================] - 6s 5ms/step - loss: 0.0047\n",
      "Epoch 16/100\n",
      "1158/1158 [==============================] - 5s 5ms/step - loss: 0.0039\n",
      "Epoch 17/100\n",
      "1158/1158 [==============================] - 6s 5ms/step - loss: 0.0035\n",
      "Epoch 18/100\n",
      "1158/1158 [==============================] - 5s 5ms/step - loss: 0.0036\n",
      "Epoch 19/100\n",
      "1158/1158 [==============================] - 5s 5ms/step - loss: 0.0038\n",
      "Epoch 20/100\n",
      "1158/1158 [==============================] - 6s 5ms/step - loss: 0.0041\n",
      "Epoch 21/100\n",
      "1158/1158 [==============================] - 6s 5ms/step - loss: 0.0033\n",
      "Epoch 22/100\n",
      "1158/1158 [==============================] - 6s 5ms/step - loss: 0.0038\n",
      "Epoch 23/100\n",
      "1158/1158 [==============================] - 5s 5ms/step - loss: 0.0034\n",
      "Epoch 24/100\n",
      "1158/1158 [==============================] - 6s 5ms/step - loss: 0.0029\n",
      "Epoch 25/100\n",
      "1158/1158 [==============================] - 5s 5ms/step - loss: 0.0040\n",
      "Epoch 26/100\n",
      "1158/1158 [==============================] - 6s 5ms/step - loss: 0.0030\n",
      "Epoch 27/100\n",
      "1158/1158 [==============================] - 5s 5ms/step - loss: 0.0029\n",
      "Epoch 28/100\n",
      "1158/1158 [==============================] - 5s 5ms/step - loss: 0.0029\n",
      "Epoch 29/100\n",
      "1158/1158 [==============================] - 6s 5ms/step - loss: 0.0030\n",
      "Epoch 30/100\n",
      "1158/1158 [==============================] - 5s 5ms/step - loss: 0.0035\n",
      "Epoch 31/100\n",
      "1158/1158 [==============================] - 5s 5ms/step - loss: 0.0030\n",
      "Epoch 32/100\n",
      "1158/1158 [==============================] - 5s 5ms/step - loss: 0.0030\n",
      "Epoch 33/100\n",
      "1158/1158 [==============================] - 6s 5ms/step - loss: 0.0030\n",
      "Epoch 34/100\n",
      "1158/1158 [==============================] - 6s 5ms/step - loss: 0.0030\n",
      "Epoch 35/100\n",
      "1158/1158 [==============================] - 5s 5ms/step - loss: 0.0027\n",
      "Epoch 36/100\n",
      "1158/1158 [==============================] - 5s 5ms/step - loss: 0.0027\n",
      "Epoch 37/100\n",
      "1158/1158 [==============================] - 5s 5ms/step - loss: 0.0027\n",
      "Epoch 38/100\n",
      "1158/1158 [==============================] - 6s 5ms/step - loss: 0.0028\n",
      "Epoch 39/100\n",
      "1158/1158 [==============================] - 5s 5ms/step - loss: 0.0025\n",
      "Epoch 40/100\n",
      "1158/1158 [==============================] - 6s 5ms/step - loss: 0.0026\n",
      "Epoch 41/100\n",
      "1158/1158 [==============================] - 6s 5ms/step - loss: 0.0031\n",
      "Epoch 42/100\n",
      "1158/1158 [==============================] - 5s 5ms/step - loss: 0.0025\n",
      "Epoch 43/100\n",
      "1158/1158 [==============================] - 6s 5ms/step - loss: 0.0028\n",
      "Epoch 44/100\n",
      "1158/1158 [==============================] - 6s 5ms/step - loss: 0.0025\n",
      "Epoch 45/100\n",
      "1158/1158 [==============================] - 6s 5ms/step - loss: 0.0030\n",
      "Epoch 46/100\n",
      "1158/1158 [==============================] - 5s 5ms/step - loss: 0.0025\n",
      "Epoch 47/100\n",
      "1158/1158 [==============================] - 5s 5ms/step - loss: 0.0022\n",
      "Epoch 48/100\n",
      "1158/1158 [==============================] - 5s 4ms/step - loss: 0.0024\n",
      "Epoch 49/100\n",
      "1158/1158 [==============================] - 5s 4ms/step - loss: 0.0023\n",
      "Epoch 50/100\n",
      "1158/1158 [==============================] - 5s 4ms/step - loss: 0.0023\n",
      "Epoch 51/100\n",
      "1158/1158 [==============================] - 5s 4ms/step - loss: 0.0022\n",
      "Epoch 52/100\n",
      "1158/1158 [==============================] - 5s 4ms/step - loss: 0.0024\n",
      "Epoch 53/100\n",
      "1158/1158 [==============================] - 5s 4ms/step - loss: 0.0022\n",
      "Epoch 54/100\n",
      "1158/1158 [==============================] - 5s 4ms/step - loss: 0.0024\n",
      "Epoch 55/100\n",
      "1158/1158 [==============================] - 5s 4ms/step - loss: 0.0022\n",
      "Epoch 56/100\n",
      "1158/1158 [==============================] - 6s 5ms/step - loss: 0.0020\n",
      "Epoch 57/100\n",
      "1158/1158 [==============================] - 6s 5ms/step - loss: 0.0023\n",
      "Epoch 58/100\n",
      "1158/1158 [==============================] - 6s 5ms/step - loss: 0.0022\n",
      "Epoch 59/100\n",
      "1158/1158 [==============================] - 6s 5ms/step - loss: 0.0023\n",
      "Epoch 60/100\n",
      "1158/1158 [==============================] - 6s 5ms/step - loss: 0.0020\n",
      "Epoch 61/100\n",
      "1158/1158 [==============================] - 5s 5ms/step - loss: 0.0021\n",
      "Epoch 62/100\n",
      "1158/1158 [==============================] - 5s 5ms/step - loss: 0.0020\n",
      "Epoch 63/100\n",
      "1158/1158 [==============================] - 6s 5ms/step - loss: 0.0022\n",
      "Epoch 64/100\n",
      "1158/1158 [==============================] - 5s 5ms/step - loss: 0.0019\n",
      "Epoch 65/100\n",
      "1158/1158 [==============================] - 6s 5ms/step - loss: 0.0021\n",
      "Epoch 66/100\n",
      "1158/1158 [==============================] - 5s 4ms/step - loss: 0.0020\n",
      "Epoch 67/100\n",
      "1158/1158 [==============================] - 5s 5ms/step - loss: 0.0022\n",
      "Epoch 68/100\n",
      "1158/1158 [==============================] - 5s 5ms/step - loss: 0.0019\n",
      "Epoch 69/100\n",
      "1158/1158 [==============================] - 5s 4ms/step - loss: 0.0018\n",
      "Epoch 70/100\n",
      "1158/1158 [==============================] - 5s 4ms/step - loss: 0.0020\n",
      "Epoch 71/100\n",
      "1158/1158 [==============================] - 5s 4ms/step - loss: 0.0019\n",
      "Epoch 72/100\n",
      "1158/1158 [==============================] - 5s 4ms/step - loss: 0.0018\n",
      "Epoch 73/100\n",
      "1158/1158 [==============================] - 5s 4ms/step - loss: 0.0020\n",
      "Epoch 74/100\n",
      "1158/1158 [==============================] - 5s 4ms/step - loss: 0.0018\n",
      "Epoch 75/100\n",
      "1158/1158 [==============================] - 5s 4ms/step - loss: 0.0018\n",
      "Epoch 76/100\n",
      "1158/1158 [==============================] - 5s 4ms/step - loss: 0.0016\n",
      "Epoch 77/100\n",
      "1158/1158 [==============================] - 5s 4ms/step - loss: 0.0018\n",
      "Epoch 78/100\n",
      "1158/1158 [==============================] - 5s 5ms/step - loss: 0.0017\n",
      "Epoch 79/100\n",
      "1158/1158 [==============================] - 5s 4ms/step - loss: 0.0017\n",
      "Epoch 80/100\n",
      "1158/1158 [==============================] - 5s 4ms/step - loss: 0.0018\n",
      "Epoch 81/100\n",
      "1158/1158 [==============================] - 5s 4ms/step - loss: 0.0017\n",
      "Epoch 82/100\n",
      "1158/1158 [==============================] - 6s 5ms/step - loss: 0.0016\n",
      "Epoch 83/100\n",
      "1158/1158 [==============================] - 6s 5ms/step - loss: 0.0018\n",
      "Epoch 84/100\n",
      "1158/1158 [==============================] - 5s 5ms/step - loss: 0.0016\n",
      "Epoch 85/100\n",
      "1158/1158 [==============================] - 6s 5ms/step - loss: 0.0016\n",
      "Epoch 86/100\n",
      "1158/1158 [==============================] - 5s 5ms/step - loss: 0.0017\n",
      "Epoch 87/100\n",
      "1158/1158 [==============================] - 5s 4ms/step - loss: 0.0016\n",
      "Epoch 88/100\n",
      "1158/1158 [==============================] - 5s 5ms/step - loss: 0.0015\n",
      "Epoch 89/100\n",
      "1158/1158 [==============================] - 5s 5ms/step - loss: 0.0018\n",
      "Epoch 90/100\n",
      "1158/1158 [==============================] - 6s 5ms/step - loss: 0.0017\n",
      "Epoch 91/100\n",
      "1158/1158 [==============================] - 5s 5ms/step - loss: 0.0017\n",
      "Epoch 92/100\n",
      "1158/1158 [==============================] - 5s 4ms/step - loss: 0.0015\n",
      "Epoch 93/100\n",
      "1158/1158 [==============================] - 5s 4ms/step - loss: 0.0014\n",
      "Epoch 94/100\n",
      "1158/1158 [==============================] - 5s 4ms/step - loss: 0.0016\n",
      "Epoch 95/100\n",
      "1158/1158 [==============================] - 5s 4ms/step - loss: 0.0015\n",
      "Epoch 96/100\n",
      "1158/1158 [==============================] - 5s 4ms/step - loss: 0.0014\n",
      "Epoch 97/100\n",
      "1158/1158 [==============================] - 5s 4ms/step - loss: 0.0014\n",
      "Epoch 98/100\n",
      "1158/1158 [==============================] - 5s 4ms/step - loss: 0.0013\n",
      "Epoch 99/100\n",
      "1158/1158 [==============================] - 5s 4ms/step - loss: 0.0014\n",
      "Epoch 100/100\n",
      "1158/1158 [==============================] - 5s 4ms/step - loss: 0.0015\n"
     ]
    },
    {
     "data": {
      "text/plain": [
       "<keras.callbacks.callbacks.History at 0x1bd17458f28>"
      ]
     },
     "execution_count": 80,
     "metadata": {},
     "output_type": "execute_result"
    }
   ],
   "source": [
    "# Fitting the RNN to the Training set\n",
    "regressor.fit(X_train, y_train, epochs = 100, batch_size = 32)"
   ]
  },
  {
   "cell_type": "code",
   "execution_count": 81,
   "metadata": {},
   "outputs": [],
   "source": [
    "# Part 3 - Making the predictions and visualising the results\n",
    "\n",
    "# Getting the real stock price of 2017\n",
    "dataset_test = pd.read_csv('~/OneDrive/Documents/YinsPy/data/Google_Stock_Price_Test.csv')"
   ]
  },
  {
   "cell_type": "code",
   "execution_count": 82,
   "metadata": {},
   "outputs": [
    {
     "data": {
      "text/html": [
       "<div>\n",
       "<style scoped>\n",
       "    .dataframe tbody tr th:only-of-type {\n",
       "        vertical-align: middle;\n",
       "    }\n",
       "\n",
       "    .dataframe tbody tr th {\n",
       "        vertical-align: top;\n",
       "    }\n",
       "\n",
       "    .dataframe thead th {\n",
       "        text-align: right;\n",
       "    }\n",
       "</style>\n",
       "<table border=\"1\" class=\"dataframe\">\n",
       "  <thead>\n",
       "    <tr style=\"text-align: right;\">\n",
       "      <th></th>\n",
       "      <th>Date</th>\n",
       "      <th>Open</th>\n",
       "      <th>High</th>\n",
       "      <th>Low</th>\n",
       "      <th>Close</th>\n",
       "      <th>Volume</th>\n",
       "    </tr>\n",
       "  </thead>\n",
       "  <tbody>\n",
       "    <tr>\n",
       "      <th>0</th>\n",
       "      <td>01-03-2017</td>\n",
       "      <td>778.81</td>\n",
       "      <td>789.63</td>\n",
       "      <td>775.80</td>\n",
       "      <td>786.14</td>\n",
       "      <td>16,57,300</td>\n",
       "    </tr>\n",
       "    <tr>\n",
       "      <th>1</th>\n",
       "      <td>01-04-2017</td>\n",
       "      <td>788.36</td>\n",
       "      <td>791.34</td>\n",
       "      <td>783.16</td>\n",
       "      <td>786.90</td>\n",
       "      <td>10,73,000</td>\n",
       "    </tr>\n",
       "    <tr>\n",
       "      <th>2</th>\n",
       "      <td>01-05-2017</td>\n",
       "      <td>786.08</td>\n",
       "      <td>794.48</td>\n",
       "      <td>785.02</td>\n",
       "      <td>794.02</td>\n",
       "      <td>13,35,200</td>\n",
       "    </tr>\n",
       "    <tr>\n",
       "      <th>3</th>\n",
       "      <td>01-06-2017</td>\n",
       "      <td>795.26</td>\n",
       "      <td>807.90</td>\n",
       "      <td>792.20</td>\n",
       "      <td>806.15</td>\n",
       "      <td>16,40,200</td>\n",
       "    </tr>\n",
       "    <tr>\n",
       "      <th>4</th>\n",
       "      <td>01-09-2017</td>\n",
       "      <td>806.40</td>\n",
       "      <td>809.97</td>\n",
       "      <td>802.83</td>\n",
       "      <td>806.65</td>\n",
       "      <td>12,72,400</td>\n",
       "    </tr>\n",
       "  </tbody>\n",
       "</table>\n",
       "</div>"
      ],
      "text/plain": [
       "         Date    Open    High     Low   Close     Volume\n",
       "0  01-03-2017  778.81  789.63  775.80  786.14  16,57,300\n",
       "1  01-04-2017  788.36  791.34  783.16  786.90  10,73,000\n",
       "2  01-05-2017  786.08  794.48  785.02  794.02  13,35,200\n",
       "3  01-06-2017  795.26  807.90  792.20  806.15  16,40,200\n",
       "4  01-09-2017  806.40  809.97  802.83  806.65  12,72,400"
      ]
     },
     "execution_count": 82,
     "metadata": {},
     "output_type": "execute_result"
    }
   ],
   "source": [
    "dataset_test.head()"
   ]
  },
  {
   "cell_type": "code",
   "execution_count": 105,
   "metadata": {},
   "outputs": [
    {
     "data": {
      "text/plain": [
       "(142, 1)"
      ]
     },
     "execution_count": 105,
     "metadata": {},
     "output_type": "execute_result"
    }
   ],
   "source": [
    "real_stock_price = dataset_test.iloc[:, 1:2].values\n",
    "\n",
    "# Getting the predicted stock price of 2017\n",
    "dataset_total = pd.concat((dataset_train['Open'], dataset_test['Open']), axis = 0)\n",
    "inputs = dataset_total[len(dataset_total) - len(dataset_test) - 100:].values\n",
    "inputs = inputs.reshape(-1,1)\n",
    "inputs = sc.transform(inputs)\n",
    "X_test = []\n",
    "inputs.shape"
   ]
  },
  {
   "cell_type": "code",
   "execution_count": 106,
   "metadata": {},
   "outputs": [],
   "source": [
    "for i in range(100, 142):\n",
    "    X_test.append(inputs[i-100:i, 0])\n",
    "X_test = np.array(X_test)\n",
    "X_test = np.reshape(X_test, (X_test.shape[0], X_test.shape[1], 1))\n",
    "predicted_stock_price = regressor.predict(X_test)\n",
    "predicted_stock_price = sc.inverse_transform(predicted_stock_price)"
   ]
  },
  {
   "cell_type": "code",
   "execution_count": 107,
   "metadata": {},
   "outputs": [
    {
     "data": {
      "text/plain": [
       "array([[779.1593 ],\n",
       "       [776.23987],\n",
       "       [776.18866],\n",
       "       [777.27856],\n",
       "       [780.39966],\n",
       "       [786.0822 ],\n",
       "       [791.3173 ],\n",
       "       [793.45776],\n",
       "       [793.7463 ],\n",
       "       [793.3775 ],\n",
       "       [793.00824],\n",
       "       [792.7312 ],\n",
       "       [792.6702 ],\n",
       "       [793.39636],\n",
       "       [794.5627 ],\n",
       "       [799.2868 ],\n",
       "       [806.16907],\n",
       "       [813.48846],\n",
       "       [817.3948 ],\n",
       "       [813.2627 ],\n",
       "       [802.8516 ],\n",
       "       [795.8514 ],\n",
       "       [793.49414],\n",
       "       [794.32654],\n",
       "       [796.7112 ],\n",
       "       [798.87115],\n",
       "       [803.5267 ],\n",
       "       [809.5151 ],\n",
       "       [815.63434],\n",
       "       [818.4861 ],\n",
       "       [813.66595],\n",
       "       [802.9112 ],\n",
       "       [795.78864],\n",
       "       [793.4536 ],\n",
       "       [794.3777 ],\n",
       "       [796.86304],\n",
       "       [799.10156],\n",
       "       [803.8045 ],\n",
       "       [809.81647],\n",
       "       [815.9464 ],\n",
       "       [818.80646],\n",
       "       [813.99915]], dtype=float32)"
      ]
     },
     "execution_count": 107,
     "metadata": {},
     "output_type": "execute_result"
    }
   ],
   "source": [
    "predicted_stock_price"
   ]
  },
  {
   "cell_type": "code",
   "execution_count": 108,
   "metadata": {},
   "outputs": [
    {
     "data": {
      "image/png": "[encoded data removed]",
      "text/plain": [
       "<Figure size 432x288 with 1 Axes>"
      ]
     },
     "metadata": {},
     "output_type": "display_data"
    }
   ],
   "source": [
    "# Visualising the results\n",
    "plt.plot(real_stock_price, color = 'red', label = 'Real Google Stock Price')\n",
    "plt.plot(predicted_stock_price, color = 'blue', label = 'Predicted Google Stock Price')\n",
    "plt.title('Google Stock Price Prediction')\n",
    "plt.xlabel('Time')\n",
    "plt.ylabel('Google Stock Price')\n",
    "plt.legend()\n",
    "plt.show()"
   ]
  },
  {
   "cell_type": "code",
   "execution_count": 92,
   "metadata": {},
   "outputs": [],
   "source": [
    "import math\n",
    "from sklearn.metrics import mean_squared_error"
   ]
  },
  {
   "cell_type": "code",
   "execution_count": 115,
   "metadata": {},
   "outputs": [
    {
     "name": "stdout",
     "output_type": "stream",
     "text": [
      "Root Mean Square Error is 17.59 for test set.\n",
      "Interpretation: ---------------\n",
      "On the test set, the performance of this LSTM architecture guesses Google stock price on average within the error of $17 dollars.\n"
     ]
    }
   ],
   "source": [
    "rmse = np.sqrt(mean_squared_error(real_stock_price[~np.isnan(real_stock_price)], predicted_stock_price[~np.isnan(real_stock_price)]))\n",
    "print(f'Root Mean Square Error is {round(rmse,2)} for test set.')\n",
    "print(f'Interpretation: ---------------')\n",
    "print(f'On the test set, the performance of this LSTM architecture guesses Google stock price on average within the error of $17 dollars.')"
   ]
  }
 ],
 "metadata": {
  "kernelspec": {
   "display_name": "Python 3",
   "language": "python",
   "name": "python3"
  },
  "language_info": {
   "codemirror_mode": {
    "name": "ipython",
    "version": 3
   },
   "file_extension": ".py",
   "mimetype": "text/x-python",
   "name": "python",
   "nbconvert_exporter": "python",
   "pygments_lexer": "ipython3",
   "version": "3.6.5"
  }
 },
 "nbformat": 4,
 "nbformat_minor": 2
}
