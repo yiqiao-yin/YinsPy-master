{
 "cells": [
  {
   "cell_type": "markdown",
   "metadata": {},
   "source": [
    "## Walk-through for Marginal Information\n",
    "\n",
    "Suppose there is a data that has response variable $Y$ and explanatory variables $X_1$, $X_2$, and $X_3$. We want a logistic regression model\n",
    "$$\\mathbb{P}(Y = 1) = \\frac{1}{1 + \\exp(- \\sum_{j=1}^3 \\beta_j X_j)}$$\n",
    "\n",
    "Question: how do we know that one of the $X_j$'s produce better results than others? \n",
    "\n",
    "Answer: \n",
    "\n",
    "(1) First approach is to try them one by one individually. For each $j \\in [1, 2, 3]$, you can build a linear model\n",
    "$$Y \\sim X_j$$\n",
    "where the above model can take the form of $\\mathbb{P}(Y=1)$ defined above. In other words, we are using the model\n",
    "$$\\mathbb{P}(Y = 1) = \\frac{1}{1 + \\exp(- \\beta_j X_j)}$$\n",
    "and in the end I just need to check my regression coefficients.\n",
    "\n",
    "(2) Second approach is to use the AUC value. There is a measure that checks the performance of $\\hat{Y}$ and $Y$. The measure is called Receiver Operating Characteristics (ROC). This is a curve that can be drawn based on $\\hat{Y}$ and $Y$ given many different thresholds. The area under this curve is called AUC. This AUC is a numeric value between 50% and 100% (the higher the better).\n",
    "\n",
    "```\n",
    ">>> from sklearn.datasets import load_breast_cancer\n",
    ">>> from sklearn.linear_model import LogisticRegression\n",
    ">>> from sklearn.metrics import roc_auc_score\n",
    ">>> X, y = load_breast_cancer(return_X_y=True)\n",
    ">>> clf = LogisticRegression(solver=\"liblinear\", random_state=0).fit(X, y)\n",
    ">>> roc_auc_score(y, clf.predict_proba(X)[:, 1])\n",
    "0.99...\n",
    ">>> roc_auc_score(y, clf.decision_function(X))\n",
    "0.99...\n",
    "```"
   ]
  },
  {
   "cell_type": "code",
   "execution_count": 6,
   "metadata": {},
   "outputs": [
    {
     "name": "stderr",
     "output_type": "stream",
     "text": [
      "<frozen importlib._bootstrap>:219: RuntimeWarning: numpy.ufunc size changed, may indicate binary incompatibility. Expected 192 from C header, got 216 from PyObject\n"
     ]
    }
   ],
   "source": [
    "from sklearn.datasets import load_breast_cancer\n",
    "from sklearn.linear_model import LogisticRegression\n",
    "from sklearn.metrics import roc_auc_score\n",
    "import pandas as pd"
   ]
  },
  {
   "cell_type": "code",
   "execution_count": 2,
   "metadata": {},
   "outputs": [
    {
     "data": {
      "text/plain": [
       "((569, 30), (569,))"
      ]
     },
     "execution_count": 2,
     "metadata": {},
     "output_type": "execute_result"
    }
   ],
   "source": [
    "X, y = load_breast_cancer(return_X_y=True)\n",
    "X.shape, y.shape"
   ]
  },
  {
   "cell_type": "markdown",
   "metadata": {},
   "source": [
    "Note the above data $X$ is a multi-variate model because it has more than one columns (i.e. 30 columns)."
   ]
  },
  {
   "cell_type": "code",
   "execution_count": 43,
   "metadata": {},
   "outputs": [
    {
     "name": "stdout",
     "output_type": "stream",
     "text": [
      "0 0.9375165160403784\n",
      "1 0.7758244807356905\n",
      "2 0.9468976269753184\n",
      "3 0.9383158923946937\n",
      "4 0.7220416468474182\n",
      "5 0.8637823053749801\n",
      "6 0.9378270175994926\n",
      "7 0.9644376618571957\n",
      "8 0.6985624438454627\n",
      "9 0.5154656202103483\n",
      "10 0.8683341261032715\n",
      "11 0.5115942603456477\n",
      "12 0.8763939538079383\n",
      "13 0.9264111304899318\n",
      "14 0.5311624649859944\n",
      "15 0.7272805348554516\n",
      "16 0.7808189313461233\n",
      "17 0.7917921885735426\n",
      "18 0.5551107235346969\n",
      "19 0.6203028381163787\n",
      "20 0.9704428941387876\n",
      "21 0.7846308334654617\n",
      "22 0.9754505575815232\n",
      "23 0.9698284974367105\n",
      "24 0.7540563395169388\n",
      "25 0.8623024681570741\n",
      "26 0.9213638285502881\n",
      "27 0.9667036625971143\n",
      "28 0.736939115268749\n",
      "29 0.6859706146609588\n"
     ]
    }
   ],
   "source": [
    "for j in range(30):\n",
    "    if roc_auc_score(y, X[:,j]) < 0.5:\n",
    "        print(j, 1 - roc_auc_score(y, X[:,j]))\n",
    "    else:\n",
    "        print(j, roc_auc_score(y, X[:,j]))"
   ]
  },
  {
   "cell_type": "markdown",
   "metadata": {},
   "source": [
    "From the above results, we know the AUC values for each column individually. This means we know how important each column is at making predictions. We can make selections!"
   ]
  },
  {
   "cell_type": "markdown",
   "metadata": {},
   "source": [
    "#### Benchmark\n",
    "\n",
    "We use all variables."
   ]
  },
  {
   "cell_type": "code",
   "execution_count": 47,
   "metadata": {},
   "outputs": [],
   "source": [
    "clf = LogisticRegression(solver=\"liblinear\", random_state=0).fit(X, y)"
   ]
  },
  {
   "cell_type": "code",
   "execution_count": 48,
   "metadata": {},
   "outputs": [
    {
     "data": {
      "text/plain": [
       "0.9946488029173934"
      ]
     },
     "execution_count": 48,
     "metadata": {},
     "output_type": "execute_result"
    }
   ],
   "source": [
    "roc_auc_score(y, clf.predict_proba(X)[:, 1]) # training performance"
   ]
  },
  {
   "cell_type": "markdown",
   "metadata": {},
   "source": [
    "#### Proposed\n",
    "\n",
    "Since from before, we use AUC values to generate scores for each variable. Here the proposed model is to see if we can use much less variables to produce perhaps a similar result."
   ]
  },
  {
   "cell_type": "code",
   "execution_count": 37,
   "metadata": {},
   "outputs": [
    {
     "data": {
      "text/plain": [
       "array([[0.07871, 0.9053 ],\n",
       "       [0.05667, 0.7339 ],\n",
       "       [0.05999, 0.7869 ],\n",
       "       ...,\n",
       "       [0.05648, 1.075  ],\n",
       "       [0.07016, 1.595  ],\n",
       "       [0.05884, 1.428  ]])"
      ]
     },
     "execution_count": 37,
     "metadata": {},
     "output_type": "execute_result"
    }
   ],
   "source": [
    "X[:, [9, 11]]"
   ]
  },
  {
   "cell_type": "code",
   "execution_count": 51,
   "metadata": {},
   "outputs": [],
   "source": [
    "clf = LogisticRegression(solver=\"liblinear\", random_state=0).fit(X[:, [0, 2, 3, 6, 7, 13, 20]], y)"
   ]
  },
  {
   "cell_type": "code",
   "execution_count": 52,
   "metadata": {},
   "outputs": [
    {
     "data": {
      "text/plain": [
       "0.9888351567041911"
      ]
     },
     "execution_count": 52,
     "metadata": {},
     "output_type": "execute_result"
    }
   ],
   "source": [
    "roc_auc_score(y, clf.predict_proba(X[:, [0, 2, 3, 6, 7, 13, 20]])[:, 1]) # training performance"
   ]
  }
 ],
 "metadata": {
  "kernelspec": {
   "display_name": "Python 3",
   "language": "python",
   "name": "python3"
  },
  "language_info": {
   "codemirror_mode": {
    "name": "ipython",
    "version": 3
   },
   "file_extension": ".py",
   "mimetype": "text/x-python",
   "name": "python",
   "nbconvert_exporter": "python",
   "pygments_lexer": "ipython3",
   "version": "3.8.3"
  }
 },
 "nbformat": 4,
 "nbformat_minor": 4
}
