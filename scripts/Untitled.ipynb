{
 "cells": [
  {
   "cell_type": "code",
   "execution_count": 27,
   "metadata": {},
   "outputs": [
    {
     "name": "stdout",
     "output_type": "stream",
     "text": [
      "0 0 0\n",
      "1 1 1\n",
      "2 4 8\n",
      "3 9 27\n",
      "4 16 64\n",
      "5 25 125\n"
     ]
    }
   ],
   "source": [
    "for i in range(6):\n",
    "    print(i, i**2, i**3)"
   ]
  },
  {
   "cell_type": "code",
   "execution_count": 28,
   "metadata": {},
   "outputs": [
    {
     "name": "stdout",
     "output_type": "stream",
     "text": [
      "Give me a p! \n",
      "p\n",
      "Give me a y! \n",
      "y\n",
      "Give me a t! \n",
      "t\n",
      "Give me a h! \n",
      "h\n",
      "Give me a o! \n",
      "o\n",
      "Give me a n! \n",
      "n\n"
     ]
    }
   ],
   "source": [
    "word = 'python'\n",
    "splittedword = [char for char in word]\n",
    "for i in splittedword:\n",
    "    print('Give me a ' + i + '!', '\\n' + i)"
   ]
  },
  {
   "cell_type": "code",
   "execution_count": null,
   "metadata": {},
   "outputs": [],
   "source": []
  }
 ],
 "metadata": {
  "kernelspec": {
   "display_name": "Python 3",
   "language": "python",
   "name": "python3"
  }
 },
 "nbformat": 4,
 "nbformat_minor": 2
}
