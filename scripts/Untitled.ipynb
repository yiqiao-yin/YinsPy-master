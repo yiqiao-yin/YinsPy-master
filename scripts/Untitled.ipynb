{
 "cells": [
  {
   "cell_type": "code",
   "execution_count": 5,
   "metadata": {},
   "outputs": [],
   "source": [
    "from scipy.stats import bernoulli\n",
    "import numpy as np\n",
    "import matplotlib.pyplot as plt\n",
    "import pandas as pd\n",
    "import random"
   ]
  },
  {
   "cell_type": "code",
   "execution_count": 45,
   "metadata": {},
   "outputs": [
    {
     "name": "stdout",
     "output_type": "stream",
     "text": [
      "(1000, 10)\n",
      "   0  1  2  3  4  5  6  7  8  9\n",
      "0  0  1  1  0  0  0  1  1  0  1\n",
      "1  1  1  1  1  0  0  0  1  1  1\n",
      "0.515\n",
      "[0 0 1 1 0 1 0 1 0 1]\n",
      "0.511\n"
     ]
    }
   ],
   "source": [
    "n = 1000\n",
    "p = 10\n",
    "data_bern = bernoulli.rvs(size=n * p,p=0.5)\n",
    "\n",
    "X = pd.DataFrame(data_bern.reshape([n, p]), columns=np.arange(p).astype(str))\n",
    "print(X.shape)\n",
    "print(X.head(2))\n",
    "\n",
    "I = bernoulli.rvs(size=n, p=0.5)\n",
    "print(np.mean(I))\n",
    "y1 = np.mod(X.iloc[:, 1] + X.iloc[:, 2], 2)\n",
    "y2 = np.mod(X.iloc[:, 2] + X.iloc[:, 3] + X.iloc[:, 4], 2)\n",
    "y = np.where(I == 1, y1, y2)\n",
    "print(y[:10])\n",
    "print(np.mean(y))"
   ]
  },
  {
   "cell_type": "code",
   "execution_count": 46,
   "metadata": {},
   "outputs": [
    {
     "data": {
      "text/plain": [
       "<function __main__.InteractionBasedLearning.FSFE_InteractionLearning(newX, y, testSize=0.3, num_initial_draw=7, total_rounds=10, top_how_many=3, verbatim=True)>"
      ]
     },
     "execution_count": 46,
     "metadata": {},
     "output_type": "execute_result"
    }
   ],
   "source": [
    "%run \"../scripts/InteractionBasedLearning.py\"\n",
    "InteractionBasedLearning.FSFE_InteractionLearning"
   ]
  },
  {
   "cell_type": "code",
   "execution_count": 92,
   "metadata": {},
   "outputs": [],
   "source": [
    "X=X\n",
    "y=y\n",
    "num_initial_draw = 8"
   ]
  },
  {
   "cell_type": "code",
   "execution_count": 94,
   "metadata": {},
   "outputs": [
    {
     "data": {
      "text/html": [
       "<div>\n",
       "<style scoped>\n",
       "    .dataframe tbody tr th:only-of-type {\n",
       "        vertical-align: middle;\n",
       "    }\n",
       "\n",
       "    .dataframe tbody tr th {\n",
       "        vertical-align: top;\n",
       "    }\n",
       "\n",
       "    .dataframe thead th {\n",
       "        text-align: right;\n",
       "    }\n",
       "</style>\n",
       "<table border=\"1\" class=\"dataframe\">\n",
       "  <thead>\n",
       "    <tr style=\"text-align: right;\">\n",
       "      <th></th>\n",
       "      <th>2</th>\n",
       "      <th>1</th>\n",
       "      <th>0</th>\n",
       "      <th>3</th>\n",
       "      <th>4</th>\n",
       "      <th>7</th>\n",
       "      <th>5</th>\n",
       "      <th>6</th>\n",
       "    </tr>\n",
       "  </thead>\n",
       "  <tbody>\n",
       "    <tr>\n",
       "      <th>0</th>\n",
       "      <td>1</td>\n",
       "      <td>1</td>\n",
       "      <td>0</td>\n",
       "      <td>0</td>\n",
       "      <td>0</td>\n",
       "      <td>1</td>\n",
       "      <td>0</td>\n",
       "      <td>1</td>\n",
       "    </tr>\n",
       "    <tr>\n",
       "      <th>1</th>\n",
       "      <td>1</td>\n",
       "      <td>1</td>\n",
       "      <td>1</td>\n",
       "      <td>1</td>\n",
       "      <td>0</td>\n",
       "      <td>1</td>\n",
       "      <td>0</td>\n",
       "      <td>0</td>\n",
       "    </tr>\n",
       "  </tbody>\n",
       "</table>\n",
       "</div>"
      ],
      "text/plain": [
       "   2  1  0  3  4  7  5  6\n",
       "0  1  1  0  0  0  1  0  1\n",
       "1  1  1  1  1  0  1  0  0"
      ]
     },
     "execution_count": 94,
     "metadata": {},
     "output_type": "execute_result"
    }
   ],
   "source": [
    "newX = X.iloc[:, random.sample(range(X.shape[1]), num_initial_draw)]\n",
    "newX.head(2)"
   ]
  },
  {
   "cell_type": "code",
   "execution_count": null,
   "metadata": {},
   "outputs": [],
   "source": [
    "x = X\n",
    "y = y\n",
    "k = 8\n",
    "\n",
    "# Backward Dropping Algorithm\n",
    "scorePath = []\n",
    "idxPath = []\n",
    "oneDraw = random.sample(x.shape[1], k)\n",
    "oneDrawEach = oneDraw\n",
    "leftVar = []\n",
    "storage = []\n",
    "\n",
    "# Start\n",
    "i = 1\n",
    "newX = x.iloc[:, oneDraw]\n",
    "storage[[i]] <- []\n",
    "while i < k:\n",
    "    scorePathWithin <- []\n",
    "    scorePath.append(InteractionBasedLearning.iscore(\n",
    "                    X=newX.iloc[:, :], y=y)['Influence Score'])\n",
    "    scorePathWithin.\n",
    "    scorePathWithin <- sapply(\n",
    "      1:ncol(newX),\n",
    "      function(j) {scorePathWithin <- c(scorePathWithin, YinsLibrary::ISCORE(initial.set = newX[, -j], y = y))})\n",
    "    idxToDrop <- which.max(scorePathWithin)\n",
    "    oneDrawEach <- oneDrawEach[-idxToDrop]\n",
    "    leftVar <- c(leftVar, as.character(oneDrawEach[idxToDrop]))\n",
    "    newX <- newX[, -idxToDrop]\n",
    "    storage[[i+1]] <- list(idxToDrop, oneDrawEach)\n",
    "    i <- i + 1\n",
    "oneDrawEach <- oneDrawEach[-idxToDrop]\n",
    "scorePath <- c(scorePath, YinsLibrary::ISCORE( initial.set = newX, y = y ))"
   ]
  }
 ],
 "metadata": {
  "kernelspec": {
   "display_name": "Python 3",
   "language": "python",
   "name": "python3"
  },
  "language_info": {
   "codemirror_mode": {
    "name": "ipython",
    "version": 3
   },
   "file_extension": ".py",
   "mimetype": "text/x-python",
   "name": "python",
   "nbconvert_exporter": "python",
   "pygments_lexer": "ipython3",
   "version": "3.6.5"
  }
 },
 "nbformat": 4,
 "nbformat_minor": 2
}
