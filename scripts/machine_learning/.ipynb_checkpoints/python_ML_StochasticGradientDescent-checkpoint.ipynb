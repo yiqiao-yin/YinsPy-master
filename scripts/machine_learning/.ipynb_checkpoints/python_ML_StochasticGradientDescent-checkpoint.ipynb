{
 "cells": [
  {
   "cell_type": "markdown",
   "metadata": {},
   "source": [
    "# MACHINE LEARNING: STOCHASTIC GRADIENT DESCENT\n",
    "\n",
    "This notebook we are going to discuss stochastic gradient descent from scratch. We are doing to \n",
    "\n",
    "- build toy data\n",
    "- walk though theory \n",
    "- build SGD algorithm"
   ]
  },
  {
   "cell_type": "markdown",
   "metadata": {},
   "source": [
    "## Toy Data"
   ]
  },
  {
   "cell_type": "code",
   "execution_count": 1,
   "metadata": {},
   "outputs": [],
   "source": [
    "import numpy as np"
   ]
  },
  {
   "cell_type": "code",
   "execution_count": 2,
   "metadata": {},
   "outputs": [],
   "source": [
    "X = 2 * np.random.rand(100, 1)"
   ]
  },
  {
   "cell_type": "code",
   "execution_count": 4,
   "metadata": {},
   "outputs": [],
   "source": [
    "theta1 = 2\n",
    "theta2 = 3\n",
    "noise = np.random.randn(100, 1)\n",
    "y = theta1 + theta2 * X + noise"
   ]
  },
  {
   "cell_type": "code",
   "execution_count": 5,
   "metadata": {},
   "outputs": [],
   "source": [
    "X_b = np.c_[np.ones((100, 1)), X]"
   ]
  },
  {
   "cell_type": "code",
   "execution_count": 6,
   "metadata": {},
   "outputs": [],
   "source": [
    "X_new = np.array([[0], [2]])\n",
    "X_new_b = np.c_[np.ones((2, 1)), X_new]"
   ]
  },
  {
   "cell_type": "markdown",
   "metadata": {},
   "source": [
    "## Math\n",
    "\n",
    "From above data, we define loss function using MSE:\n",
    "$$\\text{MSE} = \\frac{1}{m} \\sum_{i=1}^m (\\hat{y}_i - y)^2$$\n",
    "\n",
    "To conduct gradient descent, we compute gradient of MSE\n",
    "$$\\nabla \\text{MSE} = \\frac{\\partial}{\\partial \\theta} = \\frac{2}{m} \\sum_{i=1}^m (\\theta \\cdot X - y) X$$\n",
    "\n",
    "and hence we have the algorithm. For each iteration, update weight parameter $\\theta$ by\n",
    "$$\\theta = \\theta_{\\text{old} - \\eta \\cdot \\nabla \\text{MSE}$$\n",
    "while $\\eta > 0$ is a learning rate and $m$ is the sample size."
   ]
  },
  {
   "cell_type": "markdown",
   "metadata": {},
   "source": [
    "## SGD Algorithms"
   ]
  },
  {
   "cell_type": "code",
   "execution_count": 151,
   "metadata": {},
   "outputs": [],
   "source": [
    "n_epochs = 20\n",
    "t0, t1 = 10, 20"
   ]
  },
  {
   "cell_type": "code",
   "execution_count": 152,
   "metadata": {},
   "outputs": [],
   "source": [
    "def learning_rate(t):\n",
    "    return t0/(t + t1)"
   ]
  },
  {
   "cell_type": "code",
   "execution_count": 153,
   "metadata": {},
   "outputs": [],
   "source": [
    "theta = np.random.randn(2,1)"
   ]
  },
  {
   "cell_type": "code",
   "execution_count": 154,
   "metadata": {},
   "outputs": [],
   "source": [
    "for epoch in range(n_epochs):\n",
    "    for i in range(m):\n",
    "        random_index = np.random.randint(m)\n",
    "        xi = X_b[random_index:random_index+1]\n",
    "        yi = y[random_index:random_index+1]\n",
    "        gradients = 2 * xi.T.dot(xi.dot(theta) - yi)\n",
    "        eta = learning_rate(epoch*m+i)\n",
    "        theta = theta - eta*gradients\n",
    "        # print(\"................ theta1 loss:\", np.round(gradients[0], 2), \"... theta2 loss:\", np.round(gradients[1], 2))"
   ]
  },
  {
   "cell_type": "code",
   "execution_count": 155,
   "metadata": {},
   "outputs": [
    {
     "data": {
      "text/plain": [
       "array([[2.06101575],\n",
       "       [3.07690324]])"
      ]
     },
     "execution_count": 155,
     "metadata": {},
     "output_type": "execute_result"
    }
   ],
   "source": [
    "theta"
   ]
  },
  {
   "cell_type": "markdown",
   "metadata": {},
   "source": [
    "Investigation ends here."
   ]
  }
 ],
 "metadata": {
  "kernelspec": {
   "display_name": "Python 3",
   "language": "python",
   "name": "python3"
  },
  "language_info": {
   "codemirror_mode": {
    "name": "ipython",
    "version": 3
   },
   "file_extension": ".py",
   "mimetype": "text/x-python",
   "name": "python",
   "nbconvert_exporter": "python",
   "pygments_lexer": "ipython3",
   "version": "3.7.4"
  }
 },
 "nbformat": 4,
 "nbformat_minor": 4
}
