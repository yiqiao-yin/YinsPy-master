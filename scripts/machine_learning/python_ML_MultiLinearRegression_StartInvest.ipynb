{
 "cells": [
  {
   "cell_type": "markdown",
   "metadata": {},
   "source": [
    "# Machine Learning Multivariate Regression Analysis: Startup Investor Data Set\n",
    "\n",
    "The most basic building block in machine learning is regression analysis. This notebook I discuss, with python demonstration, the procedure to carry out a machine learning project using regression analysis. I use Housing Price as an example and data set can be downloaded from [here](https://github.com/PacktPublishing/Hands-on-Python-for-Finance/tree/master/Chapter%207).\n",
    "\n",
    "There are the following steps\n",
    "- $\\textbf{Environment Initiation}$. We first start by importing the packages we need for this project. Then we get data that is already saved in the data folder. Next we set up a model we want to study and we pull the variables from the data we uploaded.\n",
    "- $\\textbf{Machine Learning: Linear Regression}$. Regression analysis plays important role in finance and machine learning. Regression models (both linear and non-linear) are used to predict real values, ex. housing prices, salaries, or stock returns. I am going to discuss the fundamentals of simple regression analysis and we are going to use *sklearn* package to train a regression model in python notebook. Then I discuss the interpretations behind the coefficient and intercept term obtained from regression analysis and how these concepts apply in real life. \n",
    "- $\\textbf{Machine Learning: Training and Testing}$. It is essential to understand the difference of the performance of machine on existing data and the performance of machine on potential future data. To carry out an unbiased and impartial learning process, it is important to separate training data and testing data so that the observations do not repeat and the performance is robust, consistent, and honest.\n",
    "- $\\textbf{Software Development / Product Management}$. Every data science project has two phases. Phase I is about end-to-end research and select the most optimal machine learning procedure. Phase II is about delivering a software product to consumer and clients so that the python codes can be called and there is no need to redo everything that has already been done."
   ]
  },
  {
   "cell_type": "markdown",
   "metadata": {},
   "source": [
    "## Environment Initiation\n",
    "\n",
    "Let us start by initiating packages."
   ]
  },
  {
   "cell_type": "code",
   "execution_count": 1,
   "metadata": {},
   "outputs": [],
   "source": [
    "import numpy as np\n",
    "import matplotlib.pyplot as plt\n",
    "import pandas as pd"
   ]
  },
  {
   "cell_type": "code",
   "execution_count": 2,
   "metadata": {},
   "outputs": [],
   "source": [
    "data = pd.read_csv('~/OneDrive/Documents/YinsPy/data/startups_Invest.csv')"
   ]
  },
  {
   "cell_type": "code",
   "execution_count": 3,
   "metadata": {},
   "outputs": [
    {
     "name": "stdout",
     "output_type": "stream",
     "text": [
      "   R&D Spend  Administration  Marketing Spend       State     Profit\n",
      "0  165349.20       136897.80        471784.10    New York  192261.83\n",
      "1  162597.70       151377.59        443898.53  California  191792.06\n",
      "2  153441.51       101145.55        407934.54     Florida  191050.39\n"
     ]
    }
   ],
   "source": [
    "print(data.head(3))"
   ]
  },
  {
   "cell_type": "code",
   "execution_count": 4,
   "metadata": {},
   "outputs": [
    {
     "name": "stdout",
     "output_type": "stream",
     "text": [
      "    R&D Spend  Administration  Marketing Spend       State\n",
      "0   165349.20       136897.80        471784.10    New York\n",
      "1   162597.70       151377.59        443898.53  California\n",
      "2   153441.51       101145.55        407934.54     Florida\n",
      "3   144372.41       118671.85        383199.62    New York\n",
      "4   142107.34        91391.77        366168.42     Florida\n",
      "5   131876.90        99814.71        362861.36    New York\n",
      "6   134615.46       147198.87        127716.82  California\n",
      "7   130298.13       145530.06        323876.68     Florida\n",
      "8   120542.52       148718.95        311613.29    New York\n",
      "9   123334.88       108679.17        304981.62  California\n",
      "10  101913.08       110594.11        229160.95     Florida\n",
      "11  100671.96        91790.61        249744.55  California\n",
      "12   93863.75       127320.38        249839.44     Florida\n",
      "13   91992.39       135495.07        252664.93  California\n",
      "14  119943.24       156547.42        256512.92     Florida\n",
      "15  114523.61       122616.84        261776.23    New York\n",
      "16   78013.11       121597.55        264346.06  California\n",
      "17   94657.16       145077.58        282574.31    New York\n",
      "18   91749.16       114175.79        294919.57     Florida\n",
      "19   86419.70       153514.11             0.00    New York\n",
      "20   76253.86       113867.30        298664.47  California\n",
      "21   78389.47       153773.43        299737.29    New York\n",
      "22   73994.56       122782.75        303319.26     Florida\n",
      "23   67532.53       105751.03        304768.73     Florida\n",
      "24   77044.01        99281.34        140574.81    New York\n",
      "25   64664.71       139553.16        137962.62  California\n",
      "26   75328.87       144135.98        134050.07     Florida\n",
      "27   72107.60       127864.55        353183.81    New York\n",
      "28   66051.52       182645.56        118148.20     Florida\n",
      "29   65605.48       153032.06        107138.38    New York\n",
      "30   61994.48       115641.28         91131.24     Florida\n",
      "31   61136.38       152701.92         88218.23    New York\n",
      "32   63408.86       129219.61         46085.25  California\n",
      "33   55493.95       103057.49        214634.81     Florida\n",
      "34   46426.07       157693.92        210797.67  California\n",
      "35   46014.02        85047.44        205517.64    New York\n",
      "36   28663.76       127056.21        201126.82     Florida\n",
      "37   44069.95        51283.14        197029.42  California\n",
      "38   20229.59        65947.93        185265.10    New York\n",
      "39   38558.51        82982.09        174999.30  California\n",
      "40   28754.33       118546.05        172795.67  California\n",
      "41   27892.92        84710.77        164470.71     Florida\n",
      "42   23640.93        96189.63        148001.11  California\n",
      "43   15505.73       127382.30         35534.17    New York\n",
      "44   22177.74       154806.14         28334.72  California\n",
      "45    1000.23       124153.04          1903.93    New York\n",
      "46    1315.46       115816.21        297114.46     Florida\n",
      "47       0.00       135426.92             0.00  California\n",
      "48     542.05        51743.15             0.00    New York\n",
      "49       0.00       116983.80         45173.06  California\n"
     ]
    }
   ],
   "source": [
    "print(data.iloc[:, :-1])"
   ]
  },
  {
   "cell_type": "code",
   "execution_count": 5,
   "metadata": {},
   "outputs": [
    {
     "name": "stdout",
     "output_type": "stream",
     "text": [
      "(50, 4) (50,)\n"
     ]
    }
   ],
   "source": [
    "X = data.iloc[:, :-1]\n",
    "Y = data.iloc[:, 4]\n",
    "print(X.shape, Y.shape)"
   ]
  },
  {
   "cell_type": "markdown",
   "metadata": {},
   "source": [
    "Notice that we have the column 'State' to be strings and there are different levels for this variable. We need to process this data into a format that the python can read. I use *.get_dummies* to achieve this task."
   ]
  },
  {
   "cell_type": "code",
   "execution_count": 6,
   "metadata": {},
   "outputs": [
    {
     "data": {
      "text/html": [
       "<div>\n",
       "<style scoped>\n",
       "    .dataframe tbody tr th:only-of-type {\n",
       "        vertical-align: middle;\n",
       "    }\n",
       "\n",
       "    .dataframe tbody tr th {\n",
       "        vertical-align: top;\n",
       "    }\n",
       "\n",
       "    .dataframe thead th {\n",
       "        text-align: right;\n",
       "    }\n",
       "</style>\n",
       "<table border=\"1\" class=\"dataframe\">\n",
       "  <thead>\n",
       "    <tr style=\"text-align: right;\">\n",
       "      <th></th>\n",
       "      <th>Florida</th>\n",
       "      <th>New York</th>\n",
       "    </tr>\n",
       "  </thead>\n",
       "  <tbody>\n",
       "    <tr>\n",
       "      <th>0</th>\n",
       "      <td>0</td>\n",
       "      <td>1</td>\n",
       "    </tr>\n",
       "    <tr>\n",
       "      <th>1</th>\n",
       "      <td>0</td>\n",
       "      <td>0</td>\n",
       "    </tr>\n",
       "    <tr>\n",
       "      <th>2</th>\n",
       "      <td>1</td>\n",
       "      <td>0</td>\n",
       "    </tr>\n",
       "  </tbody>\n",
       "</table>\n",
       "</div>"
      ],
      "text/plain": [
       "   Florida  New York\n",
       "0        0         1\n",
       "1        0         0\n",
       "2        1         0"
      ]
     },
     "execution_count": 6,
     "metadata": {},
     "output_type": "execute_result"
    }
   ],
   "source": [
    "State = pd.get_dummies(X.iloc[:, 3], drop_first=True)\n",
    "State.head(3)"
   ]
  },
  {
   "cell_type": "markdown",
   "metadata": {},
   "source": [
    "The code above allows us to take all the states and convert them into dummy variables. For example, instance 0 (the first row) says it is not Florida and it is New York which gives us the power of interpretability in our data set.\n",
    "\n",
    "Now what we need is to replace the original 'State' variable with out newly defined dummy variables"
   ]
  },
  {
   "cell_type": "code",
   "execution_count": 7,
   "metadata": {},
   "outputs": [
    {
     "data": {
      "text/html": [
       "<div>\n",
       "<style scoped>\n",
       "    .dataframe tbody tr th:only-of-type {\n",
       "        vertical-align: middle;\n",
       "    }\n",
       "\n",
       "    .dataframe tbody tr th {\n",
       "        vertical-align: top;\n",
       "    }\n",
       "\n",
       "    .dataframe thead th {\n",
       "        text-align: right;\n",
       "    }\n",
       "</style>\n",
       "<table border=\"1\" class=\"dataframe\">\n",
       "  <thead>\n",
       "    <tr style=\"text-align: right;\">\n",
       "      <th></th>\n",
       "      <th>R&amp;D Spend</th>\n",
       "      <th>Administration</th>\n",
       "      <th>Marketing Spend</th>\n",
       "      <th>Florida</th>\n",
       "      <th>New York</th>\n",
       "    </tr>\n",
       "  </thead>\n",
       "  <tbody>\n",
       "    <tr>\n",
       "      <th>0</th>\n",
       "      <td>165349.20</td>\n",
       "      <td>136897.80</td>\n",
       "      <td>471784.10</td>\n",
       "      <td>0</td>\n",
       "      <td>1</td>\n",
       "    </tr>\n",
       "    <tr>\n",
       "      <th>1</th>\n",
       "      <td>162597.70</td>\n",
       "      <td>151377.59</td>\n",
       "      <td>443898.53</td>\n",
       "      <td>0</td>\n",
       "      <td>0</td>\n",
       "    </tr>\n",
       "    <tr>\n",
       "      <th>2</th>\n",
       "      <td>153441.51</td>\n",
       "      <td>101145.55</td>\n",
       "      <td>407934.54</td>\n",
       "      <td>1</td>\n",
       "      <td>0</td>\n",
       "    </tr>\n",
       "  </tbody>\n",
       "</table>\n",
       "</div>"
      ],
      "text/plain": [
       "   R&D Spend  Administration  Marketing Spend  Florida  New York\n",
       "0  165349.20       136897.80        471784.10        0         1\n",
       "1  162597.70       151377.59        443898.53        0         0\n",
       "2  153441.51       101145.55        407934.54        1         0"
      ]
     },
     "execution_count": 7,
     "metadata": {},
     "output_type": "execute_result"
    }
   ],
   "source": [
    "X.drop('State', axis=1, inplace=True)\n",
    "X.head(3)\n",
    "X = pd.concat([X, State], axis=1)\n",
    "X.head(3)"
   ]
  },
  {
   "cell_type": "markdown",
   "metadata": {},
   "source": [
    "From above code, we have a data set that we want. All the information is preserved and we have all the input to be in format that machine can interpret. "
   ]
  },
  {
   "cell_type": "markdown",
   "metadata": {},
   "source": [
    "## Machine Learning: Linear Regression\n",
    "\n",
    "Now we have dependent variable $Y$ and independent variable $X$. We want to start machine learning. This means we want to train a machine to learn from $X$ and to predict $Y$. In this case, the machine will form some rules $f()$ that we can use. It is written in $f()$ form because it is essentially a map that let us draw inference about $Y$ from $X$. Hence, in mathematical form\n",
    "$$\\hat{Y} := f(X)$$\n",
    "and this $\\hat{Y}$ is estimated value of $Y$.\n",
    "\n",
    "Notice that in our case the machine is chosen to be linear regression and we can carry out standard linear regression analysis based on the machine we train. \n",
    "\n",
    "Also note that this is a machine learning project. We need to separate training set and testing set. This purpose is we want to be impartial and honest about the performance of the linear model on this data set. We separate data into training and testing randomly so that we can construct an environment as if there is new data set arriving for future reference."
   ]
  },
  {
   "cell_type": "code",
   "execution_count": 8,
   "metadata": {},
   "outputs": [
    {
     "name": "stdout",
     "output_type": "stream",
     "text": [
      "(35, 5) (35,)\n",
      "(15, 5) (15,)\n"
     ]
    }
   ],
   "source": [
    "from sklearn.model_selection import train_test_split\n",
    "X_train, X_test, y_train, y_test = train_test_split(X, Y, test_size=0.3, random_state=0)\n",
    "print(X_train.shape, y_train.shape)\n",
    "print(X_test.shape, y_test.shape)"
   ]
  },
  {
   "cell_type": "code",
   "execution_count": 9,
   "metadata": {},
   "outputs": [
    {
     "data": {
      "text/plain": [
       "LinearRegression(copy_X=True, fit_intercept=True, n_jobs=None, normalize=False)"
      ]
     },
     "execution_count": 9,
     "metadata": {},
     "output_type": "execute_result"
    }
   ],
   "source": [
    "from sklearn.linear_model import LinearRegression\n",
    "lm = LinearRegression()\n",
    "lm.fit(X_train, y_train)"
   ]
  },
  {
   "cell_type": "code",
   "execution_count": 10,
   "metadata": {},
   "outputs": [
    {
     "name": "stdout",
     "output_type": "stream",
     "text": [
      "[7.90840255e-01 3.01968165e-02 3.10148566e-02 4.63028992e+02\n",
      " 3.04799573e+02] 42403.87087052793\n"
     ]
    }
   ],
   "source": [
    "print(lm.coef_, lm.intercept_)"
   ]
  },
  {
   "cell_type": "markdown",
   "metadata": {},
   "source": [
    "We can make the following interpretation:\n",
    "- The sets of coefficients $[7.91, 3.02, 3.10, 4.63, 3.04]$ tells us, respectively, when each of the unit of each of the variables changes what is the change on dependent variable, e.g. investment profits.\n",
    "- The intercept $\\$42$k is the constant term at a cirmcumstan where all the variables to be zero. This in real world would not mean much but we can still guess that perhaps that is the bar for this industry or business activities. Once you are in the game the investment profit is going to be, based on data, at least $\\$42$k on average."
   ]
  },
  {
   "cell_type": "markdown",
   "metadata": {},
   "source": [
    "## Machine Learning: Training Evaluation\n",
    "\n",
    "We have our model trained. How well does it do on existing data? Let us introduce a metric called Root Mean Square Error (RMSE). It is a metric that measure on average how far away it is from real House Price and predicted House Price. The mathematical form is\n",
    "$$RMSE := \\frac{1}{n} \\sum (\\hat{Y} - Y)^2$$\n",
    "and $\\hat{Y}$ is the estimated House Price while $Y$ is the real House Price and $n$ is the sample size used for this particular experiment (in this case it is training sample size and later on we are going to use testing sample size)."
   ]
  },
  {
   "cell_type": "code",
   "execution_count": 11,
   "metadata": {},
   "outputs": [
    {
     "name": "stdout",
     "output_type": "stream",
     "text": [
      "Training Set RMSE is 9466.997852929857\n"
     ]
    }
   ],
   "source": [
    "y_train_pred = lm.predict(X_train)\n",
    "RMSE_train = (((y_train_pred - y_train)**2).mean())**(0.5)\n",
    "print('Training Set RMSE is', RMSE_train)"
   ]
  },
  {
   "cell_type": "code",
   "execution_count": 12,
   "metadata": {},
   "outputs": [
    {
     "data": {
      "image/png": "[encoded data removed]",
      "text/plain": [
       "<Figure size 432x288 with 1 Axes>"
      ]
     },
     "metadata": {
      "needs_background": "light"
     },
     "output_type": "display_data"
    }
   ],
   "source": [
    "plt.scatter(y_train, y_train_pred)\n",
    "plt.xlabel('Real Y')\n",
    "plt.ylabel('Estimated Y')\n",
    "plt.title('Training Set: (' + str(X_train.shape[0]) + ' samples); \\nPerformance: RMSE = ' + str(RMSE_train))\n",
    "plt.show()"
   ]
  },
  {
   "cell_type": "markdown",
   "metadata": {},
   "source": [
    "We can see that the RMSE is about $\\$9$k and this means that this machine makes guesses based on linear regression model and the predictions are on average +/- $\\$9$k away from real values."
   ]
  },
  {
   "cell_type": "markdown",
   "metadata": {},
   "source": [
    "## Machine Learning: Prediction\n",
    "\n",
    "Once we have a trained model from above codes we can move forward to the next step which is prediction. If we have future observations that we like to look at, we can simply pull out the House Size in sq. ft. and use our model to predict what these houses ought to be priced at."
   ]
  },
  {
   "cell_type": "code",
   "execution_count": 13,
   "metadata": {},
   "outputs": [
    {
     "name": "stdout",
     "output_type": "stream",
     "text": [
      "Testing Set RMSE is 7867.8551335413895\n"
     ]
    }
   ],
   "source": [
    "y_pred = lm.predict(X_test)\n",
    "RMSE_test = (((y_pred - y_test)**2).mean())**(0.5)\n",
    "print('Testing Set RMSE is', RMSE_test)"
   ]
  },
  {
   "cell_type": "code",
   "execution_count": 14,
   "metadata": {},
   "outputs": [
    {
     "data": {
      "image/png": "[encoded data removed]",
      "text/plain": [
       "<Figure size 432x288 with 1 Axes>"
      ]
     },
     "metadata": {
      "needs_background": "light"
     },
     "output_type": "display_data"
    }
   ],
   "source": [
    "plt.scatter(y_train, y_train_pred)\n",
    "plt.xlabel('Real Y')\n",
    "plt.ylabel('Estimated Y')\n",
    "plt.title('Testing Set: (' + str(X_test.shape[0]) + ' samples); \\nPerformance: RMSE = ' + str(RMSE_test))\n",
    "plt.show()"
   ]
  },
  {
   "cell_type": "markdown",
   "metadata": {},
   "source": [
    "## Software Development / Product Management\n",
    "\n",
    "From about analysis, we have established a list of steps we execute to carry out a simple linear regression analysis. Each step is clear written and can be examined for reference. \n",
    "\n",
    "Now it is time to pack everything together into a function so that the above analysis can be summarized into a word and can be pulled for future usage without having to code everything again. Once this software is developed we can get the product shipped to employers or clients and we will be starting negotiation as well as software maintainance (which is crucial for product management)"
   ]
  },
  {
   "cell_type": "code",
   "execution_count": 15,
   "metadata": {},
   "outputs": [],
   "source": [
    "# Define function\n",
    "def ML_MultiLinearRegression(X, Y, test_set_size):\n",
    "    # Environment Initiation\n",
    "    import numpy as np\n",
    "    import pandas as pd\n",
    "    from scipy import stats\n",
    "    import statsmodels.api as sm\n",
    "    import matplotlib.pyplot as plt\n",
    "\n",
    "    # ML: Setup\n",
    "    from sklearn.model_selection import train_test_split\n",
    "    X_train, X_test, y_train, y_test = train_test_split(X, Y, test_size=0.3, random_state=0)\n",
    "    \n",
    "    # ML: Multivariate Linear Regression\n",
    "    from sklearn.linear_model import LinearRegression\n",
    "    lm = LinearRegression()\n",
    "    lm.fit(X_train, y_train)\n",
    "    \n",
    "    # ML: Training Performance\n",
    "    y_train_pred = lm.predict(X_train)\n",
    "    RMSE_train = (((y_train_pred - y_train)**2).mean())**(0.5)\n",
    "    plt.scatter(y_train, y_train_pred)\n",
    "    plt.xlabel('Real Y')\n",
    "    plt.ylabel('Estimated Y')\n",
    "    plt.title('Training Set: (' + str(X_train.shape[0]) + ' samples); \\nPerformance: RMSE = ' + str(RMSE_train))\n",
    "    plt.show()\n",
    "    \n",
    "    # ML: Testing Performance\n",
    "    y_pred = lm.predict(X_test)\n",
    "    RMSE_test = (((y_pred - y_test)**2).mean())**(0.5)\n",
    "    plt.scatter(y_train, y_train_pred)\n",
    "    plt.xlabel('Real Y')\n",
    "    plt.ylabel('Estimated Y')\n",
    "    plt.title('Testing Set: (' + str(X_test.shape[0]) + ' samples); \\nPerformance: RMSE = ' + str(RMSE_test))\n",
    "    plt.show()\n",
    "    \n",
    "    # Output\n",
    "    return {\n",
    "        'Data': {\n",
    "            'X_train': X_train,\n",
    "            'X_test': X_test,\n",
    "            'y_train': y_train,\n",
    "            'y_test': y_test\n",
    "        },\n",
    "        'Linear Regression Results': [lm.coef_, lm.intercept_],\n",
    "        'y_train_pred': y_train_pred,\n",
    "        'y_test_pred': y_test,\n",
    "        'Training RMSE': RMSE_train,\n",
    "        'Testing RMSE': RMSE_test\n",
    "    }\n",
    "# End of function"
   ]
  },
  {
   "cell_type": "markdown",
   "metadata": {},
   "source": [
    "The above lines of code finish up the function and let me run it!"
   ]
  },
  {
   "cell_type": "code",
   "execution_count": 16,
   "metadata": {},
   "outputs": [
    {
     "data": {
      "image/png": "[encoded data removed]",
      "text/plain": [
       "<Figure size 432x288 with 1 Axes>"
      ]
     },
     "metadata": {
      "needs_background": "light"
     },
     "output_type": "display_data"
    },
    {
     "data": {
      "image/png": "[encoded data removed]",
      "text/plain": [
       "<Figure size 432x288 with 1 Axes>"
      ]
     },
     "metadata": {
      "needs_background": "light"
     },
     "output_type": "display_data"
    },
    {
     "name": "stdout",
     "output_type": "stream",
     "text": [
      "Test Set Performance:  7867.8551335413895\n"
     ]
    },
    {
     "data": {
      "image/png": "[encoded data removed]",
      "text/plain": [
       "<Figure size 432x288 with 1 Axes>"
      ]
     },
     "metadata": {
      "needs_background": "light"
     },
     "output_type": "display_data"
    },
    {
     "data": {
      "image/png": "[encoded data removed]",
      "text/plain": [
       "<Figure size 432x288 with 1 Axes>"
      ]
     },
     "metadata": {
      "needs_background": "light"
     },
     "output_type": "display_data"
    },
    {
     "name": "stdout",
     "output_type": "stream",
     "text": [
      "Test Set Performance:  7866.112393258023\n"
     ]
    }
   ],
   "source": [
    "# Data\n",
    "data = pd.read_csv('~/OneDrive/Documents/YinsPy/data/startups_Invest.csv')\n",
    "X = data.iloc[:, :-1]\n",
    "Y = data.iloc[:, 4]\n",
    "\n",
    "# Data Cleanup\n",
    "State = pd.get_dummies(X.iloc[:, 3], drop_first=True)\n",
    "State.head(3)\n",
    "X.drop('State', axis=1, inplace=True)\n",
    "X.head(3)\n",
    "X = pd.concat([X, State], axis=1)\n",
    "X.head(3)\n",
    "\n",
    "# Run\n",
    "testresult = ML_MultiLinearRegression(X, Y, 0.5)\n",
    "print('Test Set Performance: ', testresult['Testing RMSE'])\n",
    "testresult = ML_MultiLinearRegression(X + X**0.5, Y, 0.5)\n",
    "print('Test Set Performance: ', testresult['Testing RMSE'])"
   ]
  },
  {
   "cell_type": "code",
   "execution_count": null,
   "metadata": {},
   "outputs": [],
   "source": []
  }
 ],
 "metadata": {
  "kernelspec": {
   "display_name": "Python 3",
   "language": "python",
   "name": "python3"
  },
  "language_info": {
   "codemirror_mode": {
    "name": "ipython",
    "version": 3
   },
   "file_extension": ".py",
   "mimetype": "text/x-python",
   "name": "python",
   "nbconvert_exporter": "python",
   "pygments_lexer": "ipython3",
   "version": "3.7.4"
  }
 },
 "nbformat": 4,
 "nbformat_minor": 2
}
