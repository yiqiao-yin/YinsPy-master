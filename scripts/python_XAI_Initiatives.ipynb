{
 "cells": [
  {
   "cell_type": "markdown",
   "metadata": {},
   "source": [
    "# YIN'S CAPITAL: X.A.I. INITIATIVE\n",
    "\n",
    "A field of artificial intelligence initiated by DARPA is called Explainable Artificial Intelligence (XAI). According to their [site](https://www.darpa.mil/program/explainable-artificial-intelligence), dramatic success in machine learning has led to a torrent of Artificial Intelligence (AI) applications. Continued advances promise to produce autonomous systems that will perceive, learn, decide, and act on their own. However, the effectiveness of these systems is limited by the machine’s current inability to explain their decisions and actions to human users.\n",
    "\n",
    "The Explainable AI (XAI) Initiative aims to create a suite of machine learning techniques that:\n",
    "\n",
    "- Produce more explainable models, while maintaining a high level of learning performance (prediction accuracy); and \n",
    "\n",
    "- Enable human users to understand, appropriately trust, and effectively manage the emerging generation of artificially intelligent partners.\n",
    "\n",
    "This notebook Yin's Capital takes the first step in our R&D process to move along this direction. We start with grid data type. This means the following: \n",
    "\n",
    "- in the case that the number of variables in the data frame can be broken down to multiplication of two digits, we simply use these two digits to create grid structure, i.e. if number of variable is 100, each observation we create a grid structure of 10 by 10 (sometimes can be more if including permutation)\n",
    "\n",
    "- in the case that the number of variables in the data frame cannot be broken down to multiplication of two digits (other than one and itself), we add in zero vectors to form a grid structure, i.e. if number of variable is 101, each observation we add 19 zero vectors so the total number of variable is 120 and this can broken into 10 by 12 of grid structure.\n",
    "\n",
    "This generalized way of thinking can allow us to process all data frame in grid structures. What is left is to construct machines to learn from the data to extract predictable patterns. This relies heavily on fruitful amount of sample size and successful feature capturing technology.\n",
    "\n",
    "In the essence of all these machine learning steps described above, traditional methods consist of creating convolutional layers from original data frame and rely on backpropagation to update the belief of classifiers hoping to deliver high performance. While functional performance has been seen, it still lacks the capability to explain which part of the data helps the prediction performance. Convolutional operation requires a filter to be applied on **each part** of the grid structure. If a grid structure has size 10 by 10 and the filter has size 2 by 2, convolutional operation will create 9 by 9 output features. We have no theoretical reason to believe which of these 9 by 9 features contribute the most to the performance (even good performance)."
   ]
  },
  {
   "cell_type": "markdown",
   "metadata": {},
   "source": [
    "### Data in Picture Form\n",
    "\n",
    "Let us take a look at a random matrix in image form. In this case, we simply generate 25 random values in a grid structure, i.e. 5 by 5. Then we present the image."
   ]
  },
  {
   "cell_type": "code",
   "execution_count": 1,
   "metadata": {},
   "outputs": [
    {
     "data": {
      "image/png": "[encoded data removed]",
      "text/plain": [
       "<Figure size 432x288 with 2 Axes>"
      ]
     },
     "metadata": {},
     "output_type": "display_data"
    }
   ],
   "source": [
    "import numpy as np\n",
    "import matplotlib.pyplot as plt\n",
    "\n",
    "plt.imshow(np.random.random((5,5)));\n",
    "plt.colorbar()\n",
    "plt.show()"
   ]
  },
  {
   "cell_type": "markdown",
   "metadata": {},
   "source": [
    "Let us print the matrix to remind us what the data is."
   ]
  },
  {
   "cell_type": "code",
   "execution_count": 2,
   "metadata": {},
   "outputs": [
    {
     "data": {
      "text/plain": [
       "array([0.24097644, 0.36988087, 0.95978558, 0.97785152, 0.09351779,\n",
       "       0.92977401, 0.51386405, 0.22454864, 0.57338371, 0.64099929,\n",
       "       0.19486225, 0.1197449 , 0.95201665, 0.8108574 , 0.5001063 ,\n",
       "       0.00299908, 0.00904249, 0.13967289, 0.61922144, 0.94525391,\n",
       "       0.05470921, 0.65079658, 0.74878973, 0.91425045, 0.24395231])"
      ]
     },
     "execution_count": 2,
     "metadata": {},
     "output_type": "execute_result"
    }
   ],
   "source": [
    "# create 25 random numbers\n",
    "np.random.random((25))"
   ]
  },
  {
   "cell_type": "code",
   "execution_count": 3,
   "metadata": {},
   "outputs": [
    {
     "data": {
      "text/plain": [
       "array([[0.97032919, 0.77920414, 0.15396897],\n",
       "       [0.65946621, 0.59457702, 0.52509586]])"
      ]
     },
     "execution_count": 3,
     "metadata": {},
     "output_type": "execute_result"
    }
   ],
   "source": [
    "# create random numbers in shape 2 by 3\n",
    "np.random.random((2, 3))"
   ]
  },
  {
   "cell_type": "markdown",
   "metadata": {},
   "source": [
    "### Artificial Example\n",
    "\n",
    "Let us simulate an artificial example using two-module example. Let us consider this matrix in image form. The reason to select this underlying model is (1) there is no linearity, (2) there is no marginal signal, (3) there is no correlation among variables, (4) there is higher-order interactions which happen quite often in practice.\n",
    "\n",
    "Draw random variables from Bernoulli distribution and create data $X_1, ..., X_p$ and define underyling model to be\n",
    "$$y = \\left\\{\n",
    "\\begin{matrix}\n",
    "X_1 + X_2 & (\\text{mod } 2) \\\\\n",
    "X_3 + X_4 + X_5 & (\\text{mod } 2) \\\\\n",
    "\\end{matrix}\n",
    "\\right.\n",
    "$$\n",
    "\n",
    "The goal of this example is correct model specification. \n",
    "\n",
    "We want to capture the important information and in this case we want the two variable modules. If we can successfully capture the important variable modules, we do not even need to worry about what type of machine learning algorithm to choose.\n",
    "\n",
    "The correct prediction rate is 75%. Why 75%? This is the exact theoretical prediction rate of the artificial example. In the underlying model $Y$, there are two modules. One of the correct module gives us at least 50% to start with. Since there is no marginal signal, the first module will perform 50% on the rest of the observations. This means correct theoretical prediction rate (the best you can do) is $75\\% = 50\\% + 50\\% \\times 50\\%$). "
   ]
  },
  {
   "cell_type": "code",
   "execution_count": 29,
   "metadata": {},
   "outputs": [],
   "source": [
    "from scipy.stats import bernoulli\n",
    "import pandas as pd\n",
    "import numpy as np"
   ]
  },
  {
   "cell_type": "code",
   "execution_count": 30,
   "metadata": {},
   "outputs": [
    {
     "name": "stdout",
     "output_type": "stream",
     "text": [
      "(2000, 36)\n",
      "   0  1  2  3  4  5  6  7  8  9  ...  26  27  28  29  30  31  32  33  34  35\n",
      "0  0  1  0  0  1  0  0  0  0  0  ...   0   0   1   0   1   0   1   1   1   1\n",
      "1  0  1  0  1  1  1  0  0  1  0  ...   0   1   1   0   1   1   1   1   0   1\n",
      "\n",
      "[2 rows x 36 columns]\n",
      "0.516\n",
      "0.5205\n"
     ]
    }
   ],
   "source": [
    "n = 1000\n",
    "N = n + 1000\n",
    "cutoff = round(n/N, 1)\n",
    "p = 6*6\n",
    "data_bern = bernoulli.rvs(size=N*p, p=0.5)\n",
    "\n",
    "X = pd.DataFrame(data_bern.reshape([N, p]), columns=np.arange(p).astype(str))\n",
    "print(X.shape)\n",
    "print(X.head(2))\n",
    "\n",
    "I = bernoulli.rvs(size=N, p=0.5)\n",
    "print(np.mean(I))\n",
    "y1 = np.mod(X.iloc[:, 1] + X.iloc[:, 2], 2)\n",
    "y2 = np.mod(X.iloc[:, 2] + X.iloc[:, 3] + X.iloc[:, 4], 2)\n",
    "y = np.where(I == 1, y1, y2)\n",
    "print(np.mean(y))"
   ]
  },
  {
   "cell_type": "code",
   "execution_count": 31,
   "metadata": {},
   "outputs": [
    {
     "data": {
      "text/plain": [
       "((2000, 36), (2000,))"
      ]
     },
     "execution_count": 31,
     "metadata": {},
     "output_type": "execute_result"
    }
   ],
   "source": [
    "X.shape, y.shape"
   ]
  },
  {
   "cell_type": "markdown",
   "metadata": {},
   "source": [
    "Let us take a look at the 1st observation (1st row) in the data frame and we print the data in image form."
   ]
  },
  {
   "cell_type": "code",
   "execution_count": 48,
   "metadata": {},
   "outputs": [
    {
     "data": {
      "text/plain": [
       "array([[0, 1, 0, 1, 1, 1],\n",
       "       [0, 0, 1, 0, 0, 1],\n",
       "       [1, 0, 1, 1, 1, 0],\n",
       "       [0, 1, 1, 0, 0, 0],\n",
       "       [0, 0, 0, 1, 1, 0],\n",
       "       [1, 1, 1, 1, 0, 1]])"
      ]
     },
     "execution_count": 48,
     "metadata": {},
     "output_type": "execute_result"
    }
   ],
   "source": [
    "np.reshape(np.array(X.iloc[which_obs, :]), (6, 6))"
   ]
  },
  {
   "cell_type": "code",
   "execution_count": 49,
   "metadata": {},
   "outputs": [
    {
     "name": "stdout",
     "output_type": "stream",
     "text": [
      "Class: 1\n"
     ]
    },
    {
     "data": {
      "image/png": "[encoded data removed]",
      "text/plain": [
       "<Figure size 432x288 with 2 Axes>"
      ]
     },
     "metadata": {},
     "output_type": "display_data"
    }
   ],
   "source": [
    "which_obs = 1\n",
    "print(\"Class:\", y[which_obs])\n",
    "plt.imshow(np.reshape(np.reshape(np.array(X.iloc[which_obs, :]), (6, 6)), (6, 6)))\n",
    "plt.colorbar()\n",
    "plt.show()"
   ]
  },
  {
   "cell_type": "markdown",
   "metadata": {},
   "source": [
    "Let us take a look at the 2nd observation (2nd row) in the data frame and we print the datda in image form. From class 0 to class 1, we cannot really detect any patterns using our eyes."
   ]
  },
  {
   "cell_type": "markdown",
   "metadata": {},
   "source": [
    "### Feature Engineer and Machine Learning\n",
    "\n",
    "Load **YinDL** script to import the package written by author."
   ]
  },
  {
   "cell_type": "code",
   "execution_count": 50,
   "metadata": {},
   "outputs": [
    {
     "name": "stdout",
     "output_type": "stream",
     "text": [
      "---------------------------------------------------------------------\n",
      "\n",
      "        Yin's Deep Learning Package \n",
      "        Copyright © YINS CAPITAL, 2009 – Present\n",
      "        For more information, please go to www.YinsCapital.com\n",
      "        \n",
      "---------------------------------------------------------------------\n"
     ]
    }
   ],
   "source": [
    "%run \"../scripts/YinsDL.py\""
   ]
  },
  {
   "cell_type": "code",
   "execution_count": 51,
   "metadata": {},
   "outputs": [
    {
     "name": "stdout",
     "output_type": "stream",
     "text": [
      "Shape of X training set: (1000, 36)\n",
      "Shape of X in test set: (1000, 36)\n",
      "First few obs of y: [1 1 0 0 1]\n"
     ]
    }
   ],
   "source": [
    "from sklearn.model_selection import train_test_split\n",
    "X_train, X_test, y_train, y_test = train_test_split(X, y, test_size=cutoff, random_state=0)\n",
    "print('Shape of X training set:', X_train.shape)\n",
    "print('Shape of X in test set:', X_test.shape)\n",
    "print('First few obs of y:', y_train[:5])"
   ]
  },
  {
   "cell_type": "code",
   "execution_count": 52,
   "metadata": {},
   "outputs": [
    {
     "name": "stdout",
     "output_type": "stream",
     "text": [
      "Tensorflow Version:\n",
      "1.14.0\n",
      "Shapes of X in training set (1000, 6, 6) Shapes of X in test set: (1000, 6, 6)\n",
      "Summary of Network Architecture:\n",
      "Model: \"sequential_1\"\n",
      "_________________________________________________________________\n",
      "Layer (type)                 Output Shape              Param #   \n",
      "=================================================================\n",
      "dense_3 (Dense)              (None, 128)               3328      \n",
      "_________________________________________________________________\n",
      "dense_4 (Dense)              (None, 64)                8256      \n",
      "_________________________________________________________________\n",
      "dense_5 (Dense)              (None, 2)                 130       \n",
      "=================================================================\n",
      "Total params: 11,714\n",
      "Trainable params: 11,714\n",
      "Non-trainable params: 0\n",
      "_________________________________________________________________\n",
      "Epoch 1/50\n",
      "1000/1000 [==============================] - 0s 116us/sample - loss: 0.7624 - acc: 0.5010\n",
      "Epoch 2/50\n",
      "1000/1000 [==============================] - 0s 51us/sample - loss: 0.6664 - acc: 0.5840\n",
      "Epoch 3/50\n",
      "1000/1000 [==============================] - 0s 62us/sample - loss: 0.6322 - acc: 0.6320\n",
      "Epoch 4/50\n",
      "1000/1000 [==============================] - 0s 60us/sample - loss: 0.6112 - acc: 0.6620\n",
      "Epoch 5/50\n",
      "1000/1000 [==============================] - 0s 60us/sample - loss: 0.5895 - acc: 0.6850\n",
      "Epoch 6/50\n",
      "1000/1000 [==============================] - 0s 61us/sample - loss: 0.5685 - acc: 0.7050\n",
      "Epoch 7/50\n",
      "1000/1000 [==============================] - 0s 58us/sample - loss: 0.5583 - acc: 0.7170\n",
      "Epoch 8/50\n",
      "1000/1000 [==============================] - 0s 61us/sample - loss: 0.5347 - acc: 0.7580\n",
      "Epoch 9/50\n",
      "1000/1000 [==============================] - 0s 53us/sample - loss: 0.5252 - acc: 0.7610\n",
      "Epoch 10/50\n",
      "1000/1000 [==============================] - 0s 50us/sample - loss: 0.5112 - acc: 0.7710\n",
      "Epoch 11/50\n",
      "1000/1000 [==============================] - 0s 46us/sample - loss: 0.4972 - acc: 0.7740\n",
      "Epoch 12/50\n",
      "1000/1000 [==============================] - 0s 48us/sample - loss: 0.4834 - acc: 0.8040\n",
      "Epoch 13/50\n",
      "1000/1000 [==============================] - 0s 56us/sample - loss: 0.4740 - acc: 0.7960\n",
      "Epoch 14/50\n",
      "1000/1000 [==============================] - 0s 50us/sample - loss: 0.4638 - acc: 0.8020\n",
      "Epoch 15/50\n",
      "1000/1000 [==============================] - 0s 53us/sample - loss: 0.4555 - acc: 0.8120\n",
      "Epoch 16/50\n",
      "1000/1000 [==============================] - 0s 58us/sample - loss: 0.4417 - acc: 0.8050\n",
      "Epoch 17/50\n",
      "1000/1000 [==============================] - 0s 57us/sample - loss: 0.4330 - acc: 0.8120\n",
      "Epoch 18/50\n",
      "1000/1000 [==============================] - 0s 45us/sample - loss: 0.4191 - acc: 0.8230\n",
      "Epoch 19/50\n",
      "1000/1000 [==============================] - 0s 57us/sample - loss: 0.4148 - acc: 0.8280\n",
      "Epoch 20/50\n",
      "1000/1000 [==============================] - 0s 59us/sample - loss: 0.4063 - acc: 0.8300\n",
      "Epoch 21/50\n",
      "1000/1000 [==============================] - 0s 60us/sample - loss: 0.3933 - acc: 0.8360\n",
      "Epoch 22/50\n",
      "1000/1000 [==============================] - 0s 58us/sample - loss: 0.4011 - acc: 0.8360\n",
      "Epoch 23/50\n",
      "1000/1000 [==============================] - 0s 52us/sample - loss: 0.3942 - acc: 0.8300\n",
      "Epoch 24/50\n",
      "1000/1000 [==============================] - 0s 58us/sample - loss: 0.3746 - acc: 0.8510\n",
      "Epoch 25/50\n",
      "1000/1000 [==============================] - 0s 65us/sample - loss: 0.3730 - acc: 0.8500\n",
      "Epoch 26/50\n",
      "1000/1000 [==============================] - 0s 47us/sample - loss: 0.3630 - acc: 0.8620\n",
      "Epoch 27/50\n",
      "1000/1000 [==============================] - 0s 53us/sample - loss: 0.3587 - acc: 0.8500\n",
      "Epoch 28/50\n",
      "1000/1000 [==============================] - 0s 58us/sample - loss: 0.3452 - acc: 0.8730\n",
      "Epoch 29/50\n",
      "1000/1000 [==============================] - 0s 59us/sample - loss: 0.3399 - acc: 0.8660\n",
      "Epoch 30/50\n",
      "1000/1000 [==============================] - 0s 57us/sample - loss: 0.3355 - acc: 0.8620\n",
      "Epoch 31/50\n",
      "1000/1000 [==============================] - 0s 59us/sample - loss: 0.3227 - acc: 0.8740\n",
      "Epoch 32/50\n",
      "1000/1000 [==============================] - 0s 60us/sample - loss: 0.3155 - acc: 0.8860\n",
      "Epoch 33/50\n",
      "1000/1000 [==============================] - 0s 59us/sample - loss: 0.3123 - acc: 0.8780\n",
      "Epoch 34/50\n",
      "1000/1000 [==============================] - 0s 61us/sample - loss: 0.3088 - acc: 0.8830\n",
      "Epoch 35/50\n",
      "1000/1000 [==============================] - 0s 59us/sample - loss: 0.3018 - acc: 0.8910\n",
      "Epoch 36/50\n",
      "1000/1000 [==============================] - 0s 57us/sample - loss: 0.2841 - acc: 0.8930\n",
      "Epoch 37/50\n",
      "1000/1000 [==============================] - 0s 60us/sample - loss: 0.2760 - acc: 0.9120\n",
      "Epoch 38/50\n",
      "1000/1000 [==============================] - 0s 50us/sample - loss: 0.2715 - acc: 0.9040\n",
      "Epoch 39/50\n",
      "1000/1000 [==============================] - 0s 49us/sample - loss: 0.2749 - acc: 0.9020\n",
      "Epoch 40/50\n",
      "1000/1000 [==============================] - 0s 61us/sample - loss: 0.2646 - acc: 0.9150\n",
      "Epoch 41/50\n",
      "1000/1000 [==============================] - 0s 50us/sample - loss: 0.2491 - acc: 0.9210\n",
      "Epoch 42/50\n",
      "1000/1000 [==============================] - 0s 58us/sample - loss: 0.2478 - acc: 0.9080\n",
      "Epoch 43/50\n",
      "1000/1000 [==============================] - 0s 53us/sample - loss: 0.2393 - acc: 0.9200\n",
      "Epoch 44/50\n",
      "1000/1000 [==============================] - 0s 47us/sample - loss: 0.2317 - acc: 0.9210\n",
      "Epoch 45/50\n",
      "1000/1000 [==============================] - 0s 50us/sample - loss: 0.2275 - acc: 0.9300\n",
      "Epoch 46/50\n",
      "1000/1000 [==============================] - 0s 51us/sample - loss: 0.2121 - acc: 0.9420\n",
      "Epoch 47/50\n",
      "1000/1000 [==============================] - 0s 59us/sample - loss: 0.2292 - acc: 0.9270\n",
      "Epoch 48/50\n",
      "1000/1000 [==============================] - 0s 52us/sample - loss: 0.2057 - acc: 0.9440\n",
      "Epoch 49/50\n",
      "1000/1000 [==============================] - 0s 59us/sample - loss: 0.1934 - acc: 0.9570\n",
      "Epoch 50/50\n",
      "1000/1000 [==============================] - 0s 65us/sample - loss: 0.2027 - acc: 0.9350\n",
      "Confusion Matrix:\n",
      "     0    1\n",
      "0  277  198\n",
      "1  226  299\n",
      "Test Accuracy: 0.576\n",
      "Test AUC: 0.5763408521303258\n"
     ]
    },
    {
     "data": {
      "image/png": "[encoded data removed]",
      "text/plain": [
       "<Figure size 432x288 with 1 Axes>"
      ]
     },
     "metadata": {},
     "output_type": "display_data"
    }
   ],
   "source": [
    "# Run Convolutional Neural Network: C1NN3\n",
    "# Reminder: check dimension of input X and Y for training and test set\n",
    "#           and make sure the dimension makes sense with input shape width and length\n",
    "cnnTmpResult = YinsDL.C1NN3_Classifier(\n",
    "    X_train, y_train, X_test, y_test,\n",
    "    inputSHAPEwidth=6, inputSHAPElenth=6,\n",
    "    filter1 = [[1,0], [0,1]],\n",
    "    l1_act='relu', l2_act='relu', l3_act='softmax',\n",
    "    layer1size=128, layer2size=64, layer3size=2,\n",
    "    optimizer='adam',\n",
    "    loss='sparse_categorical_crossentropy',\n",
    "    metrics=['accuracy'],\n",
    "    num_of_epochs=50,\n",
    "    plotROC=True,\n",
    "    verbose=True)"
   ]
  },
  {
   "cell_type": "markdown",
   "metadata": {},
   "source": [
    "### Feature Engineer with Smart Filtering \n",
    "\n",
    "We do not quite hit that 75% we discussed in the beginning of the script.\n",
    "\n",
    "Let us play around with the filter. Notice that the filter is defined as \n",
    "$$\n",
    "\\begin{bmatrix}\n",
    "1 & 0 \\\\\n",
    "0 & 1 \\\\\n",
    "\\end{bmatrix}\n",
    "$$\n",
    "and this is completely arbitrary. Though the algorithm runs fine, the prediction results has not been great. This is because as the variable $[X_1, X_2, X_3, X_4]$ line up and are inserted in a square. The filter will actually pick up $X_1$ and $X_3$ which is not quite the correct model. \n",
    "\n",
    "However, we can design the following filter\n",
    "$$\n",
    "\\begin{bmatrix}\n",
    "1 & 1 \\\\\n",
    "1 & 0 \\\\\n",
    "\\end{bmatrix}\n",
    "$$\n",
    "and this should be able to pick up some signal due to the positioning of variables in the grid. However, this observation is not replicable because I already know what the data looks like. In reality, one needs high computing power to search for the ideal filter."
   ]
  },
  {
   "cell_type": "code",
   "execution_count": 11,
   "metadata": {},
   "outputs": [
    {
     "name": "stdout",
     "output_type": "stream",
     "text": [
      "Tensorflow Version:\n",
      "2.0.0\n",
      "Shapes of X in training set (1000, 10, 6) Shapes of X in test set: (1000, 10, 6)\n",
      "Summary of Network Architecture:\n",
      "Model: \"sequential_1\"\n",
      "_________________________________________________________________\n",
      "Layer (type)                 Output Shape              Param #   \n",
      "=================================================================\n",
      "dense_3 (Dense)              (None, 128)               5888      \n",
      "_________________________________________________________________\n",
      "dense_4 (Dense)              (None, 64)                8256      \n",
      "_________________________________________________________________\n",
      "dense_5 (Dense)              (None, 2)                 130       \n",
      "=================================================================\n",
      "Total params: 14,274\n",
      "Trainable params: 14,274\n",
      "Non-trainable params: 0\n",
      "_________________________________________________________________\n",
      "WARNING:tensorflow:Falling back from v2 loop because of error: Failed to find data adapter that can handle input: <class 'pandas.core.frame.DataFrame'>, <class 'NoneType'>\n",
      "Train on 1000 samples\n",
      "Epoch 1/50\n",
      "1000/1000 [==============================] - 0s 70us/sample - loss: 0.8312 - accuracy: 0.5060\n",
      "Epoch 2/50\n",
      "1000/1000 [==============================] - 0s 34us/sample - loss: 0.6667 - accuracy: 0.6110\n",
      "Epoch 3/50\n",
      "1000/1000 [==============================] - 0s 35us/sample - loss: 0.5978 - accuracy: 0.6810\n",
      "Epoch 4/50\n",
      "1000/1000 [==============================] - 0s 38us/sample - loss: 0.5617 - accuracy: 0.6960\n",
      "Epoch 5/50\n",
      "1000/1000 [==============================] - 0s 42us/sample - loss: 0.5301 - accuracy: 0.7490\n",
      "Epoch 6/50\n",
      "1000/1000 [==============================] - 0s 35us/sample - loss: 0.5168 - accuracy: 0.7670\n",
      "Epoch 7/50\n",
      "1000/1000 [==============================] - 0s 35us/sample - loss: 0.4977 - accuracy: 0.7790\n",
      "Epoch 8/50\n",
      "1000/1000 [==============================] - 0s 33us/sample - loss: 0.4824 - accuracy: 0.7790\n",
      "Epoch 9/50\n",
      "1000/1000 [==============================] - 0s 31us/sample - loss: 0.4705 - accuracy: 0.7750\n",
      "Epoch 10/50\n",
      "1000/1000 [==============================] - 0s 29us/sample - loss: 0.4632 - accuracy: 0.8050\n",
      "Epoch 11/50\n",
      "1000/1000 [==============================] - 0s 28us/sample - loss: 0.4523 - accuracy: 0.7880\n",
      "Epoch 12/50\n",
      "1000/1000 [==============================] - 0s 32us/sample - loss: 0.4423 - accuracy: 0.8090\n",
      "Epoch 13/50\n",
      "1000/1000 [==============================] - 0s 32us/sample - loss: 0.4340 - accuracy: 0.7980\n",
      "Epoch 14/50\n",
      "1000/1000 [==============================] - 0s 30us/sample - loss: 0.4318 - accuracy: 0.8070\n",
      "Epoch 15/50\n",
      "1000/1000 [==============================] - 0s 28us/sample - loss: 0.4211 - accuracy: 0.8200\n",
      "Epoch 16/50\n",
      "1000/1000 [==============================] - 0s 29us/sample - loss: 0.4077 - accuracy: 0.8260\n",
      "Epoch 17/50\n",
      "1000/1000 [==============================] - 0s 30us/sample - loss: 0.3986 - accuracy: 0.8350\n",
      "Epoch 18/50\n",
      "1000/1000 [==============================] - 0s 29us/sample - loss: 0.3862 - accuracy: 0.8350\n",
      "Epoch 19/50\n",
      "1000/1000 [==============================] - 0s 28us/sample - loss: 0.3696 - accuracy: 0.8420\n",
      "Epoch 20/50\n",
      "1000/1000 [==============================] - 0s 29us/sample - loss: 0.3836 - accuracy: 0.8240\n",
      "Epoch 21/50\n",
      "1000/1000 [==============================] - 0s 30us/sample - loss: 0.3590 - accuracy: 0.8540\n",
      "Epoch 22/50\n",
      "1000/1000 [==============================] - 0s 32us/sample - loss: 0.3510 - accuracy: 0.8630\n",
      "Epoch 23/50\n",
      "1000/1000 [==============================] - 0s 30us/sample - loss: 0.3415 - accuracy: 0.8650\n",
      "Epoch 24/50\n",
      "1000/1000 [==============================] - 0s 27us/sample - loss: 0.3454 - accuracy: 0.8560\n",
      "Epoch 25/50\n",
      "1000/1000 [==============================] - 0s 30us/sample - loss: 0.3314 - accuracy: 0.8620\n",
      "Epoch 26/50\n",
      "1000/1000 [==============================] - 0s 30us/sample - loss: 0.3294 - accuracy: 0.8640\n",
      "Epoch 27/50\n",
      "1000/1000 [==============================] - 0s 32us/sample - loss: 0.3173 - accuracy: 0.8700\n",
      "Epoch 28/50\n",
      "1000/1000 [==============================] - 0s 30us/sample - loss: 0.3217 - accuracy: 0.8790\n",
      "Epoch 29/50\n",
      "1000/1000 [==============================] - 0s 34us/sample - loss: 0.3054 - accuracy: 0.8780\n",
      "Epoch 30/50\n",
      "1000/1000 [==============================] - 0s 34us/sample - loss: 0.2895 - accuracy: 0.8870\n",
      "Epoch 31/50\n",
      "1000/1000 [==============================] - 0s 34us/sample - loss: 0.2815 - accuracy: 0.8960\n",
      "Epoch 32/50\n",
      "1000/1000 [==============================] - 0s 34us/sample - loss: 0.2725 - accuracy: 0.9010\n",
      "Epoch 33/50\n",
      "1000/1000 [==============================] - 0s 31us/sample - loss: 0.2613 - accuracy: 0.9150\n",
      "Epoch 34/50\n",
      "1000/1000 [==============================] - 0s 31us/sample - loss: 0.2510 - accuracy: 0.9200\n",
      "Epoch 35/50\n",
      "1000/1000 [==============================] - 0s 31us/sample - loss: 0.2605 - accuracy: 0.9040\n",
      "Epoch 36/50\n",
      "1000/1000 [==============================] - 0s 30us/sample - loss: 0.2580 - accuracy: 0.9020\n",
      "Epoch 37/50\n",
      "1000/1000 [==============================] - 0s 30us/sample - loss: 0.2452 - accuracy: 0.9040\n",
      "Epoch 38/50\n",
      "1000/1000 [==============================] - 0s 31us/sample - loss: 0.2378 - accuracy: 0.9070\n",
      "Epoch 39/50\n",
      "1000/1000 [==============================] - 0s 30us/sample - loss: 0.2300 - accuracy: 0.9150\n",
      "Epoch 40/50\n",
      "1000/1000 [==============================] - 0s 30us/sample - loss: 0.2088 - accuracy: 0.9410\n",
      "Epoch 41/50\n",
      "1000/1000 [==============================] - 0s 30us/sample - loss: 0.2143 - accuracy: 0.9250\n",
      "Epoch 42/50\n",
      "1000/1000 [==============================] - 0s 30us/sample - loss: 0.1951 - accuracy: 0.9480\n",
      "Epoch 43/50\n",
      "1000/1000 [==============================] - 0s 33us/sample - loss: 0.1909 - accuracy: 0.9450\n",
      "Epoch 44/50\n",
      "1000/1000 [==============================] - 0s 29us/sample - loss: 0.1869 - accuracy: 0.9610\n",
      "Epoch 45/50\n",
      "1000/1000 [==============================] - 0s 28us/sample - loss: 0.1825 - accuracy: 0.9450\n",
      "Epoch 46/50\n",
      "1000/1000 [==============================] - 0s 30us/sample - loss: 0.1685 - accuracy: 0.9650\n",
      "Epoch 47/50\n",
      "1000/1000 [==============================] - 0s 29us/sample - loss: 0.1665 - accuracy: 0.9670\n",
      "Epoch 48/50\n",
      "1000/1000 [==============================] - 0s 31us/sample - loss: 0.1638 - accuracy: 0.9590\n",
      "Epoch 49/50\n",
      "1000/1000 [==============================] - 0s 29us/sample - loss: 0.1516 - accuracy: 0.9670\n",
      "Epoch 50/50\n",
      "1000/1000 [==============================] - 0s 30us/sample - loss: 0.1507 - accuracy: 0.9710\n",
      "WARNING:tensorflow:Falling back from v2 loop because of error: Failed to find data adapter that can handle input: <class 'pandas.core.frame.DataFrame'>, <class 'NoneType'>\n",
      "Confusion Matrix:\n",
      "     0    1\n",
      "0  317  179\n",
      "1  199  305\n",
      "Test Accuracy: 0.622\n",
      "Test AUC: 0.6221358166922684\n"
     ]
    },
    {
     "data": {
      "image/png": "[encoded data removed]",
      "text/plain": [
       "<Figure size 432x288 with 1 Axes>"
      ]
     },
     "metadata": {},
     "output_type": "display_data"
    }
   ],
   "source": [
    "cnnTmpResult = YinsDL.C1NN3_Classifier(\n",
    "        pd.concat([X_train, X_train], axis=1), y_train, \n",
    "        pd.concat([X_test, X_test], axis=1), y_test, \n",
    "        inputSHAPEwidth=10, inputSHAPElenth=6,\n",
    "        filter1 = [[1,1], [1,0]],\n",
    "        l1_act='relu', l2_act='relu', l3_act='softmax',\n",
    "        layer1size=128, layer2size=64, layer3size=2,\n",
    "        optimizer='adam',\n",
    "        loss='sparse_categorical_crossentropy',\n",
    "        metrics=['accuracy'],\n",
    "        num_of_epochs=50,\n",
    "        plotROC=True,\n",
    "        verbose=True)"
   ]
  },
  {
   "cell_type": "markdown",
   "metadata": {},
   "source": [
    "We observe that some information can be captured if we try a different filter. This is because the position of how variables are put together. In other words, in practice we would need to try lots of filters with lots of different shapes to be able to find that very one that fits."
   ]
  },
  {
   "cell_type": "code",
   "execution_count": 176,
   "metadata": {},
   "outputs": [
    {
     "data": {
      "text/plain": [
       "(1000, 30)"
      ]
     },
     "execution_count": 176,
     "metadata": {},
     "output_type": "execute_result"
    }
   ],
   "source": [
    "X_train.shape"
   ]
  },
  {
   "cell_type": "code",
   "execution_count": 177,
   "metadata": {},
   "outputs": [
    {
     "name": "stdout",
     "output_type": "stream",
     "text": [
      "----------------------------------------------------------------------\n",
      "Manual\n",
      "\n",
      "                This script input X_train, y_train, X_test, y_test with selected input width and height \n",
      "                as well as a filter. Then the script executes convolutional operation to compute new \n",
      "                features from combination of original variables and the filter.\n",
      "\n",
      "                Note: the filter plays crucial role which is why this function the filter is user-friendly\n",
      "                      and can be updated as the user see fits.\n",
      "                \n",
      "                # Run\n",
      "                newDataGenerated = YinsDL.ConvOperationC1(\n",
      "                        X_train, y_train, X_test, y_test, \n",
      "                        inputSHAPEwidth=10, inputSHAPElenth=3,\n",
      "                        filter1 = [[1,0], [0,1]], \n",
      "                        verbose=True, printManual=True)\n",
      "                \n",
      "----------------------------------------------------------------------\n",
      "Tensorflow Version:\n",
      "2.0.0\n",
      "Shapes of X in training set (1000, 3, 10) Shapes of X in test set: (1000, 3, 10)\n"
     ]
    }
   ],
   "source": [
    "newDataGenerated = YinsDL.ConvOperationC1(\n",
    "        X_train, y_train, X_test, y_test, \n",
    "        inputSHAPEwidth=3, inputSHAPElenth=10,\n",
    "        filter1 = [[1,1], [0,0]], \n",
    "        verbose=True, printManual=True)"
   ]
  },
  {
   "cell_type": "code",
   "execution_count": 178,
   "metadata": {},
   "outputs": [],
   "source": [
    "# 'Data': [X_train, y_train, X_test, y_test, X_train_new, X_test_new]\n",
    "# Index:      0        1         2      3          4            5\n",
    "X_train = newDataGenerated['Data'][4]\n",
    "y_train = newDataGenerated['Data'][1]\n",
    "X_test = newDataGenerated['Data'][5]\n",
    "y_test = newDataGenerated['Data'][3]"
   ]
  },
  {
   "cell_type": "code",
   "execution_count": 180,
   "metadata": {},
   "outputs": [
    {
     "data": {
      "text/plain": [
       "((1000, 18), (1000, 18))"
      ]
     },
     "execution_count": 180,
     "metadata": {},
     "output_type": "execute_result"
    }
   ],
   "source": [
    "X_train.shape, X_test.shape"
   ]
  },
  {
   "cell_type": "code",
   "execution_count": 181,
   "metadata": {},
   "outputs": [],
   "source": [
    "def helpDiscretize(X):\n",
    "    return (X > X.mean()).astype(int)"
   ]
  },
  {
   "cell_type": "code",
   "execution_count": 182,
   "metadata": {},
   "outputs": [],
   "source": [
    "X_train = X_train.apply(helpDiscretize, axis=1)\n",
    "X_test = X_test.apply(helpDiscretize, axis=1)"
   ]
  },
  {
   "cell_type": "code",
   "execution_count": 183,
   "metadata": {},
   "outputs": [
    {
     "data": {
      "text/plain": [
       "((1000, 18), (1000, 18))"
      ]
     },
     "execution_count": 183,
     "metadata": {},
     "output_type": "execute_result"
    }
   ],
   "source": [
    "X_train.shape, X_test.shape"
   ]
  },
  {
   "cell_type": "code",
   "execution_count": 184,
   "metadata": {},
   "outputs": [
    {
     "data": {
      "text/html": [
       "<div>\n",
       "<style scoped>\n",
       "    .dataframe tbody tr th:only-of-type {\n",
       "        vertical-align: middle;\n",
       "    }\n",
       "\n",
       "    .dataframe tbody tr th {\n",
       "        vertical-align: top;\n",
       "    }\n",
       "\n",
       "    .dataframe thead th {\n",
       "        text-align: right;\n",
       "    }\n",
       "</style>\n",
       "<table border=\"1\" class=\"dataframe\">\n",
       "  <thead>\n",
       "    <tr style=\"text-align: right;\">\n",
       "      <th></th>\n",
       "      <th>0</th>\n",
       "      <th>1</th>\n",
       "      <th>2</th>\n",
       "      <th>3</th>\n",
       "      <th>4</th>\n",
       "      <th>5</th>\n",
       "      <th>6</th>\n",
       "      <th>7</th>\n",
       "      <th>8</th>\n",
       "      <th>9</th>\n",
       "      <th>10</th>\n",
       "      <th>11</th>\n",
       "      <th>12</th>\n",
       "      <th>13</th>\n",
       "      <th>14</th>\n",
       "      <th>15</th>\n",
       "      <th>16</th>\n",
       "      <th>17</th>\n",
       "    </tr>\n",
       "  </thead>\n",
       "  <tbody>\n",
       "    <tr>\n",
       "      <th>0</th>\n",
       "      <td>1</td>\n",
       "      <td>1</td>\n",
       "      <td>0</td>\n",
       "      <td>1</td>\n",
       "      <td>1</td>\n",
       "      <td>1</td>\n",
       "      <td>1</td>\n",
       "      <td>1</td>\n",
       "      <td>1</td>\n",
       "      <td>0</td>\n",
       "      <td>1</td>\n",
       "      <td>1</td>\n",
       "      <td>1</td>\n",
       "      <td>1</td>\n",
       "      <td>0</td>\n",
       "      <td>1</td>\n",
       "      <td>1</td>\n",
       "      <td>1</td>\n",
       "    </tr>\n",
       "    <tr>\n",
       "      <th>0</th>\n",
       "      <td>0</td>\n",
       "      <td>1</td>\n",
       "      <td>1</td>\n",
       "      <td>0</td>\n",
       "      <td>0</td>\n",
       "      <td>0</td>\n",
       "      <td>0</td>\n",
       "      <td>0</td>\n",
       "      <td>1</td>\n",
       "      <td>1</td>\n",
       "      <td>1</td>\n",
       "      <td>1</td>\n",
       "      <td>1</td>\n",
       "      <td>1</td>\n",
       "      <td>0</td>\n",
       "      <td>0</td>\n",
       "      <td>1</td>\n",
       "      <td>1</td>\n",
       "    </tr>\n",
       "    <tr>\n",
       "      <th>0</th>\n",
       "      <td>0</td>\n",
       "      <td>0</td>\n",
       "      <td>0</td>\n",
       "      <td>0</td>\n",
       "      <td>0</td>\n",
       "      <td>0</td>\n",
       "      <td>1</td>\n",
       "      <td>1</td>\n",
       "      <td>1</td>\n",
       "      <td>1</td>\n",
       "      <td>1</td>\n",
       "      <td>0</td>\n",
       "      <td>1</td>\n",
       "      <td>1</td>\n",
       "      <td>1</td>\n",
       "      <td>1</td>\n",
       "      <td>0</td>\n",
       "      <td>0</td>\n",
       "    </tr>\n",
       "    <tr>\n",
       "      <th>0</th>\n",
       "      <td>1</td>\n",
       "      <td>1</td>\n",
       "      <td>0</td>\n",
       "      <td>0</td>\n",
       "      <td>1</td>\n",
       "      <td>0</td>\n",
       "      <td>0</td>\n",
       "      <td>0</td>\n",
       "      <td>0</td>\n",
       "      <td>0</td>\n",
       "      <td>0</td>\n",
       "      <td>0</td>\n",
       "      <td>0</td>\n",
       "      <td>0</td>\n",
       "      <td>0</td>\n",
       "      <td>0</td>\n",
       "      <td>1</td>\n",
       "      <td>1</td>\n",
       "    </tr>\n",
       "    <tr>\n",
       "      <th>0</th>\n",
       "      <td>1</td>\n",
       "      <td>1</td>\n",
       "      <td>0</td>\n",
       "      <td>0</td>\n",
       "      <td>1</td>\n",
       "      <td>0</td>\n",
       "      <td>0</td>\n",
       "      <td>1</td>\n",
       "      <td>1</td>\n",
       "      <td>1</td>\n",
       "      <td>1</td>\n",
       "      <td>0</td>\n",
       "      <td>0</td>\n",
       "      <td>0</td>\n",
       "      <td>0</td>\n",
       "      <td>0</td>\n",
       "      <td>0</td>\n",
       "      <td>0</td>\n",
       "    </tr>\n",
       "  </tbody>\n",
       "</table>\n",
       "</div>"
      ],
      "text/plain": [
       "   0   1   2   3   4   5   6   7   8   9   10  11  12  13  14  15  16  17\n",
       "0   1   1   0   1   1   1   1   1   1   0   1   1   1   1   0   1   1   1\n",
       "0   0   1   1   0   0   0   0   0   1   1   1   1   1   1   0   0   1   1\n",
       "0   0   0   0   0   0   0   1   1   1   1   1   0   1   1   1   1   0   0\n",
       "0   1   1   0   0   1   0   0   0   0   0   0   0   0   0   0   0   1   1\n",
       "0   1   1   0   0   1   0   0   1   1   1   1   0   0   0   0   0   0   0"
      ]
     },
     "execution_count": 184,
     "metadata": {},
     "output_type": "execute_result"
    }
   ],
   "source": [
    "X_train.head()"
   ]
  },
  {
   "cell_type": "code",
   "execution_count": 185,
   "metadata": {},
   "outputs": [
    {
     "data": {
      "text/html": [
       "<div>\n",
       "<style scoped>\n",
       "    .dataframe tbody tr th:only-of-type {\n",
       "        vertical-align: middle;\n",
       "    }\n",
       "\n",
       "    .dataframe tbody tr th {\n",
       "        vertical-align: top;\n",
       "    }\n",
       "\n",
       "    .dataframe thead th {\n",
       "        text-align: right;\n",
       "    }\n",
       "</style>\n",
       "<table border=\"1\" class=\"dataframe\">\n",
       "  <thead>\n",
       "    <tr style=\"text-align: right;\">\n",
       "      <th></th>\n",
       "      <th>0</th>\n",
       "      <th>1</th>\n",
       "      <th>2</th>\n",
       "      <th>3</th>\n",
       "      <th>4</th>\n",
       "      <th>5</th>\n",
       "      <th>6</th>\n",
       "      <th>7</th>\n",
       "      <th>8</th>\n",
       "      <th>9</th>\n",
       "      <th>10</th>\n",
       "      <th>11</th>\n",
       "      <th>12</th>\n",
       "      <th>13</th>\n",
       "      <th>14</th>\n",
       "      <th>15</th>\n",
       "      <th>16</th>\n",
       "      <th>17</th>\n",
       "    </tr>\n",
       "  </thead>\n",
       "  <tbody>\n",
       "    <tr>\n",
       "      <th>0</th>\n",
       "      <td>1</td>\n",
       "      <td>1</td>\n",
       "      <td>0</td>\n",
       "      <td>1</td>\n",
       "      <td>1</td>\n",
       "      <td>1</td>\n",
       "      <td>1</td>\n",
       "      <td>0</td>\n",
       "      <td>1</td>\n",
       "      <td>0</td>\n",
       "      <td>1</td>\n",
       "      <td>1</td>\n",
       "      <td>1</td>\n",
       "      <td>0</td>\n",
       "      <td>0</td>\n",
       "      <td>1</td>\n",
       "      <td>1</td>\n",
       "      <td>0</td>\n",
       "    </tr>\n",
       "    <tr>\n",
       "      <th>0</th>\n",
       "      <td>0</td>\n",
       "      <td>0</td>\n",
       "      <td>0</td>\n",
       "      <td>0</td>\n",
       "      <td>1</td>\n",
       "      <td>1</td>\n",
       "      <td>1</td>\n",
       "      <td>1</td>\n",
       "      <td>1</td>\n",
       "      <td>1</td>\n",
       "      <td>1</td>\n",
       "      <td>1</td>\n",
       "      <td>1</td>\n",
       "      <td>0</td>\n",
       "      <td>1</td>\n",
       "      <td>1</td>\n",
       "      <td>0</td>\n",
       "      <td>0</td>\n",
       "    </tr>\n",
       "    <tr>\n",
       "      <th>0</th>\n",
       "      <td>1</td>\n",
       "      <td>1</td>\n",
       "      <td>0</td>\n",
       "      <td>1</td>\n",
       "      <td>1</td>\n",
       "      <td>1</td>\n",
       "      <td>0</td>\n",
       "      <td>1</td>\n",
       "      <td>1</td>\n",
       "      <td>1</td>\n",
       "      <td>0</td>\n",
       "      <td>1</td>\n",
       "      <td>1</td>\n",
       "      <td>1</td>\n",
       "      <td>0</td>\n",
       "      <td>1</td>\n",
       "      <td>1</td>\n",
       "      <td>0</td>\n",
       "    </tr>\n",
       "    <tr>\n",
       "      <th>0</th>\n",
       "      <td>1</td>\n",
       "      <td>1</td>\n",
       "      <td>1</td>\n",
       "      <td>0</td>\n",
       "      <td>0</td>\n",
       "      <td>1</td>\n",
       "      <td>1</td>\n",
       "      <td>1</td>\n",
       "      <td>1</td>\n",
       "      <td>1</td>\n",
       "      <td>0</td>\n",
       "      <td>0</td>\n",
       "      <td>1</td>\n",
       "      <td>1</td>\n",
       "      <td>0</td>\n",
       "      <td>1</td>\n",
       "      <td>1</td>\n",
       "      <td>1</td>\n",
       "    </tr>\n",
       "    <tr>\n",
       "      <th>0</th>\n",
       "      <td>1</td>\n",
       "      <td>1</td>\n",
       "      <td>0</td>\n",
       "      <td>1</td>\n",
       "      <td>1</td>\n",
       "      <td>0</td>\n",
       "      <td>0</td>\n",
       "      <td>0</td>\n",
       "      <td>0</td>\n",
       "      <td>1</td>\n",
       "      <td>1</td>\n",
       "      <td>1</td>\n",
       "      <td>1</td>\n",
       "      <td>1</td>\n",
       "      <td>1</td>\n",
       "      <td>1</td>\n",
       "      <td>1</td>\n",
       "      <td>1</td>\n",
       "    </tr>\n",
       "  </tbody>\n",
       "</table>\n",
       "</div>"
      ],
      "text/plain": [
       "   0   1   2   3   4   5   6   7   8   9   10  11  12  13  14  15  16  17\n",
       "0   1   1   0   1   1   1   1   0   1   0   1   1   1   0   0   1   1   0\n",
       "0   0   0   0   0   1   1   1   1   1   1   1   1   1   0   1   1   0   0\n",
       "0   1   1   0   1   1   1   0   1   1   1   0   1   1   1   0   1   1   0\n",
       "0   1   1   1   0   0   1   1   1   1   1   0   0   1   1   0   1   1   1\n",
       "0   1   1   0   1   1   0   0   0   0   1   1   1   1   1   1   1   1   1"
      ]
     },
     "execution_count": 185,
     "metadata": {},
     "output_type": "execute_result"
    }
   ],
   "source": [
    "X_test.head()"
   ]
  },
  {
   "cell_type": "code",
   "execution_count": 14,
   "metadata": {},
   "outputs": [
    {
     "name": "stdout",
     "output_type": "stream",
     "text": [
      "---------------------------------------------------------------------\n",
      "\n",
      "        Yin's Interaction-based Learning Statistical Package \n",
      "        Copyright © YINS CAPITAL, 2009 – Present\n",
      "        For more information, please go to www.YinsCapital.com\n",
      "        \n",
      "README:\n",
      "This script has the following functions:\n",
      "\n",
      "    (1) iscore(): this function computes the I-score of selected X at predicting Y\n",
      "    (2) BDA(): this function runs through Backward Dropping Algorithm once\n",
      "    (3) InteractionLearning(): this function runs many rounds of BDA and \n",
      "                               finalize the variables selcted according to I-score\n",
      "    \n",
      "---------------------------------------------------------------------\n"
     ]
    }
   ],
   "source": [
    "%run \"../scripts/InteractionBasedLearning.py\""
   ]
  },
  {
   "cell_type": "code",
   "execution_count": 186,
   "metadata": {},
   "outputs": [
    {
     "data": {
      "text/plain": [
       "((2000, 18), 2000)"
      ]
     },
     "execution_count": 186,
     "metadata": {},
     "output_type": "execute_result"
    }
   ],
   "source": [
    "pd.concat([X_train, X_test]).shape, len(np.concatenate([y_train, y_test]))"
   ]
  },
  {
   "cell_type": "code",
   "execution_count": 197,
   "metadata": {},
   "outputs": [
    {
     "name": "stderr",
     "output_type": "stream",
     "text": [
      "100%|██████████████████████████████████████████| 100/100 [01:18<00:00,  1.27it/s]\n"
     ]
    },
    {
     "name": "stdout",
     "output_type": "stream",
     "text": [
      "Time Consumption (in sec): 78.66\n",
      "Time Consumption (in min): 1.31\n",
      "Time Consumption (in hr): 0.02\n"
     ]
    }
   ],
   "source": [
    "tmpResult = InteractionBasedLearning.InteractionLearning(\n",
    "    newX=pd.concat([X_train, X_test]),\n",
    "    y=np.concatenate([y_train, y_test]),\n",
    "    testSize=0.5,\n",
    "    num_initial_draw=7,\n",
    "    total_rounds=100,\n",
    "    top_how_many=3,\n",
    "    nameExists=False,\n",
    "    TYPE=int,\n",
    "    verbatim=True)"
   ]
  },
  {
   "cell_type": "code",
   "execution_count": 198,
   "metadata": {},
   "outputs": [
    {
     "data": {
      "text/html": [
       "<div>\n",
       "<style scoped>\n",
       "    .dataframe tbody tr th:only-of-type {\n",
       "        vertical-align: middle;\n",
       "    }\n",
       "\n",
       "    .dataframe tbody tr th {\n",
       "        vertical-align: top;\n",
       "    }\n",
       "\n",
       "    .dataframe thead th {\n",
       "        text-align: right;\n",
       "    }\n",
       "</style>\n",
       "<table border=\"1\" class=\"dataframe\">\n",
       "  <thead>\n",
       "    <tr style=\"text-align: right;\">\n",
       "      <th></th>\n",
       "      <th>Modules</th>\n",
       "      <th>Score</th>\n",
       "    </tr>\n",
       "  </thead>\n",
       "  <tbody>\n",
       "    <tr>\n",
       "      <th>90</th>\n",
       "      <td>[[1, 3, 5]]</td>\n",
       "      <td>4.218812</td>\n",
       "    </tr>\n",
       "    <tr>\n",
       "      <th>56</th>\n",
       "      <td>[[1, 6, 12]]</td>\n",
       "      <td>3.970244</td>\n",
       "    </tr>\n",
       "    <tr>\n",
       "      <th>11</th>\n",
       "      <td>[[1, 17]]</td>\n",
       "      <td>3.946381</td>\n",
       "    </tr>\n",
       "    <tr>\n",
       "      <th>21</th>\n",
       "      <td>[[1, 5, 12]]</td>\n",
       "      <td>3.940480</td>\n",
       "    </tr>\n",
       "    <tr>\n",
       "      <th>60</th>\n",
       "      <td>[[1, 12]]</td>\n",
       "      <td>3.717148</td>\n",
       "    </tr>\n",
       "  </tbody>\n",
       "</table>\n",
       "</div>"
      ],
      "text/plain": [
       "         Modules     Score\n",
       "90   [[1, 3, 5]]  4.218812\n",
       "56  [[1, 6, 12]]  3.970244\n",
       "11     [[1, 17]]  3.946381\n",
       "21  [[1, 5, 12]]  3.940480\n",
       "60     [[1, 12]]  3.717148"
      ]
     },
     "execution_count": 198,
     "metadata": {},
     "output_type": "execute_result"
    }
   ],
   "source": [
    "tmpResult['Brief'].head()"
   ]
  },
  {
   "cell_type": "code",
   "execution_count": 199,
   "metadata": {},
   "outputs": [
    {
     "data": {
      "text/plain": [
       "(   1   3   5         0   1   6   12        0   1   17        0 \n",
       " 0   1   1   1  0.575000   1   1   1  0.606383   1   1  0.553539\n",
       " 1   1   0   0  0.272727   1   0   1  0.511628   1   1  0.553539\n",
       " 2   0   0   0  0.642633   0   1   1  0.350211   0   0  0.582011\n",
       " 3   1   0   0  0.272727   1   0   0  0.307407   1   1  0.553539\n",
       " 4   1   0   0  0.272727   1   0   0  0.307407   1   0  0.404651, (2000, 11))"
      ]
     },
     "execution_count": 199,
     "metadata": {},
     "output_type": "execute_result"
    }
   ],
   "source": [
    "tmpResult['New Data'].head(), tmpResult['New Data'].shape"
   ]
  },
  {
   "cell_type": "code",
   "execution_count": 190,
   "metadata": {},
   "outputs": [
    {
     "name": "stdout",
     "output_type": "stream",
     "text": [
      "Class: 0\n"
     ]
    },
    {
     "data": {
      "image/png": "[encoded data removed]",
      "text/plain": [
       "<Figure size 432x288 with 2 Axes>"
      ]
     },
     "metadata": {},
     "output_type": "display_data"
    }
   ],
   "source": [
    "print(\"Class:\", y_train[1])\n",
    "plt.imshow(np.reshape(np.array(X_train.iloc[1, :]), (2, 9)));\n",
    "plt.colorbar()\n",
    "plt.show()"
   ]
  },
  {
   "cell_type": "code",
   "execution_count": 192,
   "metadata": {},
   "outputs": [
    {
     "name": "stdout",
     "output_type": "stream",
     "text": [
      "Class: 0\n"
     ]
    },
    {
     "data": {
      "image/png": "[encoded data removed]",
      "text/plain": [
       "<Figure size 432x288 with 2 Axes>"
      ]
     },
     "metadata": {},
     "output_type": "display_data"
    }
   ],
   "source": [
    "print(\"Class:\", y_train[1])\n",
    "plt.imshow(np.reshape(np.concatenate([np.array(tmpResult['New Data'].iloc[0, :])]), (2, 6)));\n",
    "plt.colorbar()\n",
    "plt.show()"
   ]
  },
  {
   "cell_type": "code",
   "execution_count": 131,
   "metadata": {},
   "outputs": [
    {
     "data": {
      "text/html": [
       "<div>\n",
       "<style scoped>\n",
       "    .dataframe tbody tr th:only-of-type {\n",
       "        vertical-align: middle;\n",
       "    }\n",
       "\n",
       "    .dataframe tbody tr th {\n",
       "        vertical-align: top;\n",
       "    }\n",
       "\n",
       "    .dataframe thead th {\n",
       "        text-align: right;\n",
       "    }\n",
       "</style>\n",
       "<table border=\"1\" class=\"dataframe\">\n",
       "  <thead>\n",
       "    <tr style=\"text-align: right;\">\n",
       "      <th></th>\n",
       "      <th>0</th>\n",
       "      <th>1</th>\n",
       "      <th>2</th>\n",
       "      <th>3</th>\n",
       "      <th>4</th>\n",
       "      <th>5</th>\n",
       "      <th>6</th>\n",
       "      <th>7</th>\n",
       "      <th>8</th>\n",
       "      <th>9</th>\n",
       "      <th>...</th>\n",
       "      <th>20</th>\n",
       "      <th>21</th>\n",
       "      <th>22</th>\n",
       "      <th>23</th>\n",
       "      <th>24</th>\n",
       "      <th>25</th>\n",
       "      <th>26</th>\n",
       "      <th>27</th>\n",
       "      <th>28</th>\n",
       "      <th>29</th>\n",
       "    </tr>\n",
       "  </thead>\n",
       "  <tbody>\n",
       "    <tr>\n",
       "      <th>103</th>\n",
       "      <td>0</td>\n",
       "      <td>0</td>\n",
       "      <td>1</td>\n",
       "      <td>1</td>\n",
       "      <td>0</td>\n",
       "      <td>0</td>\n",
       "      <td>0</td>\n",
       "      <td>0</td>\n",
       "      <td>1</td>\n",
       "      <td>0</td>\n",
       "      <td>...</td>\n",
       "      <td>1</td>\n",
       "      <td>1</td>\n",
       "      <td>1</td>\n",
       "      <td>0</td>\n",
       "      <td>1</td>\n",
       "      <td>0</td>\n",
       "      <td>0</td>\n",
       "      <td>0</td>\n",
       "      <td>0</td>\n",
       "      <td>1</td>\n",
       "    </tr>\n",
       "    <tr>\n",
       "      <th>1638</th>\n",
       "      <td>1</td>\n",
       "      <td>0</td>\n",
       "      <td>0</td>\n",
       "      <td>0</td>\n",
       "      <td>0</td>\n",
       "      <td>1</td>\n",
       "      <td>1</td>\n",
       "      <td>0</td>\n",
       "      <td>0</td>\n",
       "      <td>0</td>\n",
       "      <td>...</td>\n",
       "      <td>0</td>\n",
       "      <td>1</td>\n",
       "      <td>0</td>\n",
       "      <td>0</td>\n",
       "      <td>1</td>\n",
       "      <td>0</td>\n",
       "      <td>1</td>\n",
       "      <td>1</td>\n",
       "      <td>0</td>\n",
       "      <td>1</td>\n",
       "    </tr>\n",
       "    <tr>\n",
       "      <th>60</th>\n",
       "      <td>0</td>\n",
       "      <td>0</td>\n",
       "      <td>0</td>\n",
       "      <td>1</td>\n",
       "      <td>1</td>\n",
       "      <td>0</td>\n",
       "      <td>0</td>\n",
       "      <td>0</td>\n",
       "      <td>0</td>\n",
       "      <td>1</td>\n",
       "      <td>...</td>\n",
       "      <td>1</td>\n",
       "      <td>1</td>\n",
       "      <td>0</td>\n",
       "      <td>1</td>\n",
       "      <td>0</td>\n",
       "      <td>1</td>\n",
       "      <td>0</td>\n",
       "      <td>1</td>\n",
       "      <td>1</td>\n",
       "      <td>1</td>\n",
       "    </tr>\n",
       "    <tr>\n",
       "      <th>784</th>\n",
       "      <td>1</td>\n",
       "      <td>1</td>\n",
       "      <td>1</td>\n",
       "      <td>1</td>\n",
       "      <td>0</td>\n",
       "      <td>0</td>\n",
       "      <td>0</td>\n",
       "      <td>1</td>\n",
       "      <td>1</td>\n",
       "      <td>1</td>\n",
       "      <td>...</td>\n",
       "      <td>0</td>\n",
       "      <td>0</td>\n",
       "      <td>1</td>\n",
       "      <td>1</td>\n",
       "      <td>0</td>\n",
       "      <td>0</td>\n",
       "      <td>0</td>\n",
       "      <td>0</td>\n",
       "      <td>1</td>\n",
       "      <td>0</td>\n",
       "    </tr>\n",
       "    <tr>\n",
       "      <th>1084</th>\n",
       "      <td>0</td>\n",
       "      <td>1</td>\n",
       "      <td>1</td>\n",
       "      <td>0</td>\n",
       "      <td>1</td>\n",
       "      <td>1</td>\n",
       "      <td>0</td>\n",
       "      <td>0</td>\n",
       "      <td>1</td>\n",
       "      <td>0</td>\n",
       "      <td>...</td>\n",
       "      <td>1</td>\n",
       "      <td>0</td>\n",
       "      <td>1</td>\n",
       "      <td>1</td>\n",
       "      <td>0</td>\n",
       "      <td>0</td>\n",
       "      <td>1</td>\n",
       "      <td>0</td>\n",
       "      <td>0</td>\n",
       "      <td>0</td>\n",
       "    </tr>\n",
       "  </tbody>\n",
       "</table>\n",
       "<p>5 rows × 30 columns</p>\n",
       "</div>"
      ],
      "text/plain": [
       "      0  1  2  3  4  5  6  7  8  9  ...  20  21  22  23  24  25  26  27  28  \\\n",
       "103   0  0  1  1  0  0  0  0  1  0  ...   1   1   1   0   1   0   0   0   0   \n",
       "1638  1  0  0  0  0  1  1  0  0  0  ...   0   1   0   0   1   0   1   1   0   \n",
       "60    0  0  0  1  1  0  0  0  0  1  ...   1   1   0   1   0   1   0   1   1   \n",
       "784   1  1  1  1  0  0  0  1  1  1  ...   0   0   1   1   0   0   0   0   1   \n",
       "1084  0  1  1  0  1  1  0  0  1  0  ...   1   0   1   1   0   0   1   0   0   \n",
       "\n",
       "      29  \n",
       "103    1  \n",
       "1638   1  \n",
       "60     1  \n",
       "784    0  \n",
       "1084   0  \n",
       "\n",
       "[5 rows x 30 columns]"
      ]
     },
     "execution_count": 131,
     "metadata": {},
     "output_type": "execute_result"
    }
   ],
   "source": [
    "X_train_cp.head()"
   ]
  },
  {
   "cell_type": "code",
   "execution_count": 132,
   "metadata": {},
   "outputs": [
    {
     "name": "stdout",
     "output_type": "stream",
     "text": [
      "The first variable module selected:\n",
      "Int64Index([11,  0,  2,  8,  0,  9, 13, 16,  0,  2, 10, 12,  0,  6,  7, 17,  0,\n",
      "             8, 10, 15,  0,  8,  0,  1,  5, 10,  0,  5, 10,  0,  6,  7, 10,  0,\n",
      "             4,  0,  6,  7,  0,  2, 10, 14, 15,  0,  0,  1, 10, 12,  0,  2, 12,\n",
      "            14, 15,  0],\n",
      "           dtype='int64')\n"
     ]
    }
   ],
   "source": [
    "print(f\"The first variable module selected:\")\n",
    "print(tmpResult['New Data'].columns)"
   ]
  },
  {
   "cell_type": "code",
   "execution_count": 201,
   "metadata": {},
   "outputs": [
    {
     "name": "stdout",
     "output_type": "stream",
     "text": [
      "Feature No. 1\n"
     ]
    },
    {
     "data": {
      "image/png": "[encoded data removed]",
      "text/plain": [
       "<Figure size 432x288 with 1 Axes>"
      ]
     },
     "metadata": {},
     "output_type": "display_data"
    }
   ],
   "source": [
    "print('Feature No.', tmpResult['New Data'].columns[0])\n",
    "YinsDL.plotOneImage(\n",
    "    initialPosX = 0.5,\n",
    "    initialPosY = -0.5,\n",
    "    boxWidth    = 2,\n",
    "    boxHeight   = 2,\n",
    "    linewidth   = 3,\n",
    "    edgecolor   = 'r',\n",
    "    IMAGE       = np.reshape(np.array(X_train_cp.head(1)), (3, 10)))"
   ]
  },
  {
   "cell_type": "markdown",
   "metadata": {},
   "source": [
    "According to **tmpResult['New Data'].head()**, proposed method showed that the most important feature from data is the 11th convolutional feature. We retrace back to that 2 by 2 grid and print a box surrounding it. We clearly see that the box covers "
   ]
  },
  {
   "cell_type": "code",
   "execution_count": 202,
   "metadata": {},
   "outputs": [
    {
     "data": {
      "text/plain": [
       "(   1   3   5         0   1   6   12        0   1   17        0 \n",
       " 0   1   1   1  0.575000   1   1   1  0.606383   1   1  0.553539\n",
       " 1   1   0   0  0.272727   1   0   1  0.511628   1   1  0.553539\n",
       " 2   0   0   0  0.642633   0   1   1  0.350211   0   0  0.582011\n",
       " 3   1   0   0  0.272727   1   0   0  0.307407   1   1  0.553539\n",
       " 4   1   0   0  0.272727   1   0   0  0.307407   1   0  0.404651, (2000, 11))"
      ]
     },
     "execution_count": 202,
     "metadata": {},
     "output_type": "execute_result"
    }
   ],
   "source": [
    "tmpResult['New Data'].head(), tmpResult['New Data'].shape"
   ]
  },
  {
   "cell_type": "code",
   "execution_count": 203,
   "metadata": {},
   "outputs": [
    {
     "data": {
      "text/plain": [
       "2000"
      ]
     },
     "execution_count": 203,
     "metadata": {},
     "output_type": "execute_result"
    }
   ],
   "source": [
    "len(y)"
   ]
  },
  {
   "cell_type": "code",
   "execution_count": 204,
   "metadata": {},
   "outputs": [
    {
     "name": "stdout",
     "output_type": "stream",
     "text": [
      "(1000, 11) (1000, 11)\n",
      "[1 0 0 0 0]\n"
     ]
    }
   ],
   "source": [
    "from sklearn.model_selection import train_test_split\n",
    "X_train, X_test, y_train, y_test = train_test_split(tmpResult['New Data'], y, test_size=0.5, random_state=0)\n",
    "print(X_train.shape, X_test.shape)\n",
    "print(y_train[:5])"
   ]
  },
  {
   "cell_type": "code",
   "execution_count": 210,
   "metadata": {},
   "outputs": [
    {
     "name": "stdout",
     "output_type": "stream",
     "text": [
      "Tensorflow Version:\n",
      "2.0.0\n",
      "Summary of Network Architecture:\n",
      "Model: \"sequential_19\"\n",
      "_________________________________________________________________\n",
      "Layer (type)                 Output Shape              Param #   \n",
      "=================================================================\n",
      "dense_60 (Dense)             (None, 256)               3072      \n",
      "_________________________________________________________________\n",
      "dense_61 (Dense)             (None, 128)               32896     \n",
      "_________________________________________________________________\n",
      "dense_62 (Dense)             (None, 2)                 258       \n",
      "=================================================================\n",
      "Total params: 36,226\n",
      "Trainable params: 36,226\n",
      "Non-trainable params: 0\n",
      "_________________________________________________________________\n",
      "WARNING:tensorflow:Falling back from v2 loop because of error: Failed to find data adapter that can handle input: <class 'pandas.core.frame.DataFrame'>, <class 'NoneType'>\n",
      "Train on 1000 samples\n",
      "Epoch 1/150\n",
      "1000/1000 [==============================] - 0s 197us/sample - loss: 0.7255 - accuracy: 0.4540\n",
      "Epoch 2/150\n",
      "1000/1000 [==============================] - 0s 100us/sample - loss: 0.7204 - accuracy: 0.5270\n",
      "Epoch 3/150\n",
      "1000/1000 [==============================] - 0s 100us/sample - loss: 0.7063 - accuracy: 0.5060\n",
      "Epoch 4/150\n",
      "1000/1000 [==============================] - 0s 99us/sample - loss: 0.6954 - accuracy: 0.5430\n",
      "Epoch 5/150\n",
      "1000/1000 [==============================] - 0s 100us/sample - loss: 0.7062 - accuracy: 0.5340\n",
      "Epoch 6/150\n",
      "1000/1000 [==============================] - 0s 102us/sample - loss: 0.6956 - accuracy: 0.5360\n",
      "Epoch 7/150\n",
      "1000/1000 [==============================] - 0s 95us/sample - loss: 0.6927 - accuracy: 0.5510\n",
      "Epoch 8/150\n",
      "1000/1000 [==============================] - 0s 91us/sample - loss: 0.6983 - accuracy: 0.5320\n",
      "Epoch 9/150\n",
      "1000/1000 [==============================] - 0s 103us/sample - loss: 0.6918 - accuracy: 0.5350\n",
      "Epoch 10/150\n",
      "1000/1000 [==============================] - 0s 99us/sample - loss: 0.6889 - accuracy: 0.5540\n",
      "Epoch 11/150\n",
      "1000/1000 [==============================] - 0s 103us/sample - loss: 0.6902 - accuracy: 0.5520\n",
      "Epoch 12/150\n",
      "1000/1000 [==============================] - 0s 88us/sample - loss: 0.6888 - accuracy: 0.5540\n",
      "Epoch 13/150\n",
      "1000/1000 [==============================] - 0s 78us/sample - loss: 0.6905 - accuracy: 0.5460\n",
      "Epoch 14/150\n",
      "1000/1000 [==============================] - 0s 107us/sample - loss: 0.6903 - accuracy: 0.5580\n",
      "Epoch 15/150\n",
      "1000/1000 [==============================] - 0s 106us/sample - loss: 0.6831 - accuracy: 0.5730\n",
      "Epoch 16/150\n",
      "1000/1000 [==============================] - 0s 94us/sample - loss: 0.6854 - accuracy: 0.5810\n",
      "Epoch 17/150\n",
      "1000/1000 [==============================] - 0s 87us/sample - loss: 0.6853 - accuracy: 0.5740\n",
      "Epoch 18/150\n",
      "1000/1000 [==============================] - 0s 99us/sample - loss: 0.6844 - accuracy: 0.5500\n",
      "Epoch 19/150\n",
      "1000/1000 [==============================] - 0s 101us/sample - loss: 0.6853 - accuracy: 0.5490\n",
      "Epoch 20/150\n",
      "1000/1000 [==============================] - 0s 98us/sample - loss: 0.6832 - accuracy: 0.5680\n",
      "Epoch 21/150\n",
      "1000/1000 [==============================] - 0s 100us/sample - loss: 0.6852 - accuracy: 0.5470\n",
      "Epoch 22/150\n",
      "1000/1000 [==============================] - 0s 97us/sample - loss: 0.6802 - accuracy: 0.5820\n",
      "Epoch 23/150\n",
      "1000/1000 [==============================] - 0s 96us/sample - loss: 0.6817 - accuracy: 0.5570\n",
      "Epoch 24/150\n",
      "1000/1000 [==============================] - 0s 103us/sample - loss: 0.6807 - accuracy: 0.5620\n",
      "Epoch 25/150\n",
      "1000/1000 [==============================] - 0s 96us/sample - loss: 0.6819 - accuracy: 0.5570\n",
      "Epoch 26/150\n",
      "1000/1000 [==============================] - 0s 98us/sample - loss: 0.6809 - accuracy: 0.5570\n",
      "Epoch 27/150\n",
      "1000/1000 [==============================] - 0s 99us/sample - loss: 0.6800 - accuracy: 0.5680\n",
      "Epoch 28/150\n",
      "1000/1000 [==============================] - 0s 106us/sample - loss: 0.6793 - accuracy: 0.5650\n",
      "Epoch 29/150\n",
      "1000/1000 [==============================] - 0s 100us/sample - loss: 0.6807 - accuracy: 0.5610\n",
      "Epoch 30/150\n",
      "1000/1000 [==============================] - 0s 99us/sample - loss: 0.6805 - accuracy: 0.5630\n",
      "Epoch 31/150\n",
      "1000/1000 [==============================] - 0s 102us/sample - loss: 0.6799 - accuracy: 0.5720\n",
      "Epoch 32/150\n",
      "1000/1000 [==============================] - 0s 99us/sample - loss: 0.6832 - accuracy: 0.5640\n",
      "Epoch 33/150\n",
      "1000/1000 [==============================] - 0s 94us/sample - loss: 0.6791 - accuracy: 0.5760\n",
      "Epoch 34/150\n",
      "1000/1000 [==============================] - 0s 98us/sample - loss: 0.6812 - accuracy: 0.5780\n",
      "Epoch 35/150\n",
      "1000/1000 [==============================] - 0s 90us/sample - loss: 0.6789 - accuracy: 0.5840\n",
      "Epoch 36/150\n",
      "1000/1000 [==============================] - 0s 89us/sample - loss: 0.6773 - accuracy: 0.5760\n",
      "Epoch 37/150\n",
      "1000/1000 [==============================] - 0s 99us/sample - loss: 0.6764 - accuracy: 0.5780\n",
      "Epoch 38/150\n",
      "1000/1000 [==============================] - 0s 99us/sample - loss: 0.6807 - accuracy: 0.5610\n",
      "Epoch 39/150\n",
      "1000/1000 [==============================] - 0s 95us/sample - loss: 0.6814 - accuracy: 0.5740\n",
      "Epoch 40/150\n",
      "1000/1000 [==============================] - 0s 102us/sample - loss: 0.6783 - accuracy: 0.5770\n",
      "Epoch 41/150\n",
      "1000/1000 [==============================] - 0s 98us/sample - loss: 0.6802 - accuracy: 0.5630\n",
      "Epoch 42/150\n",
      "1000/1000 [==============================] - 0s 98us/sample - loss: 0.6766 - accuracy: 0.5850\n",
      "Epoch 43/150\n",
      "1000/1000 [==============================] - 0s 102us/sample - loss: 0.6790 - accuracy: 0.5790\n",
      "Epoch 44/150\n",
      "1000/1000 [==============================] - 0s 91us/sample - loss: 0.6776 - accuracy: 0.5810\n",
      "Epoch 45/150\n",
      "1000/1000 [==============================] - 0s 85us/sample - loss: 0.6797 - accuracy: 0.5730\n",
      "Epoch 46/150\n",
      "1000/1000 [==============================] - 0s 101us/sample - loss: 0.6763 - accuracy: 0.5770\n",
      "Epoch 47/150\n",
      "1000/1000 [==============================] - 0s 84us/sample - loss: 0.6777 - accuracy: 0.5820\n",
      "Epoch 48/150\n",
      "1000/1000 [==============================] - 0s 100us/sample - loss: 0.6755 - accuracy: 0.5870\n",
      "Epoch 49/150\n",
      "1000/1000 [==============================] - 0s 99us/sample - loss: 0.6785 - accuracy: 0.5890\n",
      "Epoch 50/150\n",
      "1000/1000 [==============================] - 0s 100us/sample - loss: 0.6754 - accuracy: 0.5870\n",
      "Epoch 51/150\n",
      "1000/1000 [==============================] - 0s 96us/sample - loss: 0.6771 - accuracy: 0.5860\n",
      "Epoch 52/150\n",
      "1000/1000 [==============================] - 0s 86us/sample - loss: 0.6779 - accuracy: 0.5850\n",
      "Epoch 53/150\n",
      "1000/1000 [==============================] - 0s 87us/sample - loss: 0.6764 - accuracy: 0.5810\n",
      "Epoch 54/150\n",
      "1000/1000 [==============================] - 0s 93us/sample - loss: 0.6757 - accuracy: 0.5780\n",
      "Epoch 55/150\n",
      "1000/1000 [==============================] - 0s 93us/sample - loss: 0.6789 - accuracy: 0.5680\n",
      "Epoch 56/150\n",
      "1000/1000 [==============================] - 0s 97us/sample - loss: 0.6757 - accuracy: 0.5820\n",
      "Epoch 57/150\n",
      "1000/1000 [==============================] - 0s 97us/sample - loss: 0.6767 - accuracy: 0.5770\n",
      "Epoch 58/150\n",
      "1000/1000 [==============================] - 0s 83us/sample - loss: 0.6735 - accuracy: 0.5870\n",
      "Epoch 59/150\n",
      "1000/1000 [==============================] - 0s 96us/sample - loss: 0.6742 - accuracy: 0.5980\n",
      "Epoch 60/150\n",
      "1000/1000 [==============================] - 0s 84us/sample - loss: 0.6727 - accuracy: 0.5970\n",
      "Epoch 61/150\n",
      "1000/1000 [==============================] - 0s 89us/sample - loss: 0.6766 - accuracy: 0.5780\n",
      "Epoch 62/150\n",
      "1000/1000 [==============================] - 0s 87us/sample - loss: 0.6767 - accuracy: 0.5860\n",
      "Epoch 63/150\n",
      "1000/1000 [==============================] - 0s 83us/sample - loss: 0.6763 - accuracy: 0.5770\n",
      "Epoch 64/150\n",
      "1000/1000 [==============================] - 0s 90us/sample - loss: 0.6776 - accuracy: 0.5750\n",
      "Epoch 65/150\n",
      "1000/1000 [==============================] - 0s 92us/sample - loss: 0.6785 - accuracy: 0.5730\n",
      "Epoch 66/150\n",
      "1000/1000 [==============================] - 0s 80us/sample - loss: 0.6736 - accuracy: 0.5800\n",
      "Epoch 67/150\n",
      "1000/1000 [==============================] - 0s 97us/sample - loss: 0.6745 - accuracy: 0.5840\n",
      "Epoch 68/150\n",
      "1000/1000 [==============================] - 0s 97us/sample - loss: 0.6745 - accuracy: 0.5830\n",
      "Epoch 69/150\n",
      "1000/1000 [==============================] - 0s 92us/sample - loss: 0.6747 - accuracy: 0.5920\n",
      "Epoch 70/150\n",
      "1000/1000 [==============================] - 0s 80us/sample - loss: 0.6742 - accuracy: 0.5890\n",
      "Epoch 71/150\n",
      "1000/1000 [==============================] - 0s 79us/sample - loss: 0.6748 - accuracy: 0.5930\n",
      "Epoch 72/150\n",
      "1000/1000 [==============================] - 0s 83us/sample - loss: 0.6732 - accuracy: 0.5910\n",
      "Epoch 73/150\n",
      "1000/1000 [==============================] - 0s 81us/sample - loss: 0.6751 - accuracy: 0.5790\n",
      "Epoch 74/150\n",
      "1000/1000 [==============================] - 0s 78us/sample - loss: 0.6732 - accuracy: 0.5820\n",
      "Epoch 75/150\n",
      "1000/1000 [==============================] - 0s 80us/sample - loss: 0.6769 - accuracy: 0.5790\n",
      "Epoch 76/150\n",
      "1000/1000 [==============================] - 0s 86us/sample - loss: 0.6744 - accuracy: 0.5850\n",
      "Epoch 77/150\n",
      "1000/1000 [==============================] - 0s 89us/sample - loss: 0.6700 - accuracy: 0.5880\n",
      "Epoch 78/150\n",
      "1000/1000 [==============================] - 0s 88us/sample - loss: 0.6748 - accuracy: 0.5790\n",
      "Epoch 79/150\n",
      "1000/1000 [==============================] - 0s 75us/sample - loss: 0.6759 - accuracy: 0.5860\n",
      "Epoch 80/150\n",
      "1000/1000 [==============================] - 0s 88us/sample - loss: 0.6773 - accuracy: 0.5650\n",
      "Epoch 81/150\n",
      "1000/1000 [==============================] - 0s 101us/sample - loss: 0.6766 - accuracy: 0.5670\n",
      "Epoch 82/150\n",
      "1000/1000 [==============================] - 0s 87us/sample - loss: 0.6708 - accuracy: 0.5870\n",
      "Epoch 83/150\n",
      "1000/1000 [==============================] - 0s 75us/sample - loss: 0.6756 - accuracy: 0.5780\n",
      "Epoch 84/150\n",
      "1000/1000 [==============================] - 0s 71us/sample - loss: 0.6715 - accuracy: 0.5720\n",
      "Epoch 85/150\n",
      "1000/1000 [==============================] - 0s 91us/sample - loss: 0.6737 - accuracy: 0.5820\n",
      "Epoch 86/150\n",
      "1000/1000 [==============================] - 0s 83us/sample - loss: 0.6766 - accuracy: 0.5730\n",
      "Epoch 87/150\n",
      "1000/1000 [==============================] - 0s 81us/sample - loss: 0.6721 - accuracy: 0.5930\n",
      "Epoch 88/150\n",
      "1000/1000 [==============================] - 0s 88us/sample - loss: 0.6726 - accuracy: 0.5950\n",
      "Epoch 89/150\n",
      "1000/1000 [==============================] - 0s 89us/sample - loss: 0.6742 - accuracy: 0.5710\n",
      "Epoch 90/150\n",
      "1000/1000 [==============================] - 0s 89us/sample - loss: 0.6721 - accuracy: 0.5940\n",
      "Epoch 91/150\n",
      "1000/1000 [==============================] - 0s 99us/sample - loss: 0.6725 - accuracy: 0.5940\n",
      "Epoch 92/150\n",
      "1000/1000 [==============================] - 0s 78us/sample - loss: 0.6726 - accuracy: 0.5790\n",
      "Epoch 93/150\n",
      "1000/1000 [==============================] - 0s 88us/sample - loss: 0.6737 - accuracy: 0.5770\n",
      "Epoch 94/150\n",
      "1000/1000 [==============================] - 0s 72us/sample - loss: 0.6734 - accuracy: 0.5850\n",
      "Epoch 95/150\n",
      "1000/1000 [==============================] - 0s 79us/sample - loss: 0.6728 - accuracy: 0.5830\n",
      "Epoch 96/150\n",
      "1000/1000 [==============================] - 0s 93us/sample - loss: 0.6753 - accuracy: 0.5870\n",
      "Epoch 97/150\n",
      "1000/1000 [==============================] - 0s 87us/sample - loss: 0.6741 - accuracy: 0.5840\n",
      "Epoch 98/150\n",
      "1000/1000 [==============================] - 0s 92us/sample - loss: 0.6720 - accuracy: 0.5860\n",
      "Epoch 99/150\n",
      "1000/1000 [==============================] - 0s 87us/sample - loss: 0.6732 - accuracy: 0.5920\n",
      "Epoch 100/150\n",
      "1000/1000 [==============================] - 0s 99us/sample - loss: 0.6721 - accuracy: 0.5890\n",
      "Epoch 101/150\n",
      "1000/1000 [==============================] - 0s 86us/sample - loss: 0.6704 - accuracy: 0.5860\n",
      "Epoch 102/150\n",
      "1000/1000 [==============================] - 0s 92us/sample - loss: 0.6733 - accuracy: 0.5890\n",
      "Epoch 103/150\n",
      "1000/1000 [==============================] - 0s 67us/sample - loss: 0.6712 - accuracy: 0.5880\n",
      "Epoch 104/150\n",
      "1000/1000 [==============================] - 0s 77us/sample - loss: 0.6819 - accuracy: 0.5620\n",
      "Epoch 105/150\n",
      "1000/1000 [==============================] - 0s 81us/sample - loss: 0.6719 - accuracy: 0.5960\n",
      "Epoch 106/150\n",
      "1000/1000 [==============================] - 0s 104us/sample - loss: 0.6730 - accuracy: 0.5820\n",
      "Epoch 107/150\n",
      "1000/1000 [==============================] - 0s 82us/sample - loss: 0.6723 - accuracy: 0.5870\n",
      "Epoch 108/150\n",
      "1000/1000 [==============================] - 0s 94us/sample - loss: 0.6704 - accuracy: 0.5810\n",
      "Epoch 109/150\n",
      "1000/1000 [==============================] - 0s 88us/sample - loss: 0.6705 - accuracy: 0.5800\n",
      "Epoch 110/150\n",
      "1000/1000 [==============================] - 0s 89us/sample - loss: 0.6709 - accuracy: 0.5910\n",
      "Epoch 111/150\n",
      "1000/1000 [==============================] - 0s 97us/sample - loss: 0.6712 - accuracy: 0.5940\n",
      "Epoch 112/150\n",
      "1000/1000 [==============================] - 0s 87us/sample - loss: 0.6740 - accuracy: 0.5870\n",
      "Epoch 113/150\n",
      "1000/1000 [==============================] - 0s 106us/sample - loss: 0.6758 - accuracy: 0.5810\n",
      "Epoch 114/150\n",
      "1000/1000 [==============================] - 0s 88us/sample - loss: 0.6717 - accuracy: 0.5860\n",
      "Epoch 115/150\n",
      "1000/1000 [==============================] - 0s 101us/sample - loss: 0.6722 - accuracy: 0.5870\n",
      "Epoch 116/150\n",
      "1000/1000 [==============================] - 0s 99us/sample - loss: 0.6745 - accuracy: 0.5790\n",
      "Epoch 117/150\n",
      "1000/1000 [==============================] - 0s 93us/sample - loss: 0.6725 - accuracy: 0.5880\n",
      "Epoch 118/150\n",
      "1000/1000 [==============================] - 0s 82us/sample - loss: 0.6703 - accuracy: 0.5930\n",
      "Epoch 119/150\n",
      "1000/1000 [==============================] - 0s 91us/sample - loss: 0.6706 - accuracy: 0.5860\n",
      "Epoch 120/150\n",
      "1000/1000 [==============================] - 0s 85us/sample - loss: 0.6728 - accuracy: 0.5840\n",
      "Epoch 121/150\n",
      "1000/1000 [==============================] - 0s 90us/sample - loss: 0.6710 - accuracy: 0.5920\n",
      "Epoch 122/150\n",
      "1000/1000 [==============================] - 0s 89us/sample - loss: 0.6724 - accuracy: 0.5790\n",
      "Epoch 123/150\n",
      "1000/1000 [==============================] - 0s 86us/sample - loss: 0.6696 - accuracy: 0.5950\n",
      "Epoch 124/150\n",
      "1000/1000 [==============================] - 0s 86us/sample - loss: 0.6746 - accuracy: 0.5900\n",
      "Epoch 125/150\n",
      "1000/1000 [==============================] - 0s 75us/sample - loss: 0.6714 - accuracy: 0.5930\n",
      "Epoch 126/150\n",
      "1000/1000 [==============================] - 0s 94us/sample - loss: 0.6711 - accuracy: 0.5850\n",
      "Epoch 127/150\n",
      "1000/1000 [==============================] - 0s 91us/sample - loss: 0.6714 - accuracy: 0.5900\n",
      "Epoch 128/150\n",
      "1000/1000 [==============================] - 0s 88us/sample - loss: 0.6720 - accuracy: 0.5790\n",
      "Epoch 129/150\n",
      "1000/1000 [==============================] - 0s 104us/sample - loss: 0.6738 - accuracy: 0.5860\n",
      "Epoch 130/150\n",
      "1000/1000 [==============================] - 0s 101us/sample - loss: 0.6730 - accuracy: 0.5800\n",
      "Epoch 131/150\n",
      "1000/1000 [==============================] - 0s 86us/sample - loss: 0.6710 - accuracy: 0.5890\n",
      "Epoch 132/150\n",
      "1000/1000 [==============================] - 0s 68us/sample - loss: 0.6724 - accuracy: 0.5860\n",
      "Epoch 133/150\n",
      "1000/1000 [==============================] - 0s 95us/sample - loss: 0.6727 - accuracy: 0.5860\n",
      "Epoch 134/150\n",
      "1000/1000 [==============================] - 0s 85us/sample - loss: 0.6699 - accuracy: 0.5910\n",
      "Epoch 135/150\n",
      "1000/1000 [==============================] - 0s 77us/sample - loss: 0.6720 - accuracy: 0.5810\n",
      "Epoch 136/150\n",
      "1000/1000 [==============================] - 0s 106us/sample - loss: 0.6691 - accuracy: 0.5890\n",
      "Epoch 137/150\n",
      "1000/1000 [==============================] - 0s 90us/sample - loss: 0.6722 - accuracy: 0.5960\n",
      "Epoch 138/150\n",
      "1000/1000 [==============================] - 0s 103us/sample - loss: 0.6697 - accuracy: 0.5890\n",
      "Epoch 139/150\n",
      "1000/1000 [==============================] - 0s 97us/sample - loss: 0.6690 - accuracy: 0.5900\n",
      "Epoch 140/150\n",
      "1000/1000 [==============================] - 0s 94us/sample - loss: 0.6711 - accuracy: 0.5820\n",
      "Epoch 141/150\n",
      "1000/1000 [==============================] - 0s 81us/sample - loss: 0.6721 - accuracy: 0.5820\n",
      "Epoch 142/150\n",
      "1000/1000 [==============================] - 0s 83us/sample - loss: 0.6724 - accuracy: 0.5810\n",
      "Epoch 143/150\n",
      "1000/1000 [==============================] - 0s 96us/sample - loss: 0.6707 - accuracy: 0.5950\n",
      "Epoch 144/150\n",
      "1000/1000 [==============================] - 0s 83us/sample - loss: 0.6693 - accuracy: 0.5880\n",
      "Epoch 145/150\n",
      "1000/1000 [==============================] - 0s 90us/sample - loss: 0.6710 - accuracy: 0.5860\n",
      "Epoch 146/150\n",
      "1000/1000 [==============================] - 0s 95us/sample - loss: 0.6709 - accuracy: 0.5820\n",
      "Epoch 147/150\n",
      "1000/1000 [==============================] - 0s 89us/sample - loss: 0.6707 - accuracy: 0.5800\n",
      "Epoch 148/150\n",
      "1000/1000 [==============================] - 0s 84us/sample - loss: 0.6734 - accuracy: 0.5750\n",
      "Epoch 149/150\n",
      "1000/1000 [==============================] - 0s 71us/sample - loss: 0.6717 - accuracy: 0.5910\n",
      "Epoch 150/150\n",
      "1000/1000 [==============================] - 0s 95us/sample - loss: 0.6715 - accuracy: 0.5880\n",
      "WARNING:tensorflow:Falling back from v2 loop because of error: Failed to find data adapter that can handle input: <class 'pandas.core.frame.DataFrame'>, <class 'NoneType'>\n",
      "Confusion Matrix:\n",
      "     0    1\n",
      "0  245  240\n",
      "1  275  240\n",
      "Test Accuracy: 0.485\n",
      "Test AUC: 0.48558702832549294\n"
     ]
    },
    {
     "data": {
      "image/png": "[encoded data removed]",
      "text/plain": [
       "<Figure size 432x288 with 1 Axes>"
      ]
     },
     "metadata": {},
     "output_type": "display_data"
    }
   ],
   "source": [
    "testresult = YinsDL.NN3_Classifier(\n",
    "    X_train, y_train, X_test, y_test, \n",
    "    l1_act='relu', l2_act='relu', l3_act='softmax',\n",
    "    layer1size=128*2, layer2size=64*2, layer3size=2,\n",
    "    num_of_epochs=150, plotROC=True, verbose=True)"
   ]
  },
  {
   "cell_type": "markdown",
   "metadata": {},
   "source": [
    "### XAI Initiative: Feature Selection + Feature Engineer + Classifier Construction\n",
    "\n",
    "We can observe the application of convolutional operation do not necessarily add values to the machine learning process. If there is fruitful amount of sample size, this operation may lead to finer search to allow us to update our beliefs in the classifiers. However, in this example, the underlying model is extremely difficult and the model is designed to strip away the capability for convolutionals to perform well due to no marginal signals. \n",
    "\n",
    "In this case, it makes more sense to work on our features first before we build classifiers. Under this direction, the philosophy of XAI is specifically reflected because we are not randomly building new features to blind our judgement of marginal values or marginal noises injected into the data set. Instead we are extracting useful features (a subset of our data) to build new features and classifiers. This allows training to be much more precise and efficient. "
   ]
  },
  {
   "cell_type": "code",
   "execution_count": 12,
   "metadata": {},
   "outputs": [
    {
     "data": {
      "text/plain": [
       "((1000, 30), (1000, 30), (2000, 30), 2000)"
      ]
     },
     "execution_count": 12,
     "metadata": {},
     "output_type": "execute_result"
    }
   ],
   "source": [
    "X_train.shape, X_test.shape, pd.concat([X_train, X_test]).shape, len(np.concatenate([y_train, y_test]))"
   ]
  },
  {
   "cell_type": "code",
   "execution_count": 16,
   "metadata": {},
   "outputs": [
    {
     "data": {
      "text/html": [
       "<div>\n",
       "<style scoped>\n",
       "    .dataframe tbody tr th:only-of-type {\n",
       "        vertical-align: middle;\n",
       "    }\n",
       "\n",
       "    .dataframe tbody tr th {\n",
       "        vertical-align: top;\n",
       "    }\n",
       "\n",
       "    .dataframe thead th {\n",
       "        text-align: right;\n",
       "    }\n",
       "</style>\n",
       "<table border=\"1\" class=\"dataframe\">\n",
       "  <thead>\n",
       "    <tr style=\"text-align: right;\">\n",
       "      <th></th>\n",
       "      <th>0</th>\n",
       "      <th>1</th>\n",
       "      <th>2</th>\n",
       "      <th>3</th>\n",
       "      <th>4</th>\n",
       "      <th>5</th>\n",
       "      <th>6</th>\n",
       "      <th>7</th>\n",
       "      <th>8</th>\n",
       "      <th>9</th>\n",
       "      <th>...</th>\n",
       "      <th>20</th>\n",
       "      <th>21</th>\n",
       "      <th>22</th>\n",
       "      <th>23</th>\n",
       "      <th>24</th>\n",
       "      <th>25</th>\n",
       "      <th>26</th>\n",
       "      <th>27</th>\n",
       "      <th>28</th>\n",
       "      <th>29</th>\n",
       "    </tr>\n",
       "  </thead>\n",
       "  <tbody>\n",
       "    <tr>\n",
       "      <th>103</th>\n",
       "      <td>0</td>\n",
       "      <td>1</td>\n",
       "      <td>1</td>\n",
       "      <td>0</td>\n",
       "      <td>1</td>\n",
       "      <td>1</td>\n",
       "      <td>1</td>\n",
       "      <td>1</td>\n",
       "      <td>0</td>\n",
       "      <td>1</td>\n",
       "      <td>...</td>\n",
       "      <td>1</td>\n",
       "      <td>1</td>\n",
       "      <td>0</td>\n",
       "      <td>0</td>\n",
       "      <td>1</td>\n",
       "      <td>0</td>\n",
       "      <td>0</td>\n",
       "      <td>1</td>\n",
       "      <td>1</td>\n",
       "      <td>0</td>\n",
       "    </tr>\n",
       "    <tr>\n",
       "      <th>1638</th>\n",
       "      <td>1</td>\n",
       "      <td>1</td>\n",
       "      <td>1</td>\n",
       "      <td>0</td>\n",
       "      <td>1</td>\n",
       "      <td>0</td>\n",
       "      <td>0</td>\n",
       "      <td>1</td>\n",
       "      <td>1</td>\n",
       "      <td>0</td>\n",
       "      <td>...</td>\n",
       "      <td>0</td>\n",
       "      <td>1</td>\n",
       "      <td>1</td>\n",
       "      <td>0</td>\n",
       "      <td>0</td>\n",
       "      <td>0</td>\n",
       "      <td>0</td>\n",
       "      <td>0</td>\n",
       "      <td>0</td>\n",
       "      <td>0</td>\n",
       "    </tr>\n",
       "    <tr>\n",
       "      <th>60</th>\n",
       "      <td>1</td>\n",
       "      <td>0</td>\n",
       "      <td>1</td>\n",
       "      <td>0</td>\n",
       "      <td>1</td>\n",
       "      <td>0</td>\n",
       "      <td>1</td>\n",
       "      <td>1</td>\n",
       "      <td>1</td>\n",
       "      <td>0</td>\n",
       "      <td>...</td>\n",
       "      <td>0</td>\n",
       "      <td>0</td>\n",
       "      <td>0</td>\n",
       "      <td>1</td>\n",
       "      <td>1</td>\n",
       "      <td>1</td>\n",
       "      <td>1</td>\n",
       "      <td>0</td>\n",
       "      <td>0</td>\n",
       "      <td>0</td>\n",
       "    </tr>\n",
       "    <tr>\n",
       "      <th>784</th>\n",
       "      <td>0</td>\n",
       "      <td>0</td>\n",
       "      <td>0</td>\n",
       "      <td>0</td>\n",
       "      <td>1</td>\n",
       "      <td>1</td>\n",
       "      <td>0</td>\n",
       "      <td>1</td>\n",
       "      <td>1</td>\n",
       "      <td>0</td>\n",
       "      <td>...</td>\n",
       "      <td>1</td>\n",
       "      <td>0</td>\n",
       "      <td>1</td>\n",
       "      <td>1</td>\n",
       "      <td>1</td>\n",
       "      <td>1</td>\n",
       "      <td>0</td>\n",
       "      <td>1</td>\n",
       "      <td>1</td>\n",
       "      <td>0</td>\n",
       "    </tr>\n",
       "    <tr>\n",
       "      <th>1084</th>\n",
       "      <td>0</td>\n",
       "      <td>1</td>\n",
       "      <td>1</td>\n",
       "      <td>0</td>\n",
       "      <td>1</td>\n",
       "      <td>1</td>\n",
       "      <td>0</td>\n",
       "      <td>0</td>\n",
       "      <td>1</td>\n",
       "      <td>1</td>\n",
       "      <td>...</td>\n",
       "      <td>0</td>\n",
       "      <td>1</td>\n",
       "      <td>0</td>\n",
       "      <td>0</td>\n",
       "      <td>1</td>\n",
       "      <td>0</td>\n",
       "      <td>0</td>\n",
       "      <td>1</td>\n",
       "      <td>1</td>\n",
       "      <td>0</td>\n",
       "    </tr>\n",
       "  </tbody>\n",
       "</table>\n",
       "<p>5 rows × 30 columns</p>\n",
       "</div>"
      ],
      "text/plain": [
       "      0  1  2  3  4  5  6  7  8  9  ...  20  21  22  23  24  25  26  27  28  \\\n",
       "103   0  1  1  0  1  1  1  1  0  1  ...   1   1   0   0   1   0   0   1   1   \n",
       "1638  1  1  1  0  1  0  0  1  1  0  ...   0   1   1   0   0   0   0   0   0   \n",
       "60    1  0  1  0  1  0  1  1  1  0  ...   0   0   0   1   1   1   1   0   0   \n",
       "784   0  0  0  0  1  1  0  1  1  0  ...   1   0   1   1   1   1   0   1   1   \n",
       "1084  0  1  1  0  1  1  0  0  1  1  ...   0   1   0   0   1   0   0   1   1   \n",
       "\n",
       "      29  \n",
       "103    0  \n",
       "1638   0  \n",
       "60     0  \n",
       "784    0  \n",
       "1084   0  \n",
       "\n",
       "[5 rows x 30 columns]"
      ]
     },
     "execution_count": 16,
     "metadata": {},
     "output_type": "execute_result"
    }
   ],
   "source": [
    "pd.concat([X_train, X_test]).head()"
   ]
  },
  {
   "cell_type": "code",
   "execution_count": 17,
   "metadata": {},
   "outputs": [
    {
     "name": "stderr",
     "output_type": "stream",
     "text": [
      "100%|██████████████████████████████████████████| 200/200 [04:40<00:00,  1.40s/it]\n"
     ]
    },
    {
     "name": "stdout",
     "output_type": "stream",
     "text": [
      "Time Consumption (in sec): 280.18\n",
      "Time Consumption (in min): 4.67\n",
      "Time Consumption (in hr): 0.08\n"
     ]
    }
   ],
   "source": [
    "tmpResult = InteractionBasedLearning.InteractionLearning(\n",
    "    newX=X,\n",
    "    y=y,\n",
    "    testSize=cutoff,\n",
    "    num_initial_draw=9,\n",
    "    total_rounds=200,\n",
    "    top_how_many=2,\n",
    "    nameExists=False,\n",
    "    TYPE=str,\n",
    "    verbatim=True)"
   ]
  },
  {
   "cell_type": "code",
   "execution_count": 18,
   "metadata": {},
   "outputs": [
    {
     "data": {
      "text/html": [
       "<div>\n",
       "<style scoped>\n",
       "    .dataframe tbody tr th:only-of-type {\n",
       "        vertical-align: middle;\n",
       "    }\n",
       "\n",
       "    .dataframe tbody tr th {\n",
       "        vertical-align: top;\n",
       "    }\n",
       "\n",
       "    .dataframe thead th {\n",
       "        text-align: right;\n",
       "    }\n",
       "</style>\n",
       "<table border=\"1\" class=\"dataframe\">\n",
       "  <thead>\n",
       "    <tr style=\"text-align: right;\">\n",
       "      <th></th>\n",
       "      <th>Modules</th>\n",
       "      <th>Score</th>\n",
       "    </tr>\n",
       "  </thead>\n",
       "  <tbody>\n",
       "    <tr>\n",
       "      <th>135</th>\n",
       "      <td>[[1, 2]]</td>\n",
       "      <td>30.712665</td>\n",
       "    </tr>\n",
       "    <tr>\n",
       "      <th>76</th>\n",
       "      <td>[[2, 3, 4]]</td>\n",
       "      <td>17.447133</td>\n",
       "    </tr>\n",
       "    <tr>\n",
       "      <th>88</th>\n",
       "      <td>[[0, 10, 22]]</td>\n",
       "      <td>2.139215</td>\n",
       "    </tr>\n",
       "    <tr>\n",
       "      <th>152</th>\n",
       "      <td>[[10, 29]]</td>\n",
       "      <td>2.130670</td>\n",
       "    </tr>\n",
       "    <tr>\n",
       "      <th>113</th>\n",
       "      <td>[[22, 23]]</td>\n",
       "      <td>1.920729</td>\n",
       "    </tr>\n",
       "  </tbody>\n",
       "</table>\n",
       "</div>"
      ],
      "text/plain": [
       "           Modules      Score\n",
       "135       [[1, 2]]  30.712665\n",
       "76     [[2, 3, 4]]  17.447133\n",
       "88   [[0, 10, 22]]   2.139215\n",
       "152     [[10, 29]]   2.130670\n",
       "113     [[22, 23]]   1.920729"
      ]
     },
     "execution_count": 18,
     "metadata": {},
     "output_type": "execute_result"
    }
   ],
   "source": [
    "tmpResult['Brief'].head()"
   ]
  },
  {
   "cell_type": "markdown",
   "metadata": {},
   "source": [
    "What does this table mean? The table says there are a list of variable modules ranked and we can interpret the ranking results to be how important they are at predicting $Y$.\n",
    "\n",
    "What do they look like?"
   ]
  },
  {
   "cell_type": "code",
   "execution_count": 36,
   "metadata": {},
   "outputs": [
    {
     "name": "stdout",
     "output_type": "stream",
     "text": [
      "Feature: \n",
      "    Modules      Score\n",
      "0  [[1, 2]]  30.712665\n",
      "Class:  0\n"
     ]
    },
    {
     "data": {
      "image/png": "[encoded data removed]",
      "text/plain": [
       "<Figure size 432x288 with 1 Axes>"
      ]
     },
     "metadata": {},
     "output_type": "display_data"
    }
   ],
   "source": [
    "print('Feature: ')\n",
    "print(tmpResult['Brief'].head(1).reset_index(drop=True, inplace=False))\n",
    "print('Class: ', y_train[0])\n",
    "YinsDL.plotOneImage(\n",
    "    initialPosX = 0.5,\n",
    "    initialPosY = -0.5,\n",
    "    boxWidth    = 2,\n",
    "    boxHeight   = 1,\n",
    "    linewidth   = 3,\n",
    "    edgecolor   = 'r',\n",
    "    IMAGE       = np.reshape(np.array(X_train_cp.head(1)), (3, 10)))"
   ]
  },
  {
   "cell_type": "code",
   "execution_count": 37,
   "metadata": {},
   "outputs": [
    {
     "name": "stdout",
     "output_type": "stream",
     "text": [
      "Feature: \n",
      "       Modules      Score\n",
      "0  [[2, 3, 4]]  17.447133\n",
      "Class:  0\n"
     ]
    },
    {
     "data": {
      "image/png": "[encoded data removed]",
      "text/plain": [
       "<Figure size 432x288 with 1 Axes>"
      ]
     },
     "metadata": {},
     "output_type": "display_data"
    }
   ],
   "source": [
    "print('Feature: ')\n",
    "print(pd.DataFrame([tmpResult['Brief'].iloc[1]]).reset_index(drop=True, inplace=False))\n",
    "print('Class: ', y_train[1])\n",
    "YinsDL.plotOneImage(\n",
    "    initialPosX = 0.5,\n",
    "    initialPosY = -0.5,\n",
    "    boxWidth    = 3,\n",
    "    boxHeight   = 1,\n",
    "    linewidth   = 3,\n",
    "    edgecolor   = 'r',\n",
    "    IMAGE       = np.reshape(np.array(X_train_cp.head(1)), (3, 10)))"
   ]
  },
  {
   "cell_type": "markdown",
   "metadata": {},
   "source": [
    "The data extracted are $[X_1, X_2]$ and also $[X_2, X_3, X_4]$ which looks like the following. We can print the **head()** which has the first five observations (rows) of the data. The columns named \"0\" are engineered feature by the variable module on their left."
   ]
  },
  {
   "cell_type": "code",
   "execution_count": 19,
   "metadata": {},
   "outputs": [
    {
     "data": {
      "text/html": [
       "<div>\n",
       "<style scoped>\n",
       "    .dataframe tbody tr th:only-of-type {\n",
       "        vertical-align: middle;\n",
       "    }\n",
       "\n",
       "    .dataframe tbody tr th {\n",
       "        vertical-align: top;\n",
       "    }\n",
       "\n",
       "    .dataframe thead th {\n",
       "        text-align: right;\n",
       "    }\n",
       "</style>\n",
       "<table border=\"1\" class=\"dataframe\">\n",
       "  <thead>\n",
       "    <tr style=\"text-align: right;\">\n",
       "      <th></th>\n",
       "      <th>1</th>\n",
       "      <th>2</th>\n",
       "      <th>0</th>\n",
       "      <th>2</th>\n",
       "      <th>3</th>\n",
       "      <th>4</th>\n",
       "      <th>0</th>\n",
       "    </tr>\n",
       "  </thead>\n",
       "  <tbody>\n",
       "    <tr>\n",
       "      <th>0</th>\n",
       "      <td>1</td>\n",
       "      <td>0</td>\n",
       "      <td>0.721670</td>\n",
       "      <td>0</td>\n",
       "      <td>0</td>\n",
       "      <td>0</td>\n",
       "      <td>0.303150</td>\n",
       "    </tr>\n",
       "    <tr>\n",
       "      <th>1</th>\n",
       "      <td>1</td>\n",
       "      <td>1</td>\n",
       "      <td>0.220000</td>\n",
       "      <td>1</td>\n",
       "      <td>1</td>\n",
       "      <td>0</td>\n",
       "      <td>0.262357</td>\n",
       "    </tr>\n",
       "    <tr>\n",
       "      <th>2</th>\n",
       "      <td>0</td>\n",
       "      <td>1</td>\n",
       "      <td>0.742366</td>\n",
       "      <td>1</td>\n",
       "      <td>0</td>\n",
       "      <td>0</td>\n",
       "      <td>0.769874</td>\n",
       "    </tr>\n",
       "    <tr>\n",
       "      <th>3</th>\n",
       "      <td>1</td>\n",
       "      <td>1</td>\n",
       "      <td>0.220000</td>\n",
       "      <td>1</td>\n",
       "      <td>1</td>\n",
       "      <td>1</td>\n",
       "      <td>0.732283</td>\n",
       "    </tr>\n",
       "    <tr>\n",
       "      <th>4</th>\n",
       "      <td>0</td>\n",
       "      <td>1</td>\n",
       "      <td>0.742366</td>\n",
       "      <td>1</td>\n",
       "      <td>1</td>\n",
       "      <td>1</td>\n",
       "      <td>0.732283</td>\n",
       "    </tr>\n",
       "  </tbody>\n",
       "</table>\n",
       "</div>"
      ],
      "text/plain": [
       "   1  2         0  2  3  4         0\n",
       "0  1  0  0.721670  0  0  0  0.303150\n",
       "1  1  1  0.220000  1  1  0  0.262357\n",
       "2  0  1  0.742366  1  0  0  0.769874\n",
       "3  1  1  0.220000  1  1  1  0.732283\n",
       "4  0  1  0.742366  1  1  1  0.732283"
      ]
     },
     "execution_count": 19,
     "metadata": {},
     "output_type": "execute_result"
    }
   ],
   "source": [
    "tmpResult['New Data'].head()"
   ]
  },
  {
   "cell_type": "code",
   "execution_count": 20,
   "metadata": {},
   "outputs": [
    {
     "name": "stdout",
     "output_type": "stream",
     "text": [
      "(1000, 7) (1000, 7)\n",
      "[0 0 0 0 0]\n"
     ]
    }
   ],
   "source": [
    "from sklearn.model_selection import train_test_split\n",
    "X_train, X_test, y_train, y_test = train_test_split(\n",
    "    tmpResult['New Data'], y, \n",
    "    test_size=cutoff, random_state=0)\n",
    "print(X_train.shape, X_test.shape)\n",
    "print(y_train[:5])\n"
   ]
  },
  {
   "cell_type": "code",
   "execution_count": 23,
   "metadata": {},
   "outputs": [
    {
     "name": "stdout",
     "output_type": "stream",
     "text": [
      "Tensorflow Version:\n",
      "2.0.0\n",
      "Summary of Network Architecture:\n",
      "Model: \"sequential_3\"\n",
      "_________________________________________________________________\n",
      "Layer (type)                 Output Shape              Param #   \n",
      "=================================================================\n",
      "dense_9 (Dense)              (None, 128)               1024      \n",
      "_________________________________________________________________\n",
      "dense_10 (Dense)             (None, 64)                8256      \n",
      "_________________________________________________________________\n",
      "dense_11 (Dense)             (None, 2)                 130       \n",
      "=================================================================\n",
      "Total params: 9,410\n",
      "Trainable params: 9,410\n",
      "Non-trainable params: 0\n",
      "_________________________________________________________________\n",
      "WARNING:tensorflow:Falling back from v2 loop because of error: Failed to find data adapter that can handle input: <class 'pandas.core.frame.DataFrame'>, <class 'NoneType'>\n",
      "Train on 1000 samples\n",
      "Epoch 1/10\n",
      "1000/1000 [==============================] - 0s 221us/sample - loss: 0.5507 - accuracy: 0.7500\n",
      "Epoch 2/10\n",
      "1000/1000 [==============================] - 0s 67us/sample - loss: 0.4288 - accuracy: 0.7820\n",
      "Epoch 3/10\n",
      "1000/1000 [==============================] - 0s 83us/sample - loss: 0.3946 - accuracy: 0.7550\n",
      "Epoch 4/10\n",
      "1000/1000 [==============================] - 0s 83us/sample - loss: 0.3684 - accuracy: 0.7720\n",
      "Epoch 5/10\n",
      "1000/1000 [==============================] - 0s 83us/sample - loss: 0.3628 - accuracy: 0.7750\n",
      "Epoch 6/10\n",
      "1000/1000 [==============================] - 0s 79us/sample - loss: 0.3609 - accuracy: 0.7750\n",
      "Epoch 7/10\n",
      "1000/1000 [==============================] - 0s 88us/sample - loss: 0.3618 - accuracy: 0.7780\n",
      "Epoch 8/10\n",
      "1000/1000 [==============================] - 0s 71us/sample - loss: 0.3554 - accuracy: 0.7750\n",
      "Epoch 9/10\n",
      "1000/1000 [==============================] - 0s 63us/sample - loss: 0.3600 - accuracy: 0.7770\n",
      "Epoch 10/10\n",
      "1000/1000 [==============================] - 0s 68us/sample - loss: 0.3611 - accuracy: 0.7580\n",
      "WARNING:tensorflow:Falling back from v2 loop because of error: Failed to find data adapter that can handle input: <class 'pandas.core.frame.DataFrame'>, <class 'NoneType'>\n",
      "Confusion Matrix:\n",
      "     0    1\n",
      "0  366  128\n",
      "1  114  392\n",
      "Test Accuracy: 0.758\n",
      "Test AUC: 0.7577971227856811\n"
     ]
    },
    {
     "data": {
      "image/png": "[encoded data removed]",
      "text/plain": [
       "<Figure size 432x288 with 1 Axes>"
      ]
     },
     "metadata": {},
     "output_type": "display_data"
    }
   ],
   "source": [
    "testresult = YinsDL.NN3_Classifier(\n",
    "    X_train, y_train, X_test, y_test, \n",
    "    l1_act='relu', l2_act='relu', l3_act='softmax',\n",
    "    layer1size=128, layer2size=64, layer3size=2,\n",
    "    num_of_epochs=10, plotROC=True, verbose=True)"
   ]
  },
  {
   "cell_type": "markdown",
   "metadata": {},
   "source": [
    "We hit 75% and this is the correct theoretical prediction."
   ]
  },
  {
   "cell_type": "markdown",
   "metadata": {},
   "source": [
    "The script ends here."
   ]
  }
 ],
 "metadata": {
  "kernelspec": {
   "display_name": "Python 3",
   "language": "python",
   "name": "python3"
  },
  "language_info": {
   "codemirror_mode": {
    "name": "ipython",
    "version": 3
   },
   "file_extension": ".py",
   "mimetype": "text/x-python",
   "name": "python",
   "nbconvert_exporter": "python",
   "pygments_lexer": "ipython3",
   "version": "3.6.2"
  }
 },
 "nbformat": 4,
 "nbformat_minor": 4
}
