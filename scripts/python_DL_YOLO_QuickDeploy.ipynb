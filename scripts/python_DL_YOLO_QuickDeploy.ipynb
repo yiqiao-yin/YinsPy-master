{
 "cells": [
  {
   "cell_type": "markdown",
   "metadata": {},
   "source": [
    "# YOLO: A Quick Deployment\n",
    "\n",
    "This notebook calls the script and deploys YOLO algorithm by one line of code. YOLO is taken from open source *cvlib* and pretrained models are downloaded. Algorithm will input live camera feed and a video will pop out once successfully loaded."
   ]
  },
  {
   "cell_type": "code",
   "execution_count": 1,
   "metadata": {},
   "outputs": [
    {
     "name": "stdout",
     "output_type": "stream",
     "text": [
      "-----------------------------------------------------\n",
      "\n",
      "    Yin's YOLO Package (For Quick Deployment)\n",
      "    Copyright © YINS CAPITAL, 2009 – Present\n",
      "    For more information, go to www.YinsCapital.com\n",
      "    \n",
      "-----------------------------------------------------\n"
     ]
    }
   ],
   "source": [
    "# Load Package\n",
    "%run \"YinsYOLO.py\""
   ]
  },
  {
   "cell_type": "code",
   "execution_count": 21,
   "metadata": {},
   "outputs": [],
   "source": [
    "YinsYOLO.Personal_AI_Surveillance(whatObject='', useAdvancedYOLO=False, whichCam=1)"
   ]
  },
  {
   "cell_type": "markdown",
   "metadata": {},
   "source": [
    "End."
   ]
  }
 ],
 "metadata": {
  "kernelspec": {
   "display_name": "Python 3",
   "language": "python",
   "name": "python3"
  },
  "language_info": {
   "codemirror_mode": {
    "name": "ipython",
    "version": 3
   },
   "file_extension": ".py",
   "mimetype": "text/x-python",
   "name": "python",
   "nbconvert_exporter": "python",
   "pygments_lexer": "ipython3",
   "version": "3.7.4"
  }
 },
 "nbformat": 4,
 "nbformat_minor": 4
}
