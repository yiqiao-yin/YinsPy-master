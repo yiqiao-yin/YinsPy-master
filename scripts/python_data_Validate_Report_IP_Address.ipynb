{
 "cells": [
  {
   "cell_type": "markdown",
   "metadata": {},
   "source": [
    "# Validate and Report IP Address\n",
    "\n",
    "This coding task requires us to extract information from an IP address using *requests* library in python. The coding challenge tests you on:\n",
    "- navigating through data set and json files\n",
    "- pull, update, and make simply mathematical calculations after data is pulled\n",
    "- integrate a query request that checks the candidate file that satisfies the information"
   ]
  },
  {
   "cell_type": "markdown",
   "metadata": {},
   "source": [
    "## Get Data\n",
    "\n",
    "Let us set up the following:\n",
    "- *maintext* is the address we need to use to pull data from\n",
    "- *userId* is the desired user ID by request\n",
    "- *netStart* and *netEnd* are the parameters we use to screen for IP address that is attached to the "
   ]
  },
  {
   "cell_type": "code",
   "execution_count": 44,
   "metadata": {},
   "outputs": [
    {
     "name": "stdout",
     "output_type": "stream",
     "text": [
      "https://jsonmock.hackerrank.com/api/transactions/search?userId=2\n"
     ]
    }
   ],
   "source": [
    "maintext = 'https://jsonmock.hackerrank.com/api/transactions/search?userId='\n",
    "userId = 2\n",
    "locationId = 8\n",
    "netStart = 5\n",
    "netEnd = 500\n",
    "print(maintext + str(userId))"
   ]
  },
  {
   "cell_type": "markdown",
   "metadata": {},
   "source": [
    "From above parameters, we can use *requests* to pull data we want from the APIs provided by hackerrank website. In this case, notice that the userId is predefined and can be edited for future usage.\n",
    "\n",
    "We use *requests.get* as the main function and we pull data through *.json()* property. We can print the data and see what it looks like in the end."
   ]
  },
  {
   "cell_type": "code",
   "execution_count": 48,
   "metadata": {},
   "outputs": [
    {
     "name": "stdout",
     "output_type": "stream",
     "text": [
      "{'page': 1, 'per_page': 10, 'total': 76, 'total_pages': 8, 'data': [{'id': 2, 'userId': 2, 'userName': 'Bob Martin', 'timestamp': 1549260902604, 'txnType': 'debit', 'amount': '$3,574.95', 'location': {'id': 8, 'address': '389, Everest, Barwell Terrace', 'city': 'Murillo', 'zipCode': 66061}, 'ip': '212.215.115.165'}, {'id': 4, 'userId': 2, 'userName': 'Bob Martin', 'timestamp': 1549272069586, 'txnType': 'debit', 'amount': '$0.87', 'location': {'id': 8, 'address': '389, Everest, Barwell Terrace', 'city': 'Murillo', 'zipCode': 66061}, 'ip': '119.162.205.226'}, {'id': 10, 'userId': 2, 'userName': 'Bob Martin', 'timestamp': 1552863189963, 'txnType': 'debit', 'amount': '$3,611.80', 'location': {'id': 1, 'address': '948, Entroflex, Franklin Avenue', 'city': 'Ilchester', 'zipCode': 84181}, 'ip': '212.215.115.165'}, {'id': 18, 'userId': 2, 'userName': 'Bob Martin', 'timestamp': 1550143522252, 'txnType': 'debit', 'amount': '$2,235.13', 'location': {'id': 1, 'address': '948, Entroflex, Franklin Avenue', 'city': 'Ilchester', 'zipCode': 84181}, 'ip': '111.83.155.103'}, {'id': 19, 'userId': 2, 'userName': 'Bob Martin', 'timestamp': 1552070436910, 'txnType': 'credit', 'amount': '$2,659.47', 'location': {'id': 6, 'address': '206, Portaline, Brooklyn Avenue', 'city': 'Brownlee', 'zipCode': 80358}, 'ip': '212.215.115.165'}, {'id': 20, 'userId': 2, 'userName': 'Bob Martin', 'timestamp': 1546523118910, 'txnType': 'debit', 'amount': '$1,543.25', 'location': {'id': 9, 'address': '961, Neptide, Elliott Walk', 'city': 'Bourg', 'zipCode': 68602}, 'ip': '142.216.23.1'}, {'id': 24, 'userId': 2, 'userName': 'Bob Martin', 'timestamp': 1546530515282, 'txnType': 'debit', 'amount': '$2,201.65', 'location': {'id': 6, 'address': '206, Portaline, Brooklyn Avenue', 'city': 'Brownlee', 'zipCode': 80358}, 'ip': '142.216.23.1'}, {'id': 33, 'userId': 2, 'userName': 'Bob Martin', 'timestamp': 1549507438915, 'txnType': 'debit', 'amount': '$2,898.16', 'location': {'id': 8, 'address': '389, Everest, Barwell Terrace', 'city': 'Murillo', 'zipCode': 66061}, 'ip': '119.162.205.226'}, {'id': 42, 'userId': 2, 'userName': 'Bob Martin', 'timestamp': 1548791324284, 'txnType': 'credit', 'amount': '$2,084.06', 'location': {'id': 6, 'address': '206, Portaline, Brooklyn Avenue', 'city': 'Brownlee', 'zipCode': 80358}, 'ip': '142.216.23.1'}, {'id': 43, 'userId': 2, 'userName': 'Bob Martin', 'timestamp': 1550842200606, 'txnType': 'credit', 'amount': '$3,844.66', 'location': {'id': 1, 'address': '948, Entroflex, Franklin Avenue', 'city': 'Ilchester', 'zipCode': 84181}, 'ip': '212.215.115.165'}]}\n"
     ]
    }
   ],
   "source": [
    "import requests\n",
    "dta = requests.get(maintext + str(userId))\n",
    "print(dta.json())"
   ]
  },
  {
   "cell_type": "markdown",
   "metadata": {},
   "source": [
    "## Program\n",
    "\n",
    "This is the main component of the program. In this program, we carry out the steps to finish the task. We extract information using what we have above and then we want to ONLY extract the information according to parameters *userId* and *locationId*. After the correct data is pulled, we can check if the sequence of IP address satisfies the range between *netStart* and *netEnd*. In the circumstances that condition is satisfied, we output the number which is the sum of records above.\n",
    "\n",
    "In brief, we enter the desired parameters *userId*, *locationId*, *netStart*, and *netEnd* and I coded the program to print out the list of users with *userId*, *ocationId*, *IP Address*, whether this pulled information satisfies the condition we want, and the summation of the IP Address."
   ]
  },
  {
   "cell_type": "code",
   "execution_count": 60,
   "metadata": {},
   "outputs": [],
   "source": [
    "# Parameters\n",
    "maintext = 'https://jsonmock.hackerrank.com/api/transactions/search?userId='\n",
    "userId = 2\n",
    "locationId = 8\n",
    "netStart = 5\n",
    "netEnd = 500\n",
    "\n",
    "# Define Function\n",
    "def queryValidate():\n",
    "    mainAdd = 'https://jsonmock.hackerrank.com/api/transactions/search?userId='\n",
    "    customer_query = mainAdd + str(userId)\n",
    "    dta = requests.get(customer_query)\n",
    "    data = dta.json()\n",
    "    ans = 0\n",
    "    for i in range(len(data[\"data\"])):\n",
    "        if (data[\"data\"][i]['userId'] == int(userId)) & (data[\"data\"][i]['location']['id'] == locationId):\n",
    "            tmp = data[\"data\"][i]['ip'].split(\".\")\n",
    "            if (int(tmp[0]) > netStart) & (int(tmp[0]) < netEnd):\n",
    "                ans = ans + sum([int(i) for i in tmp])\n",
    "        print('Order:', i, \n",
    "              ', userId:', data[\"data\"][i]['userId'], 'locationId', data[\"data\"][i]['location']['id'], \n",
    "              ', IP Address:', data[\"data\"][i]['ip'],\n",
    "              ', Condition Satisfied?', (data[\"data\"][i]['userId'] == int(userId)) & (data[\"data\"][i]['location']['id'] == locationId))\n",
    "    return 'Sum of IP Address that satisfies condition is: ' + str(ans)\n",
    "# End function"
   ]
  },
  {
   "cell_type": "code",
   "execution_count": 59,
   "metadata": {},
   "outputs": [
    {
     "name": "stdout",
     "output_type": "stream",
     "text": [
      "Order: 0 , userId: 2 locationId 8 , IP Address: 212.215.115.165 , Condition Satisfied? True\n",
      "Order: 1 , userId: 2 locationId 8 , IP Address: 119.162.205.226 , Condition Satisfied? True\n",
      "Order: 2 , userId: 2 locationId 1 , IP Address: 212.215.115.165 , Condition Satisfied? False\n",
      "Order: 3 , userId: 2 locationId 1 , IP Address: 111.83.155.103 , Condition Satisfied? False\n",
      "Order: 4 , userId: 2 locationId 6 , IP Address: 212.215.115.165 , Condition Satisfied? False\n",
      "Order: 5 , userId: 2 locationId 9 , IP Address: 142.216.23.1 , Condition Satisfied? False\n",
      "Order: 6 , userId: 2 locationId 6 , IP Address: 142.216.23.1 , Condition Satisfied? False\n",
      "Order: 7 , userId: 2 locationId 8 , IP Address: 119.162.205.226 , Condition Satisfied? True\n",
      "Order: 8 , userId: 2 locationId 6 , IP Address: 142.216.23.1 , Condition Satisfied? False\n",
      "Order: 9 , userId: 2 locationId 1 , IP Address: 212.215.115.165 , Condition Satisfied? False\n",
      "Sum of IP Address is: 2131\n"
     ]
    }
   ],
   "source": [
    "# Try It:\n",
    "print(queryValidate())"
   ]
  },
  {
   "cell_type": "markdown",
   "metadata": {},
   "source": [
    "## Supplement\n",
    "\n",
    "This section lists out the key component used for the above coding challenge. This section is designed to let user know and get a good practice of what each line is doing before putting everything into a function.\n",
    "\n",
    "This is important for this coding exercise because due to the nature of *json* files there can be a nested list or dictionary property in the data structure. Such structure form a *tree-like* diagram with a combination of *strings* and *numeric values* and they are not easy to operate. This section lays out the building blocks line by line so user can read them individually to understand what the output is before read the code above."
   ]
  },
  {
   "cell_type": "code",
   "execution_count": 44,
   "metadata": {},
   "outputs": [
    {
     "name": "stdout",
     "output_type": "stream",
     "text": [
      "{'id': 2, 'userId': 2, 'userName': 'Bob Martin', 'timestamp': 1549260902604, 'txnType': 'debit', 'amount': '$3,574.95', 'location': {'id': 8, 'address': '389, Everest, Barwell Terrace', 'city': 'Murillo', 'zipCode': 66061}, 'ip': '212.215.115.165'}\n"
     ]
    }
   ],
   "source": [
    "print(data[\"data\"][0])"
   ]
  },
  {
   "cell_type": "code",
   "execution_count": 41,
   "metadata": {},
   "outputs": [
    {
     "name": "stdout",
     "output_type": "stream",
     "text": [
      "True\n",
      "False\n",
      "True\n",
      "True\n",
      "212.215.115.165\n",
      "212\n",
      "<class 'str'> <class 'int'>\n",
      "True\n",
      "707\n"
     ]
    }
   ],
   "source": [
    "print(2 == 2)\n",
    "print('2' == 2)\n",
    "print(float('2') == 2)\n",
    "i=0\n",
    "print((data[\"data\"][i]['userId'] == int(userId)) & (data[\"data\"][i]['location']['id'] == locationId))\n",
    "print(data[\"data\"][0]['ip'])\n",
    "tmp = data[\"data\"][0]['ip'].split(\".\")\n",
    "print(tmp[0])\n",
    "print(type(tmp[0]), type(netStart))\n",
    "print(int(tmp[0]) > netStart)\n",
    "print(sum([int(i) for i in tmp]))"
   ]
  },
  {
   "cell_type": "code",
   "execution_count": null,
   "metadata": {},
   "outputs": [],
   "source": []
  }
 ],
 "metadata": {
  "kernelspec": {
   "display_name": "Python 3",
   "language": "python",
   "name": "python3"
  },
  "language_info": {
   "codemirror_mode": {
    "name": "ipython",
    "version": 3
   },
   "file_extension": ".py",
   "mimetype": "text/x-python",
   "name": "python",
   "nbconvert_exporter": "python",
   "pygments_lexer": "ipython3",
   "version": "3.6.5"
  }
 },
 "nbformat": 4,
 "nbformat_minor": 2
}
