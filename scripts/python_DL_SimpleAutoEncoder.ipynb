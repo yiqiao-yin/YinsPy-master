{
 "cells": [
  {
   "cell_type": "markdown",
   "metadata": {},
   "source": [
    "# DEEP LEARNING: AUTO-ENCODER\n",
    "\n",
    "I want to express my greatest thanks to this open-source [link](https://blog.keras.io/building-autoencoders-in-keras.html) provided by Keras. This notebook is a direct replica of the content of their blog and it is not-for-profit only."
   ]
  },
  {
   "cell_type": "markdown",
   "metadata": {},
   "source": [
    "### What is Autoencoder?\n",
    "\n",
    "\"Autoencoding\" is a data compression algorithm where the compression and decompression functions are 1) data-specific, 2) lossy, and 3) learned automatically from examples rather than engineered by a human. Additionally, in almost all contexts where the term \"autoencoder\" is used, the compression and decompression functions are implemented with neural networks.\n",
    "\n",
    "1) Autoencoders are data-specific, which means that they will only be able to compress data similar to what they have been trained on. This is different from, say, the MPEG-2 Audio Layer III (MP3) compression algorithm, which only holds assumptions about \"sound\" in general, but not about specific types of sounds. An autoencoder trained on pictures of faces would do a rather poor job of compressing pictures of trees, because the features it would learn would be face-specific.\n",
    "\n",
    "2) Autoencoders are lossy, which means that the decompressed outputs will be degraded compared to the original inputs (similar to MP3 or JPEG compression). This differs from lossless arithmetic compression.\n",
    "\n",
    "3) Autoencoders are learned automatically from data examples, which is a useful property: it means that it is easy to train specialized instances of the algorithm that will perform well on a specific type of input. It doesn't require any new engineering, just appropriate training data.\n",
    "\n",
    "To build an autoencoder, you need three things: an encoding function, a decoding function, and a distance function between the amount of information loss between the compressed representation of your data and the decompressed representation (i.e. a \"loss\" function). The encoder and decoder will be chosen to be parametric functions (typically neural networks), and to be differentiable with respect to the distance function, so the parameters of the encoding/decoding functions can be optimize to minimize the reconstruction loss, using Stochastic Gradient Descent. It's simple! And you don't even need to understand any of these words to start using autoencoders in practice.\n",
    "\n",
    "\n",
    "![image](https://blog.keras.io/img/ae/autoencoder_schema.jpg)"
   ]
  },
  {
   "cell_type": "markdown",
   "metadata": {},
   "source": [
    "### Are they good at data compression?\n",
    "\n",
    "Usually, not really. In picture compression for instance, it is pretty difficult to train an autoencoder that does a better job than a basic algorithm like JPEG, and typically the only way it can be achieved is by restricting yourself to a very specific type of picture (e.g. one for which JPEG does not do a good job). The fact that autoencoders are data-specific makes them generally impractical for real-world data compression problems: you can only use them on data that is similar to what they were trained on, and making them more general thus requires lots of training data. But future advances might change this, who knows."
   ]
  },
  {
   "cell_type": "markdown",
   "metadata": {},
   "source": [
    "### What are autoencoders good for?\n",
    "\n",
    "They are rarely used in practical applications. In 2012 they briefly found an application in greedy layer-wise pretraining for deep convolutional neural networks [1], but this quickly fell out of fashion as we started realizing that better random weight initialization schemes were sufficient for training deep networks from scratch. In 2014, batch normalization [2] started allowing for even deeper networks, and from late 2015 we could train arbitrarily deep networks from scratch using residual learning [3].\n",
    "\n",
    "Today two interesting practical applications of autoencoders are data denoising (which we feature later in this post), and dimensionality reduction for data visualization. With appropriate dimensionality and sparsity constraints, autoencoders can learn data projections that are more interesting than PCA or other basic techniques.\n",
    "\n",
    "For 2D visualization specifically, [t-SNE](https://en.wikipedia.org/wiki/T-distributed_stochastic_neighbor_embedding) (pronounced \"tee-snee\") is probably the best algorithm around, but it typically requires relatively low-dimensional data. So a good strategy for visualizing similarity relationships in high-dimensional data is to start by using an autoencoder to compress your data into a low-dimensional space (e.g. 32 dimensional), then use t-SNE for mapping the compressed data to a 2D plane. Note that a nice parametric implementation of t-SNE in Keras was developed by Kyle McDonald and is available on [Github](https://github.com/kylemcdonald/Parametric-t-SNE/blob/master/Parametric%20t-SNE%20(Keras).ipynb). Otherwise [scikit-learn](http://scikit-learn.org/stable/modules/generated/sklearn.manifold.TSNE.html) also has a simple and practical implementation."
   ]
  },
  {
   "cell_type": "markdown",
   "metadata": {},
   "source": [
    "### So what's the big deal with autoencoders?\n",
    "\n",
    "Their main claim to fame comes from being featured in many introductory machine learning classes available online. As a result, a lot of newcomers to the field absolutely love autoencoders and can't get enough of them. This is the reason why this tutorial exists!\n",
    "\n",
    "Otherwise, one reason why they have attracted so much research and attention is because they have long been thought to be a potential avenue for solving the problem of unsupervised learning, i.e. the learning of useful representations without the need for labels. Then again, autoencoders are not a true unsupervised learning technique (which would imply a different learning process altogether), they are a self-supervised technique, a specific instance of supervised learning where the targets are generated from the input data. In order to get self-supervised models to learn interesting features, you have to come up with an interesting synthetic target and loss function, and that's where problems arise: merely learning to reconstruct your input in minute detail might not be the right choice here. At this point there is significant evidence that focusing on the reconstruction of a picture at the pixel level, for instance, is not conductive to learning interesting, abstract features of the kind that label-supervized learning induces (where targets are fairly abstract concepts \"invented\" by humans such as \"dog\", \"car\"...). In fact, one may argue that the best features in this regard are those that are the worst at exact input reconstruction while achieving high performance on the main task that you are interested in (classification, localization, etc).\n",
    "\n",
    "In self-supervized learning applied to vision, a potentially fruitful alternative to autoencoder-style input reconstruction is the use of toy tasks such as jigsaw puzzle solving, or detail-context matching (being able to match high-resolution but small patches of pictures with low-resolution versions of the pictures they are extracted from). The following paper investigates jigsaw puzzle solving and makes for a very interesting read: Noroozi and Favaro (2016) [Unsupervised Learning of Visual Representations by Solving Jigsaw Puzzles](http://arxiv.org/abs/1603.09246). Such tasks are providing the model with built-in assumptions about the input data which are missing in traditional autoencoders, such as \"visual macro-structure matters more than pixel-level details\".\n",
    "\n",
    "![image](https://blog.keras.io/img/ae/jigsaw-puzzle.png)"
   ]
  },
  {
   "cell_type": "markdown",
   "metadata": {},
   "source": [
    "We'll start simple, with a single fully-connected neural layer as encoder and as decoder:"
   ]
  },
  {
   "cell_type": "code",
   "execution_count": 1,
   "metadata": {},
   "outputs": [
    {
     "name": "stderr",
     "output_type": "stream",
     "text": [
      "Using TensorFlow backend.\n",
      "/usr/local/anaconda/lib/python3.6/importlib/_bootstrap.py:205: RuntimeWarning: compiletime version 3.5 of module 'tensorflow.python.framework.fast_tensor_util' does not match runtime version 3.6\n",
      "  return f(*args, **kwds)\n"
     ]
    }
   ],
   "source": [
    "from keras.layers import Input, Dense\n",
    "from keras.models import Model"
   ]
  },
  {
   "cell_type": "code",
   "execution_count": 2,
   "metadata": {},
   "outputs": [],
   "source": [
    "# this is the size of our encoded representations\n",
    "encoding_dim = 32  # 32 floats -> compression of factor 24.5, assuming the input is 784 floats"
   ]
  },
  {
   "cell_type": "code",
   "execution_count": 3,
   "metadata": {},
   "outputs": [],
   "source": [
    "# this is our input placeholder\n",
    "input_img = Input(shape=(784,))\n",
    "# \"encoded\" is the encoded representation of the input\n",
    "encoded = Dense(encoding_dim, activation='relu')(input_img)\n",
    "# \"decoded\" is the lossy reconstruction of the input\n",
    "decoded = Dense(784, activation='sigmoid')(encoded)"
   ]
  },
  {
   "cell_type": "markdown",
   "metadata": {},
   "source": [
    "Let's also create a separate encoder model:"
   ]
  },
  {
   "cell_type": "code",
   "execution_count": 4,
   "metadata": {},
   "outputs": [],
   "source": [
    "# this model maps an input to its reconstruction\n",
    "autoencoder = Model(input_img, decoded)"
   ]
  },
  {
   "cell_type": "code",
   "execution_count": 5,
   "metadata": {},
   "outputs": [],
   "source": [
    "# this model maps an input to its encoded representation\n",
    "encoder = Model(input_img, encoded)"
   ]
  },
  {
   "cell_type": "markdown",
   "metadata": {},
   "source": [
    "As well as the decoder model:"
   ]
  },
  {
   "cell_type": "code",
   "execution_count": 6,
   "metadata": {},
   "outputs": [],
   "source": [
    "# create a placeholder for an encoded (32-dimensional) input\n",
    "encoded_input = Input(shape=(encoding_dim,))\n",
    "# retrieve the last layer of the autoencoder model\n",
    "decoder_layer = autoencoder.layers[-1]\n",
    "# create the decoder model\n",
    "decoder = Model(encoded_input, decoder_layer(encoded_input))"
   ]
  },
  {
   "cell_type": "markdown",
   "metadata": {},
   "source": [
    "Now let's train our autoencoder to reconstruct MNIST digits.\n",
    "\n",
    "First, we'll configure our model to use a per-pixel binary crossentropy loss, and the Adadelta optimizer:"
   ]
  },
  {
   "cell_type": "code",
   "execution_count": 7,
   "metadata": {},
   "outputs": [],
   "source": [
    "autoencoder.compile(optimizer='adadelta', loss='binary_crossentropy')"
   ]
  },
  {
   "cell_type": "markdown",
   "metadata": {},
   "source": [
    "Let's prepare our input data. We're using MNIST digits, and we're discarding the labels (since we're only interested in encoding/decoding the input images)."
   ]
  },
  {
   "cell_type": "code",
   "execution_count": 8,
   "metadata": {},
   "outputs": [
    {
     "name": "stdout",
     "output_type": "stream",
     "text": [
      "Downloading data from https://s3.amazonaws.com/img-datasets/mnist.npz\n",
      "11493376/11490434 [==============================] - 0s 0us/step\n"
     ]
    }
   ],
   "source": [
    "from keras.datasets import mnist\n",
    "import numpy as np\n",
    "(x_train, _), (x_test, _) = mnist.load_data()"
   ]
  },
  {
   "cell_type": "markdown",
   "metadata": {},
   "source": [
    "We will normalize all values between 0 and 1 and we will flatten the 28x28 images into vectors of size 784."
   ]
  },
  {
   "cell_type": "code",
   "execution_count": 9,
   "metadata": {},
   "outputs": [
    {
     "name": "stdout",
     "output_type": "stream",
     "text": [
      "(60000, 784)\n",
      "(10000, 784)\n"
     ]
    }
   ],
   "source": [
    "x_train = x_train.astype('float32') / 255.\n",
    "x_test = x_test.astype('float32') / 255.\n",
    "x_train = x_train.reshape((len(x_train), np.prod(x_train.shape[1:])))\n",
    "x_test = x_test.reshape((len(x_test), np.prod(x_test.shape[1:])))\n",
    "print(x_train.shape)\n",
    "print(x_test.shape)"
   ]
  },
  {
   "cell_type": "code",
   "execution_count": 10,
   "metadata": {},
   "outputs": [
    {
     "name": "stdout",
     "output_type": "stream",
     "text": [
      "Train on 60000 samples, validate on 10000 samples\n",
      "Epoch 1/50\n",
      "60000/60000 [==============================] - 5s 76us/step - loss: 0.3575 - val_loss: 0.2716\n",
      "Epoch 2/50\n",
      "60000/60000 [==============================] - 5s 81us/step - loss: 0.2649 - val_loss: 0.2545\n",
      "Epoch 3/50\n",
      "60000/60000 [==============================] - 5s 87us/step - loss: 0.2441 - val_loss: 0.2318\n",
      "Epoch 4/50\n",
      "60000/60000 [==============================] - 7s 123us/step - loss: 0.2238 - val_loss: 0.2137\n",
      "Epoch 5/50\n",
      "60000/60000 [==============================] - 8s 128us/step - loss: 0.2087 - val_loss: 0.2012\n",
      "Epoch 6/50\n",
      "60000/60000 [==============================] - 8s 129us/step - loss: 0.1979 - val_loss: 0.1918\n",
      "Epoch 7/50\n",
      "60000/60000 [==============================] - 7s 124us/step - loss: 0.1893 - val_loss: 0.1840\n",
      "Epoch 8/50\n",
      "60000/60000 [==============================] - 8s 127us/step - loss: 0.1822 - val_loss: 0.1775\n",
      "Epoch 9/50\n",
      "60000/60000 [==============================] - 7s 124us/step - loss: 0.1762 - val_loss: 0.1721\n",
      "Epoch 10/50\n",
      "60000/60000 [==============================] - 7s 124us/step - loss: 0.1711 - val_loss: 0.1672\n",
      "Epoch 11/50\n",
      "60000/60000 [==============================] - 8s 127us/step - loss: 0.1665 - val_loss: 0.1628\n",
      "Epoch 12/50\n",
      "60000/60000 [==============================] - 8s 129us/step - loss: 0.1622 - val_loss: 0.1587\n",
      "Epoch 13/50\n",
      "60000/60000 [==============================] - 8s 132us/step - loss: 0.1582 - val_loss: 0.1548\n",
      "Epoch 14/50\n",
      "60000/60000 [==============================] - 8s 131us/step - loss: 0.1545 - val_loss: 0.1512\n",
      "Epoch 15/50\n",
      "60000/60000 [==============================] - 8s 128us/step - loss: 0.1511 - val_loss: 0.1480\n",
      "Epoch 16/50\n",
      "60000/60000 [==============================] - 8s 128us/step - loss: 0.1479 - val_loss: 0.1449\n",
      "Epoch 17/50\n",
      "60000/60000 [==============================] - 8s 131us/step - loss: 0.1450 - val_loss: 0.1420\n",
      "Epoch 18/50\n",
      "60000/60000 [==============================] - 8s 132us/step - loss: 0.1424 - val_loss: 0.1395\n",
      "Epoch 19/50\n",
      "60000/60000 [==============================] - 8s 131us/step - loss: 0.1399 - val_loss: 0.1371\n",
      "Epoch 20/50\n",
      "60000/60000 [==============================] - 8s 128us/step - loss: 0.1376 - val_loss: 0.1349\n",
      "Epoch 21/50\n",
      "60000/60000 [==============================] - 8s 126us/step - loss: 0.1355 - val_loss: 0.1330\n",
      "Epoch 22/50\n",
      "60000/60000 [==============================] - 8s 129us/step - loss: 0.1335 - val_loss: 0.1310\n",
      "Epoch 23/50\n",
      "60000/60000 [==============================] - 8s 133us/step - loss: 0.1316 - val_loss: 0.1291\n",
      "Epoch 24/50\n",
      "60000/60000 [==============================] - 8s 133us/step - loss: 0.1297 - val_loss: 0.1273\n",
      "Epoch 25/50\n",
      "60000/60000 [==============================] - 8s 129us/step - loss: 0.1280 - val_loss: 0.1256\n",
      "Epoch 26/50\n",
      "60000/60000 [==============================] - 8s 133us/step - loss: 0.1263 - val_loss: 0.1239\n",
      "Epoch 27/50\n",
      "60000/60000 [==============================] - 8s 132us/step - loss: 0.1247 - val_loss: 0.1223\n",
      "Epoch 28/50\n",
      "60000/60000 [==============================] - 8s 132us/step - loss: 0.1232 - val_loss: 0.1208\n",
      "Epoch 29/50\n",
      "60000/60000 [==============================] - 8s 131us/step - loss: 0.1217 - val_loss: 0.1194\n",
      "Epoch 30/50\n",
      "60000/60000 [==============================] - 8s 128us/step - loss: 0.1203 - val_loss: 0.1180\n",
      "Epoch 31/50\n",
      "60000/60000 [==============================] - 8s 135us/step - loss: 0.1191 - val_loss: 0.1168\n",
      "Epoch 32/50\n",
      "60000/60000 [==============================] - 8s 131us/step - loss: 0.1178 - val_loss: 0.1157\n",
      "Epoch 33/50\n",
      "60000/60000 [==============================] - 8s 131us/step - loss: 0.1167 - val_loss: 0.1145\n",
      "Epoch 34/50\n",
      "60000/60000 [==============================] - 8s 130us/step - loss: 0.1156 - val_loss: 0.1134\n",
      "Epoch 35/50\n",
      "60000/60000 [==============================] - 8s 127us/step - loss: 0.1146 - val_loss: 0.1125\n",
      "Epoch 36/50\n",
      "60000/60000 [==============================] - 8s 130us/step - loss: 0.1137 - val_loss: 0.1116\n",
      "Epoch 37/50\n",
      "60000/60000 [==============================] - 8s 128us/step - loss: 0.1129 - val_loss: 0.1107\n",
      "Epoch 38/50\n",
      "60000/60000 [==============================] - 8s 128us/step - loss: 0.1120 - val_loss: 0.1099\n",
      "Epoch 39/50\n",
      "60000/60000 [==============================] - 7s 122us/step - loss: 0.1113 - val_loss: 0.1092\n",
      "Epoch 40/50\n",
      "60000/60000 [==============================] - 7s 125us/step - loss: 0.1106 - val_loss: 0.1085\n",
      "Epoch 41/50\n",
      "60000/60000 [==============================] - 8s 127us/step - loss: 0.1100 - val_loss: 0.1079\n",
      "Epoch 42/50\n",
      "60000/60000 [==============================] - 8s 128us/step - loss: 0.1094 - val_loss: 0.1073\n",
      "Epoch 43/50\n",
      "60000/60000 [==============================] - 8s 126us/step - loss: 0.1088 - val_loss: 0.1068\n",
      "Epoch 44/50\n",
      "60000/60000 [==============================] - 7s 124us/step - loss: 0.1083 - val_loss: 0.1063\n",
      "Epoch 45/50\n",
      "60000/60000 [==============================] - 8s 128us/step - loss: 0.1078 - val_loss: 0.1058\n",
      "Epoch 46/50\n",
      "60000/60000 [==============================] - 8s 125us/step - loss: 0.1074 - val_loss: 0.1054\n",
      "Epoch 47/50\n",
      "60000/60000 [==============================] - 7s 124us/step - loss: 0.1070 - val_loss: 0.1050\n",
      "Epoch 48/50\n",
      "60000/60000 [==============================] - 8s 126us/step - loss: 0.1066 - val_loss: 0.1046\n",
      "Epoch 49/50\n",
      "60000/60000 [==============================] - 8s 126us/step - loss: 0.1062 - val_loss: 0.1043\n",
      "Epoch 50/50\n",
      "60000/60000 [==============================] - 8s 130us/step - loss: 0.1059 - val_loss: 0.1040\n"
     ]
    },
    {
     "data": {
      "text/plain": [
       "<keras.callbacks.History at 0x7f944fe1d860>"
      ]
     },
     "execution_count": 10,
     "metadata": {},
     "output_type": "execute_result"
    }
   ],
   "source": [
    "autoencoder.fit(x_train, x_train,\n",
    "                epochs=50,\n",
    "                batch_size=256,\n",
    "                shuffle=True,\n",
    "                validation_data=(x_test, x_test))"
   ]
  },
  {
   "cell_type": "markdown",
   "metadata": {},
   "source": [
    "After 50 epochs, the autoencoder seems to reach a stable train/test loss value of about 0.11. We can try to visualize the reconstructed inputs and the encoded representations. We will use Matplotlib."
   ]
  },
  {
   "cell_type": "code",
   "execution_count": 11,
   "metadata": {},
   "outputs": [],
   "source": [
    "# encode and decode some digits\n",
    "# note that we take them from the *test* set\n",
    "encoded_imgs = encoder.predict(x_test)\n",
    "decoded_imgs = decoder.predict(encoded_imgs)"
   ]
  },
  {
   "cell_type": "markdown",
   "metadata": {},
   "source": [
    "Here's what we get. The top row is the original digits, and the bottom row is the reconstructed digits. We are losing quite a bit of detail with this basic approach."
   ]
  },
  {
   "cell_type": "code",
   "execution_count": 12,
   "metadata": {},
   "outputs": [
    {
     "data": {
      "image/png": "[encoded data removed]",
      "text/plain": [
       "<Figure size 1440x288 with 20 Axes>"
      ]
     },
     "metadata": {},
     "output_type": "display_data"
    }
   ],
   "source": [
    "# use Matplotlib (don't ask)\n",
    "import matplotlib.pyplot as plt\n",
    "\n",
    "n = 10  # how many digits we will display\n",
    "plt.figure(figsize=(20, 4))\n",
    "for i in range(n):\n",
    "    # display original\n",
    "    ax = plt.subplot(2, n, i + 1)\n",
    "    plt.imshow(x_test[i].reshape(28, 28))\n",
    "    plt.gray()\n",
    "    ax.get_xaxis().set_visible(False)\n",
    "    ax.get_yaxis().set_visible(False)\n",
    "\n",
    "    # display reconstruction\n",
    "    ax = plt.subplot(2, n, i + 1 + n)\n",
    "    plt.imshow(decoded_imgs[i].reshape(28, 28))\n",
    "    plt.gray()\n",
    "    ax.get_xaxis().set_visible(False)\n",
    "    ax.get_yaxis().set_visible(False)\n",
    "plt.show()"
   ]
  },
  {
   "cell_type": "markdown",
   "metadata": {},
   "source": [
    "Investigation ends here."
   ]
  }
 ],
 "metadata": {
  "kernelspec": {
   "display_name": "Python 3",
   "language": "python",
   "name": "python3"
  },
  "language_info": {
   "codemirror_mode": {
    "name": "ipython",
    "version": 3
   },
   "file_extension": ".py",
   "mimetype": "text/x-python",
   "name": "python",
   "nbconvert_exporter": "python",
   "pygments_lexer": "ipython3",
   "version": "3.6.2"
  }
 },
 "nbformat": 4,
 "nbformat_minor": 2
}
