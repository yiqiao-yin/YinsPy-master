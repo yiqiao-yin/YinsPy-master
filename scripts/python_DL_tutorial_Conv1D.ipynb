{
 "cells": [
  {
   "cell_type": "markdown",
   "metadata": {},
   "source": [
    "## Convolutional 1-Dim\n",
    "\n",
    "This is a tutorial focusing on one single function *Conv1D* function from *tensorflow* library."
   ]
  },
  {
   "cell_type": "code",
   "execution_count": 1,
   "metadata": {},
   "outputs": [],
   "source": [
    "import tensorflow as tf"
   ]
  },
  {
   "cell_type": "code",
   "execution_count": 91,
   "metadata": {},
   "outputs": [],
   "source": [
    "input_shape = (2,20,2)"
   ]
  },
  {
   "cell_type": "code",
   "execution_count": 92,
   "metadata": {},
   "outputs": [],
   "source": [
    "x = tf.random.normal(input_shape)"
   ]
  },
  {
   "cell_type": "code",
   "execution_count": 101,
   "metadata": {},
   "outputs": [
    {
     "data": {
      "text/plain": [
       "TensorShape([2, 20, 2])"
      ]
     },
     "execution_count": 101,
     "metadata": {},
     "output_type": "execute_result"
    }
   ],
   "source": [
    "x.shape"
   ]
  },
  {
   "cell_type": "code",
   "execution_count": 102,
   "metadata": {},
   "outputs": [
    {
     "data": {
      "text/plain": [
       "<tf.Tensor: shape=(2, 20, 2), dtype=float32, numpy=\n",
       "array([[[ 7.9686010e-01, -6.6684312e-01],\n",
       "        [ 5.5639797e-01,  2.3833774e-01],\n",
       "        [ 2.5320266e-04, -8.9196968e-01],\n",
       "        [ 6.6768730e-01,  6.4210790e-01],\n",
       "        [ 4.6035065e-03, -1.4953646e-01],\n",
       "        [-5.7442617e-01,  3.3971784e-01],\n",
       "        [-3.2520407e-01, -4.1204163e-01],\n",
       "        [ 3.4481227e-01,  3.5877794e-01],\n",
       "        [ 4.3358383e-01, -1.6852709e+00],\n",
       "        [ 2.4002783e+00, -2.4830991e-01],\n",
       "        [-1.2335764e+00,  6.3860804e-01],\n",
       "        [-6.6572785e-01,  1.9594632e+00],\n",
       "        [-2.2027427e-01,  5.3523064e-01],\n",
       "        [-9.9526078e-01,  5.2371186e-01],\n",
       "        [-1.2952344e+00, -2.9586545e-01],\n",
       "        [-6.7008924e-01, -5.8331585e-01],\n",
       "        [ 3.0181477e+00,  1.7787707e+00],\n",
       "        [ 6.0072505e-01,  1.2824241e+00],\n",
       "        [ 1.2835287e+00,  3.2526663e-01],\n",
       "        [-1.1155177e+00, -1.4145297e+00]],\n",
       "\n",
       "       [[-1.0508752e+00, -3.6886171e-01],\n",
       "        [-1.7271293e+00,  1.3413453e+00],\n",
       "        [ 2.2199100e-01, -2.5654142e+00],\n",
       "        [ 5.8562380e-01,  5.8374360e-02],\n",
       "        [ 1.3864360e+00, -9.8765892e-01],\n",
       "        [-4.1873004e-02, -3.4328088e-01],\n",
       "        [ 2.4875057e+00,  9.0482765e-01],\n",
       "        [-1.0756290e+00, -5.2971452e-02],\n",
       "        [ 5.6424189e-01,  6.5885305e-01],\n",
       "        [-6.4740205e-01, -7.2585844e-02],\n",
       "        [-1.8257886e+00, -2.0509459e-01],\n",
       "        [ 1.7395473e-01, -2.0317885e-01],\n",
       "        [-6.0765731e-01, -5.5560184e-01],\n",
       "        [ 1.2911682e+00, -6.7951667e-01],\n",
       "        [-1.6102471e+00,  5.9606946e-01],\n",
       "        [-1.2106146e+00,  1.3225311e+00],\n",
       "        [-6.7357272e-01,  1.5824467e-02],\n",
       "        [ 6.0440294e-02, -9.0486372e-01],\n",
       "        [ 1.1995981e+00,  2.9301015e-01],\n",
       "        [ 2.7883330e-02,  1.6539227e+00]]], dtype=float32)>"
      ]
     },
     "execution_count": 102,
     "metadata": {},
     "output_type": "execute_result"
    }
   ],
   "source": [
    "x"
   ]
  },
  {
   "cell_type": "code",
   "execution_count": 112,
   "metadata": {},
   "outputs": [],
   "source": [
    "y = tf.keras.layers.Conv1D(\n",
    "    1, 2,\n",
    "    activation='relu',\n",
    "    input_shape=input_shape[1:])"
   ]
  },
  {
   "cell_type": "code",
   "execution_count": 113,
   "metadata": {},
   "outputs": [
    {
     "data": {
      "text/plain": [
       "TensorShape([2, 19, 1])"
      ]
     },
     "execution_count": 113,
     "metadata": {},
     "output_type": "execute_result"
    }
   ],
   "source": [
    "y(x).shape"
   ]
  },
  {
   "cell_type": "code",
   "execution_count": 114,
   "metadata": {},
   "outputs": [
    {
     "data": {
      "text/plain": [
       "<tf.Tensor: shape=(2, 19, 1), dtype=float32, numpy=\n",
       "array([[[0.21617515],\n",
       "        [0.30163464],\n",
       "        [0.        ],\n",
       "        [0.70376617],\n",
       "        [0.3267373 ],\n",
       "        [0.        ],\n",
       "        [0.        ],\n",
       "        [0.        ],\n",
       "        [0.        ],\n",
       "        [2.6346264 ],\n",
       "        [0.02729309],\n",
       "        [0.32706016],\n",
       "        [0.6173085 ],\n",
       "        [0.        ],\n",
       "        [0.        ],\n",
       "        [0.        ],\n",
       "        [3.0278938 ],\n",
       "        [0.33676142],\n",
       "        [1.3401303 ]],\n",
       "\n",
       "       [[0.22742169],\n",
       "        [0.        ],\n",
       "        [0.        ],\n",
       "        [0.        ],\n",
       "        [0.7422912 ],\n",
       "        [0.        ],\n",
       "        [2.819121  ],\n",
       "        [0.        ],\n",
       "        [0.96852237],\n",
       "        [0.30876982],\n",
       "        [0.        ],\n",
       "        [0.23859017],\n",
       "        [0.        ],\n",
       "        [1.7774688 ],\n",
       "        [0.        ],\n",
       "        [0.        ],\n",
       "        [0.        ],\n",
       "        [0.        ],\n",
       "        [1.4638245 ]]], dtype=float32)>"
      ]
     },
     "execution_count": 114,
     "metadata": {},
     "output_type": "execute_result"
    }
   ],
   "source": [
    "y(x)"
   ]
  }
 ],
 "metadata": {
  "kernelspec": {
   "display_name": "Python 3",
   "language": "python",
   "name": "python3"
  },
  "language_info": {
   "codemirror_mode": {
    "name": "ipython",
    "version": 3
   },
   "file_extension": ".py",
   "mimetype": "text/x-python",
   "name": "python",
   "nbconvert_exporter": "python",
   "pygments_lexer": "ipython3",
   "version": "3.8.3"
  }
 },
 "nbformat": 4,
 "nbformat_minor": 4
}
