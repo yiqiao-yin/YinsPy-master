{
 "cells": [
  {
   "cell_type": "markdown",
   "metadata": {},
   "source": [
    "# MONEY MANAGEMENT: INTERPRETATION OF Hodrick–Prescott filter\n",
    "\n",
    "The Hodrick–Prescott filter (also known as Hodrick–Prescott decomposition) is a mathematical tool used in macroeconomics, especially in real business cycle theory, to remove the cyclical component of a time series from raw data. It is used to obtain a smoothed-curve representation of a time series, one that is more sensitive to long-term than to short-term fluctuations. The adjustment of the sensitivity of the trend to short-term fluctuations is achieved by modifying a multiplier $\\lambda$ . The filter was popularized in the field of economics in the 1990s by economists Robert J. Hodrick.\n",
    "\n",
    "I believe HP Filter provides good interpretation on the target time-series variable. However, I do not recommend forming investment decisions based on HP Filter. One of the basic property of forming investment decision is capability of forward-looking. HP Filter does not provide good predictive power when it comes to forward-looking expectation.\n",
    "\n",
    "In this notebook, the investigation takes the following steps:\n",
    "\n",
    "- **Initiate Library**: Let us start by initiating all the required libraries.\n",
    "\n",
    "- **Get Data**: Next, let us get the data from **yfinance**. In this case, user can define any stock he or she likes. \n",
    "\n",
    "- **HP Filter**: Then we need to call the HP Filter function from stats model library.\n",
    "\n",
    "- **Visualization**: I always land on visualization after some technical analysis. We observe HP Filter break a time-series data into trend and cycle. Trend is very much like stock price but in a smoother way. Cycle acts like white noise. \n",
    "\n",
    "- **Software Management**: Last but not least, I land on software management. In this section, I provide a softly coded program for user to call for future reference.\n",
    "\n",
    "- **Bonus: Tuning**: There is an important variable $\\lambda$ in HP Filter function. In this exercise, I attempt to try different value of $\\lambda$ and I compute the Mean Absolute Error (MAE) between price and trend as well as cycle, respectively. Results seem to suggests\n",
    "    - the larger the value is for $\\lambda$, the higher the MAE is for trend at measuring stock price; though the MAE eventually flattens out;\n",
    "    - the larger the value is for $\\lambda$, the more volatile the MAE is for cycle at measuring stock price; this suggests that larger $\\lambda$ will eventually blow up the variance of the MAE.\n",
    "    \n",
    "    Note: I use the following formula for Mean Absolute Error:\n",
    "    $$\\text{MAE} :=  \\frac{\\sum_t^T |\\hat{y}_t - y|}{T}$$"
   ]
  },
  {
   "cell_type": "markdown",
   "metadata": {},
   "source": [
    "## Initiate Library"
   ]
  },
  {
   "cell_type": "code",
   "execution_count": 1,
   "metadata": {},
   "outputs": [],
   "source": [
    "import pandas as pd\n",
    "import numpy as np\n",
    "import datetime\n",
    "from pathlib import Path\n",
    "import yfinance as yf\n",
    "%matplotlib inline"
   ]
  },
  {
   "cell_type": "markdown",
   "metadata": {},
   "source": [
    "## Get Data"
   ]
  },
  {
   "cell_type": "code",
   "execution_count": 2,
   "metadata": {},
   "outputs": [],
   "source": [
    "# Define function\n",
    "def getDatafromYF(ticker, start_date, end_date):\n",
    "    stockData = yf.download(ticker, start_date, end_date)\n",
    "    return stockData\n",
    "# End function"
   ]
  },
  {
   "cell_type": "code",
   "execution_count": 3,
   "metadata": {},
   "outputs": [
    {
     "name": "stdout",
     "output_type": "stream",
     "text": [
      "[*********************100%***********************]  1 of 1 completed\n"
     ]
    },
    {
     "data": {
      "text/html": [
       "<div>\n",
       "<style scoped>\n",
       "    .dataframe tbody tr th:only-of-type {\n",
       "        vertical-align: middle;\n",
       "    }\n",
       "\n",
       "    .dataframe tbody tr th {\n",
       "        vertical-align: top;\n",
       "    }\n",
       "\n",
       "    .dataframe thead th {\n",
       "        text-align: right;\n",
       "    }\n",
       "</style>\n",
       "<table border=\"1\" class=\"dataframe\">\n",
       "  <thead>\n",
       "    <tr style=\"text-align: right;\">\n",
       "      <th></th>\n",
       "      <th>Open</th>\n",
       "      <th>High</th>\n",
       "      <th>Low</th>\n",
       "      <th>Close</th>\n",
       "      <th>Adj Close</th>\n",
       "      <th>Volume</th>\n",
       "    </tr>\n",
       "    <tr>\n",
       "      <th>Date</th>\n",
       "      <th></th>\n",
       "      <th></th>\n",
       "      <th></th>\n",
       "      <th></th>\n",
       "      <th></th>\n",
       "      <th></th>\n",
       "    </tr>\n",
       "  </thead>\n",
       "  <tbody>\n",
       "    <tr>\n",
       "      <td>2017-01-03</td>\n",
       "      <td>115.800003</td>\n",
       "      <td>116.330002</td>\n",
       "      <td>114.760002</td>\n",
       "      <td>116.150002</td>\n",
       "      <td>110.691154</td>\n",
       "      <td>28781900</td>\n",
       "    </tr>\n",
       "    <tr>\n",
       "      <td>2017-01-04</td>\n",
       "      <td>115.849998</td>\n",
       "      <td>116.510002</td>\n",
       "      <td>115.750000</td>\n",
       "      <td>116.019997</td>\n",
       "      <td>110.567276</td>\n",
       "      <td>21118100</td>\n",
       "    </tr>\n",
       "    <tr>\n",
       "      <td>2017-01-05</td>\n",
       "      <td>115.919998</td>\n",
       "      <td>116.860001</td>\n",
       "      <td>115.809998</td>\n",
       "      <td>116.610001</td>\n",
       "      <td>111.129562</td>\n",
       "      <td>22193600</td>\n",
       "    </tr>\n",
       "    <tr>\n",
       "      <td>2017-01-06</td>\n",
       "      <td>116.779999</td>\n",
       "      <td>118.160004</td>\n",
       "      <td>116.470001</td>\n",
       "      <td>117.910004</td>\n",
       "      <td>112.368469</td>\n",
       "      <td>31751900</td>\n",
       "    </tr>\n",
       "    <tr>\n",
       "      <td>2017-01-09</td>\n",
       "      <td>117.949997</td>\n",
       "      <td>119.430000</td>\n",
       "      <td>117.940002</td>\n",
       "      <td>118.989998</td>\n",
       "      <td>113.397697</td>\n",
       "      <td>33561900</td>\n",
       "    </tr>\n",
       "  </tbody>\n",
       "</table>\n",
       "</div>"
      ],
      "text/plain": [
       "                  Open        High         Low       Close   Adj Close  \\\n",
       "Date                                                                     \n",
       "2017-01-03  115.800003  116.330002  114.760002  116.150002  110.691154   \n",
       "2017-01-04  115.849998  116.510002  115.750000  116.019997  110.567276   \n",
       "2017-01-05  115.919998  116.860001  115.809998  116.610001  111.129562   \n",
       "2017-01-06  116.779999  118.160004  116.470001  117.910004  112.368469   \n",
       "2017-01-09  117.949997  119.430000  117.940002  118.989998  113.397697   \n",
       "\n",
       "              Volume  \n",
       "Date                  \n",
       "2017-01-03  28781900  \n",
       "2017-01-04  21118100  \n",
       "2017-01-05  22193600  \n",
       "2017-01-06  31751900  \n",
       "2017-01-09  33561900  "
      ]
     },
     "execution_count": 3,
     "metadata": {},
     "output_type": "execute_result"
    }
   ],
   "source": [
    "tickers = 'AAPL'\n",
    "stockData = getDatafromYF(tickers, '2017-01-01', '2020-01-01')\n",
    "stockData.head()"
   ]
  },
  {
   "cell_type": "markdown",
   "metadata": {},
   "source": [
    "## Stats Model APIs: HP Filter"
   ]
  },
  {
   "cell_type": "code",
   "execution_count": 15,
   "metadata": {},
   "outputs": [],
   "source": [
    "import statsmodels.api as sm\n",
    "temp = sm.tsa.filters.hpfilter(stockData['Close'], lamb=1)"
   ]
  },
  {
   "cell_type": "code",
   "execution_count": 16,
   "metadata": {},
   "outputs": [
    {
     "data": {
      "text/html": [
       "<div>\n",
       "<style scoped>\n",
       "    .dataframe tbody tr th:only-of-type {\n",
       "        vertical-align: middle;\n",
       "    }\n",
       "\n",
       "    .dataframe tbody tr th {\n",
       "        vertical-align: top;\n",
       "    }\n",
       "\n",
       "    .dataframe thead th {\n",
       "        text-align: right;\n",
       "    }\n",
       "</style>\n",
       "<table border=\"1\" class=\"dataframe\">\n",
       "  <thead>\n",
       "    <tr style=\"text-align: right;\">\n",
       "      <th></th>\n",
       "      <th>Close</th>\n",
       "      <th>Cycle</th>\n",
       "      <th>Trend</th>\n",
       "    </tr>\n",
       "    <tr>\n",
       "      <th>Date</th>\n",
       "      <th></th>\n",
       "      <th></th>\n",
       "      <th></th>\n",
       "    </tr>\n",
       "  </thead>\n",
       "  <tbody>\n",
       "    <tr>\n",
       "      <td>2017-01-03</td>\n",
       "      <td>116.150002</td>\n",
       "      <td>0.258666</td>\n",
       "      <td>115.891336</td>\n",
       "    </tr>\n",
       "    <tr>\n",
       "      <td>2017-01-04</td>\n",
       "      <td>116.019997</td>\n",
       "      <td>-0.262425</td>\n",
       "      <td>116.282421</td>\n",
       "    </tr>\n",
       "    <tr>\n",
       "      <td>2017-01-05</td>\n",
       "      <td>116.610001</td>\n",
       "      <td>-0.322172</td>\n",
       "      <td>116.932173</td>\n",
       "    </tr>\n",
       "    <tr>\n",
       "      <td>2017-01-06</td>\n",
       "      <td>117.910004</td>\n",
       "      <td>0.073172</td>\n",
       "      <td>117.836831</td>\n",
       "    </tr>\n",
       "    <tr>\n",
       "      <td>2017-01-09</td>\n",
       "      <td>118.989998</td>\n",
       "      <td>0.319531</td>\n",
       "      <td>118.670467</td>\n",
       "    </tr>\n",
       "    <tr>\n",
       "      <td>...</td>\n",
       "      <td>...</td>\n",
       "      <td>...</td>\n",
       "      <td>...</td>\n",
       "    </tr>\n",
       "    <tr>\n",
       "      <td>2019-12-24</td>\n",
       "      <td>284.269989</td>\n",
       "      <td>-1.170789</td>\n",
       "      <td>285.440778</td>\n",
       "    </tr>\n",
       "    <tr>\n",
       "      <td>2019-12-26</td>\n",
       "      <td>289.910004</td>\n",
       "      <td>1.730721</td>\n",
       "      <td>288.179282</td>\n",
       "    </tr>\n",
       "    <tr>\n",
       "      <td>2019-12-27</td>\n",
       "      <td>289.799988</td>\n",
       "      <td>-0.316334</td>\n",
       "      <td>290.116322</td>\n",
       "    </tr>\n",
       "    <tr>\n",
       "      <td>2019-12-30</td>\n",
       "      <td>291.519989</td>\n",
       "      <td>-0.314927</td>\n",
       "      <td>291.834916</td>\n",
       "    </tr>\n",
       "    <tr>\n",
       "      <td>2019-12-31</td>\n",
       "      <td>293.649994</td>\n",
       "      <td>0.048241</td>\n",
       "      <td>293.601753</td>\n",
       "    </tr>\n",
       "  </tbody>\n",
       "</table>\n",
       "<p>754 rows × 3 columns</p>\n",
       "</div>"
      ],
      "text/plain": [
       "                 Close     Cycle       Trend\n",
       "Date                                        \n",
       "2017-01-03  116.150002  0.258666  115.891336\n",
       "2017-01-04  116.019997 -0.262425  116.282421\n",
       "2017-01-05  116.610001 -0.322172  116.932173\n",
       "2017-01-06  117.910004  0.073172  117.836831\n",
       "2017-01-09  118.989998  0.319531  118.670467\n",
       "...                ...       ...         ...\n",
       "2019-12-24  284.269989 -1.170789  285.440778\n",
       "2019-12-26  289.910004  1.730721  288.179282\n",
       "2019-12-27  289.799988 -0.316334  290.116322\n",
       "2019-12-30  291.519989 -0.314927  291.834916\n",
       "2019-12-31  293.649994  0.048241  293.601753\n",
       "\n",
       "[754 rows x 3 columns]"
      ]
     },
     "execution_count": 16,
     "metadata": {},
     "output_type": "execute_result"
    }
   ],
   "source": [
    "finalData = pd.DataFrame({'Close': stockData['Close'], 'Cycle': temp[0], 'Trend': temp[1]})\n",
    "finalData"
   ]
  },
  {
   "cell_type": "markdown",
   "metadata": {},
   "source": [
    "## Visualization by Matplotlib"
   ]
  },
  {
   "cell_type": "code",
   "execution_count": 17,
   "metadata": {},
   "outputs": [
    {
     "data": {
      "image/png": "[encoded data removed]",
      "text/plain": [
       "<Figure size 432x288 with 1 Axes>"
      ]
     },
     "metadata": {
      "needs_background": "light"
     },
     "output_type": "display_data"
    }
   ],
   "source": [
    "import matplotlib.pyplot as plt\n",
    "plt.plot(stockData['Close'], color = 'black', label = f'Real {tickers} Stock Price')\n",
    "plt.plot(temp[1], color = 'red', label = f'Real {tickers} Trend')\n",
    "plt.plot(temp[0], color = 'blue', label = f'Predicted {tickers} Cycle')\n",
    "plt.title(f'Time-series Analysis on {tickers} Using HP Filter')\n",
    "plt.xlabel('Time')\n",
    "plt.ylabel(f'Values Computed from Analysis on {tickers}')\n",
    "plt.legend()\n",
    "plt.show()"
   ]
  },
  {
   "cell_type": "code",
   "execution_count": 7,
   "metadata": {},
   "outputs": [
    {
     "data": {
      "text/plain": [
       "182.6541512284419"
      ]
     },
     "execution_count": 7,
     "metadata": {},
     "output_type": "execute_result"
    }
   ],
   "source": [
    "sum_of_errors = np.abs(stockData['Close'] - temp[0])\n",
    "RMSE = np.sum(sum_of_errors)/len(sum_of_errors)\n",
    "RMSE"
   ]
  },
  {
   "cell_type": "code",
   "execution_count": 8,
   "metadata": {},
   "outputs": [
    {
     "data": {
      "text/plain": [
       "0.931014507517916"
      ]
     },
     "execution_count": 8,
     "metadata": {},
     "output_type": "execute_result"
    }
   ],
   "source": [
    "sum_of_errors = np.abs(stockData['Close'] - temp[1])\n",
    "RMSE = np.sum(sum_of_errors)/len(sum_of_errors)\n",
    "RMSE"
   ]
  },
  {
   "cell_type": "markdown",
   "metadata": {},
   "source": [
    "## Software Management"
   ]
  },
  {
   "cell_type": "code",
   "execution_count": 9,
   "metadata": {},
   "outputs": [],
   "source": [
    "# Define function\n",
    "def MM_HPFilter(ticker, start_date, end_date, verbose=True, lamb=1600):\n",
    "    ## Libraries\n",
    "    import pandas as pd\n",
    "    import numpy as np\n",
    "    import datetime\n",
    "    from pathlib import Path\n",
    "    import yfinance as yf\n",
    "    %matplotlib inline\n",
    "\n",
    "    ## Get Data\n",
    "    # Define function\n",
    "    def getDatafromYF(ticker, start_date, end_date):\n",
    "        stockData = yf.download(ticker, start_date, end_date)\n",
    "        return stockData\n",
    "    # End function\n",
    "\n",
    "    # Data\n",
    "    stockData = getDatafromYF(tickers, start_date, end_date)\n",
    "\n",
    "    ## Stats Model APIs: HP Filter\n",
    "    import statsmodels.api as sm\n",
    "    temp = sm.tsa.filters.hpfilter(stockData['Close'], lamb=lamb)\n",
    "    finalData = pd.DataFrame({'Close': stockData['Close'], 'Cycle': temp[0], 'Trend': temp[1]})\n",
    "    #finalData\n",
    "\n",
    "    ## Visualization by Matplotlib\n",
    "    import matplotlib.pyplot as plt\n",
    "    if verbose:\n",
    "        plt.plot(stockData['Close'], color = 'black', label = f'Real {tickers} Stock Price')\n",
    "        plt.plot(temp[1], color = 'red', label = f'Real {tickers} Trend')\n",
    "        plt.plot(temp[0], color = 'blue', label = f'Predicted {tickers} Cycle')\n",
    "        plt.title(f'Time-series Analysis on {tickers} Using HP Filter')\n",
    "        plt.xlabel('Time')\n",
    "        plt.ylabel(f'Values Computed from Analysis on {tickers}')\n",
    "        plt.legend()\n",
    "        plt.show()\n",
    "\n",
    "    # Errors\n",
    "    trend_sum_of_errors = np.abs(stockData['Close'] - temp[1])\n",
    "    trend_RMSE = np.sum(trend_sum_of_errors)/len(trend_sum_of_errors)\n",
    "    trendInfo = {'RMSE': trend_RMSE}\n",
    "    cycle_sum_of_errors = np.abs(stockData['Close'] - temp[0])\n",
    "    cycle_RMSE = np.sum(cycle_sum_of_errors)/len(cycle_sum_of_errors)\n",
    "    cycleInfo = {'RMSE': cycle_RMSE}\n",
    "    \n",
    "    \n",
    "    return {\n",
    "        'finalData': finalData,\n",
    "        'RMSE': {'Trend': trendInfo, 'Cycle': cycleInfo}}\n",
    "# End function"
   ]
  },
  {
   "cell_type": "code",
   "execution_count": 10,
   "metadata": {},
   "outputs": [
    {
     "name": "stdout",
     "output_type": "stream",
     "text": [
      "[*********************100%***********************]  1 of 1 completed\n"
     ]
    },
    {
     "data": {
      "text/plain": [
       "{'Trend': {'RMSE': 2.5826239139680625}, 'Cycle': {'RMSE': 182.65415122844277}}"
      ]
     },
     "execution_count": 10,
     "metadata": {},
     "output_type": "execute_result"
    }
   ],
   "source": [
    "temp = MM_HPFilter('AAPL', '2017-01-01', '2020-01-01', False, 1600)\n",
    "temp['RMSE']"
   ]
  },
  {
   "cell_type": "markdown",
   "metadata": {},
   "source": [
    "## Tuning Lambda in HP Filter"
   ]
  },
  {
   "cell_type": "code",
   "execution_count": null,
   "metadata": {},
   "outputs": [],
   "source": [
    "trend_data = []\n",
    "cycle_data = []\n",
    "for i in range(0, 500000, 1000):\n",
    "    TMP = MM_HPFilter('AAPL', '2017-01-01', '2020-01-01', False, i)\n",
    "    trend_data.append(TMP['RMSE']['Trend']['RMSE'])\n",
    "    cycle_data.append(TMP['RMSE']['Cycle']['RMSE'])\n",
    "    #print('Round:', i, ', Result:', TMP['RMSE']['Trend']['RMSE'], ',', TMP['RMSE']['Cycle']['RMSE'])"
   ]
  },
  {
   "cell_type": "code",
   "execution_count": 12,
   "metadata": {},
   "outputs": [
    {
     "data": {
      "image/png": "[encoded data removed]",
      "text/plain": [
       "<Figure size 432x288 with 1 Axes>"
      ]
     },
     "metadata": {
      "needs_background": "light"
     },
     "output_type": "display_data"
    }
   ],
   "source": [
    "plt.plot(trend_data, color = 'black', label = f'Trend RMSE')\n",
    "plt.title(f'HP Filter')\n",
    "plt.xlabel('Lambda with Range(0, 10000, 100)')\n",
    "plt.ylabel(f'Values')\n",
    "plt.legend()\n",
    "plt.show()"
   ]
  },
  {
   "cell_type": "code",
   "execution_count": 13,
   "metadata": {},
   "outputs": [
    {
     "data": {
      "image/png": "[encoded data removed]",
      "text/plain": [
       "<Figure size 432x288 with 1 Axes>"
      ]
     },
     "metadata": {
      "needs_background": "light"
     },
     "output_type": "display_data"
    }
   ],
   "source": [
    "plt.plot(cycle_data, color = 'red', label = f'Cycle RMSE')\n",
    "plt.title(f'HP Filter')\n",
    "plt.xlabel('Lambda with Range(0, 10000, 100)')\n",
    "plt.ylabel(f'Values')\n",
    "plt.legend()\n",
    "plt.show()"
   ]
  },
  {
   "cell_type": "markdown",
   "metadata": {},
   "source": [
    "Investigation ends here."
   ]
  }
 ],
 "metadata": {
  "kernelspec": {
   "display_name": "Python 3",
   "language": "python",
   "name": "python3"
  },
  "language_info": {
   "codemirror_mode": {
    "name": "ipython",
    "version": 3
   },
   "file_extension": ".py",
   "mimetype": "text/x-python",
   "name": "python",
   "nbconvert_exporter": "python",
   "pygments_lexer": "ipython3",
   "version": "3.7.4"
  }
 },
 "nbformat": 4,
 "nbformat_minor": 4
}
