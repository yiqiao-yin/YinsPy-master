{
 "cells": [
  {
   "cell_type": "markdown",
   "metadata": {},
   "source": [
    "# Construct Optimal Portfolio: a Markowitz Portfolio Theory (MPT) Investigation\n",
    "\n",
    "This notebook I conduct an in-depth investigation of the topic \"how to construct optimal portfolio\". One of the important scholars is Jon Markowtiz. In this survey, topics cover portfolios, portfolio allocation, and the Sharpe ratio. \n",
    "\n",
    "In particular, I investigate different angles of looking at investment especially investment in an index fund and the type of efficient portfolios that can be constructed. I lay out the road map and bring out a step-by-step analysis of how to determine the appropriate returns and volatilities associated with different types of portfolios.\n",
    "\n",
    "For coding purpose, the steps of this python notebook are the following:\n",
    "- Library Initiation\n",
    "- Data Generation\n",
    "- Markowitz Portfolio Optimization\n",
    "- MPT Visualization\n",
    "- Product Development"
   ]
  },
  {
   "cell_type": "markdown",
   "metadata": {},
   "source": [
    "## Library Initiation\n",
    "\n",
    "First we initiate the python notebook with libraries."
   ]
  },
  {
   "cell_type": "code",
   "execution_count": 1,
   "metadata": {},
   "outputs": [],
   "source": [
    "import pandas as pd\n",
    "import numpy as np\n",
    "import yfinance as yf"
   ]
  },
  {
   "cell_type": "markdown",
   "metadata": {},
   "source": [
    "Set starting date and ending date to download data"
   ]
  },
  {
   "cell_type": "code",
   "execution_count": 2,
   "metadata": {},
   "outputs": [],
   "source": [
    "start_date = pd.to_datetime('2013-01-01')\n",
    "end_date = pd.to_datetime('2019-12-6')\n",
    "tickers = ['aapl', 'csco']"
   ]
  },
  {
   "cell_type": "markdown",
   "metadata": {},
   "source": [
    "Let us write a function to download data and then we can apply the function on the vector *tickers* which is an array of names of multiple stocks.\n",
    "\n",
    "This can be considered a helper function that we need to use later on."
   ]
  },
  {
   "cell_type": "code",
   "execution_count": 3,
   "metadata": {},
   "outputs": [],
   "source": [
    "# Define function\n",
    "def getDatafromYF(ticker, start_date, end_date):\n",
    "    stockData = yf.download(ticker, start_date, end_date)\n",
    "    return stockData\n",
    "# End function"
   ]
  },
  {
   "cell_type": "markdown",
   "metadata": {},
   "source": [
    "Let us try running *getDatafromYF()* function."
   ]
  },
  {
   "cell_type": "code",
   "execution_count": 4,
   "metadata": {},
   "outputs": [
    {
     "name": "stdout",
     "output_type": "stream",
     "text": [
      "[*********************100%***********************]  1 of 1 completed\n",
      "                 Open       High        Low      Close  Adj Close     Volume\n",
      "Date                                                                        \n",
      "2013-01-02  79.117142  79.285713  77.375717  78.432854  68.850548  140129500\n",
      "2013-01-03  78.268570  78.524284  77.285713  77.442856  67.981491   88241300\n",
      "2013-01-04  76.709999  76.947144  75.118568  75.285713  66.087891  148583400\n"
     ]
    },
    {
     "data": {
      "text/plain": [
       "<Figure size 1500x1000 with 2 Axes>"
      ]
     },
     "metadata": {},
     "output_type": "display_data"
    }
   ],
   "source": [
    "temp = getDatafromYF('aapl', start_date, end_date)\n",
    "print(temp.head(3))\n",
    "import matplotlib.pyplot as plt\n",
    "tempForPlot = temp[['Adj Close', 'Volume']]\n",
    "tempForPlot.plot(subplots=True, figsize=(15,10))\n",
    "plt.legend(loc='best')\n",
    "plt.show()\n"
   ]
  },
  {
   "cell_type": "markdown",
   "metadata": {},
   "source": [
    "## Data Generation\n",
    "\n",
    "Now let us apply this function on multiple stocks so that we can download them all at once."
   ]
  },
  {
   "cell_type": "code",
   "execution_count": 5,
   "metadata": {},
   "outputs": [
    {
     "name": "stdout",
     "output_type": "stream",
     "text": [
      "[*********************100%***********************]  1 of 1 completed\n",
      "[*********************100%***********************]  1 of 1 completed\n"
     ]
    }
   ],
   "source": [
    "# Start with Dictionary (this is where data is saved)\n",
    "stockData = {}\n",
    "for i in tickers:\n",
    "    stockData[i] = pd.DataFrame(getDatafromYF(str(i), start_date, end_date))\n",
    "    close = stockData[i]['Adj Close']\n",
    "    stockData[i]['Normalize Return'] = close / close.shift() - 1    "
   ]
  },
  {
   "cell_type": "code",
   "execution_count": 6,
   "metadata": {},
   "outputs": [
    {
     "name": "stdout",
     "output_type": "stream",
     "text": [
      "                 Open       High        Low      Close  Adj Close     Volume  \\\n",
      "Date                                                                           \n",
      "2013-01-02  79.117142  79.285713  77.375717  78.432854  68.850548  140129500   \n",
      "2013-01-03  78.268570  78.524284  77.285713  77.442856  67.981491   88241300   \n",
      "2013-01-04  76.709999  76.947144  75.118568  75.285713  66.087891  148583400   \n",
      "\n",
      "            Normalize Return  \n",
      "Date                          \n",
      "2013-01-02               NaN  \n",
      "2013-01-03         -0.012622  \n",
      "2013-01-04         -0.027855  \n",
      "                 Open   High        Low      Close  Adj Close    Volume  \\\n",
      "Date                                                                      \n",
      "2013-01-02  20.120001  20.34  20.010000  20.340000  16.471840  40304500   \n",
      "2013-01-03  20.459999  20.50  20.299999  20.450001  16.560923  50603500   \n",
      "2013-01-04  20.410000  20.68  20.389999  20.480000  16.585213  36378900   \n",
      "\n",
      "            Normalize Return  \n",
      "Date                          \n",
      "2013-01-02               NaN  \n",
      "2013-01-03          0.005408  \n",
      "2013-01-04          0.001467  \n"
     ]
    }
   ],
   "source": [
    "print(stockData['aapl'].head(3))\n",
    "print(stockData['csco'].head(3))"
   ]
  },
  {
   "cell_type": "markdown",
   "metadata": {},
   "source": [
    "Let us take a look at expected returns and risk for these candidates."
   ]
  },
  {
   "cell_type": "code",
   "execution_count": 7,
   "metadata": {},
   "outputs": [
    {
     "name": "stdout",
     "output_type": "stream",
     "text": [
      "Normalize Return: Date\n",
      "2013-01-02         NaN\n",
      "2013-01-03   -0.012622\n",
      "2013-01-04   -0.027855\n",
      "2013-01-07   -0.005882\n",
      "2013-01-08    0.002691\n",
      "                ...   \n",
      "2019-12-02   -0.011562\n",
      "2019-12-03   -0.017830\n",
      "2019-12-04    0.008826\n",
      "2019-12-05    0.014671\n",
      "2019-12-06    0.019316\n",
      "Name: Normalize Return, Length: 1746, dtype: float64 \n",
      " Expected Return: 0.0009096389567263054 \n",
      " Risk 0.015757149080291244 \n",
      " Sharpe Ratio: 0.041821855500733494\n"
     ]
    }
   ],
   "source": [
    "i = 0\n",
    "print(\n",
    "    'Normalize Return:', stockData[tickers[i]]['Normalize Return'], \n",
    "    '\\n',\n",
    "    'Expected Return:', np.mean(stockData[tickers[i]]['Normalize Return']),\n",
    "    '\\n',\n",
    "    'Risk', np.std(stockData[tickers[i]]['Normalize Return']),\n",
    "    '\\n',\n",
    "    'Sharpe Ratio:', np.mean(stockData[tickers[1]]['Normalize Return']) / np.std(stockData[tickers[0]]['Normalize Return']))"
   ]
  },
  {
   "cell_type": "markdown",
   "metadata": {},
   "source": [
    "Note that this is a large number! There are 250 trading days in a year and with an average return of 0.0091 daily this is $(1 + 0.00091)^{250} = 1.26$, a $26\\%$ gain per year."
   ]
  },
  {
   "cell_type": "code",
   "execution_count": 8,
   "metadata": {},
   "outputs": [
    {
     "name": "stdout",
     "output_type": "stream",
     "text": [
      "1.2553275697194364\n",
      "0.2553275697194364\n"
     ]
    }
   ],
   "source": [
    "print((1 + 0.00091)**(250))\n",
    "print((1 + 0.00091)**(250) - 1)"
   ]
  },
  {
   "cell_type": "markdown",
   "metadata": {},
   "source": [
    "We can look at how these stocks in the list associate with each other. A standard procedure is to look at the covariance matrix."
   ]
  },
  {
   "cell_type": "code",
   "execution_count": 9,
   "metadata": {},
   "outputs": [
    {
     "name": "stdout",
     "output_type": "stream",
     "text": [
      "            Normalize Return  Normalize Return\n",
      "Date                                          \n",
      "2013-01-02               NaN               NaN\n",
      "2013-01-03         -0.012622          0.005408\n",
      "2013-01-04         -0.027855          0.001467\n",
      "2013-01-07         -0.005882         -0.009277\n",
      "2013-01-08          0.002691          0.000986\n",
      "...                      ...               ...\n",
      "2019-12-02         -0.011562         -0.013463\n",
      "2019-12-03         -0.017830         -0.009396\n",
      "2019-12-04          0.008826         -0.008808\n",
      "2019-12-05          0.014671         -0.008430\n",
      "2019-12-06          0.019316          0.007353\n",
      "\n",
      "[1746 rows x 2 columns] \n",
      "                   Normalize Return  Normalize Return\n",
      "Normalize Return          1.000000          0.409108\n",
      "Normalize Return          0.409108          1.000000 \n",
      "                   Normalize Return  Normalize Return\n",
      "Normalize Return          0.000248          0.000090\n",
      "Normalize Return          0.000090          0.000196\n"
     ]
    }
   ],
   "source": [
    "retMatrix = pd.concat([stockData['aapl']['Normalize Return'], stockData['csco']['Normalize Return']], axis=1, join='inner')\n",
    "print(retMatrix, '\\n', retMatrix.corr(), '\\n', retMatrix.cov())"
   ]
  },
  {
   "cell_type": "markdown",
   "metadata": {},
   "source": [
    "## Markowitz Portfolio Optimization\n",
    "\n",
    "According to Markowitz, investors should not put all their eggs in one basket. He raised an important concept and he was the first man who mathematically refurbished this concept in a theoretical manner. \n",
    "\n",
    "To replicate his work, let us start by setting up a vector of weights for all stocks in the *tickers* data.\n",
    "- We set up $w_1$ for stock No. 1;\n",
    "- We assume that two stocks sum up to $100\\%$;\n",
    "- The weight $w_2$ for the other stock would be complement of $w_1$. "
   ]
  },
  {
   "cell_type": "code",
   "execution_count": 10,
   "metadata": {},
   "outputs": [
    {
     "name": "stdout",
     "output_type": "stream",
     "text": [
      "[0.         0.02040816 0.04081633 0.06122449 0.08163265 0.10204082\n",
      " 0.12244898 0.14285714 0.16326531 0.18367347 0.20408163 0.2244898\n",
      " 0.24489796 0.26530612 0.28571429 0.30612245 0.32653061 0.34693878\n",
      " 0.36734694 0.3877551  0.40816327 0.42857143 0.44897959 0.46938776\n",
      " 0.48979592 0.51020408 0.53061224 0.55102041 0.57142857 0.59183673\n",
      " 0.6122449  0.63265306 0.65306122 0.67346939 0.69387755 0.71428571\n",
      " 0.73469388 0.75510204 0.7755102  0.79591837 0.81632653 0.83673469\n",
      " 0.85714286 0.87755102 0.89795918 0.91836735 0.93877551 0.95918367\n",
      " 0.97959184 1.        ] [1.         0.97959184 0.95918367 0.93877551 0.91836735 0.89795918\n",
      " 0.87755102 0.85714286 0.83673469 0.81632653 0.79591837 0.7755102\n",
      " 0.75510204 0.73469388 0.71428571 0.69387755 0.67346939 0.65306122\n",
      " 0.63265306 0.6122449  0.59183673 0.57142857 0.55102041 0.53061224\n",
      " 0.51020408 0.48979592 0.46938776 0.44897959 0.42857143 0.40816327\n",
      " 0.3877551  0.36734694 0.34693878 0.32653061 0.30612245 0.28571429\n",
      " 0.26530612 0.24489796 0.2244898  0.20408163 0.18367347 0.16326531\n",
      " 0.14285714 0.12244898 0.10204082 0.08163265 0.06122449 0.04081633\n",
      " 0.02040816 0.        ] 0.0009096389567263054 0.0006589932119394561 0.015757149080291244 0.013986814523851313 0.409108467209612\n"
     ]
    }
   ],
   "source": [
    "w1 = np.linspace(start=0, stop=1, num=50)\n",
    "w2 = 1 - w1\n",
    "r1 = np.mean(stockData[tickers[0]]['Normalize Return'])\n",
    "r2 = np.mean(stockData[tickers[1]]['Normalize Return'])\n",
    "sd1 = np.std(stockData[tickers[0]]['Normalize Return'])\n",
    "sd2 = np.std(stockData[tickers[1]]['Normalize Return'])\n",
    "rho = np.array(retMatrix.corr())[0][1]\n",
    "print(w1, w2, r1, r2, sd1, sd2, rho)"
   ]
  },
  {
   "cell_type": "markdown",
   "metadata": {},
   "source": [
    "Let us compute return and risk for portfolios. Note that here we have multiple pairs of weights and for each pair there is a potential portfolio. We are going to plot all these portfolios in the same plot. By observing the Sharpe Ratio (reward and risk ratio), we are able to construct an efficient portfolio. Efficient portfolio is the most \"optimal\" portfolio because it has the highest Sharpe Ratio. This means that this portfolio has the highest reward per unit of risk out of all possible portfolios.\n",
    "\n",
    "To execute this idea, the very first thing we need to do is to compute the risk and returns (reward) for each of the pair of $[w_1, w_2]$. Next, we can compute covariance matrix\n",
    "$$\\Sigma = \n",
    "\\begin{bmatrix}\n",
    "\\sigma_1^2 & \\sigma_{12} \\\\\n",
    "\\sigma_{21} & \\sigma_2^2 \\\\\n",
    "\\end{bmatrix}\n",
    "$$\n",
    "\n",
    "The mathematical formula of the risks of the portfolio given\n",
    "- weights: $w_1$ and $w_2$ for two stocks\n",
    "- volatilities (measured by standard deviation of returns): $\\sigma_1$ and $\\sigma_2$ (in the script below it is called *sd1* and *sd2*)\n",
    "- correlation between the returns of two stocks: $\\rho$\n",
    "\n",
    "and we can write out\n",
    "$$(w_1\\sigma_1 + w_2\\sigma_2)^2 = w_1^2\\sigma_1^2 + 2w_1\\sigma_1w_2\\sigma_2\\rho + w_2^2\\sigma_2^2$$"
   ]
  },
  {
   "cell_type": "code",
   "execution_count": 11,
   "metadata": {},
   "outputs": [
    {
     "name": "stdout",
     "output_type": "stream",
     "text": [
      "Returns: [[0.00065899 0.00066411 0.00066922 0.00067434 0.00067945 0.00068457\n",
      "  0.00068968 0.0006948  0.00069991 0.00070503 0.00071015 0.00071526\n",
      "  0.00072038 0.00072549 0.00073061 0.00073572 0.00074084 0.00074595\n",
      "  0.00075107 0.00075618 0.0007613  0.00076641 0.00077153 0.00077664\n",
      "  0.00078176 0.00078687 0.00079199 0.0007971  0.00080222 0.00080733\n",
      "  0.00081245 0.00081757 0.00082268 0.0008278  0.00083291 0.00083803\n",
      "  0.00084314 0.00084826 0.00085337 0.00085849 0.0008636  0.00086872\n",
      "  0.00087383 0.00087895 0.00088406 0.00088918 0.00089429 0.00089941\n",
      "  0.00090452 0.00090964]] \n",
      " Risks: [[0.00019563 0.00019144 0.00018746 0.0001837  0.00018017 0.00017685\n",
      "  0.00017375 0.00017088 0.00016822 0.00016578 0.00016356 0.00016156\n",
      "  0.00015978 0.00015822 0.00015688 0.00015576 0.00015486 0.00015418\n",
      "  0.00015372 0.00015347 0.00015345 0.00015365 0.00015406 0.0001547\n",
      "  0.00015555 0.00015663 0.00015792 0.00015943 0.00016117 0.00016312\n",
      "  0.00016529 0.00016769 0.0001703  0.00017313 0.00017618 0.00017945\n",
      "  0.00018294 0.00018665 0.00019058 0.00019473 0.00019909 0.00020368\n",
      "  0.00020849 0.00021352 0.00021876 0.00022423 0.00022991 0.00023582\n",
      "  0.00024194 0.00024829]]\n"
     ]
    }
   ],
   "source": [
    "returnPath = np.zeros([1, len(w1)])\n",
    "riskPath = np.zeros([1, len(w2)])\n",
    "for i in range(len(w1)):\n",
    "    returnPath[0][i] = w1[i] * r1 + w2[i] * r2\n",
    "    riskPath[0][i] = w1[i]**2 * sd1**2 + w2[i]**2 * sd2**2 + 2*w1[i]*w2[i]*sd1*sd2*rho\n",
    "print(\n",
    "    'Returns:', returnPath,\n",
    "    '\\n',\n",
    "    'Risks:', riskPath)"
   ]
  },
  {
   "cell_type": "markdown",
   "metadata": {},
   "source": [
    "## MPT Visualization\n",
    "\n",
    "Let us use *matplotlib* to plot what these potential candidate portfolios look like."
   ]
  },
  {
   "cell_type": "code",
   "execution_count": 12,
   "metadata": {},
   "outputs": [],
   "source": [
    "# Optimal Portfolio\n",
    "maximumSR = returnPath / riskPath\n",
    "maxVal = maximumSR.max()\n",
    "for i in range(len(maximumSR[0])):\n",
    "    if maximumSR[0][i] == maxVal:\n",
    "        idx = i"
   ]
  },
  {
   "cell_type": "code",
   "execution_count": 13,
   "metadata": {},
   "outputs": [
    {
     "data": {
      "text/plain": [
       "Text(0,0.5,'Expected Return')"
      ]
     },
     "execution_count": 13,
     "metadata": {},
     "output_type": "execute_result"
    },
    {
     "data": {
      "image/png": "[encoded data removed]",
      "text/plain": [
       "<Figure size 1080x360 with 1 Axes>"
      ]
     },
     "metadata": {},
     "output_type": "display_data"
    }
   ],
   "source": [
    "import matplotlib.pyplot as plt\n",
    "marginsize = 1e-5\n",
    "data_for_plot = pd.concat({'Return': pd.DataFrame(returnPath), 'Risk': pd.DataFrame(riskPath)}, axis=0).T\n",
    "data_for_plot\n",
    "data_for_plot.plot(x='Risk', y='Return', kind='scatter', figsize=(15,5))\n",
    "plt.plot(riskPath[0][idx], returnPath[0][idx], marker='o', markersize=10, color=\"green\") # insert an additional dot: this is the position optimal portfolio\n",
    "plt.xlim([np.min(riskPath) - marginsize, np.max(riskPath) + marginsize])\n",
    "plt.ylim([np.min(returnPath) - marginsize, np.max(returnPath) + marginsize])\n",
    "plt.xlabel('Expected Volatility')\n",
    "plt.ylabel('Expected Return')"
   ]
  },
  {
   "cell_type": "markdown",
   "metadata": {},
   "source": [
    "The blue dots mark the [efficient frontier](https://en.wikipedia.org/wiki/Efficient_frontier)."
   ]
  },
  {
   "cell_type": "markdown",
   "metadata": {},
   "source": [
    "## Product Development\n",
    "\n",
    "Now we can move to final phase: product development. Let us soft code a function to replicate everything above. This purpose of this task is to be able to pack everything together in one line of a code that can be called with a simple name with the capability to compute and run everything above.\n",
    "\n",
    "In particular, we want a function with input:\n",
    "- *tickers*: the list of names of stock tickers an investor likes\n",
    "- *start_date*: starting date desired for data to be downloaded\n",
    "- *end_date*: ending date desired for data to be downloaded\n",
    "\n",
    "and the software package will output (in dictionary format):\n",
    "- return matrix\n",
    "- correlation matrix\n",
    "- parameters used to construct the portfolios\n",
    "- path of returns\n",
    "- path of risks\n",
    "- information about optimal portfolio"
   ]
  },
  {
   "cell_type": "code",
   "execution_count": 14,
   "metadata": {},
   "outputs": [],
   "source": [
    "# Define function\n",
    "def markowitzPortfolio(tickers, start_date, end_date):\n",
    "    # Define function\n",
    "    def getDatafromYF(ticker, start_date, end_date):\n",
    "        stockData = yf.download(ticker, start_date, end_date)\n",
    "        return stockData\n",
    "    # End function\n",
    "\n",
    "    # Start with Dictionary (this is where data is saved)\n",
    "    stockData = {}\n",
    "    for i in tickers:\n",
    "        stockData[i] = pd.DataFrame(getDatafromYF(str(i), start_date, end_date))\n",
    "        close = stockData[i]['Adj Close']\n",
    "        stockData[i]['Normalize Return'] = close / close.shift() - 1\n",
    "\n",
    "    # Verbose\n",
    "    for i in range(len(tickers)):\n",
    "        print(\n",
    "            'Normalize Return:', stockData[tickers[i]]['Normalize Return'], \n",
    "            '\\n',\n",
    "            'Expected Return:', np.mean(stockData[tickers[i]]['Normalize Return']),\n",
    "            '\\n',\n",
    "            'Risk', np.std(stockData[tickers[i]]['Normalize Return']),\n",
    "            '\\n',\n",
    "            'Sharpe Ratio:', np.mean(stockData[tickers[1]]['Normalize Return']) / np.std(stockData[tickers[0]]['Normalize Return']))\n",
    "    retMatrix = pd.concat([stockData[tickers[0]]['Normalize Return'], stockData[tickers[1]]['Normalize Return']], axis=1, join='inner')\n",
    "\n",
    "    # Compute the following for Markowitz Portfolio\n",
    "    w1 = np.linspace(start=0, stop=1, num=50)\n",
    "    w2 = 1 - w1\n",
    "    r1 = np.mean(stockData[tickers[0]]['Normalize Return'])\n",
    "    r2 = np.mean(stockData[tickers[1]]['Normalize Return'])\n",
    "    sd1 = np.std(stockData[tickers[0]]['Normalize Return'])\n",
    "    sd2 = np.std(stockData[tickers[1]]['Normalize Return'])\n",
    "    rho = np.array(retMatrix.corr())[0][1]\n",
    "\n",
    "    # Compute paths for returns and risks\n",
    "    returnPath = np.zeros([1, len(w1)])\n",
    "    riskPath = np.zeros([1, len(w2)])\n",
    "    for i in range(len(w1)):\n",
    "        returnPath[0][i] = w1[i] * r1 + w2[i] * r2\n",
    "        riskPath[0][i] = w1[i]**2 * sd1**2 + w2[i]**2 * sd2**2 + 2*w1[i]*w2[i]*sd1*sd2*rho\n",
    "        \n",
    "    # Optimal Portfolio\n",
    "    maximumSR = returnPath / riskPath\n",
    "    maxVal = maximumSR.max()\n",
    "    for i in range(len(maximumSR[0])):\n",
    "        if maximumSR[0][i] == maxVal:\n",
    "            idx = i\n",
    "\n",
    "    # Visualization\n",
    "    import matplotlib.pyplot as plt\n",
    "    marginsize = 1e-5\n",
    "    data_for_plot = pd.concat({'Return': pd.DataFrame(returnPath), 'Risk': pd.DataFrame(riskPath)}, axis=0).T\n",
    "    data_for_plot\n",
    "    data_for_plot.plot(x='Risk', y='Return', kind='scatter', figsize=(15,5))\n",
    "    plt.plot(riskPath[0][idx], returnPath[0][idx], marker='o', markersize=10, color='green') # insert an additional dot: this is the position optimal portfolio\n",
    "    plt.xlim([np.min(riskPath) - marginsize, np.max(riskPath) + marginsize])\n",
    "    plt.ylim([np.min(returnPath) - marginsize, np.max(returnPath) + marginsize])\n",
    "    plt.xlabel('Expected Volatility')\n",
    "    plt.ylabel('Expected Return')\n",
    "\n",
    "    # Output\n",
    "    return {'Return Matrix': retMatrix, \n",
    "            'Correlation Matrix': retMatrix.corr(), \n",
    "            'Covariance Matrix': retMatrix.cov(), \n",
    "            'Parameters': [w1, w2, r1, r2, sd1, sd2, rho], \n",
    "            'Return Path': returnPath, \n",
    "            'Risk Path': riskPath,\n",
    "            'Optimal Portfolio': {\n",
    "                'Optimal Weight': [w1[idx], w2[idx]], \n",
    "                'Optimal Return': w1[idx] * r1 + w2[idx] * r2, \n",
    "                'Optimal Volatility': w1[idx]**2 * sd1**2 + w2[idx]**2 * sd2**2 + 2*w1[idx]*w2[idx]*sd1*sd2*rho,\n",
    "                'Optimal SR': (w1[idx] * r1 + w2[idx] * r2) / (w1[idx]**2 * sd1**2 + w2[idx]**2 * sd2**2 + 2*w1[idx]*w2[idx]*sd1*sd2*rho)\n",
    "            }}\n",
    "# End of function\n"
   ]
  },
  {
   "cell_type": "markdown",
   "metadata": {},
   "source": [
    "Let us try it now!"
   ]
  },
  {
   "cell_type": "code",
   "execution_count": 15,
   "metadata": {},
   "outputs": [
    {
     "name": "stdout",
     "output_type": "stream",
     "text": [
      "[*********************100%***********************]  1 of 1 completed\n",
      "[*********************100%***********************]  1 of 1 completed\n",
      "Normalize Return: Date\n",
      "2013-01-02         NaN\n",
      "2013-01-03   -0.012622\n",
      "2013-01-04   -0.027855\n",
      "2013-01-07   -0.005882\n",
      "2013-01-08    0.002691\n",
      "                ...   \n",
      "2019-12-02   -0.011562\n",
      "2019-12-03   -0.017830\n",
      "2019-12-04    0.008826\n",
      "2019-12-05    0.014671\n",
      "2019-12-06    0.019316\n",
      "Name: Normalize Return, Length: 1746, dtype: float64 \n",
      " Expected Return: 0.0009096389567263054 \n",
      " Risk 0.015757149080291244 \n",
      " Sharpe Ratio: 0.08487389341522517\n",
      "Normalize Return: Date\n",
      "2013-01-02         NaN\n",
      "2013-01-03   -0.008214\n",
      "2013-01-04    0.035650\n",
      "2013-01-07    0.022949\n",
      "2013-01-08   -0.012237\n",
      "                ...   \n",
      "2019-12-02   -0.009621\n",
      "2019-12-03   -0.004407\n",
      "2019-12-04   -0.000553\n",
      "2019-12-05    0.003271\n",
      "2019-12-06    0.008477\n",
      "Name: Normalize Return, Length: 1746, dtype: float64 \n",
      " Expected Return: 0.0013373705915684523 \n",
      " Risk 0.02052797786789395 \n",
      " Sharpe Ratio: 0.08487389341522517\n"
     ]
    },
    {
     "data": {
      "image/png": "[encoded data removed]",
      "text/plain": [
       "<Figure size 1080x360 with 1 Axes>"
      ]
     },
     "metadata": {},
     "output_type": "display_data"
    }
   ],
   "source": [
    "# Input\n",
    "start_date = pd.to_datetime('2013-01-01')\n",
    "end_date = pd.to_datetime('2019-12-6')\n",
    "tickers = ['aapl', 'fb']\n",
    "\n",
    "# Run\n",
    "testresult = markowitzPortfolio(tickers, start_date, end_date)"
   ]
  },
  {
   "cell_type": "code",
   "execution_count": 16,
   "metadata": {},
   "outputs": [
    {
     "name": "stdout",
     "output_type": "stream",
     "text": [
      "Expected returns for all portfolios: [[0.00133737 0.00132864 0.00131991 0.00131118 0.00130245 0.00129372\n",
      "  0.001285   0.00127627 0.00126754 0.00125881 0.00125008 0.00124135\n",
      "  0.00123262 0.00122389 0.00121516 0.00120643 0.0011977  0.00118897\n",
      "  0.00118024 0.00117152 0.00116279 0.00115406 0.00114533 0.0011366\n",
      "  0.00112787 0.00111914 0.00111041 0.00110168 0.00109295 0.00108422\n",
      "  0.00107549 0.00106676 0.00105804 0.00104931 0.00104058 0.00103185\n",
      "  0.00102312 0.00101439 0.00100566 0.00099693 0.0009882  0.00097947\n",
      "  0.00097074 0.00096201 0.00095329 0.00094456 0.00093583 0.0009271\n",
      "  0.00091837 0.00090964]]\n"
     ]
    }
   ],
   "source": [
    "print('Expected returns for all portfolios:', testresult['Return Path'])"
   ]
  },
  {
   "cell_type": "code",
   "execution_count": 17,
   "metadata": {},
   "outputs": [
    {
     "name": "stdout",
     "output_type": "stream",
     "text": [
      "Volatilities for all portfolios: [[0.0004214  0.0004089  0.00039678 0.00038503 0.00037365 0.00036265\n",
      "  0.00035202 0.00034177 0.00033189 0.00032238 0.00031324 0.00030448\n",
      "  0.0002961  0.00028808 0.00028044 0.00027317 0.00026628 0.00025976\n",
      "  0.00025361 0.00024784 0.00024244 0.00023741 0.00023276 0.00022848\n",
      "  0.00022457 0.00022104 0.00021788 0.00021509 0.00021268 0.00021064\n",
      "  0.00020898 0.00020768 0.00020676 0.00020622 0.00020605 0.00020625\n",
      "  0.00020683 0.00020777 0.0002091  0.00021079 0.00021286 0.0002153\n",
      "  0.00021812 0.00022131 0.00022487 0.00022881 0.00023312 0.0002378\n",
      "  0.00024286 0.00024829]]\n"
     ]
    }
   ],
   "source": [
    "print('Volatilities for all portfolios:', testresult['Risk Path'])"
   ]
  },
  {
   "cell_type": "code",
   "execution_count": 18,
   "metadata": {},
   "outputs": [
    {
     "name": "stdout",
     "output_type": "stream",
     "text": [
      "Optimal Portfolio has the following information {'Optimal Weight': [0.5918367346938775, 0.40816326530612246], 'Optimal Return': 0.001084223297478202, 'Optimal Volatility': 0.0002106412314118842, 'Optimal SR': 5.147251040125808}\n"
     ]
    }
   ],
   "source": [
    "print('Optimal Portfolio has the following information', testresult['Optimal Portfolio'])"
   ]
  }
 ],
 "metadata": {
  "kernelspec": {
   "display_name": "Python 3",
   "language": "python",
   "name": "python3"
  },
  "language_info": {
   "codemirror_mode": {
    "name": "ipython",
    "version": 3
   },
   "file_extension": ".py",
   "mimetype": "text/x-python",
   "name": "python",
   "nbconvert_exporter": "python",
   "pygments_lexer": "ipython3",
   "version": "3.6.5"
  }
 },
 "nbformat": 4,
 "nbformat_minor": 2
}
