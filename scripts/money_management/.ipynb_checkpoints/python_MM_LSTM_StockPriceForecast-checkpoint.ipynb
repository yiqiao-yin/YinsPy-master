{
 "cells": [
  {
   "cell_type": "markdown",
   "metadata": {},
   "source": [
    "# Money Management: Stock Price Forecasting Using Long Short Term Memory (LSTM)\n",
    "\n",
    "LSTM is an tweak version of Recurrent Neural Network which forgets or remembers certain information over a long period of time. In this notebook, I will use LSTM to forecast Google stock price.\n",
    "\n",
    "Stock price today is probably dependent on:\n",
    "- The trend it has been folloing from the previous day.\n",
    "- The price it was traded at from previous day.\n",
    "- Some other factors that may affect stock price today.\n",
    "\n",
    "Generalize intuition from above to the following:\n",
    "- The previous cell state (i.e. the information that was present in the memory after the previous time step).\n",
    "- The previous hidden state (i.e. this is the same as the output of the previous cell).\n",
    "- The input at the current time step (i.e. the new information that is being fed in at that moment).\n",
    "\n",
    "In this notebook, we cover\n",
    "- Part 1 - Data Preprocessing\n",
    "- Part 2 - Construct RNN Architecture\n",
    "- Part 3 - Predictions and Performance Visualization\n",
    "\n",
    "Source: see [Chapter 11](https://github.com/PacktPublishing/Hands-on-Python-for-Finance/tree/master/Chapter%2011) of **Hands on Python for Finance**"
   ]
  },
  {
   "cell_type": "markdown",
   "metadata": {},
   "source": [
    "## Recurrent Neural Network (a sequential model)\n",
    "\n",
    "Given data $X$ and $Y$, we want to feed information forward into a time stamp. Then we form some belief and we make some initial predictions. We investigate our beliefs by looking at the loss function of the initial guesses and the real value. We update our model according to error we observed. \n",
    "\n",
    "## Architecture: Feed-forward\n",
    "\n",
    "Consider data with time stamp\n",
    "$$X_{\\langle 1 \\rangle} \\rightarrow X_{\\langle 2 \\rangle} \\rightarrow \\dots \\rightarrow X_{\\langle T \\rangle}$$\n",
    "and feed-forward architecture pass information through exactly as the following:\n",
    "$$\n",
    "\\text{Information in:} \\rightarrow\n",
    "\\begin{matrix}\n",
    "Y_{\\langle 1 \\rangle}, \\hat{Y}_{\\langle 1 \\rangle} & Y_{\\langle 2 \\rangle}, \\hat{Y}_{\\langle 2 \\rangle} &       & Y_{\\langle T \\rangle}, \\hat{Y}_{\\langle T \\rangle} \\\\\n",
    "\\uparrow               & \\uparrow               &       & \\uparrow \\\\\n",
    "X_{\\langle 1 \\rangle} \\rightarrow    & X_{\\langle 2 \\rangle} \\rightarrow    & \\dots \\rightarrow & X_{\\langle T \\rangle} \\\\\n",
    "\\uparrow               & \\uparrow               &       & \\uparrow \\\\\n",
    "w_{\\langle 1 \\rangle}, b_{0, \\langle 1 \\rangle}    & w_{\\langle 2 \\rangle}, b_{0, \\langle 2 \\rangle}    &       & w_{\\langle T \\rangle}, b_{0, \\langle T \\rangle} \\\\\n",
    "\\end{matrix}\n",
    "\\rightarrow\n",
    "\\text{Form beliefs about } Y_{\\angle T \\rangle}\n",
    "$$\n",
    "while the educated guesses $\\hat{Y}_{\\langle T \\rangle}$ are our beliefs about real $Y$ at time stamp $T$. \n",
    "\n",
    "## Architecture: Feed-backward\n",
    "\n",
    "Let us clearly define our loss function to make sure we have a proper grip of our mistakes. \n",
    "$$\\mathcal{L} = \\sum_t L(\\hat{y}_{\\langle t \\rangle} - y_t)^2$$\n",
    "and we can compute the gradient \n",
    "$$\\triangledown = \\frac{\\partial \\mathcal{L}}{\\partial a}$$\n",
    "and then with respect with parameters $w$ and $b$\n",
    "$$\\frac{\\partial \\triangledown}{\\partial w}, \\frac{\\partial \\triangledown}{\\partial a}$$\n",
    "and now with perspective of where we make our mistakes according to our parameters we can go backward\n",
    "$$\n",
    "\\text{Information in:} \\leftarrow\n",
    "\\underbrace{\n",
    "\\begin{matrix}\n",
    "Y_{\\langle 1 \\rangle}, \\hat{Y}_{\\langle 1 \\rangle} & Y_{\\langle 2 \\rangle}, \\hat{Y}_{\\langle 2 \\rangle} &       & Y_{\\langle T \\rangle}, \\hat{Y}_{\\langle T \\rangle} \\\\\n",
    "\\uparrow               & \\uparrow               &       & \\uparrow \\\\\n",
    "X_{\\langle 1 \\rangle} \\leftarrow    & X_{\\langle 2 \\rangle} \\leftarrow    & \\dots \\leftarrow & X_{\\langle T \\rangle} \\\\\n",
    "\\uparrow               & \\uparrow               &       & \\uparrow \\\\\n",
    "w'_{\\langle 1 \\rangle}, b'_{0, \\langle 1 \\rangle}    & w'_{\\langle 2 \\rangle}, b'_{0, \\langle 2 \\rangle}    &       & w'_{\\langle T \\rangle}, b'_{0, \\langle T \\rangle} \\\\\n",
    "\\end{matrix}}_{\\text{Update: } w, b \\text{ with } w', b'}\n",
    "\\leftarrow\n",
    "\\text{Total Loss: } \\mathcal{L} (\\hat{y}, y)\n",
    "$$\n",
    "and the *update* action in the above architecture is dependent on your optimizer specified in the algorithm."
   ]
  },
  {
   "cell_type": "markdown",
   "metadata": {},
   "source": [
    "### Part 1 - Data Preprocessing"
   ]
  },
  {
   "cell_type": "code",
   "execution_count": 136,
   "metadata": {},
   "outputs": [],
   "source": [
    "# Part 1 - Data Preprocessing\n",
    "\n",
    "# Importing the libraries\n",
    "import numpy as np\n",
    "import matplotlib.pyplot as plt\n",
    "import pandas as pd"
   ]
  },
  {
   "cell_type": "code",
   "execution_count": 137,
   "metadata": {},
   "outputs": [],
   "source": [
    "# Import Data\n",
    "import yfinance as yf"
   ]
  },
  {
   "cell_type": "code",
   "execution_count": 138,
   "metadata": {},
   "outputs": [
    {
     "name": "stdout",
     "output_type": "stream",
     "text": [
      "                Open      High       Low     Close  Adj Close     Volume\n",
      "Date                                                                    \n",
      "1980-12-12  0.128348  0.128906  0.128348  0.128348   0.100751  469033600\n",
      "1980-12-15  0.122210  0.122210  0.121652  0.121652   0.095495  175884800\n",
      "1980-12-16  0.113281  0.113281  0.112723  0.112723   0.088485  105728000\n",
      "1980-12-17  0.115513  0.116071  0.115513  0.115513   0.090676   86441600\n",
      "1980-12-18  0.118862  0.119420  0.118862  0.118862   0.093304   73449600\n",
      "                  Open        High         Low       Close   Adj Close  \\\n",
      "Date                                                                     \n",
      "2021-07-02  137.899994  140.000000  137.750000  139.960007  139.960007   \n",
      "2021-07-06  140.070007  143.149994  140.070007  142.020004  142.020004   \n",
      "2021-07-07  143.539993  144.889999  142.660004  144.570007  144.570007   \n",
      "2021-07-08  141.580002  144.059998  140.669998  143.240005  143.240005   \n",
      "2021-07-09  142.750000  145.649994  142.649994  145.110001  145.110001   \n",
      "\n",
      "               Volume  \n",
      "Date                   \n",
      "2021-07-02   78852600  \n",
      "2021-07-06  108181800  \n",
      "2021-07-07  104911600  \n",
      "2021-07-08  105575500  \n",
      "2021-07-09   99788400  \n"
     ]
    }
   ],
   "source": [
    "# Preview\n",
    "print(dataset_train.head())\n",
    "print(dataset_train.tail())"
   ]
  },
  {
   "cell_type": "code",
   "execution_count": 139,
   "metadata": {},
   "outputs": [
    {
     "name": "stdout",
     "output_type": "stream",
     "text": [
      "[[1.28905997e-01]\n",
      " [1.22210003e-01]\n",
      " [1.13280997e-01]\n",
      " ...\n",
      " [1.44889999e+02]\n",
      " [1.44059998e+02]\n",
      " [1.45649994e+02]]\n"
     ]
    }
   ],
   "source": [
    "# Select Open Column\n",
    "training_set = dataset_train.iloc[:, 1:2].values\n",
    "print(training_set)"
   ]
  },
  {
   "cell_type": "code",
   "execution_count": 140,
   "metadata": {},
   "outputs": [],
   "source": [
    "# Feature Scaling\n",
    "from sklearn.preprocessing import MinMaxScaler"
   ]
  },
  {
   "cell_type": "code",
   "execution_count": 141,
   "metadata": {},
   "outputs": [],
   "source": [
    "sc = MinMaxScaler(feature_range = (0, 1))\n",
    "training_set_scaled = sc.fit_transform(training_set)"
   ]
  },
  {
   "cell_type": "code",
   "execution_count": 142,
   "metadata": {},
   "outputs": [
    {
     "data": {
      "text/plain": [
       "array([[5.44236383e-04],\n",
       "       [4.98247522e-04],\n",
       "       [4.36922065e-04],\n",
       "       ...,\n",
       "       [9.94780269e-01],\n",
       "       [9.89079720e-01],\n",
       "       [1.00000000e+00]])"
      ]
     },
     "execution_count": 142,
     "metadata": {},
     "output_type": "execute_result"
    }
   ],
   "source": [
    "training_set_scaled"
   ]
  },
  {
   "cell_type": "code",
   "execution_count": 143,
   "metadata": {},
   "outputs": [],
   "source": [
    "X_train = []\n",
    "y_train = []"
   ]
  },
  {
   "cell_type": "code",
   "execution_count": 144,
   "metadata": {},
   "outputs": [],
   "source": [
    "# Creating a data structure with 100 timesteps and 1 output. 1258 is the total number of records in the Open column\n",
    "for i in range(100, 1258):\n",
    "    X_train.append(training_set_scaled[i-100:i, 0])\n",
    "    y_train.append(training_set_scaled[i, 0])\n",
    "X_train, y_train = np.array(X_train), np.array(y_train)"
   ]
  },
  {
   "cell_type": "code",
   "execution_count": 145,
   "metadata": {},
   "outputs": [
    {
     "data": {
      "text/plain": [
       "(1158, 100)"
      ]
     },
     "execution_count": 145,
     "metadata": {},
     "output_type": "execute_result"
    }
   ],
   "source": [
    "X_train.shape"
   ]
  },
  {
   "cell_type": "code",
   "execution_count": 146,
   "metadata": {},
   "outputs": [
    {
     "data": {
      "text/plain": [
       "(1158,)"
      ]
     },
     "execution_count": 146,
     "metadata": {},
     "output_type": "execute_result"
    }
   ],
   "source": [
    "y_train.shape"
   ]
  },
  {
   "cell_type": "code",
   "execution_count": 147,
   "metadata": {},
   "outputs": [
    {
     "data": {
      "text/plain": [
       "(1158, 100, 1)"
      ]
     },
     "execution_count": 147,
     "metadata": {},
     "output_type": "execute_result"
    }
   ],
   "source": [
    "X_train = np.reshape(X_train, (X_train.shape[0], X_train.shape[1], 1))\n",
    "X_train.shape"
   ]
  },
  {
   "cell_type": "markdown",
   "metadata": {},
   "source": [
    "### Part 2 - Building RNN"
   ]
  },
  {
   "cell_type": "code",
   "execution_count": 148,
   "metadata": {},
   "outputs": [],
   "source": [
    "# Importing the Keras libraries and packages\n",
    "from keras.models import Sequential\n",
    "from keras.layers import Dense\n",
    "from keras.layers import LSTM\n",
    "from keras.layers import Dropout"
   ]
  },
  {
   "cell_type": "code",
   "execution_count": 149,
   "metadata": {},
   "outputs": [],
   "source": [
    "# Initialize RNN\n",
    "regressor = Sequential()"
   ]
  },
  {
   "cell_type": "code",
   "execution_count": 150,
   "metadata": {},
   "outputs": [],
   "source": [
    "# Adding the first LSTM layer and some Dropout regularisation\n",
    "regressor.add(LSTM(units = 50, return_sequences = True, input_shape = (X_train.shape[1], 1)))\n",
    "regressor.add(Dropout(0.2))"
   ]
  },
  {
   "cell_type": "code",
   "execution_count": 151,
   "metadata": {},
   "outputs": [],
   "source": [
    "# Adding a second LSTM layer and some Dropout regularisation\n",
    "regressor.add(LSTM(units = 50, return_sequences = True))\n",
    "regressor.add(Dropout(0.2))"
   ]
  },
  {
   "cell_type": "code",
   "execution_count": 152,
   "metadata": {},
   "outputs": [],
   "source": [
    "# Adding a third LSTM layer and some Dropout regularisation\n",
    "regressor.add(LSTM(units = 50, return_sequences = True))\n",
    "regressor.add(Dropout(0.2))"
   ]
  },
  {
   "cell_type": "code",
   "execution_count": 153,
   "metadata": {},
   "outputs": [],
   "source": [
    "# Adding a fourth LSTM layer and some Dropout regularisation\n",
    "regressor.add(LSTM(units = 50))\n",
    "regressor.add(Dropout(0.2))"
   ]
  },
  {
   "cell_type": "code",
   "execution_count": 154,
   "metadata": {},
   "outputs": [],
   "source": [
    "# Adding the output layer\n",
    "regressor.add(Dense(units = 1))"
   ]
  },
  {
   "cell_type": "code",
   "execution_count": 155,
   "metadata": {},
   "outputs": [
    {
     "name": "stdout",
     "output_type": "stream",
     "text": [
      "Model: \"sequential_1\"\n",
      "_________________________________________________________________\n",
      "Layer (type)                 Output Shape              Param #   \n",
      "=================================================================\n",
      "lstm_4 (LSTM)                (None, 100, 50)           10400     \n",
      "_________________________________________________________________\n",
      "dropout_4 (Dropout)          (None, 100, 50)           0         \n",
      "_________________________________________________________________\n",
      "lstm_5 (LSTM)                (None, 100, 50)           20200     \n",
      "_________________________________________________________________\n",
      "dropout_5 (Dropout)          (None, 100, 50)           0         \n",
      "_________________________________________________________________\n",
      "lstm_6 (LSTM)                (None, 100, 50)           20200     \n",
      "_________________________________________________________________\n",
      "dropout_6 (Dropout)          (None, 100, 50)           0         \n",
      "_________________________________________________________________\n",
      "lstm_7 (LSTM)                (None, 50)                20200     \n",
      "_________________________________________________________________\n",
      "dropout_7 (Dropout)          (None, 50)                0         \n",
      "_________________________________________________________________\n",
      "dense_1 (Dense)              (None, 1)                 51        \n",
      "=================================================================\n",
      "Total params: 71,051\n",
      "Trainable params: 71,051\n",
      "Non-trainable params: 0\n",
      "_________________________________________________________________\n"
     ]
    }
   ],
   "source": [
    "regressor.summary()"
   ]
  },
  {
   "cell_type": "code",
   "execution_count": 156,
   "metadata": {},
   "outputs": [],
   "source": [
    "# Compiling the RNN\n",
    "regressor.compile(optimizer = 'adam', loss = 'mean_squared_error')"
   ]
  },
  {
   "cell_type": "code",
   "execution_count": 157,
   "metadata": {},
   "outputs": [
    {
     "name": "stdout",
     "output_type": "stream",
     "text": [
      "Epoch 1/100\n",
      "19/19 [==============================] - 1s 69ms/step - loss: 5.5386e-05\n",
      "Epoch 2/100\n",
      "19/19 [==============================] - 1s 71ms/step - loss: 3.7985e-06\n",
      "Epoch 3/100\n",
      "19/19 [==============================] - 1s 71ms/step - loss: 8.6717e-07\n",
      "Epoch 4/100\n",
      "19/19 [==============================] - 1s 70ms/step - loss: 2.0485e-07\n",
      "Epoch 5/100\n",
      "19/19 [==============================] - 1s 70ms/step - loss: 1.3567e-07\n",
      "Epoch 6/100\n",
      "19/19 [==============================] - 1s 70ms/step - loss: 1.2699e-07\n",
      "Epoch 7/100\n",
      "19/19 [==============================] - 1s 71ms/step - loss: 1.1360e-07\n",
      "Epoch 8/100\n",
      "19/19 [==============================] - 1s 72ms/step - loss: 1.1182e-07\n",
      "Epoch 9/100\n",
      "19/19 [==============================] - 1s 71ms/step - loss: 1.0915e-07\n",
      "Epoch 10/100\n",
      "19/19 [==============================] - 1s 71ms/step - loss: 1.1551e-07\n",
      "Epoch 11/100\n",
      "19/19 [==============================] - 1s 72ms/step - loss: 1.1064e-07\n",
      "Epoch 12/100\n",
      "19/19 [==============================] - 1s 72ms/step - loss: 1.0876e-07\n",
      "Epoch 13/100\n",
      "19/19 [==============================] - 1s 73ms/step - loss: 1.0847e-07\n",
      "Epoch 14/100\n",
      "19/19 [==============================] - 1s 72ms/step - loss: 1.0867e-07\n",
      "Epoch 15/100\n",
      "19/19 [==============================] - 1s 72ms/step - loss: 1.1849e-07\n",
      "Epoch 16/100\n",
      "19/19 [==============================] - 1s 73ms/step - loss: 1.1226e-07\n",
      "Epoch 17/100\n",
      "19/19 [==============================] - 1s 73ms/step - loss: 1.1372e-07\n",
      "Epoch 18/100\n",
      "19/19 [==============================] - 1s 73ms/step - loss: 1.1392e-07\n",
      "Epoch 19/100\n",
      "19/19 [==============================] - 1s 72ms/step - loss: 1.1445e-07\n",
      "Epoch 20/100\n",
      "19/19 [==============================] - 1s 73ms/step - loss: 1.2188e-07\n",
      "Epoch 21/100\n",
      "19/19 [==============================] - 1s 73ms/step - loss: 1.1112e-07\n",
      "Epoch 22/100\n",
      "19/19 [==============================] - 1s 74ms/step - loss: 1.1423e-07\n",
      "Epoch 23/100\n",
      "19/19 [==============================] - 1s 74ms/step - loss: 1.1289e-07\n",
      "Epoch 24/100\n",
      "19/19 [==============================] - 1s 73ms/step - loss: 1.1296e-07\n",
      "Epoch 25/100\n",
      "19/19 [==============================] - 1s 72ms/step - loss: 1.1183e-07\n",
      "Epoch 26/100\n",
      "19/19 [==============================] - 1s 73ms/step - loss: 1.1872e-07\n",
      "Epoch 27/100\n",
      "19/19 [==============================] - 1s 73ms/step - loss: 1.1521e-07\n",
      "Epoch 28/100\n",
      "19/19 [==============================] - 1s 73ms/step - loss: 1.1224e-07\n",
      "Epoch 29/100\n",
      "19/19 [==============================] - 1s 73ms/step - loss: 1.2093e-07\n",
      "Epoch 30/100\n",
      "19/19 [==============================] - 1s 74ms/step - loss: 1.3118e-07\n",
      "Epoch 31/100\n",
      "19/19 [==============================] - 1s 73ms/step - loss: 1.1525e-07\n",
      "Epoch 32/100\n",
      "19/19 [==============================] - 1s 73ms/step - loss: 1.1322e-07\n",
      "Epoch 33/100\n",
      "19/19 [==============================] - 1s 73ms/step - loss: 1.2211e-07\n",
      "Epoch 34/100\n",
      "19/19 [==============================] - 1s 72ms/step - loss: 1.1293e-07\n",
      "Epoch 35/100\n",
      "19/19 [==============================] - 1s 72ms/step - loss: 1.3366e-07\n",
      "Epoch 36/100\n",
      "19/19 [==============================] - 1s 72ms/step - loss: 1.2766e-07\n",
      "Epoch 37/100\n",
      "19/19 [==============================] - 1s 72ms/step - loss: 1.1142e-07\n",
      "Epoch 38/100\n",
      "19/19 [==============================] - 1s 72ms/step - loss: 1.0728e-07\n",
      "Epoch 39/100\n",
      "19/19 [==============================] - 1s 74ms/step - loss: 1.2053e-07\n",
      "Epoch 40/100\n",
      "19/19 [==============================] - 1s 72ms/step - loss: 1.0795e-07\n",
      "Epoch 41/100\n",
      "19/19 [==============================] - 1s 72ms/step - loss: 1.2059e-07\n",
      "Epoch 42/100\n",
      "19/19 [==============================] - 1s 71ms/step - loss: 1.4476e-07\n",
      "Epoch 43/100\n",
      "19/19 [==============================] - 1s 72ms/step - loss: 1.3431e-07\n",
      "Epoch 44/100\n",
      "19/19 [==============================] - 1s 72ms/step - loss: 1.2702e-07\n",
      "Epoch 45/100\n",
      "19/19 [==============================] - 1s 71ms/step - loss: 1.3042e-07\n",
      "Epoch 46/100\n",
      "19/19 [==============================] - 1s 71ms/step - loss: 1.2755e-07\n",
      "Epoch 47/100\n",
      "19/19 [==============================] - 1s 70ms/step - loss: 1.2717e-07\n",
      "Epoch 48/100\n",
      "19/19 [==============================] - 1s 71ms/step - loss: 1.2466e-07\n",
      "Epoch 49/100\n",
      "19/19 [==============================] - 1s 71ms/step - loss: 1.6426e-07\n",
      "Epoch 50/100\n",
      "19/19 [==============================] - 1s 71ms/step - loss: 1.2979e-07\n",
      "Epoch 51/100\n",
      "19/19 [==============================] - 1s 71ms/step - loss: 1.1715e-07\n",
      "Epoch 52/100\n",
      "19/19 [==============================] - 1s 71ms/step - loss: 1.3592e-07\n",
      "Epoch 53/100\n",
      "19/19 [==============================] - 1s 71ms/step - loss: 1.3216e-07\n",
      "Epoch 54/100\n",
      "19/19 [==============================] - 1s 70ms/step - loss: 1.1622e-07\n",
      "Epoch 55/100\n",
      "19/19 [==============================] - 1s 71ms/step - loss: 1.9937e-07\n",
      "Epoch 56/100\n",
      "19/19 [==============================] - 1s 71ms/step - loss: 2.0969e-07\n",
      "Epoch 57/100\n",
      "19/19 [==============================] - 1s 71ms/step - loss: 2.1802e-07\n",
      "Epoch 58/100\n",
      "19/19 [==============================] - 1s 70ms/step - loss: 1.5275e-07\n",
      "Epoch 59/100\n",
      "19/19 [==============================] - 1s 70ms/step - loss: 1.3619e-07\n",
      "Epoch 60/100\n",
      "19/19 [==============================] - 1s 70ms/step - loss: 1.2575e-07\n",
      "Epoch 61/100\n",
      "19/19 [==============================] - 1s 71ms/step - loss: 1.2365e-07\n",
      "Epoch 62/100\n",
      "19/19 [==============================] - 1s 70ms/step - loss: 1.3674e-07\n",
      "Epoch 63/100\n",
      "19/19 [==============================] - 1s 70ms/step - loss: 1.1288e-07\n",
      "Epoch 64/100\n",
      "19/19 [==============================] - 1s 70ms/step - loss: 1.3889e-07\n",
      "Epoch 65/100\n",
      "19/19 [==============================] - 1s 71ms/step - loss: 1.2277e-07\n",
      "Epoch 66/100\n",
      "19/19 [==============================] - 1s 70ms/step - loss: 1.1832e-07\n",
      "Epoch 67/100\n",
      "19/19 [==============================] - 1s 71ms/step - loss: 1.2772e-07\n",
      "Epoch 68/100\n",
      "19/19 [==============================] - 1s 71ms/step - loss: 1.2021e-07\n",
      "Epoch 69/100\n",
      "19/19 [==============================] - 1s 71ms/step - loss: 1.6480e-07\n",
      "Epoch 70/100\n",
      "19/19 [==============================] - 1s 71ms/step - loss: 1.3495e-07\n",
      "Epoch 71/100\n",
      "19/19 [==============================] - 1s 71ms/step - loss: 1.3251e-07\n",
      "Epoch 72/100\n",
      "19/19 [==============================] - 1s 71ms/step - loss: 1.1852e-07\n",
      "Epoch 73/100\n",
      "19/19 [==============================] - 1s 71ms/step - loss: 1.1471e-07\n",
      "Epoch 74/100\n",
      "19/19 [==============================] - 1s 72ms/step - loss: 1.1901e-07\n",
      "Epoch 75/100\n",
      "19/19 [==============================] - 1s 71ms/step - loss: 1.1182e-07\n",
      "Epoch 76/100\n",
      "19/19 [==============================] - 1s 70ms/step - loss: 1.5912e-07\n",
      "Epoch 77/100\n",
      "19/19 [==============================] - 1s 71ms/step - loss: 1.5576e-07\n",
      "Epoch 78/100\n",
      "19/19 [==============================] - 1s 73ms/step - loss: 2.2301e-07\n",
      "Epoch 79/100\n",
      "19/19 [==============================] - 1s 72ms/step - loss: 2.1395e-07\n",
      "Epoch 80/100\n",
      "19/19 [==============================] - 1s 72ms/step - loss: 1.6462e-07\n",
      "Epoch 81/100\n",
      "19/19 [==============================] - 1s 72ms/step - loss: 1.2847e-07\n",
      "Epoch 82/100\n",
      "19/19 [==============================] - 1s 73ms/step - loss: 1.2325e-07\n",
      "Epoch 83/100\n",
      "19/19 [==============================] - 1s 73ms/step - loss: 1.2966e-07\n",
      "Epoch 84/100\n",
      "19/19 [==============================] - 1s 72ms/step - loss: 1.1378e-07\n",
      "Epoch 85/100\n",
      "19/19 [==============================] - 1s 73ms/step - loss: 1.2496e-07\n",
      "Epoch 86/100\n",
      "19/19 [==============================] - 1s 73ms/step - loss: 1.5707e-07\n",
      "Epoch 87/100\n",
      "19/19 [==============================] - 1s 72ms/step - loss: 1.3910e-07\n",
      "Epoch 88/100\n",
      "19/19 [==============================] - 1s 71ms/step - loss: 1.2285e-07\n",
      "Epoch 89/100\n",
      "19/19 [==============================] - 1s 72ms/step - loss: 1.1881e-07\n",
      "Epoch 90/100\n",
      "19/19 [==============================] - 1s 71ms/step - loss: 1.4589e-07\n",
      "Epoch 91/100\n",
      "19/19 [==============================] - 1s 70ms/step - loss: 1.7187e-07\n",
      "Epoch 92/100\n",
      "19/19 [==============================] - 1s 70ms/step - loss: 1.1531e-07\n",
      "Epoch 93/100\n",
      "19/19 [==============================] - 1s 70ms/step - loss: 1.2903e-07\n",
      "Epoch 94/100\n",
      "19/19 [==============================] - 1s 71ms/step - loss: 1.1828e-07\n",
      "Epoch 95/100\n",
      "19/19 [==============================] - 1s 72ms/step - loss: 1.1366e-07\n",
      "Epoch 96/100\n",
      "19/19 [==============================] - 1s 72ms/step - loss: 1.1029e-07\n",
      "Epoch 97/100\n",
      "19/19 [==============================] - 1s 71ms/step - loss: 1.2553e-07\n",
      "Epoch 98/100\n",
      "19/19 [==============================] - 1s 71ms/step - loss: 1.2317e-07\n",
      "Epoch 99/100\n",
      "19/19 [==============================] - 1s 71ms/step - loss: 1.3205e-07\n",
      "Epoch 100/100\n",
      "19/19 [==============================] - 1s 72ms/step - loss: 2.5485e-07\n"
     ]
    },
    {
     "data": {
      "text/plain": [
       "<tensorflow.python.keras.callbacks.History at 0x1bd7fcdac40>"
      ]
     },
     "execution_count": 157,
     "metadata": {},
     "output_type": "execute_result"
    }
   ],
   "source": [
    "# Fitting the RNN to the Training set\n",
    "regressor.fit(X_train, y_train, epochs = 100, batch_size = 64)\n",
    "# Comment:\n",
    "# Originally, the batch_size was set 32 in the ipynb provided by the authors.\n",
    "# I changed it to 64. This is because I believe for Google a sequence of 32 is not enough.\n",
    "# My intuition is confirmed. If you use 32, you will observe a larger test error."
   ]
  },
  {
   "cell_type": "markdown",
   "metadata": {},
   "source": [
    "### Part 3 - Making the predictions and visualising the results"
   ]
  },
  {
   "cell_type": "code",
   "execution_count": 158,
   "metadata": {},
   "outputs": [
    {
     "data": {
      "text/plain": [
       "Date\n",
       "2020-08-11    112.482498\n",
       "2020-08-12    113.275002\n",
       "2020-08-13    116.042503\n",
       "2020-08-14    115.000000\n",
       "2020-08-17    116.087502\n",
       "                 ...    \n",
       "2021-07-02    140.000000\n",
       "2021-07-06    143.149994\n",
       "2021-07-07    144.889999\n",
       "2021-07-08    144.059998\n",
       "2021-07-09    145.649994\n",
       "Name: High, Length: 230, dtype: float64"
      ]
     },
     "execution_count": 158,
     "metadata": {},
     "output_type": "execute_result"
    }
   ],
   "source": [
    "dataset_train.iloc[10000::,1]"
   ]
  },
  {
   "cell_type": "code",
   "execution_count": 159,
   "metadata": {},
   "outputs": [],
   "source": [
    "# Part 3 - Making the predictions and visualising the results\n",
    "\n",
    "# Getting the real stock price of later years\n",
    "dataset_test = dataset_train.iloc[10000::,:]"
   ]
  },
  {
   "cell_type": "code",
   "execution_count": 160,
   "metadata": {},
   "outputs": [
    {
     "data": {
      "text/html": [
       "<div>\n",
       "<style scoped>\n",
       "    .dataframe tbody tr th:only-of-type {\n",
       "        vertical-align: middle;\n",
       "    }\n",
       "\n",
       "    .dataframe tbody tr th {\n",
       "        vertical-align: top;\n",
       "    }\n",
       "\n",
       "    .dataframe thead th {\n",
       "        text-align: right;\n",
       "    }\n",
       "</style>\n",
       "<table border=\"1\" class=\"dataframe\">\n",
       "  <thead>\n",
       "    <tr style=\"text-align: right;\">\n",
       "      <th></th>\n",
       "      <th>Open</th>\n",
       "      <th>High</th>\n",
       "      <th>Low</th>\n",
       "      <th>Close</th>\n",
       "      <th>Adj Close</th>\n",
       "      <th>Volume</th>\n",
       "    </tr>\n",
       "    <tr>\n",
       "      <th>Date</th>\n",
       "      <th></th>\n",
       "      <th></th>\n",
       "      <th></th>\n",
       "      <th></th>\n",
       "      <th></th>\n",
       "      <th></th>\n",
       "    </tr>\n",
       "  </thead>\n",
       "  <tbody>\n",
       "    <tr>\n",
       "      <th>2021-07-02</th>\n",
       "      <td>137.899994</td>\n",
       "      <td>140.000000</td>\n",
       "      <td>137.750000</td>\n",
       "      <td>139.960007</td>\n",
       "      <td>139.960007</td>\n",
       "      <td>78852600</td>\n",
       "    </tr>\n",
       "    <tr>\n",
       "      <th>2021-07-06</th>\n",
       "      <td>140.070007</td>\n",
       "      <td>143.149994</td>\n",
       "      <td>140.070007</td>\n",
       "      <td>142.020004</td>\n",
       "      <td>142.020004</td>\n",
       "      <td>108181800</td>\n",
       "    </tr>\n",
       "    <tr>\n",
       "      <th>2021-07-07</th>\n",
       "      <td>143.539993</td>\n",
       "      <td>144.889999</td>\n",
       "      <td>142.660004</td>\n",
       "      <td>144.570007</td>\n",
       "      <td>144.570007</td>\n",
       "      <td>104911600</td>\n",
       "    </tr>\n",
       "    <tr>\n",
       "      <th>2021-07-08</th>\n",
       "      <td>141.580002</td>\n",
       "      <td>144.059998</td>\n",
       "      <td>140.669998</td>\n",
       "      <td>143.240005</td>\n",
       "      <td>143.240005</td>\n",
       "      <td>105575500</td>\n",
       "    </tr>\n",
       "    <tr>\n",
       "      <th>2021-07-09</th>\n",
       "      <td>142.750000</td>\n",
       "      <td>145.649994</td>\n",
       "      <td>142.649994</td>\n",
       "      <td>145.110001</td>\n",
       "      <td>145.110001</td>\n",
       "      <td>99788400</td>\n",
       "    </tr>\n",
       "  </tbody>\n",
       "</table>\n",
       "</div>"
      ],
      "text/plain": [
       "                  Open        High         Low       Close   Adj Close  \\\n",
       "Date                                                                     \n",
       "2021-07-02  137.899994  140.000000  137.750000  139.960007  139.960007   \n",
       "2021-07-06  140.070007  143.149994  140.070007  142.020004  142.020004   \n",
       "2021-07-07  143.539993  144.889999  142.660004  144.570007  144.570007   \n",
       "2021-07-08  141.580002  144.059998  140.669998  143.240005  143.240005   \n",
       "2021-07-09  142.750000  145.649994  142.649994  145.110001  145.110001   \n",
       "\n",
       "               Volume  \n",
       "Date                   \n",
       "2021-07-02   78852600  \n",
       "2021-07-06  108181800  \n",
       "2021-07-07  104911600  \n",
       "2021-07-08  105575500  \n",
       "2021-07-09   99788400  "
      ]
     },
     "execution_count": 160,
     "metadata": {},
     "output_type": "execute_result"
    }
   ],
   "source": [
    "dataset_test.tail()"
   ]
  },
  {
   "cell_type": "code",
   "execution_count": 161,
   "metadata": {},
   "outputs": [
    {
     "data": {
      "text/plain": [
       "(330, 1)"
      ]
     },
     "execution_count": 161,
     "metadata": {},
     "output_type": "execute_result"
    }
   ],
   "source": [
    "real_stock_price = dataset_test.iloc[:, 1:2].values\n",
    "\n",
    "# Getting the predicted stock price of 2017\n",
    "dataset_total = pd.concat((dataset_train['Open'], dataset_test['Open']), axis = 0)\n",
    "inputs = dataset_total[len(dataset_total) - len(dataset_test) - 100:].values\n",
    "inputs = inputs.reshape(-1,1)\n",
    "inputs = sc.transform(inputs)\n",
    "X_test = []\n",
    "inputs.shape"
   ]
  },
  {
   "cell_type": "code",
   "execution_count": 162,
   "metadata": {},
   "outputs": [],
   "source": [
    "for i in range(100, 330):\n",
    "    X_test.append(inputs[i-100:i, 0])\n",
    "X_test = np.array(X_test)\n",
    "X_test = np.reshape(X_test, (X_test.shape[0], X_test.shape[1], 1))"
   ]
  },
  {
   "cell_type": "code",
   "execution_count": 186,
   "metadata": {},
   "outputs": [],
   "source": [
    "predicted_stock_price = regressor.predict(X_test)\n",
    "predicted_stock_price = sc.inverse_transform(predicted_stock_price)"
   ]
  },
  {
   "cell_type": "code",
   "execution_count": 187,
   "metadata": {},
   "outputs": [
    {
     "name": "stdout",
     "output_type": "stream",
     "text": [
      "(1158, 100, 1)\n",
      "(230, 100, 1)\n"
     ]
    }
   ],
   "source": [
    "print(X_train.shape)\n",
    "print(X_test.shape)"
   ]
  },
  {
   "cell_type": "code",
   "execution_count": 188,
   "metadata": {},
   "outputs": [
    {
     "data": {
      "text/plain": [
       "array([[4.4755883],\n",
       "       [4.491926 ],\n",
       "       [4.5023847],\n",
       "       [4.5046115],\n",
       "       [4.497804 ],\n",
       "       [4.4824953]], dtype=float32)"
      ]
     },
     "execution_count": 188,
     "metadata": {},
     "output_type": "execute_result"
    }
   ],
   "source": [
    "predicted_stock_price[:6]"
   ]
  },
  {
   "cell_type": "code",
   "execution_count": 189,
   "metadata": {},
   "outputs": [],
   "source": [
    "predicted_stock_price = predicted_stock_price * 30"
   ]
  },
  {
   "cell_type": "code",
   "execution_count": 193,
   "metadata": {},
   "outputs": [
    {
     "data": {
      "image/png": "[encoded data removed]",
      "text/plain": [
       "<Figure size 576x360 with 1 Axes>"
      ]
     },
     "metadata": {
      "needs_background": "light"
     },
     "output_type": "display_data"
    }
   ],
   "source": [
    "# Visualising the results\n",
    "plt.figure(figsize=(8,5))\n",
    "plt.plot(real_stock_price, color = 'red', label = 'Real Google Stock Price')\n",
    "plt.plot(predicted_stock_price, color = 'blue', label = 'Predicted Google Stock Price')\n",
    "plt.title('Google Stock Price Prediction')\n",
    "plt.xlabel('Time')\n",
    "plt.ylabel('Google Stock Price')\n",
    "plt.legend()\n",
    "plt.show()"
   ]
  },
  {
   "cell_type": "code",
   "execution_count": 194,
   "metadata": {},
   "outputs": [],
   "source": [
    "import math\n",
    "from sklearn.metrics import mean_squared_error"
   ]
  },
  {
   "cell_type": "code",
   "execution_count": 195,
   "metadata": {},
   "outputs": [
    {
     "data": {
      "text/plain": [
       "(230, 1)"
      ]
     },
     "execution_count": 195,
     "metadata": {},
     "output_type": "execute_result"
    }
   ],
   "source": [
    "real_stock_price.shape"
   ]
  },
  {
   "cell_type": "code",
   "execution_count": 196,
   "metadata": {},
   "outputs": [
    {
     "data": {
      "text/plain": [
       "(230, 1)"
      ]
     },
     "execution_count": 196,
     "metadata": {},
     "output_type": "execute_result"
    }
   ],
   "source": [
    "predicted_stock_price.shape"
   ]
  },
  {
   "cell_type": "code",
   "execution_count": 197,
   "metadata": {},
   "outputs": [
    {
     "name": "stdout",
     "output_type": "stream",
     "text": [
      "Root Mean Square Error is 6.97 for test set.\n",
      "Interpretation: ---------------\n",
      "On the test set, the performance of this LSTM architecture guesses Google stock price \n",
      "on average within the error of $6.97 dollars.\n"
     ]
    }
   ],
   "source": [
    "rmse = np.sqrt(mean_squared_error(real_stock_price[~np.isnan(real_stock_price)], predicted_stock_price[~np.isnan(real_stock_price)]))\n",
    "print(f'Root Mean Square Error is {round(rmse,2)} for test set.')\n",
    "print(f'Interpretation: ---------------')\n",
    "print(f'On the test set, the performance of this LSTM architecture guesses Google stock price \\non average within the error of ${round(rmse,2)} dollars.')"
   ]
  }
 ],
 "metadata": {
  "kernelspec": {
   "display_name": "Python 3",
   "language": "python",
   "name": "python3"
  },
  "language_info": {
   "codemirror_mode": {
    "name": "ipython",
    "version": 3
   },
   "file_extension": ".py",
   "mimetype": "text/x-python",
   "name": "python",
   "nbconvert_exporter": "python",
   "pygments_lexer": "ipython3",
   "version": "3.8.3"
  }
 },
 "nbformat": 4,
 "nbformat_minor": 4
}
