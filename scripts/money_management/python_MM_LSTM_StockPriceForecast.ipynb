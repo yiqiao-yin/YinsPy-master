{
 "cells": [
  {
   "cell_type": "markdown",
   "metadata": {},
   "source": [
    "# Money Management: Stock Price Forecasting Using Long Short Term Memory (LSTM)\n",
    "\n",
    "LSTM is an tweak version of Recurrent Neural Network which forgets or remembers certain information over a long period of time. In this notebook, I will use LSTM to forecast Google stock price.\n",
    "\n",
    "Stock price today is probably dependent on:\n",
    "- The trend it has been folloing from the previous day.\n",
    "- The price it was traded at from previous day.\n",
    "- Some other factors that may affect stock price today.\n",
    "\n",
    "Generalize intuition from above to the following:\n",
    "- The previous cell state (i.e. the information that was present in the memory after the previous time step).\n",
    "- The previous hidden state (i.e. this is the same as the output of the previous cell).\n",
    "- The input at the current time step (i.e. the new information that is being fed in at that moment).\n",
    "\n",
    "In this notebook, we cover\n",
    "- Part 1 - Data Preprocessing\n",
    "- Part 2 - Construct RNN Architecture\n",
    "- Part 3 - Predictions and Performance Visualization\n",
    "\n",
    "Source: see [Chapter 11](https://github.com/PacktPublishing/Hands-on-Python-for-Finance/tree/master/Chapter%2011) of **Hands on Python for Finance**"
   ]
  },
  {
   "cell_type": "markdown",
   "metadata": {},
   "source": [
    "## Recurrent Neural Network (a sequential model)\n",
    "\n",
    "Given data $X$ and $Y$, we want to feed information forward into a time stamp. Then we form some belief and we make some initial predictions. We investigate our beliefs by looking at the loss function of the initial guesses and the real value. We update our model according to error we observed. \n",
    "\n",
    "## Architecture: Feed-forward\n",
    "\n",
    "Consider data with time stamp\n",
    "$$X_{\\langle 1 \\rangle} \\rightarrow X_{\\langle 2 \\rangle} \\rightarrow \\dots \\rightarrow X_{\\langle T \\rangle}$$\n",
    "and feed-forward architecture pass information through exactly as the following:\n",
    "$$\n",
    "\\text{Information in:} \\rightarrow\n",
    "\\begin{matrix}\n",
    "Y_{\\langle 1 \\rangle}, \\hat{Y}_{\\langle 1 \\rangle} & Y_{\\langle 2 \\rangle}, \\hat{Y}_{\\langle 2 \\rangle} &       & Y_{\\langle T \\rangle}, \\hat{Y}_{\\langle T \\rangle} \\\\\n",
    "\\uparrow               & \\uparrow               &       & \\uparrow \\\\\n",
    "X_{\\langle 1 \\rangle} \\rightarrow    & X_{\\langle 2 \\rangle} \\rightarrow    & \\dots \\rightarrow & X_{\\langle T \\rangle} \\\\\n",
    "\\uparrow               & \\uparrow               &       & \\uparrow \\\\\n",
    "w_{\\langle 1 \\rangle}, b_{0, \\langle 1 \\rangle}    & w_{\\langle 2 \\rangle}, b_{0, \\langle 2 \\rangle}    &       & w_{\\langle T \\rangle}, b_{0, \\langle T \\rangle} \\\\\n",
    "\\end{matrix}\n",
    "\\rightarrow\n",
    "\\text{Form beliefs about } Y_{\\angle T \\rangle}\n",
    "$$\n",
    "while the educated guesses $\\hat{Y}_{\\langle T \\rangle}$ are our beliefs about real $Y$ at time stamp $T$. \n",
    "\n",
    "## Architecture: Feed-backward\n",
    "\n",
    "Let us clearly define our loss function to make sure we have a proper grip of our mistakes. \n",
    "$$\\mathcal{L} = \\sum_t L(\\hat{y}_{\\langle t \\rangle} - y_t)^2$$\n",
    "and we can compute the gradient \n",
    "$$\\triangledown = \\frac{\\partial \\mathcal{L}}{\\partial a}$$\n",
    "and then with respect with parameters $w$ and $b$\n",
    "$$\\frac{\\partial \\triangledown}{\\partial w}, \\frac{\\partial \\triangledown}{\\partial a}$$\n",
    "and now with perspective of where we make our mistakes according to our parameters we can go backward\n",
    "$$\n",
    "\\text{Information in:} \\leftarrow\n",
    "\\underbrace{\n",
    "\\begin{matrix}\n",
    "Y_{\\langle 1 \\rangle}, \\hat{Y}_{\\langle 1 \\rangle} & Y_{\\langle 2 \\rangle}, \\hat{Y}_{\\langle 2 \\rangle} &       & Y_{\\langle T \\rangle}, \\hat{Y}_{\\langle T \\rangle} \\\\\n",
    "\\uparrow               & \\uparrow               &       & \\uparrow \\\\\n",
    "X_{\\langle 1 \\rangle} \\leftarrow    & X_{\\langle 2 \\rangle} \\leftarrow    & \\dots \\leftarrow & X_{\\langle T \\rangle} \\\\\n",
    "\\uparrow               & \\uparrow               &       & \\uparrow \\\\\n",
    "w'_{\\langle 1 \\rangle}, b'_{0, \\langle 1 \\rangle}    & w'_{\\langle 2 \\rangle}, b'_{0, \\langle 2 \\rangle}    &       & w'_{\\langle T \\rangle}, b'_{0, \\langle T \\rangle} \\\\\n",
    "\\end{matrix}}_{\\text{Update: } w, b \\text{ with } w', b'}\n",
    "\\leftarrow\n",
    "\\text{Total Loss: } \\mathcal{L} (\\hat{y}, y)\n",
    "$$\n",
    "and the *update* action in the above architecture is dependent on your optimizer specified in the algorithm."
   ]
  },
  {
   "cell_type": "markdown",
   "metadata": {},
   "source": [
    "### Part 1 - Data Preprocessing"
   ]
  },
  {
   "cell_type": "code",
   "execution_count": 1,
   "metadata": {},
   "outputs": [],
   "source": [
    "# Part 1 - Data Preprocessing\n",
    "\n",
    "# Importing the libraries\n",
    "import numpy as np\n",
    "import matplotlib.pyplot as plt\n",
    "import pandas as pd"
   ]
  },
  {
   "cell_type": "code",
   "execution_count": 5,
   "metadata": {},
   "outputs": [],
   "source": [
    "# Import Data\n",
    "dataset_train = pd.read_csv('~/OneDrive/Documents/YinsPy/data/Google_Stock_Price_Train.csv')"
   ]
  },
  {
   "cell_type": "code",
   "execution_count": 7,
   "metadata": {},
   "outputs": [
    {
     "name": "stdout",
     "output_type": "stream",
     "text": [
      "       Date    Open    High     Low   Close      Volume\n",
      "0  1/3/2012  325.25  332.83  324.97  663.59   7,380,500\n",
      "1  1/4/2012  331.27  333.87  329.08  666.45   5,749,400\n",
      "2  1/5/2012  329.83  330.75  326.89  657.21   6,590,300\n",
      "3  1/6/2012  328.34  328.77  323.68  648.24   5,405,900\n",
      "4  1/9/2012  322.04  322.29  309.46  620.76  11,688,800\n",
      "            Date    Open    High     Low   Close     Volume\n",
      "1253  12/23/2016  790.90  792.74  787.28  789.91    623,400\n",
      "1254  12/27/2016  790.68  797.86  787.66  791.55    789,100\n",
      "1255  12/28/2016  793.70  794.23  783.20  785.05  1,153,800\n",
      "1256  12/29/2016  783.33  785.93  778.92  782.79    744,300\n",
      "1257  12/30/2016  782.75  782.78  770.41  771.82  1,770,000\n"
     ]
    }
   ],
   "source": [
    "# Preview\n",
    "print(dataset_train.head())\n",
    "print(dataset_train.tail())"
   ]
  },
  {
   "cell_type": "code",
   "execution_count": 60,
   "metadata": {},
   "outputs": [
    {
     "name": "stdout",
     "output_type": "stream",
     "text": [
      "[[325.25]\n",
      " [331.27]\n",
      " [329.83]\n",
      " ...\n",
      " [793.7 ]\n",
      " [783.33]\n",
      " [782.75]]\n"
     ]
    }
   ],
   "source": [
    "# Select Open Column\n",
    "training_set = dataset_train.iloc[:, 1:2].values\n",
    "print(training_set)"
   ]
  },
  {
   "cell_type": "code",
   "execution_count": 61,
   "metadata": {},
   "outputs": [],
   "source": [
    "# Feature Scaling\n",
    "from sklearn.preprocessing import MinMaxScaler"
   ]
  },
  {
   "cell_type": "code",
   "execution_count": 62,
   "metadata": {},
   "outputs": [],
   "source": [
    "sc = MinMaxScaler(feature_range = (0, 1))\n",
    "training_set_scaled = sc.fit_transform(training_set)"
   ]
  },
  {
   "cell_type": "code",
   "execution_count": 63,
   "metadata": {},
   "outputs": [
    {
     "data": {
      "text/plain": [
       "array([[0.08581368],\n",
       "       [0.09701243],\n",
       "       [0.09433366],\n",
       "       ...,\n",
       "       [0.95725128],\n",
       "       [0.93796041],\n",
       "       [0.93688146]])"
      ]
     },
     "execution_count": 63,
     "metadata": {},
     "output_type": "execute_result"
    }
   ],
   "source": [
    "training_set_scaled"
   ]
  },
  {
   "cell_type": "code",
   "execution_count": 64,
   "metadata": {},
   "outputs": [],
   "source": [
    "X_train = []\n",
    "y_train = []"
   ]
  },
  {
   "cell_type": "code",
   "execution_count": 65,
   "metadata": {},
   "outputs": [],
   "source": [
    "# Creating a data structure with 100 timesteps and 1 output. 1258 is the total number of records in the Open column\n",
    "for i in range(100, 1258):\n",
    "    X_train.append(training_set_scaled[i-100:i, 0])\n",
    "    y_train.append(training_set_scaled[i, 0])\n",
    "X_train, y_train = np.array(X_train), np.array(y_train)"
   ]
  },
  {
   "cell_type": "code",
   "execution_count": 66,
   "metadata": {},
   "outputs": [
    {
     "data": {
      "text/plain": [
       "(1158, 100)"
      ]
     },
     "execution_count": 66,
     "metadata": {},
     "output_type": "execute_result"
    }
   ],
   "source": [
    "X_train.shape"
   ]
  },
  {
   "cell_type": "code",
   "execution_count": 67,
   "metadata": {},
   "outputs": [
    {
     "data": {
      "text/plain": [
       "(1158,)"
      ]
     },
     "execution_count": 67,
     "metadata": {},
     "output_type": "execute_result"
    }
   ],
   "source": [
    "y_train.shape"
   ]
  },
  {
   "cell_type": "code",
   "execution_count": 69,
   "metadata": {},
   "outputs": [
    {
     "data": {
      "text/plain": [
       "(1158, 100, 1)"
      ]
     },
     "execution_count": 69,
     "metadata": {},
     "output_type": "execute_result"
    }
   ],
   "source": [
    "X_train = np.reshape(X_train, (X_train.shape[0], X_train.shape[1], 1))\n",
    "X_train.shape"
   ]
  },
  {
   "cell_type": "markdown",
   "metadata": {},
   "source": [
    "### Part 2 - Building RNN"
   ]
  },
  {
   "cell_type": "code",
   "execution_count": 70,
   "metadata": {},
   "outputs": [
    {
     "name": "stderr",
     "output_type": "stream",
     "text": [
      "C:\\Users\\eagle\\Anaconda3\\lib\\site-packages\\h5py\\__init__.py:36: FutureWarning: Conversion of the second argument of issubdtype from `float` to `np.floating` is deprecated. In future, it will be treated as `np.float64 == np.dtype(float).type`.\n",
      "  from ._conv import register_converters as _register_converters\n",
      "Using TensorFlow backend.\n"
     ]
    }
   ],
   "source": [
    "# Importing the Keras libraries and packages\n",
    "from keras.models import Sequential\n",
    "from keras.layers import Dense\n",
    "from keras.layers import LSTM\n",
    "from keras.layers import Dropout"
   ]
  },
  {
   "cell_type": "code",
   "execution_count": 71,
   "metadata": {},
   "outputs": [],
   "source": [
    "# Initialize RNN\n",
    "regressor = Sequential()"
   ]
  },
  {
   "cell_type": "code",
   "execution_count": 73,
   "metadata": {},
   "outputs": [],
   "source": [
    "# Adding the first LSTM layer and some Dropout regularisation\n",
    "regressor.add(LSTM(units = 50, return_sequences = True, input_shape = (X_train.shape[1], 1)))\n",
    "regressor.add(Dropout(0.2))"
   ]
  },
  {
   "cell_type": "code",
   "execution_count": 74,
   "metadata": {},
   "outputs": [],
   "source": [
    "# Adding a second LSTM layer and some Dropout regularisation\n",
    "regressor.add(LSTM(units = 50, return_sequences = True))\n",
    "regressor.add(Dropout(0.2))"
   ]
  },
  {
   "cell_type": "code",
   "execution_count": 75,
   "metadata": {},
   "outputs": [],
   "source": [
    "# Adding a third LSTM layer and some Dropout regularisation\n",
    "regressor.add(LSTM(units = 50, return_sequences = True))\n",
    "regressor.add(Dropout(0.2))"
   ]
  },
  {
   "cell_type": "code",
   "execution_count": 76,
   "metadata": {},
   "outputs": [],
   "source": [
    "# Adding a fourth LSTM layer and some Dropout regularisation\n",
    "regressor.add(LSTM(units = 50))\n",
    "regressor.add(Dropout(0.2))"
   ]
  },
  {
   "cell_type": "code",
   "execution_count": 77,
   "metadata": {},
   "outputs": [],
   "source": [
    "# Adding the output layer\n",
    "regressor.add(Dense(units = 1))"
   ]
  },
  {
   "cell_type": "code",
   "execution_count": 78,
   "metadata": {},
   "outputs": [
    {
     "name": "stdout",
     "output_type": "stream",
     "text": [
      "Model: \"sequential_1\"\n",
      "_________________________________________________________________\n",
      "Layer (type)                 Output Shape              Param #   \n",
      "=================================================================\n",
      "lstm_1 (LSTM)                (None, 100, 50)           10400     \n",
      "_________________________________________________________________\n",
      "dropout_1 (Dropout)          (None, 100, 50)           0         \n",
      "_________________________________________________________________\n",
      "lstm_2 (LSTM)                (None, 100, 50)           20200     \n",
      "_________________________________________________________________\n",
      "dropout_2 (Dropout)          (None, 100, 50)           0         \n",
      "_________________________________________________________________\n",
      "lstm_3 (LSTM)                (None, 100, 50)           20200     \n",
      "_________________________________________________________________\n",
      "dropout_3 (Dropout)          (None, 100, 50)           0         \n",
      "_________________________________________________________________\n",
      "lstm_4 (LSTM)                (None, 50)                20200     \n",
      "_________________________________________________________________\n",
      "dropout_4 (Dropout)          (None, 50)                0         \n",
      "_________________________________________________________________\n",
      "dense_1 (Dense)              (None, 1)                 51        \n",
      "=================================================================\n",
      "Total params: 71,051\n",
      "Trainable params: 71,051\n",
      "Non-trainable params: 0\n",
      "_________________________________________________________________\n"
     ]
    }
   ],
   "source": [
    "regressor.summary()"
   ]
  },
  {
   "cell_type": "code",
   "execution_count": 79,
   "metadata": {},
   "outputs": [],
   "source": [
    "# Compiling the RNN\n",
    "regressor.compile(optimizer = 'adam', loss = 'mean_squared_error')"
   ]
  },
  {
   "cell_type": "code",
   "execution_count": 116,
   "metadata": {},
   "outputs": [
    {
     "name": "stdout",
     "output_type": "stream",
     "text": [
      "Epoch 1/100\n",
      "1158/1158 [==============================] - 4s 3ms/step - loss: 0.0017\n",
      "Epoch 2/100\n",
      "1158/1158 [==============================] - 4s 3ms/step - loss: 0.0014\n",
      "Epoch 3/100\n",
      "1158/1158 [==============================] - 4s 3ms/step - loss: 0.0015\n",
      "Epoch 4/100\n",
      "1158/1158 [==============================] - 4s 3ms/step - loss: 0.0013\n",
      "Epoch 5/100\n",
      "1158/1158 [==============================] - 4s 3ms/step - loss: 0.0015\n",
      "Epoch 6/100\n",
      "1158/1158 [==============================] - 4s 3ms/step - loss: 0.0013\n",
      "Epoch 7/100\n",
      "1158/1158 [==============================] - 4s 3ms/step - loss: 0.0014\n",
      "Epoch 8/100\n",
      "1158/1158 [==============================] - 4s 3ms/step - loss: 0.0013\n",
      "Epoch 9/100\n",
      "1158/1158 [==============================] - 4s 3ms/step - loss: 0.0013\n",
      "Epoch 10/100\n",
      "1158/1158 [==============================] - 4s 3ms/step - loss: 0.0012\n",
      "Epoch 11/100\n",
      "1158/1158 [==============================] - 4s 3ms/step - loss: 0.0014\n",
      "Epoch 12/100\n",
      "1158/1158 [==============================] - 4s 3ms/step - loss: 0.0013\n",
      "Epoch 13/100\n",
      "1158/1158 [==============================] - 4s 3ms/step - loss: 0.0013\n",
      "Epoch 14/100\n",
      "1158/1158 [==============================] - 4s 3ms/step - loss: 0.0013\n",
      "Epoch 15/100\n",
      "1158/1158 [==============================] - 4s 3ms/step - loss: 0.0013\n",
      "Epoch 16/100\n",
      "1158/1158 [==============================] - 4s 3ms/step - loss: 0.0012\n",
      "Epoch 17/100\n",
      "1158/1158 [==============================] - 4s 3ms/step - loss: 0.0013\n",
      "Epoch 18/100\n",
      "1158/1158 [==============================] - 4s 3ms/step - loss: 0.0012\n",
      "Epoch 19/100\n",
      "1158/1158 [==============================] - 4s 3ms/step - loss: 0.0012\n",
      "Epoch 20/100\n",
      "1158/1158 [==============================] - 4s 3ms/step - loss: 0.0013\n",
      "Epoch 21/100\n",
      "1158/1158 [==============================] - 4s 3ms/step - loss: 0.0012\n",
      "Epoch 22/100\n",
      "1158/1158 [==============================] - 4s 3ms/step - loss: 0.0014\n",
      "Epoch 23/100\n",
      "1158/1158 [==============================] - 4s 3ms/step - loss: 0.0013\n",
      "Epoch 24/100\n",
      "1158/1158 [==============================] - 4s 3ms/step - loss: 0.0013\n",
      "Epoch 25/100\n",
      "1158/1158 [==============================] - 4s 3ms/step - loss: 0.0012\n",
      "Epoch 26/100\n",
      "1158/1158 [==============================] - 4s 3ms/step - loss: 0.0013\n",
      "Epoch 27/100\n",
      "1158/1158 [==============================] - 4s 3ms/step - loss: 0.0012\n",
      "Epoch 28/100\n",
      "1158/1158 [==============================] - 4s 3ms/step - loss: 0.0012\n",
      "Epoch 29/100\n",
      "1158/1158 [==============================] - 4s 4ms/step - loss: 0.0011\n",
      "Epoch 30/100\n",
      "1158/1158 [==============================] - 4s 3ms/step - loss: 0.0013\n",
      "Epoch 31/100\n",
      "1158/1158 [==============================] - 4s 3ms/step - loss: 0.0011\n",
      "Epoch 32/100\n",
      "1158/1158 [==============================] - 4s 3ms/step - loss: 0.0013\n",
      "Epoch 33/100\n",
      "1158/1158 [==============================] - 4s 3ms/step - loss: 0.0012\n",
      "Epoch 34/100\n",
      "1158/1158 [==============================] - 4s 3ms/step - loss: 0.0014\n",
      "Epoch 35/100\n",
      "1158/1158 [==============================] - 4s 4ms/step - loss: 0.0015\n",
      "Epoch 36/100\n",
      "1158/1158 [==============================] - 4s 3ms/step - loss: 0.0013\n",
      "Epoch 37/100\n",
      "1158/1158 [==============================] - 4s 4ms/step - loss: 0.0012\n",
      "Epoch 38/100\n",
      "1158/1158 [==============================] - 4s 4ms/step - loss: 0.0012\n",
      "Epoch 39/100\n",
      "1158/1158 [==============================] - 4s 3ms/step - loss: 0.0013\n",
      "Epoch 40/100\n",
      "1158/1158 [==============================] - 4s 4ms/step - loss: 0.0012\n",
      "Epoch 41/100\n",
      "1158/1158 [==============================] - 4s 3ms/step - loss: 0.0011\n",
      "Epoch 42/100\n",
      "1158/1158 [==============================] - 4s 3ms/step - loss: 0.0014\n",
      "Epoch 43/100\n",
      "1158/1158 [==============================] - 4s 4ms/step - loss: 0.0012\n",
      "Epoch 44/100\n",
      "1158/1158 [==============================] - 4s 4ms/step - loss: 0.0011\n",
      "Epoch 45/100\n",
      "1158/1158 [==============================] - 4s 4ms/step - loss: 0.0013\n",
      "Epoch 46/100\n",
      "1158/1158 [==============================] - 4s 4ms/step - loss: 0.0011\n",
      "Epoch 47/100\n",
      "1158/1158 [==============================] - 4s 3ms/step - loss: 0.0011\n",
      "Epoch 48/100\n",
      "1158/1158 [==============================] - 4s 3ms/step - loss: 0.0011\n",
      "Epoch 49/100\n",
      "1158/1158 [==============================] - 4s 3ms/step - loss: 0.0011\n",
      "Epoch 50/100\n",
      "1158/1158 [==============================] - 4s 3ms/step - loss: 0.0013\n",
      "Epoch 51/100\n",
      "1158/1158 [==============================] - 4s 3ms/step - loss: 0.0010\n",
      "Epoch 52/100\n",
      "1158/1158 [==============================] - 4s 3ms/step - loss: 0.0011\n",
      "Epoch 53/100\n",
      "1158/1158 [==============================] - 4s 3ms/step - loss: 0.0012\n",
      "Epoch 54/100\n",
      "1158/1158 [==============================] - 4s 3ms/step - loss: 0.0012\n",
      "Epoch 55/100\n",
      "1158/1158 [==============================] - 4s 3ms/step - loss: 0.0011\n",
      "Epoch 56/100\n",
      "1158/1158 [==============================] - 4s 3ms/step - loss: 0.0012\n",
      "Epoch 57/100\n",
      "1158/1158 [==============================] - 4s 3ms/step - loss: 0.0010\n",
      "Epoch 58/100\n",
      "1158/1158 [==============================] - 4s 3ms/step - loss: 0.0011\n",
      "Epoch 59/100\n",
      "1158/1158 [==============================] - 4s 3ms/step - loss: 0.0012\n",
      "Epoch 60/100\n",
      "1158/1158 [==============================] - 4s 3ms/step - loss: 0.0011\n",
      "Epoch 61/100\n",
      "1158/1158 [==============================] - 4s 4ms/step - loss: 0.0011\n",
      "Epoch 62/100\n",
      "1158/1158 [==============================] - 4s 4ms/step - loss: 0.0011\n",
      "Epoch 63/100\n",
      "1158/1158 [==============================] - 4s 4ms/step - loss: 0.0011\n",
      "Epoch 64/100\n",
      "1158/1158 [==============================] - 4s 4ms/step - loss: 0.0012\n",
      "Epoch 65/100\n",
      "1158/1158 [==============================] - 4s 4ms/step - loss: 0.0013\n",
      "Epoch 66/100\n",
      "1158/1158 [==============================] - 4s 4ms/step - loss: 0.0011\n",
      "Epoch 67/100\n",
      "1158/1158 [==============================] - 4s 4ms/step - loss: 0.0011\n",
      "Epoch 68/100\n",
      "1158/1158 [==============================] - 4s 4ms/step - loss: 0.0012\n",
      "Epoch 69/100\n",
      "1158/1158 [==============================] - 4s 4ms/step - loss: 9.7499e-04\n",
      "Epoch 70/100\n",
      "1158/1158 [==============================] - 4s 4ms/step - loss: 0.0012\n",
      "Epoch 71/100\n",
      "1158/1158 [==============================] - 4s 3ms/step - loss: 0.0011\n",
      "Epoch 72/100\n",
      "1158/1158 [==============================] - 4s 4ms/step - loss: 0.0012\n",
      "Epoch 73/100\n",
      "1158/1158 [==============================] - 4s 3ms/step - loss: 0.0013\n",
      "Epoch 74/100\n",
      "1158/1158 [==============================] - 4s 4ms/step - loss: 0.0012\n",
      "Epoch 75/100\n",
      "1158/1158 [==============================] - 5s 4ms/step - loss: 0.0012\n",
      "Epoch 76/100\n",
      "1158/1158 [==============================] - 4s 4ms/step - loss: 0.0011\n",
      "Epoch 77/100\n",
      "1158/1158 [==============================] - 4s 4ms/step - loss: 0.0011\n",
      "Epoch 78/100\n",
      "1158/1158 [==============================] - 4s 4ms/step - loss: 0.0012\n",
      "Epoch 79/100\n",
      "1158/1158 [==============================] - 4s 3ms/step - loss: 0.0011\n",
      "Epoch 80/100\n",
      "1158/1158 [==============================] - 4s 3ms/step - loss: 0.0010\n",
      "Epoch 81/100\n",
      "1158/1158 [==============================] - 5s 4ms/step - loss: 0.0011\n",
      "Epoch 82/100\n",
      "1158/1158 [==============================] - 4s 3ms/step - loss: 0.0012\n",
      "Epoch 83/100\n",
      "1158/1158 [==============================] - 4s 4ms/step - loss: 9.9318e-04\n",
      "Epoch 84/100\n",
      "1158/1158 [==============================] - 4s 4ms/step - loss: 0.0013\n",
      "Epoch 85/100\n",
      "1158/1158 [==============================] - 4s 3ms/step - loss: 0.0011\n",
      "Epoch 86/100\n",
      "1158/1158 [==============================] - 4s 4ms/step - loss: 0.0011\n",
      "Epoch 87/100\n",
      "1158/1158 [==============================] - 4s 4ms/step - loss: 0.0011\n",
      "Epoch 88/100\n",
      "1158/1158 [==============================] - 4s 4ms/step - loss: 0.0011\n",
      "Epoch 89/100\n",
      "1158/1158 [==============================] - 4s 3ms/step - loss: 9.9386e-04\n",
      "Epoch 90/100\n",
      "1158/1158 [==============================] - 4s 4ms/step - loss: 0.0011\n",
      "Epoch 91/100\n",
      "1158/1158 [==============================] - 4s 4ms/step - loss: 8.8437e-04\n",
      "Epoch 92/100\n",
      "1158/1158 [==============================] - 4s 3ms/step - loss: 0.0010\n",
      "Epoch 93/100\n",
      "1158/1158 [==============================] - 4s 3ms/step - loss: 9.8655e-04\n",
      "Epoch 94/100\n",
      "1158/1158 [==============================] - 4s 4ms/step - loss: 0.0010\n",
      "Epoch 95/100\n",
      "1158/1158 [==============================] - 4s 3ms/step - loss: 0.0010\n",
      "Epoch 96/100\n",
      "1158/1158 [==============================] - 4s 3ms/step - loss: 0.0012\n",
      "Epoch 97/100\n",
      "1158/1158 [==============================] - 4s 4ms/step - loss: 0.0011\n",
      "Epoch 98/100\n",
      "1158/1158 [==============================] - 4s 4ms/step - loss: 0.0011\n",
      "Epoch 99/100\n",
      "1158/1158 [==============================] - 4s 4ms/step - loss: 0.0011\n",
      "Epoch 100/100\n",
      "1158/1158 [==============================] - 5s 4ms/step - loss: 0.0010\n"
     ]
    },
    {
     "data": {
      "text/plain": [
       "<keras.callbacks.callbacks.History at 0x1bd1e6430b8>"
      ]
     },
     "execution_count": 116,
     "metadata": {},
     "output_type": "execute_result"
    }
   ],
   "source": [
    "# Fitting the RNN to the Training set\n",
    "regressor.fit(X_train, y_train, epochs = 100, batch_size = 64)\n",
    "# Comment:\n",
    "# Originally, the batch_size was set 32 in the ipynb provided by the authors.\n",
    "# I changed it to 64. This is because I believe for Google a sequence of 32 is not enough.\n",
    "# My intuition is confirmed. If you use 32, you will observe a larger test error."
   ]
  },
  {
   "cell_type": "markdown",
   "metadata": {},
   "source": [
    "### Part 3 - Making the predictions and visualising the results"
   ]
  },
  {
   "cell_type": "code",
   "execution_count": 117,
   "metadata": {},
   "outputs": [],
   "source": [
    "# Part 3 - Making the predictions and visualising the results\n",
    "\n",
    "# Getting the real stock price of 2017\n",
    "dataset_test = pd.read_csv('~/OneDrive/Documents/YinsPy/data/Google_Stock_Price_Test.csv')"
   ]
  },
  {
   "cell_type": "code",
   "execution_count": 118,
   "metadata": {},
   "outputs": [
    {
     "data": {
      "text/html": [
       "<div>\n",
       "<style scoped>\n",
       "    .dataframe tbody tr th:only-of-type {\n",
       "        vertical-align: middle;\n",
       "    }\n",
       "\n",
       "    .dataframe tbody tr th {\n",
       "        vertical-align: top;\n",
       "    }\n",
       "\n",
       "    .dataframe thead th {\n",
       "        text-align: right;\n",
       "    }\n",
       "</style>\n",
       "<table border=\"1\" class=\"dataframe\">\n",
       "  <thead>\n",
       "    <tr style=\"text-align: right;\">\n",
       "      <th></th>\n",
       "      <th>Date</th>\n",
       "      <th>Open</th>\n",
       "      <th>High</th>\n",
       "      <th>Low</th>\n",
       "      <th>Close</th>\n",
       "      <th>Volume</th>\n",
       "    </tr>\n",
       "  </thead>\n",
       "  <tbody>\n",
       "    <tr>\n",
       "      <th>0</th>\n",
       "      <td>01-03-2017</td>\n",
       "      <td>778.81</td>\n",
       "      <td>789.63</td>\n",
       "      <td>775.80</td>\n",
       "      <td>786.14</td>\n",
       "      <td>16,57,300</td>\n",
       "    </tr>\n",
       "    <tr>\n",
       "      <th>1</th>\n",
       "      <td>01-04-2017</td>\n",
       "      <td>788.36</td>\n",
       "      <td>791.34</td>\n",
       "      <td>783.16</td>\n",
       "      <td>786.90</td>\n",
       "      <td>10,73,000</td>\n",
       "    </tr>\n",
       "    <tr>\n",
       "      <th>2</th>\n",
       "      <td>01-05-2017</td>\n",
       "      <td>786.08</td>\n",
       "      <td>794.48</td>\n",
       "      <td>785.02</td>\n",
       "      <td>794.02</td>\n",
       "      <td>13,35,200</td>\n",
       "    </tr>\n",
       "    <tr>\n",
       "      <th>3</th>\n",
       "      <td>01-06-2017</td>\n",
       "      <td>795.26</td>\n",
       "      <td>807.90</td>\n",
       "      <td>792.20</td>\n",
       "      <td>806.15</td>\n",
       "      <td>16,40,200</td>\n",
       "    </tr>\n",
       "    <tr>\n",
       "      <th>4</th>\n",
       "      <td>01-09-2017</td>\n",
       "      <td>806.40</td>\n",
       "      <td>809.97</td>\n",
       "      <td>802.83</td>\n",
       "      <td>806.65</td>\n",
       "      <td>12,72,400</td>\n",
       "    </tr>\n",
       "  </tbody>\n",
       "</table>\n",
       "</div>"
      ],
      "text/plain": [
       "         Date    Open    High     Low   Close     Volume\n",
       "0  01-03-2017  778.81  789.63  775.80  786.14  16,57,300\n",
       "1  01-04-2017  788.36  791.34  783.16  786.90  10,73,000\n",
       "2  01-05-2017  786.08  794.48  785.02  794.02  13,35,200\n",
       "3  01-06-2017  795.26  807.90  792.20  806.15  16,40,200\n",
       "4  01-09-2017  806.40  809.97  802.83  806.65  12,72,400"
      ]
     },
     "execution_count": 118,
     "metadata": {},
     "output_type": "execute_result"
    }
   ],
   "source": [
    "dataset_test.head()"
   ]
  },
  {
   "cell_type": "code",
   "execution_count": 119,
   "metadata": {},
   "outputs": [
    {
     "data": {
      "text/plain": [
       "(142, 1)"
      ]
     },
     "execution_count": 119,
     "metadata": {},
     "output_type": "execute_result"
    }
   ],
   "source": [
    "real_stock_price = dataset_test.iloc[:, 1:2].values\n",
    "\n",
    "# Getting the predicted stock price of 2017\n",
    "dataset_total = pd.concat((dataset_train['Open'], dataset_test['Open']), axis = 0)\n",
    "inputs = dataset_total[len(dataset_total) - len(dataset_test) - 100:].values\n",
    "inputs = inputs.reshape(-1,1)\n",
    "inputs = sc.transform(inputs)\n",
    "X_test = []\n",
    "inputs.shape"
   ]
  },
  {
   "cell_type": "code",
   "execution_count": 127,
   "metadata": {},
   "outputs": [
    {
     "data": {
      "text/plain": [
       "(42, 100, 1)"
      ]
     },
     "execution_count": 127,
     "metadata": {},
     "output_type": "execute_result"
    }
   ],
   "source": [
    "X_test.shape"
   ]
  },
  {
   "cell_type": "code",
   "execution_count": 120,
   "metadata": {},
   "outputs": [],
   "source": [
    "for i in range(100, 142):\n",
    "    X_test.append(inputs[i-100:i, 0])\n",
    "X_test = np.array(X_test)\n",
    "X_test = np.reshape(X_test, (X_test.shape[0], X_test.shape[1], 1))\n",
    "predicted_stock_price = regressor.predict(X_test)\n",
    "predicted_stock_price = sc.inverse_transform(predicted_stock_price)"
   ]
  },
  {
   "cell_type": "code",
   "execution_count": 121,
   "metadata": {},
   "outputs": [
    {
     "data": {
      "text/plain": [
       "array([[794.1328 ],\n",
       "       [791.7085 ],\n",
       "       [796.47906],\n",
       "       [796.94977],\n",
       "       [801.3329 ],\n",
       "       [808.9286 ],\n",
       "       [811.42487],\n",
       "       [809.7195 ],\n",
       "       [810.64954],\n",
       "       [812.06866],\n",
       "       [812.8338 ],\n",
       "       [812.6753 ],\n",
       "       [812.5326 ],\n",
       "       [813.8378 ],\n",
       "       [814.6388 ],\n",
       "       [823.6021 ],\n",
       "       [830.2999 ],\n",
       "       [835.812  ],\n",
       "       [834.80444],\n",
       "       [823.14136],\n",
       "       [811.0601 ],\n",
       "       [815.29486],\n",
       "       [818.05414],\n",
       "       [817.5166 ],\n",
       "       [817.32184],\n",
       "       [816.9269 ],\n",
       "       [825.1941 ],\n",
       "       [831.54047],\n",
       "       [836.845  ],\n",
       "       [835.7058 ],\n",
       "       [823.97656],\n",
       "       [811.863  ],\n",
       "       [816.05786],\n",
       "       [818.7878 ],\n",
       "       [818.23883],\n",
       "       [818.037  ],\n",
       "       [817.63275],\n",
       "       [825.87787],\n",
       "       [832.1953 ],\n",
       "       [837.47144],\n",
       "       [836.30743],\n",
       "       [824.56226]], dtype=float32)"
      ]
     },
     "execution_count": 121,
     "metadata": {},
     "output_type": "execute_result"
    }
   ],
   "source": [
    "predicted_stock_price"
   ]
  },
  {
   "cell_type": "code",
   "execution_count": 122,
   "metadata": {},
   "outputs": [
    {
     "data": {
      "image/png": "[encoded data removed]",
      "text/plain": [
       "<Figure size 432x288 with 1 Axes>"
      ]
     },
     "metadata": {},
     "output_type": "display_data"
    }
   ],
   "source": [
    "# Visualising the results\n",
    "plt.plot(real_stock_price, color = 'red', label = 'Real Google Stock Price')\n",
    "plt.plot(predicted_stock_price, color = 'blue', label = 'Predicted Google Stock Price')\n",
    "plt.title('Google Stock Price Prediction')\n",
    "plt.xlabel('Time')\n",
    "plt.ylabel('Google Stock Price')\n",
    "plt.legend()\n",
    "plt.show()"
   ]
  },
  {
   "cell_type": "code",
   "execution_count": 123,
   "metadata": {},
   "outputs": [],
   "source": [
    "import math\n",
    "from sklearn.metrics import mean_squared_error"
   ]
  },
  {
   "cell_type": "code",
   "execution_count": 125,
   "metadata": {},
   "outputs": [
    {
     "name": "stdout",
     "output_type": "stream",
     "text": [
      "Root Mean Square Error is 10.77 for test set.\n",
      "Interpretation: ---------------\n",
      "On the test set, the performance of this LSTM architecture guesses Google stock price on average within the error of $10.77 dollars.\n"
     ]
    }
   ],
   "source": [
    "rmse = np.sqrt(mean_squared_error(real_stock_price[~np.isnan(real_stock_price)], predicted_stock_price[~np.isnan(real_stock_price)]))\n",
    "print(f'Root Mean Square Error is {round(rmse,2)} for test set.')\n",
    "print(f'Interpretation: ---------------')\n",
    "print(f'On the test set, the performance of this LSTM architecture guesses Google stock price on average within the error of ${round(rmse,2)} dollars.')"
   ]
  }
 ],
 "metadata": {
  "kernelspec": {
   "display_name": "Python 3",
   "language": "python",
   "name": "python3"
  },
  "language_info": {
   "codemirror_mode": {
    "name": "ipython",
    "version": 3
   },
   "file_extension": ".py",
   "mimetype": "text/x-python",
   "name": "python",
   "nbconvert_exporter": "python",
   "pygments_lexer": "ipython3",
   "version": "3.6.2"
  }
 },
 "nbformat": 4,
 "nbformat_minor": 4
}
