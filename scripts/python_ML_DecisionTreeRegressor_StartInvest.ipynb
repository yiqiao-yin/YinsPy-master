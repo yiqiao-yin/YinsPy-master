{
 "cells": [
  {
   "cell_type": "markdown",
   "metadata": {},
   "source": [
    "# Machine Learning: Decision Tree Regressor with Startups Investment Data Set\n",
    "\n",
    "We have touched upon the basics of machine learning from previous notebooks such as Simple Linear Regression and Multivariate Linear Regression. Besides the underlying assumptions that these machines are limited to, structures such as non-linearity or hierarchical relationships may popse difficulties for regression models. On top of that, we can only explain our dependent variable on a marginal basis which means we can also what each $x$ affects $y$ individually and we cannot make arguments of how $x_1$ and $x_2$ together create impacts on $y$. \n",
    "\n",
    "The above discussion exposed the motivation for us to move above regression analysis. A standard procedure is to use tree-base learning algorithms. The most famous one is Decision Tree Regressor. In this notebook, we are going to cover the following\n",
    "\n",
    "- $\\textbf{Environment Initiation}$. I always start with initiating the environment. I import the correct modules, APIs, and libraries that need to be used for this notebook and I set up my data set.\n",
    "\n",
    "- $\\textbf{Data Cleanup}$. Data set cleanup is very important. In real world, not all data are saved properly and it is our duty as a data scientist and machine learning practitioner to ensure that the data is valid and can be processed by machines.\n",
    "\n",
    "- $\\textbf{Machine Learning: Decision Tree Regressor}$. Every notebook has a purpose and in this case I want to focus on building a Decision Tree Regresssor in a data science project. It is crucial to have a starting explanation to introduce the main structure of this learning algorithm.\n",
    "\n",
    "- $\\textbf{Machine Learning: Training, Testing, and Visualization}$. We want to ensure the robustness of a machine throughout the training procedure. We split the data into training set and testing set so that we can ensure the sample used on testing shows the real and unbiased performance of decision tree regressor. The benefit of using tree-based learning algorithm is the power of interpretability. We use *export_graphviz* from *sklearn* to allow python to present the graphs of the machine we have just trained.\n",
    "\n",
    "- $\\textbf{Software Development / Product Management}$. Every data science project has two phases. Phase I is about end-to-end research and select the most optimal machine learning procedure. Phase II is about delivering a software product to consumer and clients so that the python codes can be called and there is no need to redo everything that has already been done."
   ]
  },
  {
   "cell_type": "markdown",
   "metadata": {},
   "source": [
    "## Environment Initiation\n",
    "\n",
    "Let us start by importing all the packages and start to download the data."
   ]
  },
  {
   "cell_type": "code",
   "execution_count": 3,
   "metadata": {},
   "outputs": [],
   "source": [
    "import numpy as np\n",
    "import matplotlib.pyplot as plt\n",
    "import pandas as pd"
   ]
  },
  {
   "cell_type": "code",
   "execution_count": 8,
   "metadata": {},
   "outputs": [],
   "source": [
    "data = pd.read_csv('C:/Users/eagle/OneDrive/YINS CAPITAL/APPLICATIONS/ApplicationYinsPy-master/YinsPy-master/data/Startups_Invest.csv')"
   ]
  },
  {
   "cell_type": "code",
   "execution_count": 9,
   "metadata": {},
   "outputs": [
    {
     "name": "stdout",
     "output_type": "stream",
     "text": [
      "   R&D Spend  Administration  Marketing Spend       State     Profit\n",
      "0  165349.20       136897.80        471784.10    New York  192261.83\n",
      "1  162597.70       151377.59        443898.53  California  191792.06\n",
      "2  153441.51       101145.55        407934.54     Florida  191050.39\n"
     ]
    }
   ],
   "source": [
    "print(data.head(3)) # preview first three rows"
   ]
  },
  {
   "cell_type": "code",
   "execution_count": 10,
   "metadata": {},
   "outputs": [
    {
     "name": "stdout",
     "output_type": "stream",
     "text": [
      "   R&D Spend  Administration  Marketing Spend       State\n",
      "0  165349.20       136897.80        471784.10    New York\n",
      "1  162597.70       151377.59        443898.53  California\n",
      "2  153441.51       101145.55        407934.54     Florida\n"
     ]
    }
   ],
   "source": [
    "print(data.iloc[:3, :-1]) # preview the first three rows and all columns except for the last one"
   ]
  },
  {
   "cell_type": "markdown",
   "metadata": {},
   "source": [
    "## Data Cleanup\n",
    "\n",
    "Data set cleanup is extremely important. In real world, there are lots of data that are dirty and cannot be processed by python interpreter or any other APIs. It is our job to ensure that the data is in the correct data frame or other formats that the machine can process."
   ]
  },
  {
   "cell_type": "code",
   "execution_count": 11,
   "metadata": {},
   "outputs": [],
   "source": [
    "X = data.iloc[:, :-1]\n",
    "y = data.iloc[:, data.shape[1]-1]"
   ]
  },
  {
   "cell_type": "code",
   "execution_count": 12,
   "metadata": {},
   "outputs": [
    {
     "name": "stdout",
     "output_type": "stream",
     "text": [
      "   Florida  New York\n",
      "0        0         1\n",
      "1        0         0\n",
      "2        1         0\n"
     ]
    }
   ],
   "source": [
    "State = pd.get_dummies(X.iloc[:, 3], drop_first=True)\n",
    "print(State.head(3)) # preview first three rows"
   ]
  },
  {
   "cell_type": "code",
   "execution_count": 13,
   "metadata": {},
   "outputs": [],
   "source": [
    "X.drop('State', axis = 1, inplace = True)"
   ]
  },
  {
   "cell_type": "code",
   "execution_count": 14,
   "metadata": {},
   "outputs": [
    {
     "name": "stdout",
     "output_type": "stream",
     "text": [
      "   R&D Spend  Administration  Marketing Spend\n",
      "0  165349.20       136897.80        471784.10\n",
      "1  162597.70       151377.59        443898.53\n",
      "2  153441.51       101145.55        407934.54\n"
     ]
    }
   ],
   "source": [
    "print(X.head(3))"
   ]
  },
  {
   "cell_type": "code",
   "execution_count": 15,
   "metadata": {},
   "outputs": [
    {
     "name": "stdout",
     "output_type": "stream",
     "text": [
      "   R&D Spend  Administration  Marketing Spend  Florida  New York\n",
      "0  165349.20       136897.80        471784.10        0         1\n",
      "1  162597.70       151377.59        443898.53        0         0\n",
      "2  153441.51       101145.55        407934.54        1         0\n"
     ]
    }
   ],
   "source": [
    "X = pd.concat([X, State], axis = 1)\n",
    "print(X.head(3))"
   ]
  },
  {
   "cell_type": "markdown",
   "metadata": {},
   "source": [
    "## Machine Learning: Decision Tree Regressor\n",
    "\n",
    "Decision Tree Regressor is a tree-based learning algorithm that carries out a prediction problem. Let us start with the notion of decision tree. A decision tree constructs recursive partitioning. The structure starts with a root node, known as a parent. Each node can be split into left and right child nodes. These nodes can be split further down the branches depending on the needs of the data set. Note that in practice you may end up creating many nodes which may cause overfitting. We are going to have to prune the tree by setting up the max depth. After we have splitted the features, we can use regression model to carry out the final predictions."
   ]
  },
  {
   "cell_type": "markdown",
   "metadata": {},
   "source": [
    "## Machine Learning: Training a Decision Tree Regressor"
   ]
  },
  {
   "cell_type": "code",
   "execution_count": 16,
   "metadata": {},
   "outputs": [],
   "source": [
    "from sklearn.model_selection import train_test_split\n",
    "X_train, X_test, y_train, y_test = train_test_split(X, y, test_size = 0.2, random_state = 0)"
   ]
  },
  {
   "cell_type": "code",
   "execution_count": 17,
   "metadata": {},
   "outputs": [
    {
     "data": {
      "text/plain": [
       "DecisionTreeRegressor()"
      ]
     },
     "execution_count": 17,
     "metadata": {},
     "output_type": "execute_result"
    }
   ],
   "source": [
    "from sklearn.tree import DecisionTreeRegressor\n",
    "DecTreeRegressor = DecisionTreeRegressor()\n",
    "DecTreeRegressor.fit(X_train, y_train)"
   ]
  },
  {
   "cell_type": "markdown",
   "metadata": {},
   "source": [
    "Training set performance"
   ]
  },
  {
   "cell_type": "code",
   "execution_count": 18,
   "metadata": {},
   "outputs": [
    {
     "name": "stdout",
     "output_type": "stream",
     "text": [
      "Training Set is  0.15811388300841897\n"
     ]
    }
   ],
   "source": [
    "y_pred_train = DecTreeRegressor.predict(X_train)\n",
    "from sklearn.metrics import r2_score\n",
    "score_train = r2_score(y_pred_train, y_train)\n",
    "RMSE = (score_train/X_train.shape[0])**(0.5)\n",
    "print('Training Set is ', RMSE)"
   ]
  },
  {
   "cell_type": "markdown",
   "metadata": {},
   "source": [
    "How do we interpret this results? We obtained the trained machines from above and we want to see how accurate it is on training data. We can check out the root mean square error. This is computed by using *r2_score* from *sklearn* package. The metric *r2_score* is the summation of residual squares, e.g. the mathematical form\n",
    "$$\\text{Residual}^2 = \\sum (\\hat{y} - y)^2$$\n",
    "and we want to use this metric to create root mean square for our particular example so we compute the following\n",
    "$$\\text{RMSE} = \\sqrt{\\frac{1}{n}\\text{Residual}^2}$$\n",
    "and $n$ is referring to sample size in the particular experiment (in this case it is training set sample size, later on it is testing set sample size). \n",
    "\n",
    "We have the training set performance measured in RMSE from results above. The error means our trained machine can predicts the dependent variable within an error range of the RMSE on average. "
   ]
  },
  {
   "cell_type": "markdown",
   "metadata": {},
   "source": [
    "## Machine Learning: Testing a Decision Tree Regressor\n"
   ]
  },
  {
   "cell_type": "code",
   "execution_count": 19,
   "metadata": {},
   "outputs": [
    {
     "name": "stdout",
     "output_type": "stream",
     "text": [
      "Testing Set is  0.3118718559630697\n"
     ]
    }
   ],
   "source": [
    "y_pred_test = DecTreeRegressor.predict(X_test)\n",
    "score_test = r2_score(y_pred_test, y_test)\n",
    "RMSE_test = (score_test/X_test.shape[0])**(0.5)\n",
    "print('Testing Set is ', RMSE_test)"
   ]
  },
  {
   "cell_type": "markdown",
   "metadata": {},
   "source": [
    "## Visualization\n",
    "\n",
    "What does this piece of machine does? It is a Decision Tree Regressor and the nature of this machine dictates that we have to make splits of the features in our data. This is clear by definition, but exactly how does it split the features?"
   ]
  },
  {
   "cell_type": "code",
   "execution_count": 23,
   "metadata": {},
   "outputs": [
    {
     "name": "stdout",
     "output_type": "stream",
     "text": [
      "Collecting pydot\n",
      "  Downloading pydot-1.4.2-py2.py3-none-any.whl (21 kB)\n",
      "Requirement already satisfied: pyparsing>=2.1.4 in c:\\users\\eagle\\anaconda3\\lib\\site-packages (from pydot) (2.4.7)\n",
      "Installing collected packages: pydot\n",
      "Successfully installed pydot-1.4.2\n"
     ]
    }
   ],
   "source": [
    "!pip install pydot"
   ]
  },
  {
   "cell_type": "code",
   "execution_count": 24,
   "metadata": {},
   "outputs": [
    {
     "name": "stdout",
     "output_type": "stream",
     "text": [
      "Requirement already satisfied: pydot in c:\\users\\eagle\\anaconda3\\lib\\site-packages (1.4.2)\n",
      "Requirement already satisfied: pyparsing>=2.1.4 in c:\\users\\eagle\\anaconda3\\lib\\site-packages (from pydot) (2.4.7)\n"
     ]
    }
   ],
   "source": [
    "!pip install pydot"
   ]
  },
  {
   "cell_type": "code",
   "execution_count": 36,
   "metadata": {},
   "outputs": [
    {
     "name": "stdout",
     "output_type": "stream",
     "text": [
      "Requirement already satisfied: six in c:\\users\\eagle\\anaconda3\\lib\\site-packages (1.15.0)\n"
     ]
    }
   ],
   "source": [
    "!pip install six"
   ]
  },
  {
   "cell_type": "code",
   "execution_count": 38,
   "metadata": {},
   "outputs": [],
   "source": [
    "from IPython.display import Image\n",
    "from six import StringIO\n",
    "from sklearn.tree import export_graphviz\n",
    "import pydot"
   ]
  },
  {
   "cell_type": "code",
   "execution_count": 39,
   "metadata": {},
   "outputs": [
    {
     "name": "stdout",
     "output_type": "stream",
     "text": [
      "['R&D Spend', 'Administration', 'Marketing Spend', 'Florida', 'New York']\n"
     ]
    }
   ],
   "source": [
    "features = list(X_train)\n",
    "print(features)"
   ]
  },
  {
   "cell_type": "code",
   "execution_count": 50,
   "metadata": {},
   "outputs": [
    {
     "name": "stdout",
     "output_type": "stream",
     "text": [
      "Collecting django-extensions\n",
      "  Downloading django_extensions-3.1.3-py3-none-any.whl (223 kB)\n",
      "Collecting Django>=2.2\n",
      "  Downloading Django-3.2.4-py3-none-any.whl (7.9 MB)\n",
      "Collecting asgiref<4,>=3.3.2\n",
      "  Downloading asgiref-3.3.4-py3-none-any.whl (22 kB)\n",
      "Requirement already satisfied: pytz in c:\\users\\eagle\\anaconda3\\lib\\site-packages (from Django>=2.2->django-extensions) (2020.1)\n",
      "Collecting sqlparse>=0.2.2\n",
      "  Downloading sqlparse-0.4.1-py3-none-any.whl (42 kB)\n",
      "Installing collected packages: asgiref, sqlparse, Django, django-extensions\n",
      "Successfully installed Django-3.2.4 asgiref-3.3.4 django-extensions-3.1.3 sqlparse-0.4.1\n",
      "Requirement already satisfied: pyparsing in c:\\users\\eagle\\anaconda3\\lib\\site-packages (2.4.7)\n"
     ]
    }
   ],
   "source": [
    "!pip install django-extensions\n",
    "!pip install pyparsing"
   ]
  },
  {
   "cell_type": "code",
   "execution_count": null,
   "metadata": {},
   "outputs": [],
   "source": [
    "dot_data = StringIO()\n",
    "export_graphviz(DecTreeRegressor, out_file=dot_data, feature_names=features, filled=True, rounded=True)\n",
    "graph = pydot.graph_from_dot_data(dot_data.getvalue())\n",
    "Image(graph[0].create_png()) # double click the graph below to zoom in and double click again to zoom out"
   ]
  },
  {
   "cell_type": "markdown",
   "metadata": {},
   "source": [
    "## Software Development / Product Management\n",
    "\n",
    "From about analysis, we have established a list of steps we execute to carry out a simple linear regression analysis. Each step is clear written and can be examined for reference. \n",
    "\n",
    "Now it is time to pack everything together into a function so that the above analysis can be summarized into a word and can be pulled for future usage without having to code everything again. Once this software is developed we can get the product shipped to employers or clients and we will be starting negotiation as well as software maintainance (which is crucial for product management)"
   ]
  },
  {
   "cell_type": "code",
   "execution_count": null,
   "metadata": {},
   "outputs": [],
   "source": [
    "# Define function\n",
    "def ML_DecisionTreeRegressor(X, y, test_set_size, max_depth_size):\n",
    "    # Environment Initiation\n",
    "    import numpy as np\n",
    "    import matplotlib.pyplot as plt\n",
    "    import pandas as pd\n",
    "    \n",
    "    # Generate Data\n",
    "    from sklearn.model_selection import train_test_split\n",
    "    X_train, X_test, y_train, y_test = train_test_split(X, y, test_size = test_set_size, random_state = 0)\n",
    "    \n",
    "    # ML: Training\n",
    "    from sklearn.tree import DecisionTreeRegressor\n",
    "    DecTreeRegressor = DecisionTreeRegressor(max_depth=max_depth_size)\n",
    "    DecTreeRegressor.fit(X_train, y_train)\n",
    "    y_pred_train = DecTreeRegressor.predict(X_train)\n",
    "    from sklearn.metrics import r2_score\n",
    "    score_train = r2_score(y_pred_train, y_train)\n",
    "    RMSE = (score_train/X_train.shape[0])**(0.5)\n",
    "    \n",
    "    # ML: Testing\n",
    "    y_pred_test = DecTreeRegressor.predict(X_test)\n",
    "    score_test = r2_score(y_pred_test, y_test)\n",
    "    RMSE_test = (score_test/X_test.shape[0])**(0.5)\n",
    "    \n",
    "    # Visualization\n",
    "    from IPython.display import Image\n",
    "    from sklearn.externals.six import StringIO\n",
    "    from sklearn.tree import export_graphviz\n",
    "    import pydot\n",
    "    features = list(X_train)\n",
    "    dot_data = StringIO()\n",
    "    export_graphviz(DecTreeRegressor, out_file=dot_data, feature_names=features, filled=True, rounded=True)\n",
    "    graph = pydot.graph_from_dot_data(dot_data.getvalue())\n",
    "    Image(graph[0].create_png()) # double click the graph below to zoom in and double click again to zoom out\n",
    "    \n",
    "    # Output\n",
    "    return {\n",
    "        'Data': {\n",
    "            'Features': features,\n",
    "            'X_train': X_train,\n",
    "            'X_test': X_test,\n",
    "            'y_train': y_train,\n",
    "            'y_test': y_test,\n",
    "            'y_pred_train': y_pred_train,\n",
    "            'y_pred_test': y_pred_test\n",
    "        },\n",
    "        'Decision Tree': DecTreeRegressor,\n",
    "        'Training RMSE': RMSE,\n",
    "        'Testing RMSE': RMSE_test,\n",
    "        'Graph Info': graph\n",
    "    }, Image(graph[0].create_png())\n",
    "# End of function"
   ]
  },
  {
   "cell_type": "markdown",
   "metadata": {},
   "source": [
    "Let us try to run it!"
   ]
  },
  {
   "cell_type": "code",
   "execution_count": null,
   "metadata": {},
   "outputs": [],
   "source": [
    "# Data\n",
    "data = pd.read_csv('~/OneDrive/Documents/YinsPy/data/startups_invest.csv')\n",
    "X = data.iloc[:, :-1]\n",
    "y = data.iloc[:, data.shape[1]-1]\n",
    "State = pd.get_dummies(X.iloc[:, 3], drop_first=True)\n",
    "X.drop('State', axis = 1, inplace = True)\n",
    "X = pd.concat([X, State], axis = 1)\n",
    "\n",
    "# Run\n",
    "testresult, testresultgraph = ML_DecisionTreeRegressor(X, y, 0.3, max_depth_size = 4)"
   ]
  },
  {
   "cell_type": "code",
   "execution_count": null,
   "metadata": {},
   "outputs": [],
   "source": [
    "print('Training RMSE: ', testresult['Training RMSE'], '\\nTesting RMSE:', testresult['Testing RMSE'])\n",
    "print('Let us print graph:')\n",
    "testresultgraph"
   ]
  }
 ],
 "metadata": {
  "kernelspec": {
   "display_name": "Python 3",
   "language": "python",
   "name": "python3"
  },
  "language_info": {
   "codemirror_mode": {
    "name": "ipython",
    "version": 3
   },
   "file_extension": ".py",
   "mimetype": "text/x-python",
   "name": "python",
   "nbconvert_exporter": "python",
   "pygments_lexer": "ipython3",
   "version": "3.8.3"
  }
 },
 "nbformat": 4,
 "nbformat_minor": 4
}
